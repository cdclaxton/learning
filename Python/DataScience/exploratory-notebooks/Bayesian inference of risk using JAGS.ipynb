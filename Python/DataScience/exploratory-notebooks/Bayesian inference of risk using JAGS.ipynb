{
 "cells": [
  {
   "cell_type": "markdown",
   "metadata": {},
   "source": [
    "# Bayesian inference of risk using JAGS"
   ]
  },
  {
   "cell_type": "code",
   "execution_count": 1,
   "metadata": {},
   "outputs": [
    {
     "name": "stderr",
     "output_type": "stream",
     "text": [
      "Loading required package: coda\n",
      "\n",
      "Linked to JAGS 4.3.0\n",
      "\n",
      "Loaded modules: basemod,bugs\n",
      "\n"
     ]
    }
   ],
   "source": [
    "library(MCMCvis)\n",
    "library(rjags)"
   ]
  },
  {
   "cell_type": "markdown",
   "metadata": {},
   "source": [
    "## Categorical values for severity and likelihood"
   ]
  },
  {
   "cell_type": "code",
   "execution_count": 2,
   "metadata": {},
   "outputs": [],
   "source": [
    "# Probability of the classes (assumed to be evenly spaced)\n",
    "alpha_severity <- c(0.6, 0.4)\n",
    "alpha_likelihood <- c(0.2, 0.7, 0.1)"
   ]
  },
  {
   "cell_type": "code",
   "execution_count": 3,
   "metadata": {},
   "outputs": [
    {
     "name": "stdout",
     "output_type": "stream",
     "text": [
      "Compiling model graph\n",
      "   Resolving undeclared variables\n",
      "   Allocating nodes\n",
      "Graph information:\n",
      "   Observed stochastic nodes: 0\n",
      "   Unobserved stochastic nodes: 2\n",
      "   Total graph size: 14\n",
      "\n",
      "Initializing model\n",
      "\n"
     ]
    },
    {
     "data": {
      "text/html": [
       "<table class=\"dataframe\">\n",
       "<caption>A data.frame: 3 × 7</caption>\n",
       "<thead>\n",
       "\t<tr><th></th><th scope=col>mean</th><th scope=col>sd</th><th scope=col>2.5%</th><th scope=col>50%</th><th scope=col>97.5%</th><th scope=col>Rhat</th><th scope=col>n.eff</th></tr>\n",
       "\t<tr><th></th><th scope=col>&lt;dbl&gt;</th><th scope=col>&lt;dbl&gt;</th><th scope=col>&lt;dbl&gt;</th><th scope=col>&lt;dbl&gt;</th><th scope=col>&lt;dbl&gt;</th><th scope=col>&lt;dbl&gt;</th><th scope=col>&lt;dbl&gt;</th></tr>\n",
       "</thead>\n",
       "<tbody>\n",
       "\t<tr><th scope=row>l</th><td>1.91</td><td>0.48</td><td>1.00</td><td>2.00</td><td>3.00</td><td>1.03</td><td>200</td></tr>\n",
       "\t<tr><th scope=row>r</th><td>0.43</td><td>0.18</td><td>0.17</td><td>0.33</td><td>0.67</td><td>1.01</td><td>241</td></tr>\n",
       "\t<tr><th scope=row>s</th><td>1.35</td><td>0.48</td><td>1.00</td><td>1.00</td><td>2.00</td><td>1.00</td><td>200</td></tr>\n",
       "</tbody>\n",
       "</table>\n"
      ],
      "text/latex": [
       "A data.frame: 3 × 7\n",
       "\\begin{tabular}{r|lllllll}\n",
       "  & mean & sd & 2.5\\% & 50\\% & 97.5\\% & Rhat & n.eff\\\\\n",
       "  & <dbl> & <dbl> & <dbl> & <dbl> & <dbl> & <dbl> & <dbl>\\\\\n",
       "\\hline\n",
       "\tl & 1.91 & 0.48 & 1.00 & 2.00 & 3.00 & 1.03 & 200\\\\\n",
       "\tr & 0.43 & 0.18 & 0.17 & 0.33 & 0.67 & 1.01 & 241\\\\\n",
       "\ts & 1.35 & 0.48 & 1.00 & 1.00 & 2.00 & 1.00 & 200\\\\\n",
       "\\end{tabular}\n"
      ],
      "text/markdown": [
       "\n",
       "A data.frame: 3 × 7\n",
       "\n",
       "| <!--/--> | mean &lt;dbl&gt; | sd &lt;dbl&gt; | 2.5% &lt;dbl&gt; | 50% &lt;dbl&gt; | 97.5% &lt;dbl&gt; | Rhat &lt;dbl&gt; | n.eff &lt;dbl&gt; |\n",
       "|---|---|---|---|---|---|---|---|\n",
       "| l | 1.91 | 0.48 | 1.00 | 2.00 | 3.00 | 1.03 | 200 |\n",
       "| r | 0.43 | 0.18 | 0.17 | 0.33 | 0.67 | 1.01 | 241 |\n",
       "| s | 1.35 | 0.48 | 1.00 | 1.00 | 2.00 | 1.00 | 200 |\n",
       "\n"
      ],
      "text/plain": [
       "  mean sd   2.5% 50%  97.5% Rhat n.eff\n",
       "l 1.91 0.48 1.00 2.00 3.00  1.03 200  \n",
       "r 0.43 0.18 0.17 0.33 0.67  1.01 241  \n",
       "s 1.35 0.48 1.00 1.00 2.00  1.00 200  "
      ]
     },
     "metadata": {},
     "output_type": "display_data"
    },
    {
     "data": {
      "image/png": "[encoded data removed]",
      "text/plain": [
       "Plot with title \"Density - s\""
      ]
     },
     "metadata": {
      "image/png": {
       "height": 420,
       "width": 420
      }
     },
     "output_type": "display_data"
    }
   ],
   "source": [
    "model_string = \"\n",
    "model {\n",
    "    s ~ dcat(alpha_severity)\n",
    "    l ~ dcat(alpha_likelihood)\n",
    "\n",
    "    # Risk = severity * likelihood\n",
    "    r = s/2 * l/3\n",
    "}\n",
    "\"\n",
    "\n",
    "model = jags.model(textConnection(model_string),\n",
    "                   n.chains = 2,\n",
    "                   data = list(alpha_severity=alpha_severity, alpha_likelihood=alpha_likelihood))\n",
    "\n",
    "samp = coda.samples(model, \n",
    "                    variable.names=c(\"s\", \"l\", \"r\"), \n",
    "                    n.iter=100, progress.bar=\"none\")\n",
    "\n",
    "# Show a summary of the variables\n",
    "MCMCsummary(samp, round = 2)\n",
    "\n",
    "# Show plots\n",
    "MCMCtrace(samp, pdf=FALSE)"
   ]
  },
  {
   "cell_type": "markdown",
   "metadata": {},
   "source": [
    "## Impact and threat"
   ]
  },
  {
   "cell_type": "code",
   "execution_count": 9,
   "metadata": {},
   "outputs": [
    {
     "name": "stdout",
     "output_type": "stream",
     "text": [
      "Compiling model graph\n",
      "   Resolving undeclared variables\n",
      "   Allocating nodes\n",
      "Graph information:\n",
      "   Observed stochastic nodes: 0\n",
      "   Unobserved stochastic nodes: 2\n",
      "   Total graph size: 7\n",
      "\n",
      "Initializing model\n",
      "\n"
     ]
    },
    {
     "data": {
      "text/html": [
       "<table class=\"dataframe\">\n",
       "<caption>A data.frame: 3 × 7</caption>\n",
       "<thead>\n",
       "\t<tr><th></th><th scope=col>mean</th><th scope=col>sd</th><th scope=col>2.5%</th><th scope=col>50%</th><th scope=col>97.5%</th><th scope=col>Rhat</th><th scope=col>n.eff</th></tr>\n",
       "\t<tr><th></th><th scope=col>&lt;dbl&gt;</th><th scope=col>&lt;dbl&gt;</th><th scope=col>&lt;dbl&gt;</th><th scope=col>&lt;dbl&gt;</th><th scope=col>&lt;dbl&gt;</th><th scope=col>&lt;dbl&gt;</th><th scope=col>&lt;dbl&gt;</th></tr>\n",
       "</thead>\n",
       "<tbody>\n",
       "\t<tr><th scope=row>x</th><td>0.8</td><td>0.03</td><td>0.75</td><td>0.8</td><td>0.85</td><td>1</td><td>20000</td></tr>\n",
       "\t<tr><th scope=row>y</th><td>0.5</td><td>0.03</td><td>0.45</td><td>0.5</td><td>0.55</td><td>1</td><td>19845</td></tr>\n",
       "\t<tr><th scope=row>z</th><td>0.4</td><td>0.03</td><td>0.35</td><td>0.4</td><td>0.45</td><td>1</td><td>20000</td></tr>\n",
       "</tbody>\n",
       "</table>\n"
      ],
      "text/latex": [
       "A data.frame: 3 × 7\n",
       "\\begin{tabular}{r|lllllll}\n",
       "  & mean & sd & 2.5\\% & 50\\% & 97.5\\% & Rhat & n.eff\\\\\n",
       "  & <dbl> & <dbl> & <dbl> & <dbl> & <dbl> & <dbl> & <dbl>\\\\\n",
       "\\hline\n",
       "\tx & 0.8 & 0.03 & 0.75 & 0.8 & 0.85 & 1 & 20000\\\\\n",
       "\ty & 0.5 & 0.03 & 0.45 & 0.5 & 0.55 & 1 & 19845\\\\\n",
       "\tz & 0.4 & 0.03 & 0.35 & 0.4 & 0.45 & 1 & 20000\\\\\n",
       "\\end{tabular}\n"
      ],
      "text/markdown": [
       "\n",
       "A data.frame: 3 × 7\n",
       "\n",
       "| <!--/--> | mean &lt;dbl&gt; | sd &lt;dbl&gt; | 2.5% &lt;dbl&gt; | 50% &lt;dbl&gt; | 97.5% &lt;dbl&gt; | Rhat &lt;dbl&gt; | n.eff &lt;dbl&gt; |\n",
       "|---|---|---|---|---|---|---|---|\n",
       "| x | 0.8 | 0.03 | 0.75 | 0.8 | 0.85 | 1 | 20000 |\n",
       "| y | 0.5 | 0.03 | 0.45 | 0.5 | 0.55 | 1 | 19845 |\n",
       "| z | 0.4 | 0.03 | 0.35 | 0.4 | 0.45 | 1 | 20000 |\n",
       "\n"
      ],
      "text/plain": [
       "  mean sd   2.5% 50% 97.5% Rhat n.eff\n",
       "x 0.8  0.03 0.75 0.8 0.85  1    20000\n",
       "y 0.5  0.03 0.45 0.5 0.55  1    19845\n",
       "z 0.4  0.03 0.35 0.4 0.45  1    20000"
      ]
     },
     "metadata": {},
     "output_type": "display_data"
    },
    {
     "data": {
      "image/png": "[encoded data removed]",
      "text/plain": [
       "Plot with title \"Density - z\""
      ]
     },
     "metadata": {
      "image/png": {
       "height": 420,
       "width": 420
      }
     },
     "output_type": "display_data"
    }
   ],
   "source": [
    "model_string = \"\n",
    "model {\n",
    "    x ~ dunif(0.75, 0.85)\n",
    "    y ~ dunif(0.45, 0.55)\n",
    "    z <- x*y\n",
    "}\n",
    "\"\n",
    "\n",
    "model = jags.model(textConnection(model_string),\n",
    "                   n.chains = 2,\n",
    "                   data = list())\n",
    "\n",
    "samp = coda.samples(model, \n",
    "                    variable.names=c(\"x\", \"y\", \"z\"), \n",
    "                    n.iter=10000, progress.bar=\"none\")\n",
    "\n",
    "# Show a summary of the variables\n",
    "MCMCsummary(samp, round = 2)\n",
    "\n",
    "# Show plots\n",
    "MCMCtrace(samp, pdf=FALSE)"
   ]
  },
  {
   "cell_type": "code",
   "execution_count": null,
   "metadata": {},
   "outputs": [],
   "source": []
  },
  {
   "cell_type": "code",
   "execution_count": null,
   "metadata": {},
   "outputs": [],
   "source": []
  }
 ],
 "metadata": {
  "kernelspec": {
   "display_name": "R",
   "language": "R",
   "name": "ir"
  },
  "language_info": {
   "codemirror_mode": "r",
   "file_extension": ".r",
   "mimetype": "text/x-r-source",
   "name": "R",
   "pygments_lexer": "r",
   "version": "4.0.4"
  }
 },
 "nbformat": 4,
 "nbformat_minor": 4
}
