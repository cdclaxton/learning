{
 "cells": [
  {
   "cell_type": "markdown",
   "id": "09a11e7b",
   "metadata": {},
   "source": [
    "# Metropolis-Hastings for inference of Normal distribution parameters"
   ]
  },
  {
   "cell_type": "markdown",
   "id": "78b97a31",
   "metadata": {},
   "source": [
    "The normal distribution is given by\n",
    "\n",
    "$$\n",
    "p(x|\\mu, \\sigma) = \\frac{1}{\\sqrt{2 \\pi \\sigma^2}} \\exp \\Big( - \\frac{(x-\\mu)^2}{2 \\sigma^2} \\Big)\n",
    "$$\n",
    "\n",
    "where $\\mu$ is the mean and $\\sigma$ is the standard deviation."
   ]
  },
  {
   "cell_type": "markdown",
   "id": "15364520",
   "metadata": {},
   "source": [
    "Suppose $N$ samples are drawn from the normal distribution $x_0, x_1, \\ldots, x_{N-1}$. The problem is to estimate the parameters $\\mu$ and $\\sigma$."
   ]
  },
  {
   "cell_type": "markdown",
   "id": "d1cc208a",
   "metadata": {},
   "source": [
    "The prior probability of the mean is modelled as a uniform distribution\n",
    "\n",
    "$$\n",
    "p(\\mu) = \n",
    "\\begin{cases}\n",
    " \\frac{1}{\\mu_b - \\mu_a} & \\mu_a \\leq \\mu \\leq \\mu_b \\\\\n",
    " 0             & \\text{otherwise} \\\\\n",
    "\\end{cases}\n",
    "$$\n",
    "\n",
    "and the prior probability of the standard deviation is also modelled as a uniform distribution\n",
    "\n",
    "$$\n",
    "p(\\sigma) = \n",
    "\\begin{cases}\n",
    " \\frac{1}{\\sigma_c} & 0 \\leq \\sigma \\leq \\sigma_c \\\\\n",
    " 0             & \\text{otherwise} \\\\\n",
    "\\end{cases}\n",
    "$$"
   ]
  },
  {
   "cell_type": "markdown",
   "id": "2dc28e65",
   "metadata": {},
   "source": [
    "The probability of $N$ samples is given by\n",
    "\n",
    "$$\n",
    "p(x | \\mu, \\sigma) = \\prod_{i=0}^{N-1} \\frac{1}{\\sqrt{2 \\pi \\sigma^2}} \\exp \\Big( - \\frac{(x-\\mu)^2}{2 \\sigma^2} \\Big).\n",
    "$$\n",
    "\n",
    "The natural logarithm of the probability of the samples is given by\n",
    "\n",
    "$$\n",
    "\\begin{align*}\n",
    "\\ln p(x | \\mu, \\sigma) &= \\ln \\Big( \\prod_{i=0}^{N-1} \\frac{1}{\\sqrt{2 \\pi \\sigma^2}} \\exp \\Big( - \\frac{(x-\\mu)^2}{2 \\sigma^2} \\Big) \\Big) \\\\\n",
    "         &= \\sum_{i=0}^{N-1} \\ln \\Big( \\frac{1}{\\sqrt{2 \\pi \\sigma^2}} \\exp \\Big( - \\frac{(x-\\mu)^2}{2 \\sigma^2} \\Big) \\Big) \\\\\n",
    "         &= \\sum_{i=0}^{N-1} \\Big( \\ln 1 - \\ln \\sqrt{2 \\pi \\sigma^2} - \\frac{(x-\\mu)^2}{2 \\sigma^2} \\Big) \\\\\n",
    "         &= - N \\ln \\sqrt{2 \\pi \\sigma^2} - \\sum_{i=0}^{N-1} \\frac{(x-\\mu)^2}{2 \\sigma^2} \\\\\n",
    "         &= - \\frac{N}{2} \\ln (2 \\pi \\sigma^2) - \\sum_{i=0}^{N-1} \\frac{(x-\\mu)^2}{2 \\sigma^2} \\\\\n",
    "\\end{align*}\n",
    "$$"
   ]
  },
  {
   "cell_type": "markdown",
   "id": "52fe4124",
   "metadata": {},
   "source": [
    "The natural logarithm of the uniform prior for the mean is given by\n",
    "\n",
    "$$\n",
    "\\begin{align*}\n",
    "\\ln p(\\mu) &= \\ln \\frac{1}{\\mu_b - \\mu_a} \\\\\n",
    "               &= \\ln (\\mu_b - \\mu_a)^{-1}  \\\\\n",
    "               &= - \\ln (\\mu_b - \\mu_a) \\\\\n",
    "\\end{align*}\n",
    "$$\n",
    "\n",
    "where $\\mu_a \\leq \\mu \\leq \\mu_b$."
   ]
  },
  {
   "cell_type": "markdown",
   "id": "54bc41d3",
   "metadata": {},
   "source": [
    "The natural logarithm of the prior probability of the standard deviation is given by\n",
    "\n",
    "$$\n",
    "\\begin{align*}\n",
    "\\ln p(\\sigma) &= \\ln \\frac{1}{\\sigma_c} \\\\\n",
    "              &= \\ln (\\sigma_c)^{-1}  \\\\\n",
    "              &= - \\ln (\\sigma_c) \\\\\n",
    "\\end{align*}\n",
    "$$\n",
    "\n",
    "where $0 \\leq \\sigma \\leq \\sigma_c$."
   ]
  },
  {
   "cell_type": "markdown",
   "id": "e11f8051",
   "metadata": {},
   "source": [
    "From Bayes' theorem:\n",
    "\n",
    "$$\n",
    "\\begin{align*}\n",
    "p(\\mu, \\sigma | x) &= \\frac{p(x | \\mu, \\sigma) p(\\mu) p(\\sigma)}{p(x)} \\\\\n",
    "&\\propto p(x | \\mu, \\sigma) p(\\mu) p(\\sigma)\n",
    "\\end{align*}\n",
    "$$\n",
    "\n",
    "where the independence of the prior distributions allows $p(\\mu)$ and $p(\\sigma)$ to be separated."
   ]
  },
  {
   "cell_type": "markdown",
   "id": "b2c2e7dc",
   "metadata": {},
   "source": [
    "$$\n",
    "\\begin{align*}\n",
    "\\ln p(x | \\mu, \\sigma) p(\\mu) p(\\sigma) &= \\ln p(x | \\mu, \\sigma) + \\ln p(\\mu) + \\ln p(\\sigma) \\\\\n",
    "  &= - \\frac{N}{2} \\ln (2 \\pi \\sigma^2) - \\sum_{i=0}^{N-1} \\frac{(x-\\mu)^2}{2 \\sigma^2} - \\ln (\\mu_b - \\mu_a) - \\ln (\\sigma_c) \\\\\n",
    "\\end{align*}\n",
    "$$\n",
    "\n",
    "where $\\mu_a \\leq \\mu \\leq \\mu_b$ and $0 \\leq \\sigma \\leq \\sigma_c$."
   ]
  },
  {
   "cell_type": "code",
   "execution_count": 77,
   "id": "29a63a5a",
   "metadata": {},
   "outputs": [],
   "source": [
    "import numpy as np\n",
    "import matplotlib.pyplot as plt"
   ]
  },
  {
   "cell_type": "code",
   "execution_count": 78,
   "id": "93230772",
   "metadata": {},
   "outputs": [
    {
     "name": "stdout",
     "output_type": "stream",
     "text": [
      "Mean = 17.268987208712264, sigma = 3.676024373262053\n"
     ]
    }
   ],
   "source": [
    "mu_a = 10.0\n",
    "mu_b = 20.0\n",
    "sigma_c = 5.0\n",
    "\n",
    "# Number of samples\n",
    "N = 100\n",
    "\n",
    "# Sample the mean and standard deviations\n",
    "mu = np.random.uniform(mu_a, mu_b)\n",
    "sigma = np.random.uniform(0, sigma_c)\n",
    "print(f\"Mean = {mu}, sigma = {sigma}\")\n",
    "\n",
    "# Draw samples from the normal distribution\n",
    "x = np.random.normal(loc=mu, scale=sigma, size=N)"
   ]
  },
  {
   "cell_type": "code",
   "execution_count": 79,
   "id": "39bc2879",
   "metadata": {},
   "outputs": [
    {
     "data": {
      "image/png": "[encoded data removed]",
      "text/plain": [
       "<Figure size 640x480 with 1 Axes>"
      ]
     },
     "metadata": {},
     "output_type": "display_data"
    }
   ],
   "source": [
    "plt.hist(x)\n",
    "plt.xlabel('x')\n",
    "plt.ylabel('Count')\n",
    "plt.show()"
   ]
  },
  {
   "cell_type": "markdown",
   "id": "bd4daacf",
   "metadata": {},
   "source": [
    "The joint distribution is given by\n",
    "\n",
    "$$\n",
    "\\begin{align*}\n",
    "\\ln p(x | \\mu, \\sigma) p(\\mu) p(\\sigma) &= \\ln p(x | \\mu, \\sigma) + \\ln p(\\mu) + \\ln p(\\sigma) \\\\\n",
    "  &= - \\frac{N}{2} \\ln (2 \\pi \\sigma^2) - \\sum_{i=0}^{N-1} \\frac{(x-\\mu)^2}{2 \\sigma^2} - \\ln (\\mu_b - \\mu_a) - \\ln (\\sigma_c) \\\\\n",
    "\\end{align*}\n",
    "$$\n",
    "\n",
    "where $\\mu_a \\leq \\mu \\leq \\mu_b$ and $0 \\leq \\sigma \\leq \\sigma_c$."
   ]
  },
  {
   "cell_type": "code",
   "execution_count": 80,
   "id": "2075144c",
   "metadata": {},
   "outputs": [],
   "source": [
    "def joint(mu, sigma, x, mu_a, mu_b, sigma_c):\n",
    "\n",
    "    # Check that the parameters are in the required ranges\n",
    "    if mu < mu_a or mu > mu_b:\n",
    "        return 0.0\n",
    "    elif sigma < 0 or sigma > sigma_c:\n",
    "        return 0.0\n",
    "\n",
    "    N = len(x)\n",
    "    sigma_squared = np.pow(sigma, 2)\n",
    "\n",
    "    # Log probability\n",
    "    p = -(N/2) * np.log(2 * np.pi * sigma_squared) - \\\n",
    "        np.sum(np.pow(x - mu, 2) / (2 * sigma_squared)) - \\\n",
    "        np.log(mu_b - mu_a) - \\\n",
    "        np.log(sigma_c)\n",
    "    \n",
    "    return np.exp(p)"
   ]
  },
  {
   "cell_type": "code",
   "execution_count": 81,
   "id": "ed7aec57",
   "metadata": {},
   "outputs": [
    {
     "name": "stdout",
     "output_type": "stream",
     "text": [
      "Percentage of samples accepted = 35.66\n"
     ]
    }
   ],
   "source": [
    "mu_samples = [(mu_b + mu_a)/2]\n",
    "sigma_samples = [sigma_c/2]\n",
    "\n",
    "number_accepted = 0\n",
    "proposal_sigma = 0.5\n",
    "M = 5000\n",
    "\n",
    "for i in range(1, M):\n",
    "    mu_candidate = np.random.normal(mu_samples[i-1], proposal_sigma)\n",
    "    sigma_candidate = np.random.normal(sigma_samples[i-1], proposal_sigma)\n",
    "\n",
    "    q_prev = joint(mu_samples[i-1], sigma_samples[i-1], x, mu_a, mu_b, sigma_c)\n",
    "    q_candidate = joint(mu_candidate, sigma_candidate, x, mu_a, mu_b, sigma_c)\n",
    "\n",
    "    acceptance_prob = min(1, q_candidate/q_prev)\n",
    "    \n",
    "    u = np.random.uniform(0, 1)\n",
    "    \n",
    "    if q_candidate == 0 or u >= acceptance_prob:\n",
    "        mu_samples.append(mu_samples[i-1])\n",
    "        sigma_samples.append(sigma_samples[i-1])\n",
    "\n",
    "    else:\n",
    "        # Accept the proposal\n",
    "        mu_samples.append(mu_candidate)\n",
    "        sigma_samples.append(sigma_candidate)\n",
    "        number_accepted += 1\n",
    "\n",
    "print(f\"Percentage of samples accepted = {100.0 * number_accepted / M}\")"
   ]
  },
  {
   "cell_type": "code",
   "execution_count": 82,
   "id": "103aa35a",
   "metadata": {},
   "outputs": [
    {
     "data": {
      "image/png": "[encoded data removed]",
      "text/plain": [
       "<Figure size 640x480 with 4 Axes>"
      ]
     },
     "metadata": {},
     "output_type": "display_data"
    }
   ],
   "source": [
    "burnin = int(len(mu_samples) / 5)\n",
    "\n",
    "plt.subplot(221)\n",
    "plt.plot(np.arange(burnin), mu_samples[0:burnin], 'r')\n",
    "plt.plot(np.arange(burnin,M), mu_samples[burnin:], 'b')\n",
    "plt.xlabel('index')\n",
    "plt.ylabel('mu')\n",
    "\n",
    "plt.subplot(222)\n",
    "plt.hist(mu_samples[burnin:])\n",
    "plt.axvline(x=mu, color='r')\n",
    "plt.axvline(x=np.mean(x), color='g')\n",
    "plt.xlabel('mu')\n",
    "plt.ylabel('Count')\n",
    "\n",
    "plt.subplot(223)\n",
    "plt.plot(np.arange(burnin), sigma_samples[0:burnin], 'r')\n",
    "plt.plot(np.arange(burnin,M), sigma_samples[burnin:], 'b')\n",
    "plt.xlabel('index')\n",
    "plt.ylabel('sigma')\n",
    "\n",
    "plt.subplot(224)\n",
    "plt.hist(sigma_samples[burnin:])\n",
    "plt.axvline(x=sigma, color='r')\n",
    "plt.axvline(x=np.std(x), color='g')\n",
    "plt.xlabel('sigma')\n",
    "plt.ylabel('Count')\n",
    "\n",
    "plt.show()"
   ]
  },
  {
   "cell_type": "code",
   "execution_count": null,
   "id": "c09266bf",
   "metadata": {},
   "outputs": [],
   "source": []
  }
 ],
 "metadata": {
  "kernelspec": {
   "display_name": ".venv",
   "language": "python",
   "name": "python3"
  },
  "language_info": {
   "codemirror_mode": {
    "name": "ipython",
    "version": 3
   },
   "file_extension": ".py",
   "mimetype": "text/x-python",
   "name": "python",
   "nbconvert_exporter": "python",
   "pygments_lexer": "ipython3",
   "version": "3.11.2"
  }
 },
 "nbformat": 4,
 "nbformat_minor": 5
}
