{
 "cells": [
  {
   "cell_type": "markdown",
   "metadata": {},
   "source": [
    "# Discrete Bayesian inference"
   ]
  },
  {
   "cell_type": "markdown",
   "metadata": {},
   "source": [
    "## Introduction"
   ]
  },
  {
   "cell_type": "markdown",
   "metadata": {},
   "source": [
    "This Python Jupyter notebook explores how Bayesian inference can be performed analytically where the nodes are discrete."
   ]
  },
  {
   "cell_type": "markdown",
   "metadata": {},
   "source": [
    "## Two nodes"
   ]
  },
  {
   "cell_type": "markdown",
   "metadata": {},
   "source": [
    "### Binary nodes"
   ]
  },
  {
   "cell_type": "markdown",
   "metadata": {},
   "source": [
    "* Netica model: `two_nodes_binary.neta`"
   ]
  },
  {
   "cell_type": "code",
   "execution_count": 37,
   "metadata": {},
   "outputs": [],
   "source": [
    "# Representing the prior and CPTs as dicts for ease of indexing\n",
    "p_x = {True: 0.8, \n",
    "       False: 0.2}\n",
    "\n",
    "p_y_given_x = {\n",
    "    True: {True: 0.6, False: 0.4},\n",
    "    False: {True: 0.2, False: 0.8}\n",
    "}\n",
    "\n",
    "x_cases = [True, False]\n",
    "y_cases = [True, False]"
   ]
  },
  {
   "cell_type": "markdown",
   "metadata": {},
   "source": [
    "The joint probability is given by:\n",
    "\n",
    "$$\n",
    "p(x,y) = p(x) p(y|x)\n",
    "$$\n",
    "\n",
    "The conditional probability is given by:\n",
    "\n",
    "$$\n",
    "p(x|y) = \\frac{p(x,y)}{p(y)} = \\frac{p(x)p(y|x)}{p(y)}\n",
    "$$"
   ]
  },
  {
   "cell_type": "code",
   "execution_count": 38,
   "metadata": {},
   "outputs": [
    {
     "name": "stdout",
     "output_type": "stream",
     "text": [
      "p(x=True | y=True) = 0.923076923076923\n",
      "p(x=False | y=True) = 0.07692307692307694\n",
      "--\n",
      "p(x=True | y=False) = 0.6666666666666666\n",
      "p(x=False | y=False) = 0.3333333333333333\n"
     ]
    }
   ],
   "source": [
    "def calc_p_x_given_y(x, y):\n",
    "    \"\"\"Calculate p(x|y) where y is known.\"\"\"\n",
    "    \n",
    "    case = p_y_given_x[x][y] * p_x[x]\n",
    "    anti_case = p_y_given_x[not x][y] * p_x[not x]\n",
    "\n",
    "    return case / (case + anti_case)\n",
    "    \n",
    "print(f\"p(x=True | y=True) = {calc_p_x_given_y(True, True)}\")\n",
    "print(f\"p(x=False | y=True) = {calc_p_x_given_y(False, True)}\")\n",
    "print(\"--\")\n",
    "print(f\"p(x=True | y=False) = {calc_p_x_given_y(True, False)}\")\n",
    "print(f\"p(x=False | y=False) = {calc_p_x_given_y(False, False)}\")"
   ]
  },
  {
   "cell_type": "code",
   "execution_count": 40,
   "metadata": {},
   "outputs": [
    {
     "name": "stdout",
     "output_type": "stream",
     "text": [
      "p(x=True | y=True) = 0.923076923076923\n",
      "p(x=False | y=True) = 0.07692307692307694\n",
      "--\n",
      "p(x=True | y=False) = 0.6666666666666666\n",
      "p(x=False | y=False) = 0.3333333333333333\n"
     ]
    }
   ],
   "source": [
    "def calc_p_x_given_y(x, y):\n",
    "    \"\"\"Calculate p(x|y) where y is known.\"\"\"\n",
    "    \n",
    "    assert x in x_cases\n",
    "    assert y in y_cases\n",
    "    \n",
    "    case = p_y_given_x[x][y] * p_x[x]\n",
    "    \n",
    "    # Calculate the total probability for all cases in order to normalise\n",
    "    total = 0\n",
    "    for xt in x_cases:\n",
    "        total += p_y_given_x[xt][y] * p_x[xt]\n",
    "    \n",
    "    return case / total\n",
    "\n",
    "print(f\"p(x=True | y=True) = {calc_p_x_given_y(True, True)}\")\n",
    "print(f\"p(x=False | y=True) = {calc_p_x_given_y(False, True)}\")\n",
    "print(\"--\")\n",
    "print(f\"p(x=True | y=False) = {calc_p_x_given_y(True, False)}\")\n",
    "print(f\"p(x=False | y=False) = {calc_p_x_given_y(False, False)}\")"
   ]
  },
  {
   "cell_type": "markdown",
   "metadata": {},
   "source": [
    "### Trinary nodes"
   ]
  },
  {
   "cell_type": "code",
   "execution_count": null,
   "metadata": {},
   "outputs": [],
   "source": []
  },
  {
   "cell_type": "markdown",
   "metadata": {},
   "source": [
    "## Three nodes"
   ]
  },
  {
   "cell_type": "markdown",
   "metadata": {},
   "source": [
    "* Netica model: `three_nodes_binary.neta`"
   ]
  },
  {
   "cell_type": "code",
   "execution_count": 19,
   "metadata": {},
   "outputs": [],
   "source": [
    "p_x = {\n",
    "    True: 0.7,\n",
    "    False: 0.3\n",
    "}\n",
    "\n",
    "p_y_given_x = {\n",
    "    True: {True: 0.6, False: 0.4},\n",
    "    False: {True: 0.2, False: 0.8}\n",
    "}\n",
    "\n",
    "p_z_given_x = {\n",
    "    True: {True: 0.7, False: 0.3},\n",
    "    False: {True: 0.1, False: 0.9}    \n",
    "}"
   ]
  },
  {
   "cell_type": "markdown",
   "metadata": {},
   "source": [
    "The joint probability is given by:\n",
    "\n",
    "$$\n",
    "p(x,y,z) = p(x) p(y|x) p(z|x)\n",
    "$$\n",
    "\n",
    "The conditional probability is given by:\n",
    "\n",
    "$$\n",
    "p(x|y,z) = \\frac{p(x,y,z)}{p(y,z)} = \\frac{p(x) p(y|x) p(z|x)}{p(y,z)}\n",
    "$$"
   ]
  },
  {
   "cell_type": "code",
   "execution_count": 36,
   "metadata": {},
   "outputs": [
    {
     "name": "stdout",
     "output_type": "stream",
     "text": [
      "p(x=True | y=False, z=False) = 0.125\n",
      "p(x=False | y=False, z=False) = 0.8750000000000001\n",
      "--\n",
      "p(x=True | y=False, z=True) = 0.75\n",
      "p(x=False | y=False, z=True) = 0.25\n",
      "--\n",
      "p(x=True | y=True, z=False) = 0.5714285714285714\n",
      "p(x=False | y=True, z=False) = 0.42857142857142855\n",
      "--\n",
      "p(x=True | y=True, z=True) = 0.9655172413793103\n",
      "p(x=False | y=True, z=True) = 0.03448275862068966\n"
     ]
    }
   ],
   "source": [
    "def calc_p_x_given_y(x, y, z):\n",
    "    \"\"\"Calculate p(x|y,z) where y and z are known.\"\"\"\n",
    "    \n",
    "    case = p_x[x] * p_y_given_x[x][y] * p_z_given_x[x][z]\n",
    "    anti_case = p_x[not x] * p_y_given_x[not x][y] * p_z_given_x[not x][z]    \n",
    "\n",
    "    return case / (case + anti_case)\n",
    "\n",
    "print(f\"p(x=True | y=False, z=False) = {calc_p_x_given_y(True, False, False)}\")\n",
    "print(f\"p(x=False | y=False, z=False) = {calc_p_x_given_y(False, False, False)}\")\n",
    "print(\"--\")\n",
    "print(f\"p(x=True | y=False, z=True) = {calc_p_x_given_y(True, False, True)}\")\n",
    "print(f\"p(x=False | y=False, z=True) = {calc_p_x_given_y(False, False, True)}\")\n",
    "print(\"--\")\n",
    "print(f\"p(x=True | y=True, z=False) = {calc_p_x_given_y(True, True, False)}\")\n",
    "print(f\"p(x=False | y=True, z=False) = {calc_p_x_given_y(False, True, False)}\")\n",
    "print(\"--\")\n",
    "print(f\"p(x=True | y=True, z=True) = {calc_p_x_given_y(True, True, True)}\")\n",
    "print(f\"p(x=False | y=True, z=True) = {calc_p_x_given_y(False, True, True)}\")"
   ]
  },
  {
   "cell_type": "markdown",
   "metadata": {},
   "source": [
    "### Three nodes, linear chain"
   ]
  },
  {
   "cell_type": "markdown",
   "metadata": {},
   "source": [
    "* Netica model: `three_nodes_binary_linear.neta`"
   ]
  },
  {
   "cell_type": "code",
   "execution_count": 30,
   "metadata": {},
   "outputs": [],
   "source": [
    "x_cases = [True, False]\n",
    "\n",
    "p_x = {\n",
    "    True: 0.6,\n",
    "    False: 0.4\n",
    "}\n",
    "\n",
    "y_cases = [True, False]\n",
    "z_cases = [True, False]\n",
    "\n",
    "p_y_given_x = {\n",
    "    True: {True: 0.8, False: 0.2},\n",
    "    False: {True: 0.3, False: 0.7}\n",
    "}\n",
    "\n",
    "p_z_given_y = {\n",
    "    True: {True: 0.9, False: 0.1},\n",
    "    False: {True: 0.2, False: 0.8}\n",
    "}"
   ]
  },
  {
   "cell_type": "markdown",
   "metadata": {},
   "source": [
    "The joint probability is given by\n",
    "\n",
    "$$\n",
    "p(x,y,z) = p(x)p(y|x)p(z|y)\n",
    "$$\n",
    "\n",
    "Assuming node $z$ is observed, the probability of the root node given $x$ is given by\n",
    "\n",
    "$$\n",
    "p(x|z) = \\frac{ \\sum_y p(x)p(y|x)p(z|y)}{p(z)} = \\frac{ p(x) \\sum_y p(y|x)p(z|y)}{p(z)}\n",
    "$$\n",
    "\n",
    "The intermediate node $y$ needs to be integrated out."
   ]
  },
  {
   "cell_type": "code",
   "execution_count": 35,
   "metadata": {},
   "outputs": [
    {
     "name": "stdout",
     "output_type": "stream",
     "text": [
      "p(x=True | z=True) = 0.7354838709677419\n",
      "p(x=False | z=True) = 0.2645161290322581\n",
      "--\n",
      "p(x=True | z=False) = 0.37894736842105264\n",
      "p(x=False | z=False) = 0.6210526315789473\n"
     ]
    }
   ],
   "source": [
    "def calc_p_x_given_z(x, z):\n",
    "    \"\"\"Calculates p(x|z).\"\"\"\n",
    "    \n",
    "    assert x in x_cases\n",
    "    assert z in z_cases\n",
    "    \n",
    "    case = 0\n",
    "    anti_case = 0\n",
    "    \n",
    "    for y in y_cases:\n",
    "        case += p_y_given_x[x][y] * p_z_given_y[y][z]\n",
    "        anti_case += p_y_given_x[not x][y] * p_z_given_y[y][z]\n",
    "    \n",
    "    case = p_x[x] * case\n",
    "    anti_case = p_x[not x] * anti_case    \n",
    "    \n",
    "    return case / (case + anti_case)\n",
    "\n",
    "print(f\"p(x=True | z=True) = {calc_p_x_given_z(True, True)}\")\n",
    "print(f\"p(x=False | z=True) = {calc_p_x_given_z(False, True)}\")\n",
    "print(\"--\")\n",
    "print(f\"p(x=True | z=False) = {calc_p_x_given_z(True, False)}\")\n",
    "print(f\"p(x=False | z=False) = {calc_p_x_given_z(False, False)}\")"
   ]
  }
 ],
 "metadata": {
  "kernelspec": {
   "display_name": "Python 3",
   "language": "python",
   "name": "python3"
  },
  "language_info": {
   "codemirror_mode": {
    "name": "ipython",
    "version": 3
   },
   "file_extension": ".py",
   "mimetype": "text/x-python",
   "name": "python",
   "nbconvert_exporter": "python",
   "pygments_lexer": "ipython3",
   "version": "3.8.7"
  }
 },
 "nbformat": 4,
 "nbformat_minor": 4
}
