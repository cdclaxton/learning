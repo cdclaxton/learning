{
 "cells": [
  {
   "cell_type": "markdown",
   "metadata": {},
   "source": [
    "# Monte Carlo simulations of directed Bayesian network"
   ]
  },
  {
   "cell_type": "markdown",
   "metadata": {},
   "source": [
    "## Introduction"
   ]
  },
  {
   "cell_type": "markdown",
   "metadata": {},
   "source": [
    "This Python Jupyter notebook explores a method to simulate samples from a directed Bayesian network where the root nodes are fully observed.\n",
    "\n",
    "- Vertex class\n",
    "    - contains a list of samples\n",
    "- Parent class (sub class of Vertex)\n",
    "    - root vertex\n",
    "    - defined by a prior\n",
    "- Child class (sub class of Vertex)\n",
    "    - defined by a CPT\n",
    "- Breadth-first approach starting at the root nodes\n",
    "- Code for a poly-tree, i.e. multiple root nodes"
   ]
  },
  {
   "cell_type": "markdown",
   "metadata": {},
   "source": [
    "## Sampling from a uniform distribution"
   ]
  },
  {
   "cell_type": "code",
   "execution_count": 1,
   "metadata": {},
   "outputs": [],
   "source": [
    "import matplotlib.pyplot as plt\n",
    "import numpy as np"
   ]
  },
  {
   "cell_type": "code",
   "execution_count": 2,
   "metadata": {},
   "outputs": [],
   "source": [
    "def uniform_sample(lower, upper, size=1):\n",
    "    \"\"\"Sample from a uniform distribution in the half-open interval [lower, upper).\"\"\"\n",
    "    \n",
    "    # Preconditions\n",
    "    assert isinstance(lower, float), f\"Expected a float, got {type(lower)}\"\n",
    "    assert isinstance(upper, float), f\"Expected a float, got {type(upper)}\"\n",
    "    assert 0 <= lower < upper <= 1, f\"Invalid range: [{lower}, {upper})\"\n",
    "    \n",
    "    return np.random.uniform(lower, upper, size)"
   ]
  },
  {
   "cell_type": "code",
   "execution_count": 3,
   "metadata": {},
   "outputs": [
    {
     "data": {
      "image/png": "[encoded data removed]",
      "text/plain": [
       "<Figure size 432x288 with 1 Axes>"
      ]
     },
     "metadata": {
      "needs_background": "light"
     },
     "output_type": "display_data"
    }
   ],
   "source": [
    "plt.hist(uniform_sample(0.2, 0.45, 100), bins=20)\n",
    "plt.xlim([0, 1])\n",
    "plt.show()"
   ]
  },
  {
   "cell_type": "code",
   "execution_count": 4,
   "metadata": {},
   "outputs": [],
   "source": [
    "def bernoulli_sample(p):\n",
    "    \"\"\"Sample from a Bernoulli distribution.\"\"\"\n",
    "    \n",
    "    # Preconditions\n",
    "    assert isinstance(p, float), f\"Expected a float, got {type(p)}\"\n",
    "    assert 0 <= p <= 1\n",
    "    \n",
    "    return np.random.binomial(1, p) == 1"
   ]
  },
  {
   "cell_type": "code",
   "execution_count": 5,
   "metadata": {},
   "outputs": [
    {
     "data": {
      "text/plain": [
       "0.206"
      ]
     },
     "execution_count": 5,
     "metadata": {},
     "output_type": "execute_result"
    }
   ],
   "source": [
    "np.mean([bernoulli_sample(0.2) for _ in range(1000)])"
   ]
  },
  {
   "cell_type": "code",
   "execution_count": 6,
   "metadata": {},
   "outputs": [],
   "source": [
    "def uniform(lower, upper):\n",
    "    \"\"\"Returns a function that generates a sample.\"\"\"\n",
    "    \n",
    "    def f():\n",
    "        return uniform_sample(lower, upper, size=1)[0]\n",
    "    return f"
   ]
  },
  {
   "cell_type": "code",
   "execution_count": 7,
   "metadata": {},
   "outputs": [
    {
     "data": {
      "text/plain": [
       "0.3638647119986338"
      ]
     },
     "execution_count": 7,
     "metadata": {},
     "output_type": "execute_result"
    }
   ],
   "source": [
    "uniform(0.2, 0.4)()"
   ]
  },
  {
   "cell_type": "code",
   "execution_count": 8,
   "metadata": {},
   "outputs": [],
   "source": [
    "def bernoulli_from_uniform(lower, upper):\n",
    "    \"\"\"Returns a function that generates a Bernoulli sample where its prior is a uniform distribution.\"\"\"\n",
    "    \n",
    "    def f():\n",
    "        # Sample from a uniform distribution\n",
    "        p = uniform_sample(lower, upper, size=1)[0]\n",
    "        \n",
    "        # Sample from a Bernoulli distribution\n",
    "        return bernoulli_sample(p)\n",
    "        \n",
    "    return f"
   ]
  },
  {
   "cell_type": "code",
   "execution_count": 9,
   "metadata": {},
   "outputs": [
    {
     "data": {
      "text/plain": [
       "0.36"
      ]
     },
     "execution_count": 9,
     "metadata": {},
     "output_type": "execute_result"
    }
   ],
   "source": [
    "np.mean([bernoulli_from_uniform(0.3, 0.4)() for _ in range(1000)])"
   ]
  },
  {
   "cell_type": "markdown",
   "metadata": {},
   "source": [
    "## One parent, one child"
   ]
  },
  {
   "cell_type": "markdown",
   "metadata": {},
   "source": [
    "\n",
    "```\n",
    "a -> b\n",
    "```"
   ]
  },
  {
   "cell_type": "markdown",
   "metadata": {},
   "source": [
    "### No observations"
   ]
  },
  {
   "cell_type": "code",
   "execution_count": 10,
   "metadata": {},
   "outputs": [],
   "source": [
    "prior_a = bernoulli_from_uniform(0.7, 0.9)\n",
    "\n",
    "cpt_b = {\n",
    "    True: bernoulli_from_uniform(0.7, 0.8),\n",
    "    False: bernoulli_from_uniform(0.3, 0.4),\n",
    "}"
   ]
  },
  {
   "cell_type": "code",
   "execution_count": 11,
   "metadata": {},
   "outputs": [],
   "source": [
    "n_samples = 1000\n",
    "\n",
    "samples = {\n",
    "    \"a\": [],\n",
    "    \"b\": [],\n",
    "}\n",
    "\n",
    "for _ in range(n_samples):\n",
    "    \n",
    "    # Sample from the prior 'a'\n",
    "    samples[\"a\"].append(prior_a())\n",
    "    \n",
    "    # Sample from 'b'\n",
    "    b = cpt_b[samples[\"a\"][-1]]()\n",
    "    samples[\"b\"].append(b)"
   ]
  },
  {
   "cell_type": "code",
   "execution_count": 12,
   "metadata": {},
   "outputs": [
    {
     "name": "stdout",
     "output_type": "stream",
     "text": [
      "Mean of a: 0.79\n",
      "Mean of b: 0.658\n"
     ]
    }
   ],
   "source": [
    "print(f\"Mean of a: {np.mean(samples['a'])}\")\n",
    "print(f\"Mean of b: {np.mean(samples['b'])}\")"
   ]
  },
  {
   "cell_type": "markdown",
   "metadata": {},
   "source": [
    "### Vertex *a* is observed"
   ]
  },
  {
   "cell_type": "code",
   "execution_count": 13,
   "metadata": {},
   "outputs": [],
   "source": [
    "a = True\n",
    "\n",
    "n_samples = 1000\n",
    "\n",
    "samples = {\n",
    "    \"a\": [],\n",
    "    \"b\": [],\n",
    "}\n",
    "\n",
    "for _ in range(n_samples):\n",
    "    \n",
    "    # Sample from the prior 'a'\n",
    "    samples[\"a\"].append(a)\n",
    "    \n",
    "    # Sample from 'b'\n",
    "    b = cpt_b[samples[\"a\"][-1]]()\n",
    "    samples[\"b\"].append(b)"
   ]
  },
  {
   "cell_type": "code",
   "execution_count": 14,
   "metadata": {},
   "outputs": [
    {
     "name": "stdout",
     "output_type": "stream",
     "text": [
      "Mean of a: 1.0\n",
      "Mean of b: 0.777\n"
     ]
    }
   ],
   "source": [
    "print(f\"Mean of a: {np.mean(samples['a'])}\")\n",
    "print(f\"Mean of b: {np.mean(samples['b'])}\")"
   ]
  },
  {
   "cell_type": "markdown",
   "metadata": {},
   "source": [
    "## Two parents, one child"
   ]
  },
  {
   "cell_type": "markdown",
   "metadata": {},
   "source": [
    "\n",
    "```\n",
    "a -> } b\n",
    "b -> }\n",
    "```"
   ]
  },
  {
   "cell_type": "code",
   "execution_count": 15,
   "metadata": {},
   "outputs": [],
   "source": [
    "prior_a = bernoulli_from_uniform(0.7, 0.9)\n",
    "\n",
    "prior_b = bernoulli_from_uniform(0.6, 0.7)\n",
    "\n",
    "# a, b\n",
    "cpt_c = {\n",
    "    (False, False): bernoulli_from_uniform(0.7, 0.8),\n",
    "    (False, True): bernoulli_from_uniform(0.4, 0.8),\n",
    "    (True, False): bernoulli_from_uniform(0.4, 0.5),\n",
    "    (True, True): bernoulli_from_uniform(0.7, 0.9),\n",
    "}"
   ]
  },
  {
   "cell_type": "code",
   "execution_count": 16,
   "metadata": {},
   "outputs": [],
   "source": [
    "n_samples = 1000\n",
    "\n",
    "samples = {\n",
    "    \"a\": [],\n",
    "    \"b\": [],\n",
    "    \"c\": [],\n",
    "    \n",
    "}\n",
    "\n",
    "for _ in range(n_samples):\n",
    "    \n",
    "    # Sample from the priors 'a' and 'b'\n",
    "    samples[\"a\"].append(prior_a())\n",
    "    samples[\"b\"].append(prior_b())\n",
    "    \n",
    "    # Sample from 'b'\n",
    "    t = (samples['a'][-1], samples['b'][-1])\n",
    "    c = cpt_c[t]()\n",
    "    samples[\"c\"].append(c)"
   ]
  },
  {
   "cell_type": "code",
   "execution_count": 17,
   "metadata": {},
   "outputs": [
    {
     "name": "stdout",
     "output_type": "stream",
     "text": [
      "Mean of a: 0.808\n",
      "Mean of b: 0.652\n",
      "Mean of c: 0.68\n"
     ]
    }
   ],
   "source": [
    "print(f\"Mean of a: {np.mean(samples['a'])}\")\n",
    "print(f\"Mean of b: {np.mean(samples['b'])}\")\n",
    "print(f\"Mean of c: {np.mean(samples['c'])}\")"
   ]
  },
  {
   "cell_type": "markdown",
   "metadata": {},
   "source": [
    "## Generic model"
   ]
  },
  {
   "cell_type": "markdown",
   "metadata": {},
   "source": [
    "A generic model is where arbitrary vertices can be defined and connected."
   ]
  },
  {
   "cell_type": "code",
   "execution_count": 18,
   "metadata": {},
   "outputs": [],
   "source": [
    "import abc"
   ]
  },
  {
   "cell_type": "code",
   "execution_count": 19,
   "metadata": {},
   "outputs": [],
   "source": [
    "class Vertex(metaclass=abc.ABCMeta):\n",
    "    \n",
    "    def __init__(self, name):\n",
    "        assert isinstance(name, str), f\"Expected a str, got {type(name)}\"\n",
    "        assert len(name) > 0, f\"Got an empty name\"\n",
    "        assert name != \"p\", \"'p' is a reserved name\"\n",
    "        \n",
    "        self.name = name    # Name of the vertex\n",
    "        self.samples = []   # Samples generated by the inference\n",
    "        \n",
    "        self.parents = []   # Parent vertices        \n",
    "        self.children = []  # Child vertices\n",
    "        \n",
    "        # Flags used for toplogical sorting\n",
    "        self.permanent_mark = False\n",
    "        self.temporary_mark = False        \n",
    "        \n",
    "    def clear_samples(self):\n",
    "        self.permanent_mark = False\n",
    "        self.temporary_mark = False\n",
    "        self.samples = []\n",
    "        \n",
    "    def add_child(self, child):\n",
    "        \"\"\"Add a child vertex.\"\"\"\n",
    "        \n",
    "        if child not in self.children:\n",
    "            self.children.append(child)\n",
    "            \n",
    "        if self not in child.parents:\n",
    "            child.add_parent(self)\n",
    "        \n",
    "    @abc.abstractmethod\n",
    "    def sample():\n",
    "        \"\"\"Generate a sample.\"\"\"\n",
    "        pass\n",
    "    \n",
    "    def current_sample(self):\n",
    "        \"\"\"Get the current sample value.\"\"\"\n",
    "        \n",
    "        return self.samples[-1]\n",
    "\n",
    "    def summarise(self):\n",
    "        \"\"\"Summarise the samples.\"\"\"\n",
    "        \n",
    "        return [np.mean(self.samples), np.std(self.samples)]"
   ]
  },
  {
   "cell_type": "code",
   "execution_count": 20,
   "metadata": {},
   "outputs": [],
   "source": [
    "class ParentVertex(Vertex):\n",
    "    def __init__(self, name, prior):\n",
    "        \n",
    "        super().__init__(name)\n",
    "        self.prior = prior\n",
    "        \n",
    "        self.observation = None  # None => not observed\n",
    "    \n",
    "    def __str__(self):\n",
    "        return self.__repr__()\n",
    "    \n",
    "    def __repr__(self):\n",
    "        return f\"{self.name}\"\n",
    "    \n",
    "    def clear_observation(self):\n",
    "        self.observation = None\n",
    "    \n",
    "    def sample(self):\n",
    "        \"\"\"Generate a sample from the prior.\"\"\"\n",
    "        \n",
    "        if self.observation is not None:\n",
    "            self.samples.append(self.observation)\n",
    "        else:\n",
    "            self.samples.append(self.prior())\n",
    "    \n",
    "    def set_observation(self, obs):\n",
    "        \"\"\"Set the vertex to be observed.\"\"\"\n",
    "        \n",
    "        assert isinstance(obs, bool)\n",
    "        self.observation = obs"
   ]
  },
  {
   "cell_type": "code",
   "execution_count": 21,
   "metadata": {},
   "outputs": [],
   "source": [
    "class ChildVertex(Vertex):\n",
    "    def __init__(self, name, cpt):\n",
    "        \n",
    "        assert isinstance(cpt, list), f\"Expected a list, got {type(cpt)}\"\n",
    "        assert len(cpt) > 0\n",
    "        \n",
    "        super().__init__(name)\n",
    "        self.cpt = cpt\n",
    "\n",
    "    def __str__(self):\n",
    "        return self.__repr__()\n",
    "    \n",
    "    def __repr__(self):\n",
    "        return f\"{self.name}\"\n",
    "    \n",
    "    def parent_vertices_from_cpt(self):\n",
    "        \"\"\"Get a set of the parent vertex names from the CPT.\"\"\"\n",
    "        \n",
    "        parent_vertex_names = None\n",
    "        \n",
    "        for row in self.cpt:\n",
    "            \n",
    "            # Set of keys in the dict\n",
    "            k = set(row.keys())\n",
    "            \n",
    "            # Remove the 'p' key as that is for the probability distribution\n",
    "            assert 'p' in k\n",
    "            k.remove('p')\n",
    "            \n",
    "            if parent_vertex_names is None:\n",
    "                parent_vertex_names = k\n",
    "            else:\n",
    "                assert parent_vertex_names == k, f\"Inconsistent parent vertex names\"\n",
    "            \n",
    "        return parent_vertex_names\n",
    "    \n",
    "    def add_parent(self, parent):\n",
    "        \"\"\"Add a parent vertex.\"\"\"\n",
    "        \n",
    "        if parent not in self.parents:\n",
    "            self.parents.append(parent)\n",
    "        \n",
    "        if self not in parent.children:\n",
    "            parent.add_child(self)\n",
    "            \n",
    "    def parent_values(self):\n",
    "        \"\"\"Get a dict of the samples from this vertex's parents.\"\"\"\n",
    "        \n",
    "        # Preconditions\n",
    "        assert len(self.parents) > 0\n",
    "        \n",
    "        return {v.name: v.current_sample() for v in self.parents}\n",
    "        \n",
    "    def input_values_same(self, cpt_row, parent_values):\n",
    "        \n",
    "        assert isinstance(parent_values, dict), f\"Expected a dict, got {type(parent_values)}\"\n",
    "        \n",
    "        for key, value in parent_values.items():\n",
    "            if cpt_row[key] != value:\n",
    "                return False\n",
    "            \n",
    "        return True\n",
    "        \n",
    "    def find_entry_in_cpt(self, parent_values):\n",
    "        \"\"\"Find the entry from the CPT given the parent samples.\"\"\"\n",
    "        \n",
    "        assert isinstance(parent_values, dict), f\"Expected a dict, got {type(parent_values)}\"\n",
    "        \n",
    "        for entry in self.cpt:\n",
    "            if self.input_values_same(entry, parent_values):\n",
    "                return entry\n",
    "        \n",
    "        return None\n",
    "        \n",
    "    def sample(self):\n",
    "        \"\"\"Generate a sample.\"\"\"\n",
    "        \n",
    "        # Get a dict of values from the parent vertices\n",
    "        p = self.parent_values()\n",
    "        \n",
    "        # Find the CPT entry\n",
    "        row = self.find_entry_in_cpt(p)\n",
    "        \n",
    "        # Generate the sample\n",
    "        sample = row[\"p\"]()\n",
    "        \n",
    "        self.samples.append(sample)"
   ]
  },
  {
   "cell_type": "code",
   "execution_count": 22,
   "metadata": {},
   "outputs": [],
   "source": [
    "def get_vertex_without_permanent_mark(list_vertices):\n",
    "    \"\"\"Get a vertex from a list of vertices that doesn't have a permanent mark.\"\"\"\n",
    "    \n",
    "    assert isinstance(list_vertices, list)\n",
    "    assert len(list_vertices) > 0\n",
    "    \n",
    "    for v in list_vertices:\n",
    "        if not v.permanent_mark:\n",
    "            return v\n",
    "    \n",
    "    return None"
   ]
  },
  {
   "cell_type": "code",
   "execution_count": 23,
   "metadata": {},
   "outputs": [],
   "source": [
    "def visit(vertex, L):\n",
    "    \n",
    "    if vertex.permanent_mark:\n",
    "        return\n",
    "    \n",
    "    if vertex.temporary_mark:\n",
    "        raise Exception(\"Not a DAG\")\n",
    "        \n",
    "    # Mark the vertex\n",
    "    vertex.temporary_mark = True\n",
    "    \n",
    "    for child_vertex in vertex.children:\n",
    "        visit(child_vertex, L)\n",
    "    \n",
    "    # Remove the temporary mark\n",
    "    vertex.temporary_mark = False\n",
    "    \n",
    "    # Mark the vertex with a permanent mark\n",
    "    vertex.permanent_mark = True\n",
    "    \n",
    "    # Add the vertex to the head of the list L\n",
    "    L.insert(0, vertex)"
   ]
  },
  {
   "cell_type": "code",
   "execution_count": 24,
   "metadata": {},
   "outputs": [],
   "source": [
    "def calc_execution_order(list_vertices):\n",
    "    \n",
    "    L = []  # Empty list that will contain sorted nodes\n",
    "    \n",
    "    vertex_without_permanent_mark = get_vertex_without_permanent_mark(list_vertices)\n",
    "    \n",
    "    while vertex_without_permanent_mark is not None:\n",
    "\n",
    "        # Visit the vertex\n",
    "        visit(vertex_without_permanent_mark, L)\n",
    "        \n",
    "        # Get the next vertex without a permanent mark\n",
    "        vertex_without_permanent_mark = get_vertex_without_permanent_mark(list_vertices)\n",
    "    \n",
    "    return L"
   ]
  },
  {
   "cell_type": "code",
   "execution_count": 25,
   "metadata": {},
   "outputs": [],
   "source": [
    "def generate_samples(list_vertices, n_samples):\n",
    "    \n",
    "    # Determine the execution order\n",
    "    execution_order = calc_execution_order(list_vertices)\n",
    "    \n",
    "    # Generate the samples\n",
    "    for _ in range(n_samples):\n",
    "        for vertex in execution_order:\n",
    "            vertex.sample()\n",
    "\n",
    "    # Build a dict of vertex to probability\n",
    "    vertex_to_prob = {}\n",
    "    for vertex in execution_order:\n",
    "        assert len(vertex.samples) == n_samples\n",
    "        vertex_to_prob[vertex.name] = vertex.summarise()\n",
    "    \n",
    "    return vertex_to_prob"
   ]
  },
  {
   "cell_type": "code",
   "execution_count": 26,
   "metadata": {},
   "outputs": [],
   "source": [
    "def build_root_vertex(vertex_config):\n",
    "    \"\"\"Build a root vertex given the parsed JSON config.\"\"\"\n",
    "    \n",
    "    # Preconditions\n",
    "    assert isinstance(vertex_config, dict), f\"Expected a dict, got {type(vertex_config)}\"\n",
    "    assert \"name\" in vertex_config\n",
    "    assert \"p\" in vertex_config\n",
    "    assert len(vertex_config[\"p\"]) == 2\n",
    "    \n",
    "    # Extract the name of the vertex\n",
    "    name = vertex_config[\"name\"]\n",
    "    \n",
    "    # Extract the prior\n",
    "    lower_bound, upper_bound = vertex_config[\"p\"]\n",
    "    assert lower_bound < upper_bound\n",
    "    \n",
    "    return ParentVertex(name, bernoulli_from_uniform(lower_bound, upper_bound))"
   ]
  },
  {
   "cell_type": "code",
   "execution_count": 27,
   "metadata": {},
   "outputs": [],
   "source": [
    "def build_child_vertex(vertex_config):\n",
    "    \"\"\"Build a child vertex given the parsed JSON config.\"\"\"\n",
    "    \n",
    "    # Preconditions\n",
    "    assert isinstance(vertex_config, dict), f\"Expected a dict, got {type(vertex_config)}\"\n",
    "    assert \"name\" in vertex_config\n",
    "    assert \"cpt\" in vertex_config\n",
    "    \n",
    "    # Extract the name of the vertex\n",
    "    name = vertex_config[\"name\"]\n",
    "    \n",
    "    # Build the CPT\n",
    "    cpt = []\n",
    "    for row in vertex_config[\"cpt\"]:\n",
    "        \n",
    "        parsed_row = {name: value for name, value in row.items() if name != \"p\"}\n",
    "        \n",
    "        # Extract the probability distribution\n",
    "        lower_bound, upper_bound = row[\"p\"]\n",
    "        assert lower_bound < upper_bound\n",
    "        \n",
    "        parsed_row[\"p\"] = bernoulli_from_uniform(lower_bound, upper_bound)\n",
    "        \n",
    "        cpt.append(parsed_row)\n",
    "    \n",
    "    return ChildVertex(name, cpt)"
   ]
  },
  {
   "cell_type": "code",
   "execution_count": 28,
   "metadata": {},
   "outputs": [],
   "source": [
    "def find_vertex_given_name(list_vertices, name):\n",
    "    \"\"\"Get a vertex from a list given the vertex's name.\"\"\"\n",
    "    \n",
    "    # Preconditions\n",
    "    assert isinstance(list_vertices, list), f\"Expected a list, got {type(list_vertices)}\"\n",
    "    assert isinstance(name, str), f\"Expected a str, got {type(name)}\"\n",
    "    \n",
    "    for vertex in list_vertices:\n",
    "        if vertex.name == name:\n",
    "            return vertex\n",
    "    \n",
    "    return None"
   ]
  },
  {
   "cell_type": "code",
   "execution_count": 29,
   "metadata": {},
   "outputs": [],
   "source": [
    "def build_vertices_from_json(j):\n",
    "    \"\"\"Build a list of vertices from JSON configuration.\"\"\"\n",
    "    \n",
    "    # Preconditions\n",
    "    assert isinstance(j, dict), f\"Expected a dict, got {type(j)}\"\n",
    "    \n",
    "    list_vertices = []\n",
    "    \n",
    "    for vertex_config in j[\"vertices\"]:\n",
    "        \n",
    "        # Determine the type of vertex from a field that should be present\n",
    "        if 'p' in vertex_config:\n",
    "            vertex = build_root_vertex(vertex_config)\n",
    "        else:\n",
    "            vertex = build_child_vertex(vertex_config)\n",
    "        \n",
    "        list_vertices.append(vertex)\n",
    "        \n",
    "    # Connect up child vertices\n",
    "    for vertex in list_vertices:\n",
    "        \n",
    "        if type(vertex) == ChildVertex:\n",
    "            parent_vertex_names = vertex.parent_vertices_from_cpt()\n",
    "            \n",
    "            for parent_name in parent_vertex_names:\n",
    "                parent_vertex = find_vertex_given_name(list_vertices, parent_name)\n",
    "                assert parent_vertex is not None\n",
    "                \n",
    "                parent_vertex.add_child(vertex)\n",
    "        \n",
    "    # Postconditions\n",
    "    assert len(list_vertices) == len(j[\"vertices\"])\n",
    "    \n",
    "    return list_vertices"
   ]
  },
  {
   "cell_type": "code",
   "execution_count": 30,
   "metadata": {},
   "outputs": [],
   "source": [
    "def get_root_vertices(list_vertices):\n",
    "    \n",
    "    # Preconditions\n",
    "    assert isinstance(list_vertices, list), f\"Expected a list, got {type(list_vertices)}\"\n",
    "    \n",
    "    root_vertices = []\n",
    "    \n",
    "    for vertex in list_vertices:\n",
    "        if type(vertex) == ParentVertex:\n",
    "            root_vertices.append(vertex)\n",
    "        \n",
    "    return root_vertices"
   ]
  },
  {
   "cell_type": "code",
   "execution_count": 31,
   "metadata": {},
   "outputs": [],
   "source": [
    "def add_input(p=None):\n",
    "    \"\"\"Add another input to a defined binary table.\"\"\"\n",
    "    \n",
    "    if p == None:\n",
    "        return [[False], [True]]\n",
    "    else:\n",
    "        \n",
    "        r = []\n",
    "        for start in [False, True]:\n",
    "            for row in p:\n",
    "                row_copy = row[:]\n",
    "                row_copy.insert(0, start)\n",
    "                r.append(row_copy)\n",
    "            \n",
    "        return r\n",
    "    \n",
    "# Tests\n",
    "assert add_input() == [[False], [True]]\n",
    "assert add_input([[False], [True]]) == [\n",
    "    [False, False], \n",
    "    [False, True], \n",
    "    [True, False], \n",
    "    [True, True]]"
   ]
  },
  {
   "cell_type": "code",
   "execution_count": 32,
   "metadata": {},
   "outputs": [],
   "source": [
    "def generate_combinations(n):\n",
    "    \"\"\"Generate all of the possible binary inputs for a function with n inputs.\"\"\"\n",
    "    \n",
    "    assert isinstance(n, int)\n",
    "    assert n > 0\n",
    "    \n",
    "    r = add_input()\n",
    "    \n",
    "    for i in range(1,n):\n",
    "        r = add_input(r)\n",
    "    \n",
    "    return r\n",
    "\n",
    "assert generate_combinations(1) == [[False], [True]]\n",
    "assert generate_combinations(2) == [[False, False], [False, True], [True, False], [True, True]]"
   ]
  },
  {
   "cell_type": "code",
   "execution_count": 33,
   "metadata": {},
   "outputs": [],
   "source": [
    "def calc_lookup_table_entry(list_vertices, inputs, n_samples):\n",
    "    \"\"\"Calculate the probabilities of each vertex given a dict of inputs.\"\"\"\n",
    "    \n",
    "    # Preconditions\n",
    "    assert isinstance(list_vertices, list), f\"Expected a list, got {type(list_vertices)}\"\n",
    "    assert isinstance(inputs, dict), f\"Expected a dict, got {type(inputs)}\"\n",
    "    assert isinstance(n_samples, int), f\"Expected an int, got {type(n_samples)}\"\n",
    "    assert n_samples > 0\n",
    "    \n",
    "    # Clear down the samples and observations (if the vertex is a parent)\n",
    "    for v in list_vertices:\n",
    "        v.clear_samples()\n",
    "        \n",
    "        if type(v) == ParentVertex:\n",
    "            v.clear_observation()\n",
    "        \n",
    "    # Set the observations\n",
    "    for name, value in inputs.items():\n",
    "        v = find_vertex_given_name(list_vertices, name)\n",
    "        assert v is not None\n",
    "        \n",
    "        v.set_observation(value)\n",
    "    \n",
    "    # Run the inference\n",
    "    result = generate_samples(list_vertices, n_samples)\n",
    "    \n",
    "    assert len(result) > 0, \"Dict of samples is empty\"\n",
    "    \n",
    "    return result"
   ]
  },
  {
   "cell_type": "code",
   "execution_count": 34,
   "metadata": {},
   "outputs": [],
   "source": [
    "def build_lookup_table(list_vertices, n_samples):\n",
    "    \"\"\"Build a lookup table given a network.\"\"\"\n",
    "    \n",
    "    # Preconditions\n",
    "    assert isinstance(list_vertices, list), f\"Expected a list, got {type(list_vertices)}\"\n",
    "    assert isinstance(n_samples, int), f\"Expected an int, got {type(n_samples)}\"\n",
    "    assert n_samples > 0\n",
    "    \n",
    "    # Get a list of the root vertices\n",
    "    root_vertices = get_root_vertices(list_vertices)\n",
    "    \n",
    "    root_vertex_names = [v.name for v in root_vertices]\n",
    "    \n",
    "    # Generate all of the input combinations\n",
    "    input_combinations = generate_combinations(len(root_vertices))\n",
    "    \n",
    "    # Initialise the lookup table\n",
    "    lookup_table = []\n",
    "    \n",
    "    for row in input_combinations:\n",
    "        \n",
    "        # Create a dict of the input combinations to their values\n",
    "        inputs = dict(zip(root_vertex_names, row))\n",
    "        \n",
    "        # Calculate all of the probabilities\n",
    "        outputs = calc_lookup_table_entry(list_vertices, inputs, n_samples)\n",
    "        \n",
    "        entry = {\n",
    "            \"inputs\": inputs,\n",
    "            \"outputs\": outputs\n",
    "        }\n",
    "        \n",
    "        lookup_table.append(entry)\n",
    "        \n",
    "    return lookup_table"
   ]
  },
  {
   "cell_type": "code",
   "execution_count": 35,
   "metadata": {},
   "outputs": [],
   "source": [
    "config = {\n",
    "    \"vertices\": [\n",
    "        {\n",
    "            \"name\": \"a\",\n",
    "            \"p\": [0.7, 0.8]\n",
    "        },\n",
    "        {\n",
    "            \"name\": \"b\",\n",
    "            \"p\": [0.2, 0.4]\n",
    "        },        \n",
    "        {\n",
    "            \"name\": \"c\",\n",
    "            \"cpt\": [\n",
    "                {\"a\": False, \"b\": False, \"p\": [0.2, 0.3]},\n",
    "                {\"a\": False, \"b\": True, \"p\": [0.3, 0.4]},\n",
    "                {\"a\": True, \"b\": False, \"p\": [0.3, 0.4]},\n",
    "                {\"a\": True, \"b\": True, \"p\": [0.3, 0.4]},\n",
    "            ]\n",
    "        }\n",
    "    ]\n",
    "}"
   ]
  },
  {
   "cell_type": "code",
   "execution_count": 36,
   "metadata": {},
   "outputs": [
    {
     "data": {
      "text/plain": [
       "[a, b, c]"
      ]
     },
     "execution_count": 36,
     "metadata": {},
     "output_type": "execute_result"
    }
   ],
   "source": [
    "vertices = build_vertices_from_json(config)\n",
    "vertices"
   ]
  },
  {
   "cell_type": "code",
   "execution_count": 37,
   "metadata": {},
   "outputs": [
    {
     "data": {
      "text/plain": [
       "[{'inputs': {'a': False, 'b': False},\n",
       "  'outputs': {'b': [0.0, 0.0],\n",
       "   'a': [0.0, 0.0],\n",
       "   'c': [0.2428, 0.42877518584918134]}},\n",
       " {'inputs': {'a': False, 'b': True},\n",
       "  'outputs': {'b': [1.0, 0.0],\n",
       "   'a': [0.0, 0.0],\n",
       "   'c': [0.3427, 0.4746121679856091]}},\n",
       " {'inputs': {'a': True, 'b': False},\n",
       "  'outputs': {'b': [0.0, 0.0],\n",
       "   'a': [1.0, 0.0],\n",
       "   'c': [0.3425, 0.4745458355101222]}},\n",
       " {'inputs': {'a': True, 'b': True},\n",
       "  'outputs': {'b': [1.0, 0.0],\n",
       "   'a': [1.0, 0.0],\n",
       "   'c': [0.3475, 0.4761761753804993]}}]"
      ]
     },
     "execution_count": 37,
     "metadata": {},
     "output_type": "execute_result"
    }
   ],
   "source": [
    "build_lookup_table(vertices, n_samples=10000)"
   ]
  },
  {
   "cell_type": "code",
   "execution_count": 38,
   "metadata": {},
   "outputs": [
    {
     "data": {
      "text/plain": [
       "{'a': [1.0, 0.0],\n",
       " 'b': [0.12, 0.3249615361854384],\n",
       " 'c': [0.29, 0.4537620521815371]}"
      ]
     },
     "execution_count": 38,
     "metadata": {},
     "output_type": "execute_result"
    }
   ],
   "source": [
    "a = ParentVertex(\"a\", bernoulli_from_uniform(0.7, 0.8))\n",
    "a.set_observation(True)\n",
    "\n",
    "b = ChildVertex(\"b\", [\n",
    "    {\"a\": True, \"p\": bernoulli_from_uniform(0.2, 0.3)},\n",
    "    \n",
    "        {\"a\": False, \"p\": bernoulli_from_uniform(0.3, 0.4)},\n",
    "])\n",
    "a.add_child(b)\n",
    "\n",
    "c = ChildVertex(\"c\", [\n",
    "    {\"b\": True, \"p\": bernoulli_from_uniform(0.2, 0.3)},\n",
    "    {\"b\": False, \"p\": bernoulli_from_uniform(0.3, 0.4)},    \n",
    "])\n",
    "b.add_child(c)\n",
    "\n",
    "generate_samples([a,b,c], 100)"
   ]
  },
  {
   "cell_type": "code",
   "execution_count": null,
   "metadata": {},
   "outputs": [],
   "source": []
  },
  {
   "cell_type": "code",
   "execution_count": null,
   "metadata": {},
   "outputs": [],
   "source": []
  }
 ],
 "metadata": {
  "kernelspec": {
   "display_name": "Python 3",
   "language": "python",
   "name": "python3"
  },
  "language_info": {
   "codemirror_mode": {
    "name": "ipython",
    "version": 3
   },
   "file_extension": ".py",
   "mimetype": "text/x-python",
   "name": "python",
   "nbconvert_exporter": "python",
   "pygments_lexer": "ipython3",
   "version": "3.8.7"
  }
 },
 "nbformat": 4,
 "nbformat_minor": 4
}
