{
 "cells": [
  {
   "cell_type": "markdown",
   "metadata": {},
   "source": [
    "# Expectation Maximisation for GMM"
   ]
  },
  {
   "cell_type": "code",
   "execution_count": 1,
   "metadata": {},
   "outputs": [],
   "source": [
    "import matplotlib.pyplot as plt\n",
    "import numpy as np\n",
    "\n",
    "from scipy import stats\n",
    "from scipy.optimize import minimize\n",
    "from scipy.optimize import Bounds"
   ]
  },
  {
   "cell_type": "code",
   "execution_count": 2,
   "metadata": {},
   "outputs": [],
   "source": [
    "def multinomial_sample(p):\n",
    "    \"\"\"Sample from a multinomial distribution.\"\"\"\n",
    "    \n",
    "    return np.where(stats.multinomial(1, p).rvs()[0] == 1)[0][0]"
   ]
  },
  {
   "cell_type": "code",
   "execution_count": 3,
   "metadata": {},
   "outputs": [],
   "source": [
    "def generate_GMM_samples(n, mu, sigma, p):\n",
    "    \"\"\"Generate sample from a Gaussian Mixture Model.\"\"\"\n",
    "    \n",
    "    # Preconditions\n",
    "    assert n > 0, f\"Number of samples must be > 0\"\n",
    "    assert len(mu) >= 2\n",
    "    assert len(sigma) >= 2\n",
    "    assert len(mu) == len(sigma) == len(p)\n",
    "    assert all([0 <= pi <= 1 for pi in p])\n",
    "    \n",
    "    x = np.zeros(n)\n",
    "    \n",
    "    for i in range(n):\n",
    "        j = multinomial_sample(p)\n",
    "        x[i] = stats.norm(mu[j], sigma[j]).rvs()\n",
    "    \n",
    "    return x"
   ]
  },
  {
   "cell_type": "code",
   "execution_count": 215,
   "metadata": {},
   "outputs": [],
   "source": [
    "# Number of samples\n",
    "n = 1000\n",
    "\n",
    "mu = [5, 15]\n",
    "sigma = [1, 2]\n",
    "p = [0.3, 0.7]"
   ]
  },
  {
   "cell_type": "code",
   "execution_count": 216,
   "metadata": {},
   "outputs": [],
   "source": [
    "samples = generate_GMM_samples(n, mu, sigma, p)"
   ]
  },
  {
   "cell_type": "code",
   "execution_count": 217,
   "metadata": {},
   "outputs": [
    {
     "data": {
      "image/png": "[encoded data removed]",
      "text/plain": [
       "<Figure size 432x288 with 1 Axes>"
      ]
     },
     "metadata": {
      "needs_background": "light"
     },
     "output_type": "display_data"
    }
   ],
   "source": [
    "plt.hist(samples, bins=100, density=True)\n",
    "plt.xlabel('x')\n",
    "plt.ylabel('Frequency')\n",
    "plt.show()"
   ]
  },
  {
   "cell_type": "code",
   "execution_count": 234,
   "metadata": {},
   "outputs": [],
   "source": [
    "# Initial values of the parameters\n",
    "k = 2  # number of components\n",
    "w_est = np.array([0.5, 0.5])  # weights for each component \n",
    "mu_est = np.array([4.0, 12.0])  # means of the normal distributions\n",
    "sigma_est = np.array([1.0, 1.0])  # std. devs for the normal distributions"
   ]
  },
  {
   "cell_type": "code",
   "execution_count": 235,
   "metadata": {},
   "outputs": [
    {
     "name": "stdout",
     "output_type": "stream",
     "text": [
      "Converged after 2 iterations\n",
      "Converged after 3 iterations\n",
      "Converged after 4 iterations\n",
      "Converged after 5 iterations\n",
      "Converged after 6 iterations\n",
      "Converged after 7 iterations\n",
      "Converged after 8 iterations\n"
     ]
    }
   ],
   "source": [
    "# Stop iterations if the log-likelihood is stabilising\n",
    "log_likelihoods = []\n",
    "stopping_criteria_met = False\n",
    "n_iterations = 0\n",
    "max_iterations = 20\n",
    "\n",
    "while not stopping_criteria_met:\n",
    " \n",
    "    n_iterations += 1\n",
    "\n",
    "    # E-STEP\n",
    "    # Mean and standard deviation for the components are fixed\n",
    "    W = np.zeros((n, k))\n",
    "    \n",
    "    for i in range(n):\n",
    "        for j in range(k):\n",
    "            v = stats.norm(mu_est[j], sigma_est[j]).pdf(samples[i])\n",
    "            if v == 0:\n",
    "                v = np.finfo(float).eps\n",
    "            \n",
    "            W[i,j] = v\n",
    "\n",
    "        # Normalise each row to sum to 1\n",
    "        W[i,:] = W[i,:] / np.sum(W[i,:])\n",
    "\n",
    "    # Estimate the probability of each class\n",
    "    total = np.sum(W, axis=0)\n",
    "    phi = total / np.sum(total)\n",
    "\n",
    "    # M-STEP\n",
    "    # Update mu and sigma for fixed weights\n",
    "    for j in range(k):\n",
    "        total_weight = np.sum(W[:,j])\n",
    "        mu_est[j] = (1.0/total_weight) * np.sum(W[:,j] * samples)\n",
    "        sigma_est[j] = np.sqrt((1.0/total_weight) * np.sum(W[:,j] * (samples - mu_est[j])**2))\n",
    "        \n",
    "    # Calculate the log-likelihood of the data given the model\n",
    "    log_likelihood = 0\n",
    "    for i in range(n):\n",
    "        \n",
    "        total = 0\n",
    "        for j in range(k):\n",
    "            v = phi[j] * stats.norm(mu_est[j], sigma_est[j]).pdf(samples[i])\n",
    "            if v == 0:\n",
    "                v = np.finfo(float).eps\n",
    "            total += np.log(v)\n",
    "        \n",
    "        if total == 0:\n",
    "            total = np.finfo(float).eps\n",
    "        log_likelihood += total\n",
    "    \n",
    "    log_likelihoods.append(log_likelihood)\n",
    "    \n",
    "    if n_iterations > 1:\n",
    "        diff = np.abs(log_likelihoods[-1] - log_likelihoods[-2])\n",
    "        stopping_criteria_met = diff < 1e-3\n",
    "        print(f\"Converged after {n_iterations} iterations\")\n",
    "    \n",
    "    if not stopping_criteria_met and n_iterations == max_iterations:\n",
    "        stopping_criteria_met = True\n",
    "        print(f\"Warning: Failed to converge after {n_iterations} iterations\")"
   ]
  },
  {
   "cell_type": "code",
   "execution_count": 236,
   "metadata": {},
   "outputs": [
    {
     "data": {
      "text/plain": [
       "[-46545.580429247646,\n",
       " -46166.86308990954,\n",
       " -46135.41954443654,\n",
       " -46132.837170527266,\n",
       " -46132.62535670767,\n",
       " -46132.60798481532,\n",
       " -46132.60656007173,\n",
       " -46132.60644322249]"
      ]
     },
     "execution_count": 236,
     "metadata": {},
     "output_type": "execute_result"
    }
   ],
   "source": [
    "log_likelihoods"
   ]
  },
  {
   "cell_type": "code",
   "execution_count": 237,
   "metadata": {},
   "outputs": [
    {
     "data": {
      "text/plain": [
       "array([0.29614336, 0.70385664])"
      ]
     },
     "execution_count": 237,
     "metadata": {},
     "output_type": "execute_result"
    }
   ],
   "source": [
    "phi"
   ]
  },
  {
   "cell_type": "code",
   "execution_count": 238,
   "metadata": {},
   "outputs": [
    {
     "data": {
      "text/plain": [
       "array([ 5.08496671, 15.14964944])"
      ]
     },
     "execution_count": 238,
     "metadata": {},
     "output_type": "execute_result"
    }
   ],
   "source": [
    "mu_est"
   ]
  },
  {
   "cell_type": "code",
   "execution_count": 239,
   "metadata": {},
   "outputs": [
    {
     "data": {
      "text/plain": [
       "array([0.99092047, 1.990995  ])"
      ]
     },
     "execution_count": 239,
     "metadata": {},
     "output_type": "execute_result"
    }
   ],
   "source": [
    "sigma_est"
   ]
  },
  {
   "cell_type": "code",
   "execution_count": 240,
   "metadata": {},
   "outputs": [],
   "source": [
    "x_values = np.arange(0, 23, 0.05)\n",
    "component_pdfs = np.zeros((k, len(x_values)))\n",
    "\n",
    "for j in range(k):\n",
    "    component_pdfs[j,:] = [phi[j] * stats.norm(mu_est[j], sigma_est[j]).pdf(xi) for xi in x_values]"
   ]
  },
  {
   "cell_type": "code",
   "execution_count": 241,
   "metadata": {},
   "outputs": [
    {
     "data": {
      "image/png": "[encoded data removed]",
      "text/plain": [
       "<Figure size 432x288 with 1 Axes>"
      ]
     },
     "metadata": {
      "needs_background": "light"
     },
     "output_type": "display_data"
    }
   ],
   "source": [
    "plt.hist(samples, bins=100, density=True)\n",
    "\n",
    "for j in range(k):\n",
    "    plt.plot(x_values, component_pdfs[j,:], label=f\"Component {j+1}\")\n",
    "    \n",
    "plt.xlabel('x')\n",
    "plt.ylabel('Frequency')\n",
    "plt.legend()\n",
    "plt.show()"
   ]
  },
  {
   "cell_type": "markdown",
   "metadata": {},
   "source": [
    "## Using BFGS"
   ]
  },
  {
   "cell_type": "code",
   "execution_count": 7,
   "metadata": {},
   "outputs": [],
   "source": [
    "def calc_gamma(y, w, mu, sigma):\n",
    "    \"\"\"Calculate the probability that the i(th) sample belongs to the j(th) component.\"\"\"\n",
    "    \n",
    "    # Preconditions\n",
    "    assert len(y) > 0\n",
    "    assert len(w) == len(mu) == len(sigma)\n",
    "    \n",
    "    # Number of samples\n",
    "    n = len(y)\n",
    "    \n",
    "    # Number of components\n",
    "    k = len(mu)\n",
    "    \n",
    "    # Matrix to hold the likelihood\n",
    "    gamma = np.zeros((n, k))\n",
    "    \n",
    "    for i in range(n):\n",
    "        for j in range(k):\n",
    "            gamma[i,j] = w[j] * stats.norm(mu[j], sigma[j]).pdf(y[i])\n",
    "    \n",
    "            # Normalise the row\n",
    "            # (Probability that the sample belongs to each component must sum to 1)\n",
    "            total = np.sum(gamma[i,:])\n",
    "            gamma[i,:] = gamma[i,:] / total\n",
    "    \n",
    "    # Return the likelihood matrix\n",
    "    return gamma"
   ]
  },
  {
   "cell_type": "code",
   "execution_count": 8,
   "metadata": {},
   "outputs": [],
   "source": [
    "def build_M_step_function(y, gamma, w):\n",
    "    \"\"\"Constructor function for the M step in EM.\"\"\"\n",
    "    \n",
    "    # Number of samples\n",
    "    n = len(y)\n",
    "    \n",
    "    # Number of components\n",
    "    k = len(w)\n",
    "    \n",
    "    def m_step(params):\n",
    "    \n",
    "        # Preconditions\n",
    "        assert len(params) == 2*k, f\"Expected {2*k} params, got {len(params)}\"\n",
    "        \n",
    "        # Extract the mu and sigma parameters\n",
    "        mu, sigma = params[:k], params[k:]\n",
    "        \n",
    "        total = 0      \n",
    "        for j in range(k):\n",
    "            \n",
    "            #dist = stats.norm(mu[j], sigma[j])\n",
    "            \n",
    "            for i in range(n):\n",
    "                \n",
    "                v = w[j] * stats.norm(mu[j], sigma[j]).pdf(y[i])\n",
    "                \n",
    "                if v == 0:\n",
    "                    v = np.finfo(float).eps\n",
    "                \n",
    "                total = total + gamma[i,j] * np.log(v)\n",
    "                \n",
    "        # Return the sum of the log likelihoods\n",
    "        # Invert because the function is being maximised, but the optimisation\n",
    "        # function is minimising\n",
    "        return -total\n",
    "    \n",
    "    # Return the M step function\n",
    "    return m_step"
   ]
  },
  {
   "cell_type": "code",
   "execution_count": 9,
   "metadata": {},
   "outputs": [],
   "source": [
    "# Initial values of the parameters\n",
    "k = 2\n",
    "w_m = np.array([0.5, 0.5])\n",
    "mu_m = np.array([3, 9])\n",
    "sigma_m = np.array([1.0, 1.0])\n",
    "\n",
    "mu_min = 0.0\n",
    "mu_max = 20.0\n",
    "sigma_min = 0.01\n",
    "sigma_max = 4.0"
   ]
  },
  {
   "cell_type": "code",
   "execution_count": 10,
   "metadata": {},
   "outputs": [],
   "source": [
    "# Build the bounds array\n",
    "lower = np.concatenate([np.repeat(mu_min, k), np.repeat(sigma_min, k)])\n",
    "upper = np.concatenate([np.repeat(mu_max, k), np.repeat(sigma_max, k)])\n",
    "bounds = Bounds(lower, upper)"
   ]
  },
  {
   "cell_type": "code",
   "execution_count": 11,
   "metadata": {},
   "outputs": [
    {
     "name": "stdout",
     "output_type": "stream",
     "text": [
      "[0.   0.   0.01 0.01]\n",
      "[20. 20.  4.  4.]\n",
      "Bounds(array([0.  , 0.  , 0.01, 0.01]), array([20., 20.,  4.,  4.]))\n"
     ]
    }
   ],
   "source": [
    "print(lower)\n",
    "print(upper)\n",
    "print(bounds)"
   ]
  },
  {
   "cell_type": "code",
   "execution_count": 12,
   "metadata": {},
   "outputs": [
    {
     "name": "stdout",
     "output_type": "stream",
     "text": [
      "inf\n",
      "[11.77036838  9.08402821]\n",
      "[4.         1.72248878]\n",
      "[0.9979884 0.0020116]\n",
      "--\n",
      "12.83976577639396\n",
      "[11.7650337  8.8799906]\n",
      "[4.         3.09977266]\n",
      "[9.99970121e-01 2.98789985e-05]\n",
      "--\n",
      "0.3147391239645003\n",
      "[11.76495481  8.8799906 ]\n",
      "[4.         3.09977778]\n",
      "[9.99998881e-01 1.11887024e-06]\n",
      "--\n",
      "0.015607456962698052\n",
      "[11.76495536  8.8799906 ]\n",
      "[4.         3.09977778]\n",
      "[9.99999958e-01 4.18981419e-08]\n",
      "--\n",
      "0.0007169245072873309\n",
      "[11.76495637  8.8799906 ]\n",
      "[4.         3.09977778]\n",
      "[9.99999998e-01 1.56895264e-09]\n",
      "--\n"
     ]
    }
   ],
   "source": [
    "q = []\n",
    "\n",
    "diff = np.inf\n",
    "\n",
    "while diff > 1e-3:\n",
    "\n",
    "    gamma_m = calc_gamma(samples, w_m, mu_m, sigma_m)\n",
    "\n",
    "    # Calculate the new weights\n",
    "    n_j_m = np.sum(gamma_m, axis=0)  # sum of each column\n",
    "    w_m = n_j_m / np.sum(n_j_m)      # normalise\n",
    "\n",
    "    # Perform the M step\n",
    "    m_func = build_M_step_function(samples, gamma_m, w_m)\n",
    "    \n",
    "    x0 = np.concatenate([mu_m, sigma_m])\n",
    "    fit = minimize(m_func, \n",
    "                   x0,\n",
    "                   method='L-BFGS-B', \n",
    "                   bounds=bounds,\n",
    "                   options={'disp': True})\n",
    "    \n",
    "    # Best value of mu and sigma\n",
    "    mu_m, sigma_m = fit.x[:k], fit.x[k:]\n",
    "    \n",
    "    q.append(fit.fun)\n",
    "    \n",
    "    if len(q) < 2:\n",
    "        diff = np.inf\n",
    "    else:\n",
    "        diff = np.abs(q[-1] - q[-2])\n",
    "    \n",
    "    print(diff)\n",
    "    print(mu_m), print(sigma_m), print(w_m)\n",
    "    print(\"--\")"
   ]
  },
  {
   "cell_type": "code",
   "execution_count": 13,
   "metadata": {},
   "outputs": [],
   "source": [
    "x_values = np.arange(0, 23, 0.05)\n",
    "pdf_comp1 = [w_m[0] * stats.norm(mu_m[0], sigma_m[0]).pdf(xi) for xi in x_values]\n",
    "pdf_comp2 = [w_m[1] * stats.norm(mu_m[1], sigma_m[1]).pdf(xi) for xi in x_values]"
   ]
  },
  {
   "cell_type": "code",
   "execution_count": 14,
   "metadata": {},
   "outputs": [
    {
     "data": {
      "image/png": "[encoded data removed]",
      "text/plain": [
       "<Figure size 432x288 with 1 Axes>"
      ]
     },
     "metadata": {
      "needs_background": "light"
     },
     "output_type": "display_data"
    }
   ],
   "source": [
    "plt.hist(samples, bins=100, density=True)\n",
    "plt.plot(x_values, pdf_comp1, label=\"Component 1\")\n",
    "plt.plot(x_values, pdf_comp2, label=\"Component 2\")\n",
    "plt.xlabel('x')\n",
    "plt.ylabel('Frequency')\n",
    "plt.show()"
   ]
  },
  {
   "cell_type": "code",
   "execution_count": null,
   "metadata": {},
   "outputs": [],
   "source": []
  }
 ],
 "metadata": {
  "kernelspec": {
   "display_name": "Python 3",
   "language": "python",
   "name": "python3"
  },
  "language_info": {
   "codemirror_mode": {
    "name": "ipython",
    "version": 3
   },
   "file_extension": ".py",
   "mimetype": "text/x-python",
   "name": "python",
   "nbconvert_exporter": "python",
   "pygments_lexer": "ipython3",
   "version": "3.8.7"
  }
 },
 "nbformat": 4,
 "nbformat_minor": 4
}
