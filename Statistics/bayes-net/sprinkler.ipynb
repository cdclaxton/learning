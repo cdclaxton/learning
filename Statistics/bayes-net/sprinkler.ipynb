{
 "cells": [
  {
   "cell_type": "markdown",
   "metadata": {},
   "source": [
    "# Discrete Bayesian Network: Sprinkler example"
   ]
  },
  {
   "cell_type": "markdown",
   "metadata": {},
   "source": [
    "## Introduction"
   ]
  },
  {
   "cell_type": "markdown",
   "metadata": {},
   "source": [
    "The discrete Bayesian network is shown below.\n",
    "\n",
    "![Network](data/Images/sprinkler.gif \"Sprinkler example\")"
   ]
  },
  {
   "cell_type": "markdown",
   "metadata": {},
   "source": [
    "## JAGS model"
   ]
  },
  {
   "cell_type": "code",
   "execution_count": 3,
   "metadata": {},
   "outputs": [],
   "source": [
    "# Import the required libraries\n",
    "library(dplyr)\n",
    "library(ggplot2)\n",
    "library(gtable)\n",
    "library(grid)\n",
    "library(MCMCvis)\n",
    "library(rjags)\n",
    "\n",
    "# Ensure the figures are easy to view in the notebook\n",
    "options(repr.plot.width=8, repr.plot.height=4)"
   ]
  },
  {
   "cell_type": "code",
   "execution_count": 72,
   "metadata": {},
   "outputs": [
    {
     "name": "stdout",
     "output_type": "stream",
     "text": [
      "Compiling model graph\n",
      "   Resolving undeclared variables\n",
      "   Allocating nodes\n",
      "Graph information:\n",
      "   Observed stochastic nodes: 1\n",
      "   Unobserved stochastic nodes: 3\n",
      "   Total graph size: 28\n",
      "\n",
      "Initializing model\n",
      "\n"
     ]
    },
    {
     "data": {
      "image/png": "[encoded data removed]",
      "text/plain": [
       "Plot with title \"Density - S\""
      ]
     },
     "metadata": {},
     "output_type": "display_data"
    },
    {
     "data": {
      "image/png": "[encoded data removed]",
      "text/plain": [
       "Plot with title \"Density - W\""
      ]
     },
     "metadata": {},
     "output_type": "display_data"
    }
   ],
   "source": [
    "model_string = \"\n",
    "model {\n",
    "\n",
    "    # Cloudy ... 0 => False, 1 => True\n",
    "    C ~ dbern(0.5)\n",
    "\n",
    "    # Sprinkler ... 0 => False, 1 => True\n",
    "    #   NB. This can be written \n",
    "    #   S_CPT = c(0.5, 0.1)\n",
    "    #   S ~ dbern(S_CPT[C+1])\n",
    "    pS = ifelse(C==0, 0.5, 0.1)\n",
    "    S ~ dbern(pS)\n",
    "\n",
    "    # Rain ... 0 => False, 1 => True\n",
    "    pR = ifelse(C==0, 0.2, 0.8)\n",
    "    R ~ dbern(pR)\n",
    "\n",
    "    # Wet Grass ... 0 => False, 1 => True\n",
    "    pW = ifelse(S==0 && R==0, 0.0,\n",
    "         ifelse(S==0 && R==1, 0.9,\n",
    "         ifelse(S==1 && R==0, 0.9,\n",
    "         ifelse(S==1 && R==1, 0.99, 100))))\n",
    "    W ~ dbern(pW)\n",
    "}\n",
    "\"\n",
    "\n",
    "model = jags.model(textConnection(model_string),\n",
    "                   data=list(W=0))\n",
    "\n",
    "update(model, 10000, progress.bar=\"none\")\n",
    "\n",
    "samp <- coda.samples(model, \n",
    "                     variable.names=c(\"C\", \"S\", \"R\", \"W\"), \n",
    "                     n.iter=50000, progress.bar=\"none\")\n",
    "\n",
    "MCMCtrace(samp,\n",
    "          pdf=FALSE)"
   ]
  },
  {
   "cell_type": "code",
   "execution_count": 74,
   "metadata": {
    "scrolled": false
   },
   "outputs": [
    {
     "name": "stdout",
     "output_type": "stream",
     "text": [
      "P(C=True) = 35.844 %\n",
      "P(S=True) = 6.204 %\n",
      "P(R=True) = 11.772 %\n",
      "P(W=True) = 0 %\n"
     ]
    }
   ],
   "source": [
    "calc_prob_true = function(samples) {\n",
    "    100.0 * length(which(samples == 1)) / length(samples)\n",
    "}\n",
    "\n",
    "cat(\"P(C=True) =\", calc_prob_true(as.matrix(samp)[,\"C\"]), \"%\\n\")\n",
    "cat(\"P(S=True) =\", calc_prob_true(as.matrix(samp)[,\"S\"]), \"%\\n\")\n",
    "cat(\"P(R=True) =\", calc_prob_true(as.matrix(samp)[,\"R\"]), \"%\\n\")\n",
    "cat(\"P(W=True) =\", calc_prob_true(as.matrix(samp)[,\"W\"]), \"%\\n\")"
   ]
  },
  {
   "cell_type": "code",
   "execution_count": null,
   "metadata": {},
   "outputs": [],
   "source": []
  }
 ],
 "metadata": {
  "kernelspec": {
   "display_name": "R",
   "language": "R",
   "name": "ir"
  },
  "language_info": {
   "codemirror_mode": "r",
   "file_extension": ".r",
   "mimetype": "text/x-r-source",
   "name": "R",
   "pygments_lexer": "r",
   "version": "3.5.1"
  }
 },
 "nbformat": 4,
 "nbformat_minor": 2
}
