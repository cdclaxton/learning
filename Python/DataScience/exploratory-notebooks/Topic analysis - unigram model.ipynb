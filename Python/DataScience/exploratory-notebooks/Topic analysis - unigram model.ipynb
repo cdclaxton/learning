{
 "cells": [
  {
   "cell_type": "markdown",
   "metadata": {},
   "source": [
    "# Unigram model of text generation"
   ]
  },
  {
   "cell_type": "markdown",
   "metadata": {},
   "source": [
    "## Introduction"
   ]
  },
  {
   "cell_type": "markdown",
   "metadata": {},
   "source": [
    "This R Jupyter notebooks explores a unigram model of text generation, which is a generative process that creates a bag-of-words for each document.\n",
    "\n",
    "The number of tokens in a document $d$ is denoted by $N_d$ where $N_d \\sim \\text{Poisson}(\\lambda)$. $\\lambda$ is the mean of the Poisson distribution, i.e. the mean number of tokens in a document.\n",
    "\n",
    "The probability of a single token $t_i$ appearing in a document is denoted $p(t_i)$ and $p(t_i)$ is drawn from a Dirichlet distribution.\n",
    "\n",
    "The probability of a document with tokens $t$ is given by\n",
    "\n",
    "$$\n",
    "p(t) = \\prod_{i=1}^{N_d} p(t_i).\n",
    "$$"
   ]
  },
  {
   "cell_type": "code",
   "execution_count": 1,
   "metadata": {},
   "outputs": [
    {
     "name": "stderr",
     "output_type": "stream",
     "text": [
      "Loading required package: coda\n",
      "\n",
      "Loading required package: MASS\n",
      "\n",
      "##\n",
      "## Markov Chain Monte Carlo Package (MCMCpack)\n",
      "\n",
      "## Copyright (C) 2003-2021 Andrew D. Martin, Kevin M. Quinn, and Jong Hee Park\n",
      "\n",
      "##\n",
      "## Support provided by the U.S. National Science Foundation\n",
      "\n",
      "## (Grants SES-0350646 and SES-0350613)\n",
      "##\n",
      "\n",
      "Linked to JAGS 4.3.0\n",
      "\n",
      "Loaded modules: basemod,bugs\n",
      "\n"
     ]
    }
   ],
   "source": [
    "# Import the required libraries\n",
    "library(MCMCpack)\n",
    "library(MCMCvis)\n",
    "library(rjags)\n",
    "\n",
    "# Ensure the figures are easy to view in the notebook\n",
    "options(repr.plot.width=10, repr.plot.height=6)"
   ]
  },
  {
   "cell_type": "markdown",
   "metadata": {},
   "source": [
    "## Data generation assuming a unigram model"
   ]
  },
  {
   "cell_type": "code",
   "execution_count": 2,
   "metadata": {},
   "outputs": [
    {
     "data": {
      "text/html": [
       "<table class=\"dataframe\">\n",
       "<caption>A matrix: 1 × 5 of type dbl</caption>\n",
       "<tbody>\n",
       "\t<tr><td>0.007083096</td><td>0.2358844</td><td>0.3975235</td><td>0.3528289</td><td>0.006680049</td></tr>\n",
       "</tbody>\n",
       "</table>\n"
      ],
      "text/latex": [
       "A matrix: 1 × 5 of type dbl\n",
       "\\begin{tabular}{lllll}\n",
       "\t 0.007083096 & 0.2358844 & 0.3975235 & 0.3528289 & 0.006680049\\\\\n",
       "\\end{tabular}\n"
      ],
      "text/markdown": [
       "\n",
       "A matrix: 1 × 5 of type dbl\n",
       "\n",
       "| 0.007083096 | 0.2358844 | 0.3975235 | 0.3528289 | 0.006680049 |\n",
       "\n"
      ],
      "text/plain": [
       "     [,1]        [,2]      [,3]      [,4]      [,5]       \n",
       "[1,] 0.007083096 0.2358844 0.3975235 0.3528289 0.006680049"
      ]
     },
     "metadata": {},
     "output_type": "display_data"
    }
   ],
   "source": [
    "# Number of documents to generate\n",
    "D <- 10\n",
    "\n",
    "# Mean of the number of tokens per document\n",
    "lambda_N <- 5\n",
    "\n",
    "# Token distribution\n",
    "N_tokens <- 5\n",
    "p_token <- rdirichlet(1, rep(1,N_tokens))\n",
    "p_token"
   ]
  },
  {
   "cell_type": "code",
   "execution_count": 3,
   "metadata": {},
   "outputs": [],
   "source": [
    "# Matrix of token counts\n",
    "M <- matrix(0, nrow=D ,ncol=N_tokens)\n",
    "\n",
    "# Number of tokens in the document\n",
    "n_tokens_in_doc <- rep(0, D)\n",
    "\n",
    "# Walk through each document\n",
    "for (d in 1:D) {\n",
    "    \n",
    "    # Number of tokens in the document\n",
    "    n_tokens_in_doc[d] <- rpois(1, lambda_N)\n",
    "    \n",
    "    # Token counts in the document\n",
    "    M[d,] <- rmultinom(1, n_tokens_in_doc[d], p_token)\n",
    "}"
   ]
  },
  {
   "cell_type": "code",
   "execution_count": 4,
   "metadata": {},
   "outputs": [
    {
     "data": {
      "text/html": [
       "<table class=\"dataframe\">\n",
       "<caption>A matrix: 10 × 5 of type dbl</caption>\n",
       "<tbody>\n",
       "\t<tr><td>0</td><td>0</td><td>2</td><td>2</td><td>0</td></tr>\n",
       "\t<tr><td>0</td><td>0</td><td>2</td><td>0</td><td>0</td></tr>\n",
       "\t<tr><td>0</td><td>1</td><td>0</td><td>1</td><td>0</td></tr>\n",
       "\t<tr><td>0</td><td>0</td><td>0</td><td>1</td><td>0</td></tr>\n",
       "\t<tr><td>0</td><td>0</td><td>0</td><td>1</td><td>0</td></tr>\n",
       "\t<tr><td>0</td><td>0</td><td>2</td><td>0</td><td>0</td></tr>\n",
       "\t<tr><td>1</td><td>1</td><td>2</td><td>2</td><td>0</td></tr>\n",
       "\t<tr><td>0</td><td>0</td><td>1</td><td>2</td><td>0</td></tr>\n",
       "\t<tr><td>0</td><td>1</td><td>2</td><td>2</td><td>0</td></tr>\n",
       "\t<tr><td>0</td><td>0</td><td>1</td><td>1</td><td>0</td></tr>\n",
       "</tbody>\n",
       "</table>\n"
      ],
      "text/latex": [
       "A matrix: 10 × 5 of type dbl\n",
       "\\begin{tabular}{lllll}\n",
       "\t 0 & 0 & 2 & 2 & 0\\\\\n",
       "\t 0 & 0 & 2 & 0 & 0\\\\\n",
       "\t 0 & 1 & 0 & 1 & 0\\\\\n",
       "\t 0 & 0 & 0 & 1 & 0\\\\\n",
       "\t 0 & 0 & 0 & 1 & 0\\\\\n",
       "\t 0 & 0 & 2 & 0 & 0\\\\\n",
       "\t 1 & 1 & 2 & 2 & 0\\\\\n",
       "\t 0 & 0 & 1 & 2 & 0\\\\\n",
       "\t 0 & 1 & 2 & 2 & 0\\\\\n",
       "\t 0 & 0 & 1 & 1 & 0\\\\\n",
       "\\end{tabular}\n"
      ],
      "text/markdown": [
       "\n",
       "A matrix: 10 × 5 of type dbl\n",
       "\n",
       "| 0 | 0 | 2 | 2 | 0 |\n",
       "| 0 | 0 | 2 | 0 | 0 |\n",
       "| 0 | 1 | 0 | 1 | 0 |\n",
       "| 0 | 0 | 0 | 1 | 0 |\n",
       "| 0 | 0 | 0 | 1 | 0 |\n",
       "| 0 | 0 | 2 | 0 | 0 |\n",
       "| 1 | 1 | 2 | 2 | 0 |\n",
       "| 0 | 0 | 1 | 2 | 0 |\n",
       "| 0 | 1 | 2 | 2 | 0 |\n",
       "| 0 | 0 | 1 | 1 | 0 |\n",
       "\n"
      ],
      "text/plain": [
       "      [,1] [,2] [,3] [,4] [,5]\n",
       " [1,] 0    0    2    2    0   \n",
       " [2,] 0    0    2    0    0   \n",
       " [3,] 0    1    0    1    0   \n",
       " [4,] 0    0    0    1    0   \n",
       " [5,] 0    0    0    1    0   \n",
       " [6,] 0    0    2    0    0   \n",
       " [7,] 1    1    2    2    0   \n",
       " [8,] 0    0    1    2    0   \n",
       " [9,] 0    1    2    2    0   \n",
       "[10,] 0    0    1    1    0   "
      ]
     },
     "metadata": {},
     "output_type": "display_data"
    }
   ],
   "source": [
    "M"
   ]
  },
  {
   "cell_type": "markdown",
   "metadata": {},
   "source": [
    "## Bayesian inference assuming a unigram model"
   ]
  },
  {
   "cell_type": "code",
   "execution_count": 5,
   "metadata": {},
   "outputs": [
    {
     "name": "stdout",
     "output_type": "stream",
     "text": [
      "Compiling model graph\n",
      "   Resolving undeclared variables\n",
      "   Allocating nodes\n",
      "Graph information:\n",
      "   Observed stochastic nodes: 20\n",
      "   Unobserved stochastic nodes: 2\n",
      "   Total graph size: 31\n",
      "\n",
      "Initializing model\n",
      "\n"
     ]
    },
    {
     "name": "stderr",
     "output_type": "stream",
     "text": [
      "Warning message in MCMCsummary(samp, round = 2):\n",
      "\"Rhat statistic cannot be calculated with one chain. NAs inserted.\"\n"
     ]
    },
    {
     "data": {
      "text/html": [
       "<table class=\"dataframe\">\n",
       "<caption>A data.frame: 6 × 7</caption>\n",
       "<thead>\n",
       "\t<tr><th></th><th scope=col>mean</th><th scope=col>sd</th><th scope=col>2.5%</th><th scope=col>50%</th><th scope=col>97.5%</th><th scope=col>Rhat</th><th scope=col>n.eff</th></tr>\n",
       "\t<tr><th></th><th scope=col>&lt;dbl&gt;</th><th scope=col>&lt;dbl&gt;</th><th scope=col>&lt;dbl&gt;</th><th scope=col>&lt;dbl&gt;</th><th scope=col>&lt;dbl&gt;</th><th scope=col>&lt;lgl&gt;</th><th scope=col>&lt;dbl&gt;</th></tr>\n",
       "</thead>\n",
       "<tbody>\n",
       "\t<tr><th scope=row>lambda_p</th><td>2.86</td><td>0.53</td><td>1.92</td><td>2.83</td><td>3.99</td><td>NA</td><td>20000</td></tr>\n",
       "\t<tr><th scope=row>p[1]</th><td>0.06</td><td>0.04</td><td>0.01</td><td>0.05</td><td>0.16</td><td>NA</td><td>20549</td></tr>\n",
       "\t<tr><th scope=row>p[2]</th><td>0.12</td><td>0.06</td><td>0.04</td><td>0.11</td><td>0.25</td><td>NA</td><td>20000</td></tr>\n",
       "\t<tr><th scope=row>p[3]</th><td>0.39</td><td>0.08</td><td>0.24</td><td>0.39</td><td>0.56</td><td>NA</td><td>17650</td></tr>\n",
       "\t<tr><th scope=row>p[4]</th><td>0.39</td><td>0.08</td><td>0.23</td><td>0.39</td><td>0.56</td><td>NA</td><td>20000</td></tr>\n",
       "\t<tr><th scope=row>p[5]</th><td>0.03</td><td>0.03</td><td>0.00</td><td>0.02</td><td>0.11</td><td>NA</td><td>20000</td></tr>\n",
       "</tbody>\n",
       "</table>\n"
      ],
      "text/latex": [
       "A data.frame: 6 × 7\n",
       "\\begin{tabular}{r|lllllll}\n",
       "  & mean & sd & 2.5\\% & 50\\% & 97.5\\% & Rhat & n.eff\\\\\n",
       "  & <dbl> & <dbl> & <dbl> & <dbl> & <dbl> & <lgl> & <dbl>\\\\\n",
       "\\hline\n",
       "\tlambda\\_p & 2.86 & 0.53 & 1.92 & 2.83 & 3.99 & NA & 20000\\\\\n",
       "\tp{[}1{]} & 0.06 & 0.04 & 0.01 & 0.05 & 0.16 & NA & 20549\\\\\n",
       "\tp{[}2{]} & 0.12 & 0.06 & 0.04 & 0.11 & 0.25 & NA & 20000\\\\\n",
       "\tp{[}3{]} & 0.39 & 0.08 & 0.24 & 0.39 & 0.56 & NA & 17650\\\\\n",
       "\tp{[}4{]} & 0.39 & 0.08 & 0.23 & 0.39 & 0.56 & NA & 20000\\\\\n",
       "\tp{[}5{]} & 0.03 & 0.03 & 0.00 & 0.02 & 0.11 & NA & 20000\\\\\n",
       "\\end{tabular}\n"
      ],
      "text/markdown": [
       "\n",
       "A data.frame: 6 × 7\n",
       "\n",
       "| <!--/--> | mean &lt;dbl&gt; | sd &lt;dbl&gt; | 2.5% &lt;dbl&gt; | 50% &lt;dbl&gt; | 97.5% &lt;dbl&gt; | Rhat &lt;lgl&gt; | n.eff &lt;dbl&gt; |\n",
       "|---|---|---|---|---|---|---|---|\n",
       "| lambda_p | 2.86 | 0.53 | 1.92 | 2.83 | 3.99 | NA | 20000 |\n",
       "| p[1] | 0.06 | 0.04 | 0.01 | 0.05 | 0.16 | NA | 20549 |\n",
       "| p[2] | 0.12 | 0.06 | 0.04 | 0.11 | 0.25 | NA | 20000 |\n",
       "| p[3] | 0.39 | 0.08 | 0.24 | 0.39 | 0.56 | NA | 17650 |\n",
       "| p[4] | 0.39 | 0.08 | 0.23 | 0.39 | 0.56 | NA | 20000 |\n",
       "| p[5] | 0.03 | 0.03 | 0.00 | 0.02 | 0.11 | NA | 20000 |\n",
       "\n"
      ],
      "text/plain": [
       "         mean sd   2.5% 50%  97.5% Rhat n.eff\n",
       "lambda_p 2.86 0.53 1.92 2.83 3.99  NA   20000\n",
       "p[1]     0.06 0.04 0.01 0.05 0.16  NA   20549\n",
       "p[2]     0.12 0.06 0.04 0.11 0.25  NA   20000\n",
       "p[3]     0.39 0.08 0.24 0.39 0.56  NA   17650\n",
       "p[4]     0.39 0.08 0.23 0.39 0.56  NA   20000\n",
       "p[5]     0.03 0.03 0.00 0.02 0.11  NA   20000"
      ]
     },
     "metadata": {},
     "output_type": "display_data"
    },
    {
     "data": {
      "image/png": "[encoded data removed]",
      "text/plain": [
       "Plot with title \"Density - p[2]\""
      ]
     },
     "metadata": {
      "image/png": {
       "height": 360,
       "width": 600
      }
     },
     "output_type": "display_data"
    },
    {
     "data": {
      "image/png": "[encoded data removed]",
      "text/plain": [
       "Plot with title \"Density - p[5]\""
      ]
     },
     "metadata": {
      "image/png": {
       "height": 360,
       "width": 600
      }
     },
     "output_type": "display_data"
    }
   ],
   "source": [
    "model_string = \"\n",
    "model {\n",
    "    # Prior for the multinomial distribution of the token counts in a document\n",
    "    p ~ ddirch(alpha)\n",
    "\n",
    "    # Mean number of tokens in a document\n",
    "    lambda_p ~ dgamma(1, 0.1)\n",
    "\n",
    "    # Likelihood\n",
    "    for (d in 1:D) {\n",
    "        \n",
    "        # Number of tokens in the document\n",
    "        n[d] ~ dpois(lambda_p)\n",
    "\n",
    "        # Token counts in the document\n",
    "        M[d,] ~ dmulti(p, n[d])\n",
    "    }\n",
    "}\n",
    "\"\n",
    "\n",
    "model = jags.model(textConnection(model_string),\n",
    "                   data = list(alpha=rep(1,N_tokens), \n",
    "                               D=D,\n",
    "                               n=n_tokens_in_doc, \n",
    "                               M=M))\n",
    "\n",
    "update(model, 10000, progress.bar=\"none\")\n",
    "\n",
    "samp <- coda.samples(model, \n",
    "                     variable.names=c(\"p\", \"lambda_p\"), \n",
    "                     n.iter=20000, progress.bar=\"none\")\n",
    "\n",
    "# Show a summary of the variables\n",
    "MCMCsummary(samp, round = 2)\n",
    "\n",
    "MCMCtrace(samp,\n",
    "          gv=c(lambda_N, p_token),\n",
    "          pdf=FALSE)"
   ]
  },
  {
   "cell_type": "markdown",
   "metadata": {},
   "source": [
    "## Document allocation with two topics with labelled training data"
   ]
  },
  {
   "cell_type": "markdown",
   "metadata": {},
   "source": [
    "In this section, two topics are considered, where each topic is generated using the unigram model and a document can only contain one topic. The training documents are labelled as to which topic they are derived from.  The problem is then to determine the topic to which an unlabelled document belongs. Thus, the problem is a classification problem posed as a Bayesian inference problem."
   ]
  },
  {
   "cell_type": "markdown",
   "metadata": {},
   "source": [
    "### Data generation"
   ]
  },
  {
   "cell_type": "code",
   "execution_count": 6,
   "metadata": {},
   "outputs": [],
   "source": [
    "# Total number of (training) documents\n",
    "N_D <- 10\n",
    "\n",
    "# Number of distinct tokens in all documents\n",
    "N_t <- 5\n",
    "\n",
    "# Probability that the document is drawn from topic 1\n",
    "p_topic1 <- 0.3\n",
    "\n",
    "# Mean number of tokens in documents from topic 1\n",
    "lambda1 <- 5\n",
    "\n",
    "# Mean number of tokens in documents from topic 2\n",
    "lambda2 <- 7\n",
    "\n",
    "# Probability of tokens in topic 1\n",
    "p_token1 <- rdirichlet(1, rep(1,N_tokens))\n",
    "\n",
    "# Probability of tokens in topic 2\n",
    "p_token2 <- rdirichlet(1, rep(1,N_tokens))"
   ]
  },
  {
   "cell_type": "code",
   "execution_count": 7,
   "metadata": {},
   "outputs": [],
   "source": [
    "# Generate a random document\n",
    "generate_document <- function() {\n",
    "\n",
    "    # Topic from which the document was drawn\n",
    "    topic <- rbinom(1, 1, p_topic1)\n",
    "    \n",
    "    # Number of tokens in the document\n",
    "    if (topic == 0) {\n",
    "        lambda <- lambda1\n",
    "    } else {\n",
    "        lambda <- lambda2\n",
    "    }\n",
    "    n_tokens_in_doc <- rpois(1, lambda)\n",
    "    \n",
    "    # Token counts in the document\n",
    "    token_counts <- rmultinom(1, n_tokens_in_doc, p_token)\n",
    "    \n",
    "    # Return\n",
    "    list(topic=topic,\n",
    "         n_tokens_in_doc=n_tokens_in_doc, \n",
    "         token_counts=token_counts)\n",
    "}"
   ]
  },
  {
   "cell_type": "code",
   "execution_count": 8,
   "metadata": {},
   "outputs": [],
   "source": [
    "# Matrix of token counts\n",
    "M <- matrix(0, nrow=N_D, ncol=N_t)\n",
    "\n",
    "# Topic in the document\n",
    "topic <- rep(0, N_D)\n",
    "\n",
    "# Generate the training documents\n",
    "for (d in 1:N_D) {\n",
    "    \n",
    "    doc <- generate_document()\n",
    "    \n",
    "    topic[d] <- doc$topic\n",
    "    n_tokens_in_doc[d] <- doc$n_tokens_in_doc\n",
    "    M[d,] <- doc$token_counts\n",
    "}"
   ]
  },
  {
   "cell_type": "code",
   "execution_count": 9,
   "metadata": {},
   "outputs": [
    {
     "data": {
      "text/html": [
       "0"
      ],
      "text/latex": [
       "0"
      ],
      "text/markdown": [
       "0"
      ],
      "text/plain": [
       "[1] 0"
      ]
     },
     "metadata": {},
     "output_type": "display_data"
    }
   ],
   "source": [
    "# Generate the test document\n",
    "doc_test <- generate_document()\n",
    "doc_test$topic"
   ]
  },
  {
   "cell_type": "markdown",
   "metadata": {},
   "source": [
    "### Bayesian inference using JAGS"
   ]
  },
  {
   "cell_type": "code",
   "execution_count": 10,
   "metadata": {
    "scrolled": false
   },
   "outputs": [
    {
     "name": "stdout",
     "output_type": "stream",
     "text": [
      "Compiling model graph\n",
      "   Resolving undeclared variables\n",
      "   Allocating nodes\n",
      "Graph information:\n",
      "   Observed stochastic nodes: 22\n",
      "   Unobserved stochastic nodes: 18\n",
      "   Total graph size: 53\n",
      "\n",
      "Initializing model\n",
      "\n"
     ]
    },
    {
     "name": "stderr",
     "output_type": "stream",
     "text": [
      "Warning message in MCMCsummary(samp, round = 2):\n",
      "\"Rhat statistic cannot be calculated with one chain. NAs inserted.\"\n"
     ]
    },
    {
     "data": {
      "text/html": [
       "<table class=\"dataframe\">\n",
       "<caption>A data.frame: 4 × 7</caption>\n",
       "<thead>\n",
       "\t<tr><th></th><th scope=col>mean</th><th scope=col>sd</th><th scope=col>2.5%</th><th scope=col>50%</th><th scope=col>97.5%</th><th scope=col>Rhat</th><th scope=col>n.eff</th></tr>\n",
       "\t<tr><th></th><th scope=col>&lt;dbl&gt;</th><th scope=col>&lt;dbl&gt;</th><th scope=col>&lt;dbl&gt;</th><th scope=col>&lt;dbl&gt;</th><th scope=col>&lt;dbl&gt;</th><th scope=col>&lt;lgl&gt;</th><th scope=col>&lt;dbl&gt;</th></tr>\n",
       "</thead>\n",
       "<tbody>\n",
       "\t<tr><th scope=row>lambda_p[1]</th><td>6.26</td><td>0.79</td><td>4.81</td><td>6.22</td><td> 7.89</td><td>NA</td><td>20000</td></tr>\n",
       "\t<tr><th scope=row>lambda_p[2]</th><td>8.00</td><td>2.70</td><td>3.74</td><td>7.66</td><td>14.08</td><td>NA</td><td>19183</td></tr>\n",
       "\t<tr><th scope=row>p_topic</th><td>0.16</td><td>0.10</td><td>0.02</td><td>0.14</td><td> 0.40</td><td>NA</td><td>16117</td></tr>\n",
       "\t<tr><th scope=row>topic_test</th><td>0.12</td><td>0.32</td><td>0.00</td><td>0.00</td><td> 1.00</td><td>NA</td><td> 4595</td></tr>\n",
       "</tbody>\n",
       "</table>\n"
      ],
      "text/latex": [
       "A data.frame: 4 × 7\n",
       "\\begin{tabular}{r|lllllll}\n",
       "  & mean & sd & 2.5\\% & 50\\% & 97.5\\% & Rhat & n.eff\\\\\n",
       "  & <dbl> & <dbl> & <dbl> & <dbl> & <dbl> & <lgl> & <dbl>\\\\\n",
       "\\hline\n",
       "\tlambda\\_p{[}1{]} & 6.26 & 0.79 & 4.81 & 6.22 &  7.89 & NA & 20000\\\\\n",
       "\tlambda\\_p{[}2{]} & 8.00 & 2.70 & 3.74 & 7.66 & 14.08 & NA & 19183\\\\\n",
       "\tp\\_topic & 0.16 & 0.10 & 0.02 & 0.14 &  0.40 & NA & 16117\\\\\n",
       "\ttopic\\_test & 0.12 & 0.32 & 0.00 & 0.00 &  1.00 & NA &  4595\\\\\n",
       "\\end{tabular}\n"
      ],
      "text/markdown": [
       "\n",
       "A data.frame: 4 × 7\n",
       "\n",
       "| <!--/--> | mean &lt;dbl&gt; | sd &lt;dbl&gt; | 2.5% &lt;dbl&gt; | 50% &lt;dbl&gt; | 97.5% &lt;dbl&gt; | Rhat &lt;lgl&gt; | n.eff &lt;dbl&gt; |\n",
       "|---|---|---|---|---|---|---|---|\n",
       "| lambda_p[1] | 6.26 | 0.79 | 4.81 | 6.22 |  7.89 | NA | 20000 |\n",
       "| lambda_p[2] | 8.00 | 2.70 | 3.74 | 7.66 | 14.08 | NA | 19183 |\n",
       "| p_topic | 0.16 | 0.10 | 0.02 | 0.14 |  0.40 | NA | 16117 |\n",
       "| topic_test | 0.12 | 0.32 | 0.00 | 0.00 |  1.00 | NA |  4595 |\n",
       "\n"
      ],
      "text/plain": [
       "            mean sd   2.5% 50%  97.5% Rhat n.eff\n",
       "lambda_p[1] 6.26 0.79 4.81 6.22  7.89 NA   20000\n",
       "lambda_p[2] 8.00 2.70 3.74 7.66 14.08 NA   19183\n",
       "p_topic     0.16 0.10 0.02 0.14  0.40 NA   16117\n",
       "topic_test  0.12 0.32 0.00 0.00  1.00 NA    4595"
      ]
     },
     "metadata": {},
     "output_type": "display_data"
    },
    {
     "data": {
      "image/png": "[encoded data removed]",
      "text/plain": [
       "Plot with title \"Density - p_topic\""
      ]
     },
     "metadata": {
      "image/png": {
       "height": 360,
       "width": 600
      }
     },
     "output_type": "display_data"
    },
    {
     "data": {
      "image/png": "[encoded data removed]",
      "text/plain": [
       "Plot with title \"Density - topic_test\""
      ]
     },
     "metadata": {
      "image/png": {
       "height": 360,
       "width": 600
      }
     },
     "output_type": "display_data"
    }
   ],
   "source": [
    "# Infer the parameters of the Bernoulli distribution using JAGS\n",
    "model_string = \"\n",
    "model {\n",
    "    # Prior for the multinomial distribution of the token counts in a document from each topic\n",
    "    p[1, 1:N_tokens] ~ ddirch(alpha)\n",
    "    p[2, 1:N_tokens] ~ ddirch(alpha)\n",
    "\n",
    "    # Mean number of tokens in a document from each topic\n",
    "    lambda_p[1] ~ dgamma(1, 0.1)\n",
    "    lambda_p[2] ~ dgamma(1, 0.1)\n",
    "\n",
    "    # Probability that a document is drawn from topic 1\n",
    "    p_topic ~ dbeta(1, 1)\n",
    "\n",
    "    # Mean number of tokens in a document from each topic\n",
    "    lambda[1] ~ dgamma(1, 0.1)\n",
    "    lambda[2] ~ dgamma(1, 0.1)\n",
    "\n",
    "    # Likelihood\n",
    "    for (d in 1:N_D) {\n",
    "        \n",
    "        # Topic from which the document was drawn\n",
    "        topic[d] ~ dbern(p_topic)\n",
    "\n",
    "        # Number of tokens in the document\n",
    "        n[d] ~ dpois(lambda_p[topic[d] + 1])\n",
    "\n",
    "        # Token counts in the document\n",
    "        M[d, 1:N_tokens] ~ dmulti(p[topic[d]+1,1:N_tokens], n[d])\n",
    "    }\n",
    "\n",
    "    # Classify the test document\n",
    "    topic_test ~ dbern(p_topic)\n",
    "    n_test ~ dpois(lambda_p[topic_test + 1])\n",
    "    counts_test ~ dmulti(p[topic_test+1, 1:N_tokens], n_test)\n",
    "}\n",
    "\"\n",
    "\n",
    "model = jags.model(textConnection(model_string),\n",
    "                   data = list(N_tokens=N_tokens,\n",
    "                               alpha=rep(1,N_tokens), \n",
    "                               N_D=N_D, \n",
    "                               topic=topic, \n",
    "                               n=n_tokens_in_doc, \n",
    "                               n_test=doc_test$n_tokens_in_doc, \n",
    "                               counts_test=doc_test$token_counts))\n",
    "\n",
    "update(model, 10000, progress.bar=\"none\")\n",
    "\n",
    "samp <- coda.samples(model, \n",
    "                     variable.names=c(\"p_topic\", \"lambda_p\", \"topic_test\"), \n",
    "                     n.iter=20000, \n",
    "                     progress.bar=\"none\")\n",
    "\n",
    "# Show a summary of the variables\n",
    "MCMCsummary(samp, round = 2)\n",
    "\n",
    "MCMCtrace(samp,\n",
    "          gv=c(lambda1, lambda2, p_topic1, doc_test$topic),          \n",
    "          pdf=FALSE)"
   ]
  },
  {
   "cell_type": "code",
   "execution_count": 11,
   "metadata": {},
   "outputs": [
    {
     "data": {
      "text/html": [
       "0.8837"
      ],
      "text/latex": [
       "0.8837"
      ],
      "text/markdown": [
       "0.8837"
      ],
      "text/plain": [
       "[1] 0.8837"
      ]
     },
     "metadata": {},
     "output_type": "display_data"
    }
   ],
   "source": [
    "# Probability that the test document belongs to topic 0\n",
    "sum(as.matrix(samp)[,\"topic_test\"] == 0) / dim(as.matrix(samp))[1]"
   ]
  },
  {
   "cell_type": "markdown",
   "metadata": {},
   "source": [
    "This mixture of unigrams model (albeit with just two topics in the above example) is explored in more detail in another Jupyter notebook."
   ]
  }
 ],
 "metadata": {
  "kernelspec": {
   "display_name": "R",
   "language": "R",
   "name": "ir"
  },
  "language_info": {
   "codemirror_mode": "r",
   "file_extension": ".r",
   "mimetype": "text/x-r-source",
   "name": "R",
   "pygments_lexer": "r",
   "version": "4.0.4"
  }
 },
 "nbformat": 4,
 "nbformat_minor": 4
}
