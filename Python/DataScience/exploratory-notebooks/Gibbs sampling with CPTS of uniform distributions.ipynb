{
 "cells": [
  {
   "cell_type": "markdown",
   "metadata": {},
   "source": [
    "# Gibbs sampling with CPTS of uniform distributions"
   ]
  },
  {
   "cell_type": "markdown",
   "metadata": {},
   "source": [
    "## Introduction"
   ]
  },
  {
   "cell_type": "markdown",
   "metadata": {},
   "source": [
    "A discrete Bayesian network has two types of vertices: parent and child vertices. A parent vertex has a prior probability over its possible discrete states. A child vertex also has a set of states, but the conditional probability is defined by a conditional probability table (CPT).\n",
    "\n",
    "Consider a Bayesian network where each child vertex has a CPT, but instead the values being point values (e.g. 0.8), they are a uniform distribution. The presence of the uniform distributions makes it easier for an analysts to encode their uncertainty about their estimates in the knowledge elicitation phase.\n",
    "\n",
    "This notebook is concerned with the inference of unknown vertices within the network given the values of observed vertices.\n",
    "\n",
    "The development of the algorithm will begin from the simplest possible case of just one parent and one child vertex."
   ]
  },
  {
   "cell_type": "markdown",
   "metadata": {},
   "source": [
    "## One parent and one child vertex"
   ]
  },
  {
   "cell_type": "markdown",
   "metadata": {},
   "source": [
    "The simplest possible network is composed of a parent vertex $a$ and a child vertex $b$ and each vertex has the states *true* and *false*. The network structure is:\n",
    "\n",
    "```\n",
    "a -> b\n",
    "```\n",
    "\n",
    "The joint probability distribution is given by\n",
    "\n",
    "$$\n",
    "p(a,b) = p(a) p(b|a).\n",
    "$$\n",
    "\n",
    "The prior probability is given by\n",
    "\n",
    "$$\n",
    "p(a=true) = \n",
    "\\begin{cases}\n",
    "    \\frac{1}{a_u - a_l}  &  \\\\\n",
    "    0                    & \\text{otherwise} \\\\\n",
    "\\end{cases}\n",
    "$$"
   ]
  },
  {
   "cell_type": "code",
   "execution_count": null,
   "metadata": {},
   "outputs": [],
   "source": []
  }
 ],
 "metadata": {
  "kernelspec": {
   "display_name": "Python 3",
   "language": "python",
   "name": "python3"
  },
  "language_info": {
   "codemirror_mode": {
    "name": "ipython",
    "version": 3
   },
   "file_extension": ".py",
   "mimetype": "text/x-python",
   "name": "python",
   "nbconvert_exporter": "python",
   "pygments_lexer": "ipython3",
   "version": "3.8.7"
  }
 },
 "nbformat": 4,
 "nbformat_minor": 4
}
