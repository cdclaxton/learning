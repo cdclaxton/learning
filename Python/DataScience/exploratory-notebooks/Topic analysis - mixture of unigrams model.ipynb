{
 "cells": [
  {
   "cell_type": "markdown",
   "metadata": {},
   "source": [
    "# Mixture of unigrams model of text generation"
   ]
  },
  {
   "cell_type": "markdown",
   "metadata": {},
   "source": [
    "This R Jupyter notebook explores the mixture of unigrams approach to text generation. Each document within the corpus is assumed to contain just a single topic.\n",
    "\n",
    "Consider a set of topics $Z$. The probability that a document is generated from topic $z$ is denoted $p(z)$.\n",
    "\n",
    "The distribution of tokens is dependent on the topic. The probability of token $t_i$ in topic $z$ is denoted $p(t_i | z)$.\n",
    "\n",
    "The probability of the tokens $t$ in a document with $N$ tokens is given by\n",
    "\n",
    "$$\n",
    "p(t) = \\sum_{z} \\Big( p(z) \\prod_{i=1}^{N} p(t_i | z) \\Big)\n",
    "$$"
   ]
  },
  {
   "cell_type": "code",
   "execution_count": 1,
   "metadata": {},
   "outputs": [
    {
     "name": "stderr",
     "output_type": "stream",
     "text": [
      "Loading required package: coda\n",
      "\n",
      "Loading required package: MASS\n",
      "\n",
      "##\n",
      "## Markov Chain Monte Carlo Package (MCMCpack)\n",
      "\n",
      "## Copyright (C) 2003-2021 Andrew D. Martin, Kevin M. Quinn, and Jong Hee Park\n",
      "\n",
      "##\n",
      "## Support provided by the U.S. National Science Foundation\n",
      "\n",
      "## (Grants SES-0350646 and SES-0350613)\n",
      "##\n",
      "\n",
      "Linked to JAGS 4.3.0\n",
      "\n",
      "Loaded modules: basemod,bugs\n",
      "\n"
     ]
    }
   ],
   "source": [
    "# Import the required libraries\n",
    "library(DescTools)\n",
    "library(MCMCpack)\n",
    "library(MCMCvis)\n",
    "library(rjags)\n",
    "\n",
    "# Ensure the figures are easy to view in the notebook\n",
    "options(repr.plot.width=10, repr.plot.height=6)"
   ]
  },
  {
   "cell_type": "markdown",
   "metadata": {},
   "source": [
    "## Data generation"
   ]
  },
  {
   "cell_type": "code",
   "execution_count": 2,
   "metadata": {},
   "outputs": [],
   "source": [
    "# Number of topics\n",
    "n_topics <- 3\n",
    "\n",
    "# Number of distinct tokens\n",
    "n_tokens <- 6\n",
    "\n",
    "# Mean number of tokens in a document\n",
    "lambda_tokens <- 20\n",
    "\n",
    "# Probability that a document is about a topic\n",
    "p_topic <- rdirichlet(1, rep(1, n_topics))\n",
    "\n",
    "# Probability of a token given the topic\n",
    "p_token_given_topic <- rdirichlet(n_topics, rep(0.1, n_tokens))\n",
    "\n",
    "# Number of documents to generate\n",
    "n_docs <- 10"
   ]
  },
  {
   "cell_type": "code",
   "execution_count": 3,
   "metadata": {},
   "outputs": [],
   "source": [
    "# Convert a one-hot encoded value to a categorical value\n",
    "one_hot_to_categorical <- function(x) {\n",
    "    which(x == 1)[[1]]\n",
    "}"
   ]
  },
  {
   "cell_type": "code",
   "execution_count": 4,
   "metadata": {},
   "outputs": [],
   "source": [
    "# Topic contained in each document\n",
    "topic <- rep(-1, n_docs)\n",
    "\n",
    "# Number of tokens in the document\n",
    "num_tokens_in_doc <- rep(0, n_docs)\n",
    "\n",
    "# Token counts in each document\n",
    "M <- matrix(0, nrow=n_docs, ncol=n_tokens)\n",
    "\n",
    "# Walk through each document\n",
    "for (d in 1:n_docs) {\n",
    "    \n",
    "    # Topic contained in document d\n",
    "    topic[d] <- one_hot_to_categorical(rmultinom(1, 1, p_topic))\n",
    "    \n",
    "    # Number of tokens in document d\n",
    "    num_tokens_in_doc[d] <- rpois(1, lambda_tokens)\n",
    "    \n",
    "    # Token counts for document d\n",
    "    M[d,] <- rmultinom(1, num_tokens_in_doc[d], p_token_given_topic[topic[d],])\n",
    "}"
   ]
  },
  {
   "cell_type": "code",
   "execution_count": 5,
   "metadata": {},
   "outputs": [
    {
     "data": {
      "text/html": [
       "<style>\n",
       ".list-inline {list-style: none; margin:0; padding: 0}\n",
       ".list-inline>li {display: inline-block}\n",
       ".list-inline>li:not(:last-child)::after {content: \"\\00b7\"; padding: 0 .5ex}\n",
       "</style>\n",
       "<ol class=list-inline><li>17</li><li>18</li><li>24</li><li>23</li><li>23</li><li>15</li><li>19</li><li>23</li><li>20</li><li>25</li></ol>\n"
      ],
      "text/latex": [
       "\\begin{enumerate*}\n",
       "\\item 17\n",
       "\\item 18\n",
       "\\item 24\n",
       "\\item 23\n",
       "\\item 23\n",
       "\\item 15\n",
       "\\item 19\n",
       "\\item 23\n",
       "\\item 20\n",
       "\\item 25\n",
       "\\end{enumerate*}\n"
      ],
      "text/markdown": [
       "1. 17\n",
       "2. 18\n",
       "3. 24\n",
       "4. 23\n",
       "5. 23\n",
       "6. 15\n",
       "7. 19\n",
       "8. 23\n",
       "9. 20\n",
       "10. 25\n",
       "\n",
       "\n"
      ],
      "text/plain": [
       " [1] 17 18 24 23 23 15 19 23 20 25"
      ]
     },
     "metadata": {},
     "output_type": "display_data"
    }
   ],
   "source": [
    "num_tokens_in_doc"
   ]
  },
  {
   "cell_type": "code",
   "execution_count": 6,
   "metadata": {},
   "outputs": [
    {
     "data": {
      "text/html": [
       "<table class=\"dataframe\">\n",
       "<caption>A matrix: 10 × 6 of type dbl</caption>\n",
       "<tbody>\n",
       "\t<tr><td>1</td><td>0</td><td>16</td><td> 0</td><td>0</td><td>0</td></tr>\n",
       "\t<tr><td>1</td><td>0</td><td>17</td><td> 0</td><td>0</td><td>0</td></tr>\n",
       "\t<tr><td>0</td><td>0</td><td> 0</td><td>24</td><td>0</td><td>0</td></tr>\n",
       "\t<tr><td>1</td><td>0</td><td>22</td><td> 0</td><td>0</td><td>0</td></tr>\n",
       "\t<tr><td>1</td><td>0</td><td> 0</td><td>22</td><td>0</td><td>0</td></tr>\n",
       "\t<tr><td>0</td><td>0</td><td> 0</td><td>15</td><td>0</td><td>0</td></tr>\n",
       "\t<tr><td>0</td><td>0</td><td> 0</td><td>19</td><td>0</td><td>0</td></tr>\n",
       "\t<tr><td>1</td><td>0</td><td>22</td><td> 0</td><td>0</td><td>0</td></tr>\n",
       "\t<tr><td>1</td><td>0</td><td> 1</td><td>18</td><td>0</td><td>0</td></tr>\n",
       "\t<tr><td>4</td><td>0</td><td>21</td><td> 0</td><td>0</td><td>0</td></tr>\n",
       "</tbody>\n",
       "</table>\n"
      ],
      "text/latex": [
       "A matrix: 10 × 6 of type dbl\n",
       "\\begin{tabular}{llllll}\n",
       "\t 1 & 0 & 16 &  0 & 0 & 0\\\\\n",
       "\t 1 & 0 & 17 &  0 & 0 & 0\\\\\n",
       "\t 0 & 0 &  0 & 24 & 0 & 0\\\\\n",
       "\t 1 & 0 & 22 &  0 & 0 & 0\\\\\n",
       "\t 1 & 0 &  0 & 22 & 0 & 0\\\\\n",
       "\t 0 & 0 &  0 & 15 & 0 & 0\\\\\n",
       "\t 0 & 0 &  0 & 19 & 0 & 0\\\\\n",
       "\t 1 & 0 & 22 &  0 & 0 & 0\\\\\n",
       "\t 1 & 0 &  1 & 18 & 0 & 0\\\\\n",
       "\t 4 & 0 & 21 &  0 & 0 & 0\\\\\n",
       "\\end{tabular}\n"
      ],
      "text/markdown": [
       "\n",
       "A matrix: 10 × 6 of type dbl\n",
       "\n",
       "| 1 | 0 | 16 |  0 | 0 | 0 |\n",
       "| 1 | 0 | 17 |  0 | 0 | 0 |\n",
       "| 0 | 0 |  0 | 24 | 0 | 0 |\n",
       "| 1 | 0 | 22 |  0 | 0 | 0 |\n",
       "| 1 | 0 |  0 | 22 | 0 | 0 |\n",
       "| 0 | 0 |  0 | 15 | 0 | 0 |\n",
       "| 0 | 0 |  0 | 19 | 0 | 0 |\n",
       "| 1 | 0 | 22 |  0 | 0 | 0 |\n",
       "| 1 | 0 |  1 | 18 | 0 | 0 |\n",
       "| 4 | 0 | 21 |  0 | 0 | 0 |\n",
       "\n"
      ],
      "text/plain": [
       "      [,1] [,2] [,3] [,4] [,5] [,6]\n",
       " [1,] 1    0    16    0   0    0   \n",
       " [2,] 1    0    17    0   0    0   \n",
       " [3,] 0    0     0   24   0    0   \n",
       " [4,] 1    0    22    0   0    0   \n",
       " [5,] 1    0     0   22   0    0   \n",
       " [6,] 0    0     0   15   0    0   \n",
       " [7,] 0    0     0   19   0    0   \n",
       " [8,] 1    0    22    0   0    0   \n",
       " [9,] 1    0     1   18   0    0   \n",
       "[10,] 4    0    21    0   0    0   "
      ]
     },
     "metadata": {},
     "output_type": "display_data"
    }
   ],
   "source": [
    "M"
   ]
  },
  {
   "cell_type": "code",
   "execution_count": 7,
   "metadata": {},
   "outputs": [
    {
     "data": {
      "text/html": [
       "<style>\n",
       ".list-inline {list-style: none; margin:0; padding: 0}\n",
       ".list-inline>li {display: inline-block}\n",
       ".list-inline>li:not(:last-child)::after {content: \"\\00b7\"; padding: 0 .5ex}\n",
       "</style>\n",
       "<ol class=list-inline><li>2</li><li>2</li><li>1</li><li>2</li><li>1</li><li>1</li><li>1</li><li>2</li><li>1</li><li>2</li></ol>\n"
      ],
      "text/latex": [
       "\\begin{enumerate*}\n",
       "\\item 2\n",
       "\\item 2\n",
       "\\item 1\n",
       "\\item 2\n",
       "\\item 1\n",
       "\\item 1\n",
       "\\item 1\n",
       "\\item 2\n",
       "\\item 1\n",
       "\\item 2\n",
       "\\end{enumerate*}\n"
      ],
      "text/markdown": [
       "1. 2\n",
       "2. 2\n",
       "3. 1\n",
       "4. 2\n",
       "5. 1\n",
       "6. 1\n",
       "7. 1\n",
       "8. 2\n",
       "9. 1\n",
       "10. 2\n",
       "\n",
       "\n"
      ],
      "text/plain": [
       " [1] 2 2 1 2 1 1 1 2 1 2"
      ]
     },
     "metadata": {},
     "output_type": "display_data"
    }
   ],
   "source": [
    "topic"
   ]
  },
  {
   "cell_type": "markdown",
   "metadata": {},
   "source": [
    "## Bayesian inference"
   ]
  },
  {
   "cell_type": "code",
   "execution_count": 8,
   "metadata": {
    "scrolled": false
   },
   "outputs": [
    {
     "name": "stdout",
     "output_type": "stream",
     "text": [
      "Compiling model graph\n",
      "   Resolving undeclared variables\n",
      "   Allocating nodes\n",
      "Graph information:\n",
      "   Observed stochastic nodes: 20\n",
      "   Unobserved stochastic nodes: 15\n",
      "   Total graph size: 61\n",
      "\n",
      "Initializing model\n",
      "\n"
     ]
    },
    {
     "name": "stderr",
     "output_type": "stream",
     "text": [
      "Warning message in MCMCsummary(samp, round = 2):\n",
      "\"Rhat statistic cannot be calculated with one chain. NAs inserted.\"\n"
     ]
    },
    {
     "data": {
      "text/html": [
       "<table class=\"dataframe\">\n",
       "<caption>A data.frame: 14 × 7</caption>\n",
       "<thead>\n",
       "\t<tr><th></th><th scope=col>mean</th><th scope=col>sd</th><th scope=col>2.5%</th><th scope=col>50%</th><th scope=col>97.5%</th><th scope=col>Rhat</th><th scope=col>n.eff</th></tr>\n",
       "\t<tr><th></th><th scope=col>&lt;dbl&gt;</th><th scope=col>&lt;dbl&gt;</th><th scope=col>&lt;dbl&gt;</th><th scope=col>&lt;dbl&gt;</th><th scope=col>&lt;dbl&gt;</th><th scope=col>&lt;lgl&gt;</th><th scope=col>&lt;dbl&gt;</th></tr>\n",
       "</thead>\n",
       "<tbody>\n",
       "\t<tr><th scope=row>lambda_tokens</th><td>20.59</td><td>1.42</td><td>17.93</td><td>20.55</td><td>23.44</td><td>NA</td><td>18814</td></tr>\n",
       "\t<tr><th scope=row>p_topic[1]</th><td> 0.46</td><td>0.13</td><td> 0.21</td><td> 0.46</td><td> 0.72</td><td>NA</td><td>20000</td></tr>\n",
       "\t<tr><th scope=row>p_topic[2]</th><td> 0.08</td><td>0.07</td><td> 0.00</td><td> 0.06</td><td> 0.27</td><td>NA</td><td>20000</td></tr>\n",
       "\t<tr><th scope=row>p_topic[3]</th><td> 0.46</td><td>0.13</td><td> 0.21</td><td> 0.46</td><td> 0.72</td><td>NA</td><td>20000</td></tr>\n",
       "\t<tr><th scope=row>topic[1]</th><td> 1.00</td><td>0.01</td><td> 1.00</td><td> 1.00</td><td> 1.00</td><td>NA</td><td>13242</td></tr>\n",
       "\t<tr><th scope=row>topic[2]</th><td> 1.00</td><td>0.01</td><td> 1.00</td><td> 1.00</td><td> 1.00</td><td>NA</td><td>20000</td></tr>\n",
       "\t<tr><th scope=row>topic[3]</th><td> 3.00</td><td>0.00</td><td> 3.00</td><td> 3.00</td><td> 3.00</td><td>NA</td><td>    0</td></tr>\n",
       "\t<tr><th scope=row>topic[4]</th><td> 1.00</td><td>0.01</td><td> 1.00</td><td> 1.00</td><td> 1.00</td><td>NA</td><td>20000</td></tr>\n",
       "\t<tr><th scope=row>topic[5]</th><td> 3.00</td><td>0.01</td><td> 3.00</td><td> 3.00</td><td> 3.00</td><td>NA</td><td>20000</td></tr>\n",
       "\t<tr><th scope=row>topic[6]</th><td> 3.00</td><td>0.01</td><td> 3.00</td><td> 3.00</td><td> 3.00</td><td>NA</td><td>20000</td></tr>\n",
       "\t<tr><th scope=row>topic[7]</th><td> 3.00</td><td>0.01</td><td> 3.00</td><td> 3.00</td><td> 3.00</td><td>NA</td><td>20000</td></tr>\n",
       "\t<tr><th scope=row>topic[8]</th><td> 1.00</td><td>0.01</td><td> 1.00</td><td> 1.00</td><td> 1.00</td><td>NA</td><td>20000</td></tr>\n",
       "\t<tr><th scope=row>topic[9]</th><td> 3.00</td><td>0.02</td><td> 3.00</td><td> 3.00</td><td> 3.00</td><td>NA</td><td> 9219</td></tr>\n",
       "\t<tr><th scope=row>topic[10]</th><td> 1.00</td><td>0.01</td><td> 1.00</td><td> 1.00</td><td> 1.00</td><td>NA</td><td>13242</td></tr>\n",
       "</tbody>\n",
       "</table>\n"
      ],
      "text/latex": [
       "A data.frame: 14 × 7\n",
       "\\begin{tabular}{r|lllllll}\n",
       "  & mean & sd & 2.5\\% & 50\\% & 97.5\\% & Rhat & n.eff\\\\\n",
       "  & <dbl> & <dbl> & <dbl> & <dbl> & <dbl> & <lgl> & <dbl>\\\\\n",
       "\\hline\n",
       "\tlambda\\_tokens & 20.59 & 1.42 & 17.93 & 20.55 & 23.44 & NA & 18814\\\\\n",
       "\tp\\_topic{[}1{]} &  0.46 & 0.13 &  0.21 &  0.46 &  0.72 & NA & 20000\\\\\n",
       "\tp\\_topic{[}2{]} &  0.08 & 0.07 &  0.00 &  0.06 &  0.27 & NA & 20000\\\\\n",
       "\tp\\_topic{[}3{]} &  0.46 & 0.13 &  0.21 &  0.46 &  0.72 & NA & 20000\\\\\n",
       "\ttopic{[}1{]} &  1.00 & 0.01 &  1.00 &  1.00 &  1.00 & NA & 13242\\\\\n",
       "\ttopic{[}2{]} &  1.00 & 0.01 &  1.00 &  1.00 &  1.00 & NA & 20000\\\\\n",
       "\ttopic{[}3{]} &  3.00 & 0.00 &  3.00 &  3.00 &  3.00 & NA &     0\\\\\n",
       "\ttopic{[}4{]} &  1.00 & 0.01 &  1.00 &  1.00 &  1.00 & NA & 20000\\\\\n",
       "\ttopic{[}5{]} &  3.00 & 0.01 &  3.00 &  3.00 &  3.00 & NA & 20000\\\\\n",
       "\ttopic{[}6{]} &  3.00 & 0.01 &  3.00 &  3.00 &  3.00 & NA & 20000\\\\\n",
       "\ttopic{[}7{]} &  3.00 & 0.01 &  3.00 &  3.00 &  3.00 & NA & 20000\\\\\n",
       "\ttopic{[}8{]} &  1.00 & 0.01 &  1.00 &  1.00 &  1.00 & NA & 20000\\\\\n",
       "\ttopic{[}9{]} &  3.00 & 0.02 &  3.00 &  3.00 &  3.00 & NA &  9219\\\\\n",
       "\ttopic{[}10{]} &  1.00 & 0.01 &  1.00 &  1.00 &  1.00 & NA & 13242\\\\\n",
       "\\end{tabular}\n"
      ],
      "text/markdown": [
       "\n",
       "A data.frame: 14 × 7\n",
       "\n",
       "| <!--/--> | mean &lt;dbl&gt; | sd &lt;dbl&gt; | 2.5% &lt;dbl&gt; | 50% &lt;dbl&gt; | 97.5% &lt;dbl&gt; | Rhat &lt;lgl&gt; | n.eff &lt;dbl&gt; |\n",
       "|---|---|---|---|---|---|---|---|\n",
       "| lambda_tokens | 20.59 | 1.42 | 17.93 | 20.55 | 23.44 | NA | 18814 |\n",
       "| p_topic[1] |  0.46 | 0.13 |  0.21 |  0.46 |  0.72 | NA | 20000 |\n",
       "| p_topic[2] |  0.08 | 0.07 |  0.00 |  0.06 |  0.27 | NA | 20000 |\n",
       "| p_topic[3] |  0.46 | 0.13 |  0.21 |  0.46 |  0.72 | NA | 20000 |\n",
       "| topic[1] |  1.00 | 0.01 |  1.00 |  1.00 |  1.00 | NA | 13242 |\n",
       "| topic[2] |  1.00 | 0.01 |  1.00 |  1.00 |  1.00 | NA | 20000 |\n",
       "| topic[3] |  3.00 | 0.00 |  3.00 |  3.00 |  3.00 | NA |     0 |\n",
       "| topic[4] |  1.00 | 0.01 |  1.00 |  1.00 |  1.00 | NA | 20000 |\n",
       "| topic[5] |  3.00 | 0.01 |  3.00 |  3.00 |  3.00 | NA | 20000 |\n",
       "| topic[6] |  3.00 | 0.01 |  3.00 |  3.00 |  3.00 | NA | 20000 |\n",
       "| topic[7] |  3.00 | 0.01 |  3.00 |  3.00 |  3.00 | NA | 20000 |\n",
       "| topic[8] |  1.00 | 0.01 |  1.00 |  1.00 |  1.00 | NA | 20000 |\n",
       "| topic[9] |  3.00 | 0.02 |  3.00 |  3.00 |  3.00 | NA |  9219 |\n",
       "| topic[10] |  1.00 | 0.01 |  1.00 |  1.00 |  1.00 | NA | 13242 |\n",
       "\n"
      ],
      "text/plain": [
       "              mean  sd   2.5%  50%   97.5% Rhat n.eff\n",
       "lambda_tokens 20.59 1.42 17.93 20.55 23.44 NA   18814\n",
       "p_topic[1]     0.46 0.13  0.21  0.46  0.72 NA   20000\n",
       "p_topic[2]     0.08 0.07  0.00  0.06  0.27 NA   20000\n",
       "p_topic[3]     0.46 0.13  0.21  0.46  0.72 NA   20000\n",
       "topic[1]       1.00 0.01  1.00  1.00  1.00 NA   13242\n",
       "topic[2]       1.00 0.01  1.00  1.00  1.00 NA   20000\n",
       "topic[3]       3.00 0.00  3.00  3.00  3.00 NA       0\n",
       "topic[4]       1.00 0.01  1.00  1.00  1.00 NA   20000\n",
       "topic[5]       3.00 0.01  3.00  3.00  3.00 NA   20000\n",
       "topic[6]       3.00 0.01  3.00  3.00  3.00 NA   20000\n",
       "topic[7]       3.00 0.01  3.00  3.00  3.00 NA   20000\n",
       "topic[8]       1.00 0.01  1.00  1.00  1.00 NA   20000\n",
       "topic[9]       3.00 0.02  3.00  3.00  3.00 NA    9219\n",
       "topic[10]      1.00 0.01  1.00  1.00  1.00 NA   13242"
      ]
     },
     "metadata": {},
     "output_type": "display_data"
    },
    {
     "data": {
      "image/png": "[encoded data removed]",
      "text/plain": [
       "Plot with title \"Density - p_topic[2]\""
      ]
     },
     "metadata": {
      "image/png": {
       "height": 360,
       "width": 600
      }
     },
     "output_type": "display_data"
    },
    {
     "data": {
      "image/png": "[encoded data removed]",
      "text/plain": [
       "Plot with title \"Density - topic[2]\""
      ]
     },
     "metadata": {
      "image/png": {
       "height": 360,
       "width": 600
      }
     },
     "output_type": "display_data"
    },
    {
     "data": {
      "image/png": "[encoded data removed]",
      "text/plain": [
       "Plot with title \"Density - topic[5]\""
      ]
     },
     "metadata": {
      "image/png": {
       "height": 360,
       "width": 600
      }
     },
     "output_type": "display_data"
    },
    {
     "data": {
      "image/png": "[encoded data removed]",
      "text/plain": [
       "Plot with title \"Density - topic[8]\""
      ]
     },
     "metadata": {
      "image/png": {
       "height": 360,
       "width": 600
      }
     },
     "output_type": "display_data"
    },
    {
     "data": {
      "image/png": "[encoded data removed]",
      "text/plain": [
       "Plot with title \"Density - topic[10]\""
      ]
     },
     "metadata": {
      "image/png": {
       "height": 360,
       "width": 600
      }
     },
     "output_type": "display_data"
    }
   ],
   "source": [
    "model_string = \"\n",
    "model {\n",
    "    # Prior for the multinomial distribution of the token counts in a document\n",
    "    for (j in 1:n_topics) {\n",
    "        p_token_given_topic[j, 1:n_tokens] ~ ddirch(alpha_doc)\n",
    "    }\n",
    "\n",
    "    # Probability that a document is about a topic\n",
    "    p_topic ~ ddirch(alpha_topic)\n",
    "\n",
    "    # Mean number of tokens in a document\n",
    "    lambda_tokens ~ dgamma(1, 0.1)\n",
    "\n",
    "    # Likelihood\n",
    "    for (d in 1:D) {\n",
    "        \n",
    "        # Topic contained in document (value ranges from 1 to number of topics)\n",
    "        topic[d] ~ dcat(p_topic)\n",
    "\n",
    "        # Number of tokens in the document\n",
    "        num_tokens_in_doc[d] ~ dpois(lambda_tokens)\n",
    "\n",
    "        # Token counts for document d\n",
    "        M[d, 1:n_tokens] ~ dmulti(p_token_given_topic[topic[d], 1:n_tokens], num_tokens_in_doc[d])\n",
    "    }\n",
    "}\n",
    "\"\n",
    "\n",
    "model = jags.model(textConnection(model_string),\n",
    "                   data = list(alpha_topic=rep(1,n_topics), \n",
    "                               alpha_doc=rep(1,n_tokens), \n",
    "                               n_topics=n_topics,\n",
    "                               D=n_docs,\n",
    "                               n_tokens=n_tokens, \n",
    "                               num_tokens_in_doc=num_tokens_in_doc,\n",
    "                               M=M))\n",
    "\n",
    "update(model, 10000, progress.bar=\"none\")\n",
    "\n",
    "samp <- coda.samples(model, \n",
    "                     variable.names=c(\"lambda_tokens\", \"p_topic\", \"topic\"), \n",
    "                     n.iter=20000, progress.bar=\"none\")\n",
    "\n",
    "# Show a summary of the variables\n",
    "MCMCsummary(samp, round = 2)\n",
    "\n",
    "MCMCtrace(samp,\n",
    "          pdf=FALSE)"
   ]
  },
  {
   "cell_type": "markdown",
   "metadata": {},
   "source": [
    "* If the token distribution of each document is similar, the inference really struggles to determine the topic contained in a document."
   ]
  },
  {
   "cell_type": "code",
   "execution_count": 9,
   "metadata": {},
   "outputs": [],
   "source": [
    "# Find the most frequent topic index for each document\n",
    "most_frequent_topic <- rep(-1, n_docs)\n",
    "for (i in 1:n_docs) {\n",
    "    column_name <- paste0(\"topic[\", i, \"]\")\n",
    "    values <- as.matrix(samp)[,column_name]\n",
    "    most_frequent_topic[i] <- Mode(values)\n",
    "}"
   ]
  },
  {
   "cell_type": "markdown",
   "metadata": {},
   "source": [
    "The topic indices won't be exactly the same except by chance, e.g. topic 1 in the generated data could map to topic 3 in the JAGS model."
   ]
  },
  {
   "cell_type": "code",
   "execution_count": 10,
   "metadata": {},
   "outputs": [
    {
     "data": {
      "text/html": [
       "<style>\n",
       ".list-inline {list-style: none; margin:0; padding: 0}\n",
       ".list-inline>li {display: inline-block}\n",
       ".list-inline>li:not(:last-child)::after {content: \"\\00b7\"; padding: 0 .5ex}\n",
       "</style>\n",
       "<ol class=list-inline><li>1</li><li>1</li><li>3</li><li>1</li><li>3</li><li>3</li><li>3</li><li>1</li><li>3</li><li>1</li></ol>\n"
      ],
      "text/latex": [
       "\\begin{enumerate*}\n",
       "\\item 1\n",
       "\\item 1\n",
       "\\item 3\n",
       "\\item 1\n",
       "\\item 3\n",
       "\\item 3\n",
       "\\item 3\n",
       "\\item 1\n",
       "\\item 3\n",
       "\\item 1\n",
       "\\end{enumerate*}\n"
      ],
      "text/markdown": [
       "1. 1\n",
       "2. 1\n",
       "3. 3\n",
       "4. 1\n",
       "5. 3\n",
       "6. 3\n",
       "7. 3\n",
       "8. 1\n",
       "9. 3\n",
       "10. 1\n",
       "\n",
       "\n"
      ],
      "text/plain": [
       " [1] 1 1 3 1 3 3 3 1 3 1"
      ]
     },
     "metadata": {},
     "output_type": "display_data"
    }
   ],
   "source": [
    "most_frequent_topic"
   ]
  },
  {
   "cell_type": "code",
   "execution_count": 11,
   "metadata": {},
   "outputs": [
    {
     "data": {
      "text/html": [
       "<style>\n",
       ".list-inline {list-style: none; margin:0; padding: 0}\n",
       ".list-inline>li {display: inline-block}\n",
       ".list-inline>li:not(:last-child)::after {content: \"\\00b7\"; padding: 0 .5ex}\n",
       "</style>\n",
       "<ol class=list-inline><li>2</li><li>2</li><li>1</li><li>2</li><li>1</li><li>1</li><li>1</li><li>2</li><li>1</li><li>2</li></ol>\n"
      ],
      "text/latex": [
       "\\begin{enumerate*}\n",
       "\\item 2\n",
       "\\item 2\n",
       "\\item 1\n",
       "\\item 2\n",
       "\\item 1\n",
       "\\item 1\n",
       "\\item 1\n",
       "\\item 2\n",
       "\\item 1\n",
       "\\item 2\n",
       "\\end{enumerate*}\n"
      ],
      "text/markdown": [
       "1. 2\n",
       "2. 2\n",
       "3. 1\n",
       "4. 2\n",
       "5. 1\n",
       "6. 1\n",
       "7. 1\n",
       "8. 2\n",
       "9. 1\n",
       "10. 2\n",
       "\n",
       "\n"
      ],
      "text/plain": [
       " [1] 2 2 1 2 1 1 1 2 1 2"
      ]
     },
     "metadata": {},
     "output_type": "display_data"
    }
   ],
   "source": [
    "topic"
   ]
  }
 ],
 "metadata": {
  "kernelspec": {
   "display_name": "R",
   "language": "R",
   "name": "ir"
  },
  "language_info": {
   "codemirror_mode": "r",
   "file_extension": ".r",
   "mimetype": "text/x-r-source",
   "name": "R",
   "pygments_lexer": "r",
   "version": "4.0.4"
  }
 },
 "nbformat": 4,
 "nbformat_minor": 4
}
