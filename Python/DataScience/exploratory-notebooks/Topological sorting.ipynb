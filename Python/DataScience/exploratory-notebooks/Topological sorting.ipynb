{
 "cells": [
  {
   "cell_type": "markdown",
   "metadata": {},
   "source": [
    "# Topological sorting"
   ]
  },
  {
   "cell_type": "markdown",
   "metadata": {},
   "source": [
    "The algorithm for performing topological sorting using the depth-first search algorithm is (https://en.wikipedia.org/wiki/Topological_sorting):\n",
    "\n",
    "```\n",
    "L ← Empty list that will contain the sorted nodes\n",
    "while exists nodes without a permanent mark do\n",
    "    select an unmarked node n\n",
    "    visit(n)\n",
    "\n",
    "function visit(node n)\n",
    "    if n has a permanent mark then\n",
    "        return\n",
    "    if n has a temporary mark then\n",
    "        stop   (not a DAG)\n",
    "\n",
    "    mark n with a temporary mark\n",
    "\n",
    "    for each node m with an edge from n to m do\n",
    "        visit(m)\n",
    "\n",
    "    remove temporary mark from n\n",
    "    mark n with a permanent mark\n",
    "    add n to head of L\n",
    "```"
   ]
  },
  {
   "cell_type": "code",
   "execution_count": 1,
   "metadata": {},
   "outputs": [],
   "source": [
    "class Vertex:\n",
    "    def __init__(self, name):\n",
    "        assert isinstance(name, str)\n",
    "        assert len(name) > 0\n",
    "        \n",
    "        self.name = name\n",
    "        self.children = []\n",
    "        \n",
    "        # Flags used for toplogical sorting\n",
    "        self.permanent_mark = False\n",
    "        self.temporary_mark = False\n",
    "    \n",
    "    def add_child(self, child):\n",
    "        assert isinstance(child, Vertex)\n",
    "        \n",
    "        if child not in self.children:\n",
    "            self.children.append(child)\n",
    "    \n",
    "    def __repr__(self):\n",
    "        return f\"Vertex('{self.name}')\"\n",
    "    \n",
    "    def __str__(self):\n",
    "        return self.__repr__()"
   ]
  },
  {
   "cell_type": "code",
   "execution_count": 2,
   "metadata": {},
   "outputs": [],
   "source": [
    "def get_vertex_without_permanent_mark(list_vertices):\n",
    "    \"\"\"Get a vertex from a list of vertices that doesn't have a permanent mark.\"\"\"\n",
    "    \n",
    "    assert isinstance(list_vertices, list)\n",
    "    assert len(list_vertices) > 0\n",
    "    \n",
    "    for v in list_vertices:\n",
    "        if not v.permanent_mark:\n",
    "            return v\n",
    "    \n",
    "    return None"
   ]
  },
  {
   "cell_type": "code",
   "execution_count": 3,
   "metadata": {},
   "outputs": [],
   "source": [
    "def visit(vertex, L):\n",
    "    \n",
    "    if vertex.permanent_mark:\n",
    "        return\n",
    "    \n",
    "    if vertex.temporary_mark:\n",
    "        raise Exception(\"Not a DAG\")\n",
    "        \n",
    "    # Mark the vertex\n",
    "    vertex.temporary_mark = True\n",
    "    \n",
    "    for child_vertex in vertex.children:\n",
    "        visit(child_vertex, L)\n",
    "    \n",
    "    # Remove the temporary mark\n",
    "    vertex.temporary_mark = False\n",
    "    \n",
    "    # Mark the vertex with a permanent mark\n",
    "    vertex.permanent_mark = True\n",
    "    \n",
    "    # Add the vertex to the head of the list L\n",
    "    L.insert(0, vertex)"
   ]
  },
  {
   "cell_type": "code",
   "execution_count": 4,
   "metadata": {},
   "outputs": [],
   "source": [
    "def ordered_vertices(list_vertices):\n",
    "    \n",
    "    L = []  # Empty list that will contain sorted nodes\n",
    "    \n",
    "    vertex_without_permanent_mark = get_vertex_without_permanent_mark(list_vertices)\n",
    "    \n",
    "    while vertex_without_permanent_mark is not None:\n",
    "        \n",
    "        # Visit the vertex\n",
    "        visit(vertex_without_permanent_mark, L)\n",
    "        \n",
    "        # Get the next vertex without a permanent mark\n",
    "        vertex_without_permanent_mark = get_vertex_without_permanent_mark(list_vertices)\n",
    "    \n",
    "    return L"
   ]
  },
  {
   "cell_type": "code",
   "execution_count": 5,
   "metadata": {},
   "outputs": [],
   "source": [
    "n5 = Vertex('5')\n",
    "\n",
    "n7 = Vertex('7')\n",
    "\n",
    "n3 = Vertex('3')\n",
    "\n",
    "n11 = Vertex('11')\n",
    "n5.add_child(n11)\n",
    "n7.add_child(n11)\n",
    "\n",
    "n8 = Vertex('8')\n",
    "n7.add_child(n8)\n",
    "n3.add_child(n8)\n",
    "\n",
    "n2 = Vertex('2')\n",
    "n11.add_child(n2)\n",
    "\n",
    "n9 = Vertex('9')\n",
    "n11.add_child(n9)\n",
    "n8.add_child(n9)\n",
    "\n",
    "n10 = Vertex('10')\n",
    "n11.add_child(n10)\n",
    "n3.add_child(n10)"
   ]
  },
  {
   "cell_type": "code",
   "execution_count": 6,
   "metadata": {},
   "outputs": [],
   "source": [
    "list_vertices = [n5, n7, n3, n11, n8, n2, n9, n10]"
   ]
  },
  {
   "cell_type": "code",
   "execution_count": 7,
   "metadata": {},
   "outputs": [
    {
     "data": {
      "text/plain": [
       "[Vertex('3'),\n",
       " Vertex('7'),\n",
       " Vertex('8'),\n",
       " Vertex('5'),\n",
       " Vertex('11'),\n",
       " Vertex('10'),\n",
       " Vertex('9'),\n",
       " Vertex('2')]"
      ]
     },
     "execution_count": 7,
     "metadata": {},
     "output_type": "execute_result"
    }
   ],
   "source": [
    "ordered_vertices(list_vertices)"
   ]
  },
  {
   "cell_type": "code",
   "execution_count": null,
   "metadata": {},
   "outputs": [],
   "source": []
  }
 ],
 "metadata": {
  "kernelspec": {
   "display_name": "Python 3",
   "language": "python",
   "name": "python3"
  },
  "language_info": {
   "codemirror_mode": {
    "name": "ipython",
    "version": 3
   },
   "file_extension": ".py",
   "mimetype": "text/x-python",
   "name": "python",
   "nbconvert_exporter": "python",
   "pygments_lexer": "ipython3",
   "version": "3.8.7"
  }
 },
 "nbformat": 4,
 "nbformat_minor": 4
}
