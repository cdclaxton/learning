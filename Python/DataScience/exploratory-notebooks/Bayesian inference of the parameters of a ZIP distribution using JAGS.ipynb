{
 "cells": [
  {
   "cell_type": "markdown",
   "metadata": {},
   "source": [
    "# Bayesian inference of the parameters of a ZIP distribution using JAGS"
   ]
  },
  {
   "cell_type": "markdown",
   "metadata": {},
   "source": [
    "In this R Jupyter notebook, the parameters of a **Zero-Inflated Poisson (ZIP) distribution** are inferred using a Bayesian approach with JAGS.\n",
    "\n",
    "A ZIP distribution is a mixture model where the number of zeros has been artificially increased compared to a standard Poisson distribution. The first process (or component) generates zeros and the second process is governed by a Poisson distribution that generates counts, some of which may be zero.\n",
    "\n",
    "The probability of extra zeros is denoted $\\pi$ and the mean of the Poisson distribution is denoted $\\lambda$."
   ]
  },
  {
   "cell_type": "code",
   "execution_count": 1,
   "metadata": {},
   "outputs": [
    {
     "name": "stderr",
     "output_type": "stream",
     "text": [
      "Loading required package: coda\n",
      "\n",
      "Linked to JAGS 4.3.0\n",
      "\n",
      "Loaded modules: basemod,bugs\n",
      "\n"
     ]
    }
   ],
   "source": [
    "# Import the required libraries\n",
    "library(MCMCvis)\n",
    "library(rjags)\n",
    "library(ggplot2)"
   ]
  },
  {
   "cell_type": "code",
   "execution_count": 2,
   "metadata": {},
   "outputs": [],
   "source": [
    "# Ensure the figures are easy to view in the notebook\n",
    "options(repr.plot.width=10, repr.plot.height=6)"
   ]
  },
  {
   "cell_type": "markdown",
   "metadata": {},
   "source": [
    "## Data generation"
   ]
  },
  {
   "cell_type": "code",
   "execution_count": 3,
   "metadata": {},
   "outputs": [],
   "source": [
    "# Probability of extra zeros\n",
    "pi <- 0.4\n",
    "\n",
    "# Mean of the Poisson distribution\n",
    "lambda <- 5\n",
    "\n",
    "# Number of samples to generate\n",
    "N <- 200"
   ]
  },
  {
   "cell_type": "code",
   "execution_count": 4,
   "metadata": {},
   "outputs": [],
   "source": [
    "# Generate N zeros\n",
    "zeros <- rep(0, N)\n",
    "\n",
    "# Generate N samples from a Poisson distribution\n",
    "counts <- rpois(N, lambda)\n",
    "\n",
    "# Component at each sample\n",
    "component_samples <- rbinom(N, 1, pi)\n",
    "\n",
    "# Samples from the ZIP distribution\n",
    "samples <- component_samples * zeros + (1-component_samples) * counts"
   ]
  },
  {
   "cell_type": "code",
   "execution_count": 5,
   "metadata": {},
   "outputs": [
    {
     "data": {
      "text/html": [
       "0.42"
      ],
      "text/latex": [
       "0.42"
      ],
      "text/markdown": [
       "0.42"
      ],
      "text/plain": [
       "[1] 0.42"
      ]
     },
     "metadata": {},
     "output_type": "display_data"
    }
   ],
   "source": [
    "# Calculate the empirical pi\n",
    "empirical_pi <- mean(component_samples)\n",
    "empirical_pi"
   ]
  },
  {
   "cell_type": "code",
   "execution_count": 6,
   "metadata": {},
   "outputs": [
    {
     "data": {
      "text/html": [
       "4.69827586206897"
      ],
      "text/latex": [
       "4.69827586206897"
      ],
      "text/markdown": [
       "4.69827586206897"
      ],
      "text/plain": [
       "[1] 4.698276"
      ]
     },
     "metadata": {},
     "output_type": "display_data"
    }
   ],
   "source": [
    "# Calculate the empirical lambda\n",
    "empirical_lambda <- mean(counts[component_samples == 0])\n",
    "empirical_lambda"
   ]
  },
  {
   "cell_type": "code",
   "execution_count": 7,
   "metadata": {},
   "outputs": [
    {
     "data": {
      "image/png": "[encoded data removed]",
      "text/plain": [
       "plot without title"
      ]
     },
     "metadata": {
      "image/png": {
       "height": 360,
       "width": 600
      }
     },
     "output_type": "display_data"
    }
   ],
   "source": [
    "# Plot a histogram of the samples\n",
    "df <- data.frame(x=samples)\n",
    "\n",
    "ggplot(df, aes(x=x)) + \n",
    "    geom_histogram(binwidth=1) +\n",
    "    ylab(\"Count\")"
   ]
  },
  {
   "cell_type": "markdown",
   "metadata": {},
   "source": [
    "## Bayesian inference of parameters"
   ]
  },
  {
   "cell_type": "code",
   "execution_count": 8,
   "metadata": {},
   "outputs": [
    {
     "name": "stdout",
     "output_type": "stream",
     "text": [
      "Compiling model graph\n",
      "   Resolving undeclared variables\n",
      "   Allocating nodes\n",
      "Graph information:\n",
      "   Observed stochastic nodes: 200\n",
      "   Unobserved stochastic nodes: 202\n",
      "   Total graph size: 1206\n",
      "\n",
      "Initializing model\n",
      "\n"
     ]
    },
    {
     "name": "stderr",
     "output_type": "stream",
     "text": [
      "Warning message in MCMCsummary(samp, round = 2):\n",
      "\"Rhat statistic cannot be calculated with one chain. NAs inserted.\"\n"
     ]
    },
    {
     "data": {
      "text/html": [
       "<table class=\"dataframe\">\n",
       "<caption>A data.frame: 2 × 7</caption>\n",
       "<thead>\n",
       "\t<tr><th></th><th scope=col>mean</th><th scope=col>sd</th><th scope=col>2.5%</th><th scope=col>50%</th><th scope=col>97.5%</th><th scope=col>Rhat</th><th scope=col>n.eff</th></tr>\n",
       "\t<tr><th></th><th scope=col>&lt;dbl&gt;</th><th scope=col>&lt;dbl&gt;</th><th scope=col>&lt;dbl&gt;</th><th scope=col>&lt;dbl&gt;</th><th scope=col>&lt;dbl&gt;</th><th scope=col>&lt;lgl&gt;</th><th scope=col>&lt;dbl&gt;</th></tr>\n",
       "</thead>\n",
       "<tbody>\n",
       "\t<tr><th scope=row>lambda</th><td>4.74</td><td>0.21</td><td>4.34</td><td>4.74</td><td>5.15</td><td>NA</td><td>11304</td></tr>\n",
       "\t<tr><th scope=row>pi</th><td>0.43</td><td>0.03</td><td>0.36</td><td>0.43</td><td>0.50</td><td>NA</td><td>19415</td></tr>\n",
       "</tbody>\n",
       "</table>\n"
      ],
      "text/latex": [
       "A data.frame: 2 × 7\n",
       "\\begin{tabular}{r|lllllll}\n",
       "  & mean & sd & 2.5\\% & 50\\% & 97.5\\% & Rhat & n.eff\\\\\n",
       "  & <dbl> & <dbl> & <dbl> & <dbl> & <dbl> & <lgl> & <dbl>\\\\\n",
       "\\hline\n",
       "\tlambda & 4.74 & 0.21 & 4.34 & 4.74 & 5.15 & NA & 11304\\\\\n",
       "\tpi & 0.43 & 0.03 & 0.36 & 0.43 & 0.50 & NA & 19415\\\\\n",
       "\\end{tabular}\n"
      ],
      "text/markdown": [
       "\n",
       "A data.frame: 2 × 7\n",
       "\n",
       "| <!--/--> | mean &lt;dbl&gt; | sd &lt;dbl&gt; | 2.5% &lt;dbl&gt; | 50% &lt;dbl&gt; | 97.5% &lt;dbl&gt; | Rhat &lt;lgl&gt; | n.eff &lt;dbl&gt; |\n",
       "|---|---|---|---|---|---|---|---|\n",
       "| lambda | 4.74 | 0.21 | 4.34 | 4.74 | 5.15 | NA | 11304 |\n",
       "| pi | 0.43 | 0.03 | 0.36 | 0.43 | 0.50 | NA | 19415 |\n",
       "\n"
      ],
      "text/plain": [
       "       mean sd   2.5% 50%  97.5% Rhat n.eff\n",
       "lambda 4.74 0.21 4.34 4.74 5.15  NA   11304\n",
       "pi     0.43 0.03 0.36 0.43 0.50  NA   19415"
      ]
     },
     "metadata": {},
     "output_type": "display_data"
    },
    {
     "data": {
      "image/png": "[encoded data removed]",
      "text/plain": [
       "Plot with title \"Density - pi\""
      ]
     },
     "metadata": {
      "image/png": {
       "height": 360,
       "width": 600
      }
     },
     "output_type": "display_data"
    }
   ],
   "source": [
    "# Infer the parameters of the ZIP distribution using JAGS\n",
    "model_string <- \"\n",
    "model {\n",
    "    # Prior for the mean of the Poisson distribution\n",
    "    lambda ~ dgamma(1, 0.1)\n",
    "\n",
    "    # Prior for pi\n",
    "    pi ~ dbeta(1, 1)\n",
    "\n",
    "    # Likelihood\n",
    "    for (i in 1:N) {\n",
    "\n",
    "        # Is the sample drawn from the zero-inflated component?\n",
    "        zero[i] ~ dbern(pi)\n",
    "\n",
    "        # Lambda of the Poisson distribution\n",
    "        # (1e-10 because a value of zero is invalid)\n",
    "        lambda_zip[i] <- (zero[i]*1e-10) + (1-zero[i])*lambda\n",
    "    \n",
    "        # Sample from the Poisson distribution where the mean has\n",
    "        # been modulated\n",
    "        y[i] ~ dpois(lambda_zip[i])\n",
    "    }\n",
    "}\n",
    "\"\n",
    "\n",
    "model = jags.model(textConnection(model_string),\n",
    "                   data = list(y=samples, N=length(samples)))\n",
    "\n",
    "update(model, 10000, progress.bar=\"none\")\n",
    "\n",
    "samp <- coda.samples(model, \n",
    "                     variable.names=c(\"lambda\", \"pi\"), \n",
    "                     n.iter=20000, progress.bar=\"none\")\n",
    "\n",
    "# Show a summary of the variables\n",
    "MCMCsummary(samp, round = 2)\n",
    "\n",
    "MCMCtrace(samp, \n",
    "          gv=c(lambda, pi),\n",
    "          pdf=FALSE)"
   ]
  },
  {
   "cell_type": "markdown",
   "metadata": {},
   "source": [
    "The empirical values can be compared to the inferred values."
   ]
  },
  {
   "cell_type": "code",
   "execution_count": 9,
   "metadata": {},
   "outputs": [
    {
     "data": {
      "text/html": [
       "4.69827586206897"
      ],
      "text/latex": [
       "4.69827586206897"
      ],
      "text/markdown": [
       "4.69827586206897"
      ],
      "text/plain": [
       "[1] 4.698276"
      ]
     },
     "metadata": {},
     "output_type": "display_data"
    }
   ],
   "source": [
    "empirical_lambda"
   ]
  },
  {
   "cell_type": "code",
   "execution_count": 10,
   "metadata": {},
   "outputs": [
    {
     "data": {
      "text/html": [
       "4.74010775502053"
      ],
      "text/latex": [
       "4.74010775502053"
      ],
      "text/markdown": [
       "4.74010775502053"
      ],
      "text/plain": [
       "[1] 4.740108"
      ]
     },
     "metadata": {},
     "output_type": "display_data"
    }
   ],
   "source": [
    "median(as.matrix(samp)[, \"lambda\"])"
   ]
  },
  {
   "cell_type": "code",
   "execution_count": 11,
   "metadata": {},
   "outputs": [
    {
     "data": {
      "text/html": [
       "0.42"
      ],
      "text/latex": [
       "0.42"
      ],
      "text/markdown": [
       "0.42"
      ],
      "text/plain": [
       "[1] 0.42"
      ]
     },
     "metadata": {},
     "output_type": "display_data"
    }
   ],
   "source": [
    "empirical_pi"
   ]
  },
  {
   "cell_type": "code",
   "execution_count": 12,
   "metadata": {},
   "outputs": [
    {
     "data": {
      "text/html": [
       "0.425318034495478"
      ],
      "text/latex": [
       "0.425318034495478"
      ],
      "text/markdown": [
       "0.425318034495478"
      ],
      "text/plain": [
       "[1] 0.425318"
      ]
     },
     "metadata": {},
     "output_type": "display_data"
    }
   ],
   "source": [
    "median(as.matrix(samp)[, \"pi\"])"
   ]
  }
 ],
 "metadata": {
  "kernelspec": {
   "display_name": "R",
   "language": "R",
   "name": "ir"
  },
  "language_info": {
   "codemirror_mode": "r",
   "file_extension": ".r",
   "mimetype": "text/x-r-source",
   "name": "R",
   "pygments_lexer": "r",
   "version": "4.0.4"
  }
 },
 "nbformat": 4,
 "nbformat_minor": 4
}
