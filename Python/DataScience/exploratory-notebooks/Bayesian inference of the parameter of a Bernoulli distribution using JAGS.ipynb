{
 "cells": [
  {
   "cell_type": "markdown",
   "metadata": {},
   "source": [
    "# Bayesian inference of the parameter of a Bernoulli distribution using JAGS"
   ]
  },
  {
   "cell_type": "markdown",
   "metadata": {},
   "source": [
    "In this R Jupyter notebook, the parameter of a Bernoulli distribution is inferred using a Bayesian approach using JAGS."
   ]
  },
  {
   "cell_type": "code",
   "execution_count": 1,
   "metadata": {},
   "outputs": [
    {
     "name": "stderr",
     "output_type": "stream",
     "text": [
      "Loading required package: coda\n",
      "\n",
      "Linked to JAGS 4.3.0\n",
      "\n",
      "Loaded modules: basemod,bugs\n",
      "\n"
     ]
    }
   ],
   "source": [
    "# Import the required libraries\n",
    "library(MCMCvis)\n",
    "library(rjags)\n",
    "\n",
    "# Ensure the figures are easy to view in the notebook\n",
    "options(repr.plot.width=10, repr.plot.height=6)"
   ]
  },
  {
   "cell_type": "markdown",
   "metadata": {},
   "source": [
    "## Generate samples"
   ]
  },
  {
   "cell_type": "code",
   "execution_count": 2,
   "metadata": {},
   "outputs": [
    {
     "data": {
      "text/html": [
       "<style>\n",
       ".list-inline {list-style: none; margin:0; padding: 0}\n",
       ".list-inline>li {display: inline-block}\n",
       ".list-inline>li:not(:last-child)::after {content: \"\\00b7\"; padding: 0 .5ex}\n",
       "</style>\n",
       "<ol class=list-inline><li>0</li><li>1</li><li>0</li><li>0</li><li>0</li><li>0</li><li>1</li><li>1</li><li>0</li><li>0</li><li>0</li><li>0</li><li>0</li><li>0</li><li>1</li><li>0</li><li>1</li><li>1</li><li>0</li><li>1</li></ol>\n"
      ],
      "text/latex": [
       "\\begin{enumerate*}\n",
       "\\item 0\n",
       "\\item 1\n",
       "\\item 0\n",
       "\\item 0\n",
       "\\item 0\n",
       "\\item 0\n",
       "\\item 1\n",
       "\\item 1\n",
       "\\item 0\n",
       "\\item 0\n",
       "\\item 0\n",
       "\\item 0\n",
       "\\item 0\n",
       "\\item 0\n",
       "\\item 1\n",
       "\\item 0\n",
       "\\item 1\n",
       "\\item 1\n",
       "\\item 0\n",
       "\\item 1\n",
       "\\end{enumerate*}\n"
      ],
      "text/markdown": [
       "1. 0\n",
       "2. 1\n",
       "3. 0\n",
       "4. 0\n",
       "5. 0\n",
       "6. 0\n",
       "7. 1\n",
       "8. 1\n",
       "9. 0\n",
       "10. 0\n",
       "11. 0\n",
       "12. 0\n",
       "13. 0\n",
       "14. 0\n",
       "15. 1\n",
       "16. 0\n",
       "17. 1\n",
       "18. 1\n",
       "19. 0\n",
       "20. 1\n",
       "\n",
       "\n"
      ],
      "text/plain": [
       " [1] 0 1 0 0 0 0 1 1 0 0 0 0 0 0 1 0 1 1 0 1"
      ]
     },
     "metadata": {},
     "output_type": "display_data"
    }
   ],
   "source": [
    "# Probability of a 1 appearing\n",
    "theta = 0.2\n",
    "\n",
    "# Number of samples\n",
    "N = 20\n",
    "\n",
    "# Generate the samples\n",
    "samples = rbinom(N, 1, theta)\n",
    "samples"
   ]
  },
  {
   "cell_type": "code",
   "execution_count": 3,
   "metadata": {},
   "outputs": [
    {
     "data": {
      "text/html": [
       "0.35"
      ],
      "text/latex": [
       "0.35"
      ],
      "text/markdown": [
       "0.35"
      ],
      "text/plain": [
       "[1] 0.35"
      ]
     },
     "metadata": {},
     "output_type": "display_data"
    }
   ],
   "source": [
    "# Calculate the empirical value of theta\n",
    "theta_prime = sum(samples) / N\n",
    "theta_prime"
   ]
  },
  {
   "cell_type": "markdown",
   "metadata": {},
   "source": [
    "## Infer the parameter of a Bernoulli Distribution"
   ]
  },
  {
   "cell_type": "code",
   "execution_count": 4,
   "metadata": {},
   "outputs": [
    {
     "name": "stdout",
     "output_type": "stream",
     "text": [
      "Compiling model graph\n",
      "   Resolving undeclared variables\n",
      "   Allocating nodes\n",
      "Graph information:\n",
      "   Observed stochastic nodes: 20\n",
      "   Unobserved stochastic nodes: 1\n",
      "   Total graph size: 24\n",
      "\n",
      "Initializing model\n",
      "\n"
     ]
    },
    {
     "name": "stderr",
     "output_type": "stream",
     "text": [
      "Warning message in MCMCsummary(samp, round = 2):\n",
      "\"Rhat statistic cannot be calculated with one chain. NAs inserted.\"\n"
     ]
    },
    {
     "data": {
      "text/html": [
       "<table class=\"dataframe\">\n",
       "<caption>A data.frame: 1 × 7</caption>\n",
       "<thead>\n",
       "\t<tr><th></th><th scope=col>mean</th><th scope=col>sd</th><th scope=col>2.5%</th><th scope=col>50%</th><th scope=col>97.5%</th><th scope=col>Rhat</th><th scope=col>n.eff</th></tr>\n",
       "\t<tr><th></th><th scope=col>&lt;dbl&gt;</th><th scope=col>&lt;dbl&gt;</th><th scope=col>&lt;dbl&gt;</th><th scope=col>&lt;dbl&gt;</th><th scope=col>&lt;dbl&gt;</th><th scope=col>&lt;lgl&gt;</th><th scope=col>&lt;dbl&gt;</th></tr>\n",
       "</thead>\n",
       "<tbody>\n",
       "\t<tr><th scope=row>theta</th><td>0.36</td><td>0.1</td><td>0.18</td><td>0.36</td><td>0.57</td><td>NA</td><td>20000</td></tr>\n",
       "</tbody>\n",
       "</table>\n"
      ],
      "text/latex": [
       "A data.frame: 1 × 7\n",
       "\\begin{tabular}{r|lllllll}\n",
       "  & mean & sd & 2.5\\% & 50\\% & 97.5\\% & Rhat & n.eff\\\\\n",
       "  & <dbl> & <dbl> & <dbl> & <dbl> & <dbl> & <lgl> & <dbl>\\\\\n",
       "\\hline\n",
       "\ttheta & 0.36 & 0.1 & 0.18 & 0.36 & 0.57 & NA & 20000\\\\\n",
       "\\end{tabular}\n"
      ],
      "text/markdown": [
       "\n",
       "A data.frame: 1 × 7\n",
       "\n",
       "| <!--/--> | mean &lt;dbl&gt; | sd &lt;dbl&gt; | 2.5% &lt;dbl&gt; | 50% &lt;dbl&gt; | 97.5% &lt;dbl&gt; | Rhat &lt;lgl&gt; | n.eff &lt;dbl&gt; |\n",
       "|---|---|---|---|---|---|---|---|\n",
       "| theta | 0.36 | 0.1 | 0.18 | 0.36 | 0.57 | NA | 20000 |\n",
       "\n"
      ],
      "text/plain": [
       "      mean sd  2.5% 50%  97.5% Rhat n.eff\n",
       "theta 0.36 0.1 0.18 0.36 0.57  NA   20000"
      ]
     },
     "metadata": {},
     "output_type": "display_data"
    },
    {
     "data": {
      "image/png": "[encoded data removed]",
      "text/plain": [
       "Plot with title \"Density - theta\""
      ]
     },
     "metadata": {
      "image/png": {
       "height": 360,
       "width": 600
      }
     },
     "output_type": "display_data"
    }
   ],
   "source": [
    "# Infer the parameters of the Bernoulli distribution using JAGS\n",
    "model_string = \"\n",
    "model {\n",
    "    # Prior\n",
    "    theta ~ dbeta(a, b)  # probability of a 1 appearing\n",
    "\n",
    "    # Likelihood\n",
    "    for (i in 1:N) {\n",
    "        y[i] ~ dbern(theta)\n",
    "    }\n",
    "}\n",
    "\"\n",
    "\n",
    "model = jags.model(textConnection(model_string),\n",
    "                   data = list(y=samples, N=length(samples), a=1, b=1))\n",
    "\n",
    "update(model, 10000, progress.bar=\"none\")\n",
    "\n",
    "samp <- coda.samples(model, \n",
    "                     variable.names=c(\"theta\"), \n",
    "                     n.iter=20000, \n",
    "                     progress.bar=\"none\")\n",
    "\n",
    "# Show a summary of the variables\n",
    "MCMCsummary(samp, round = 2)\n",
    "\n",
    "MCMCtrace(samp, \n",
    "          gv=theta,\n",
    "          pdf=FALSE)"
   ]
  },
  {
   "cell_type": "code",
   "execution_count": null,
   "metadata": {},
   "outputs": [],
   "source": []
  }
 ],
 "metadata": {
  "kernelspec": {
   "display_name": "R",
   "language": "R",
   "name": "ir"
  },
  "language_info": {
   "codemirror_mode": "r",
   "file_extension": ".r",
   "mimetype": "text/x-r-source",
   "name": "R",
   "pygments_lexer": "r",
   "version": "4.0.4"
  }
 },
 "nbformat": 4,
 "nbformat_minor": 2
}
