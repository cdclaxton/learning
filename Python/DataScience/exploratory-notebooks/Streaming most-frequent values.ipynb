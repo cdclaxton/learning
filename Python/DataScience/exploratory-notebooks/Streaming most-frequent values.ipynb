{
 "cells": [
  {
   "cell_type": "markdown",
   "metadata": {},
   "source": [
    "# Algorithm to find the most frequent values in a stream"
   ]
  },
  {
   "cell_type": "markdown",
   "metadata": {},
   "source": [
    "## Data generator"
   ]
  },
  {
   "cell_type": "code",
   "execution_count": 26,
   "metadata": {},
   "outputs": [],
   "source": [
    "import math\n",
    "import matplotlib.pyplot as plt\n",
    "import numpy as np\n",
    "import random"
   ]
  },
  {
   "cell_type": "code",
   "execution_count": 14,
   "metadata": {},
   "outputs": [
    {
     "data": {
      "image/png": "[encoded data removed]",
      "text/plain": [
       "<Figure size 432x288 with 1 Axes>"
      ]
     },
     "metadata": {
      "needs_background": "light"
     },
     "output_type": "display_data"
    }
   ],
   "source": [
    "# Generate samples from an exponential distribution\n",
    "beta = 2\n",
    "n_samples = 1000\n",
    "\n",
    "samples = [np.random.exponential(beta) for _ in range(n_samples)]\n",
    "\n",
    "plt.hist(samples, bins=100)\n",
    "plt.show()"
   ]
  },
  {
   "cell_type": "code",
   "execution_count": 18,
   "metadata": {},
   "outputs": [],
   "source": [
    "counts = [math.ceil(s) for s in samples]"
   ]
  },
  {
   "cell_type": "code",
   "execution_count": 20,
   "metadata": {},
   "outputs": [],
   "source": [
    "values = [f\"id-{x}\" for x in range(n_samples)]"
   ]
  },
  {
   "cell_type": "code",
   "execution_count": 27,
   "metadata": {},
   "outputs": [],
   "source": [
    "# Replicate each value based on its count\n",
    "replicated_values = []\n",
    "for idx in range(n_samples):\n",
    "    for c in range(counts[idx]):\n",
    "        replicated_values.append(values[idx])\n",
    "\n",
    "# Shuffle the values\n",
    "random.shuffle(replicated_values)"
   ]
  },
  {
   "cell_type": "markdown",
   "metadata": {},
   "source": [
    "## Ground truth"
   ]
  },
  {
   "cell_type": "code",
   "execution_count": 29,
   "metadata": {},
   "outputs": [],
   "source": [
    "from collections import defaultdict"
   ]
  },
  {
   "cell_type": "code",
   "execution_count": 41,
   "metadata": {},
   "outputs": [],
   "source": [
    "def gt_most_frequent(stream, n):\n",
    "    \n",
    "    # Count up how many times each value occurs\n",
    "    gt_value_to_count = defaultdict(int)\n",
    "    for s in replicated_values:\n",
    "        gt_value_to_count[s] += 1\n",
    "    \n",
    "    # Convert the dict to a list of tuples\n",
    "    tuple_value_to_count = list(gt_value_to_count.items())\n",
    "\n",
    "    # Sort in descending order by the count\n",
    "    sorted_tuples = sorted(tuple_value_to_count, key=lambda x: x[1], reverse=True)\n",
    "    \n",
    "    return sorted_tuples[:n]"
   ]
  },
  {
   "cell_type": "code",
   "execution_count": 43,
   "metadata": {},
   "outputs": [
    {
     "data": {
      "text/plain": [
       "[('id-137', 15),\n",
       " ('id-212', 13),\n",
       " ('id-435', 13),\n",
       " ('id-777', 12),\n",
       " ('id-657', 11)]"
      ]
     },
     "execution_count": 43,
     "metadata": {},
     "output_type": "execute_result"
    }
   ],
   "source": [
    "gt_most_frequent(replicated_values, 5)"
   ]
  },
  {
   "cell_type": "markdown",
   "metadata": {},
   "source": [
    "## Naive approximation using a cache"
   ]
  },
  {
   "cell_type": "code",
   "execution_count": 55,
   "metadata": {},
   "outputs": [
    {
     "data": {
      "text/plain": [
       "{'id-723': 7,\n",
       " 'id-558': 4,\n",
       " 'id-295': 5,\n",
       " 'id-809': 6,\n",
       " 'id-655': 4,\n",
       " 'id-508': 4,\n",
       " 'id-624': 6,\n",
       " 'id-108': 4,\n",
       " 'id-903': 2,\n",
       " 'id-226': 1}"
      ]
     },
     "execution_count": 55,
     "metadata": {},
     "output_type": "execute_result"
    }
   ],
   "source": [
    "# Cache holds the value from the stream and how many have been seen\n",
    "cache = {}\n",
    "\n",
    "n = 10\n",
    "current_index = 0\n",
    "\n",
    "for idx, s in enumerate(replicated_values):\n",
    "    \n",
    "    if s in cache:\n",
    "        # Cache hit\n",
    "        cache[s] += 1\n",
    "    else:\n",
    "        \n",
    "        # Cache miss\n",
    "        if len(cache) < n:\n",
    "            cache[s] = 1\n",
    "        else:\n",
    "            # Need to evict an item from the cache\n",
    "            evicted_id = sorted(list(cache.items()), key=lambda x: x[1], reverse=False)[0][0]\n",
    "            del cache[evicted_id]\n",
    "            \n",
    "            cache[s] = 1\n",
    "            \n",
    "cache"
   ]
  },
  {
   "cell_type": "code",
   "execution_count": null,
   "metadata": {},
   "outputs": [],
   "source": []
  },
  {
   "cell_type": "code",
   "execution_count": null,
   "metadata": {},
   "outputs": [],
   "source": []
  },
  {
   "cell_type": "markdown",
   "metadata": {},
   "source": [
    "## Approximation"
   ]
  },
  {
   "cell_type": "code",
   "execution_count": null,
   "metadata": {},
   "outputs": [],
   "source": [
    "class CacheNode:\n",
    "    def __init__(self, data):\n",
    "        self.data = data\n",
    "        self.next = None\n",
    "        seld.prev = None\n",
    "    \n",
    "    def __repr__(self):\n",
    "        return str(self.data)\n",
    "\n",
    "    def __str__(self):\n",
    "        return self.__repr__()\n",
    "    \n",
    "class CacheDoublyLinkedList:\n",
    "    def __init__(self):\n",
    "        self.head = None\n",
    "        self.tail = None\n",
    "    \n",
    "    \n",
    "    "
   ]
  },
  {
   "cell_type": "code",
   "execution_count": null,
   "metadata": {},
   "outputs": [],
   "source": []
  }
 ],
 "metadata": {
  "kernelspec": {
   "display_name": "Python 3",
   "language": "python",
   "name": "python3"
  },
  "language_info": {
   "codemirror_mode": {
    "name": "ipython",
    "version": 3
   },
   "file_extension": ".py",
   "mimetype": "text/x-python",
   "name": "python",
   "nbconvert_exporter": "python",
   "pygments_lexer": "ipython3",
   "version": "3.8.7"
  }
 },
 "nbformat": 4,
 "nbformat_minor": 4
}
