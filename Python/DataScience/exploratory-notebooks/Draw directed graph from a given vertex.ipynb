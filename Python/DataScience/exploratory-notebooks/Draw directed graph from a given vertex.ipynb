{
 "cells": [
  {
   "cell_type": "markdown",
   "metadata": {},
   "source": [
    "# Draw directed graph from a given vertex"
   ]
  },
  {
   "cell_type": "code",
   "execution_count": 1,
   "metadata": {},
   "outputs": [],
   "source": [
    "import networkx as nx\n",
    "import matplotlib.pyplot as plt\n",
    "import networkx as nx\n",
    "\n",
    "from collections import deque"
   ]
  },
  {
   "cell_type": "code",
   "execution_count": 13,
   "metadata": {},
   "outputs": [],
   "source": [
    "class Vertex:\n",
    "    def __init__(self, name):\n",
    "        self.name = name\n",
    "        self.children = []\n",
    "        self.parents = []\n",
    "    \n",
    "    def __repr__(self):\n",
    "        return f\"Vertex('{self.name}')\""
   ]
  },
  {
   "cell_type": "code",
   "execution_count": 14,
   "metadata": {},
   "outputs": [],
   "source": [
    "def connect_parent_to_child(parent, child):\n",
    "    parent.children.append(child)\n",
    "    child.parents.append(parent)"
   ]
  },
  {
   "cell_type": "code",
   "execution_count": 19,
   "metadata": {},
   "outputs": [],
   "source": [
    "def draw_data_graph_from_vertex(vertex):\n",
    "    \"\"\"Draw the data graph given a single vertex within the graph.\"\"\"\n",
    "    \n",
    "    G = nx.DiGraph()\n",
    "    explored = set()\n",
    "    \n",
    "    q = deque()\n",
    "    q.append(vertex)\n",
    "    \n",
    "    def add_directed_edge(source, destination):\n",
    "        \"\"\"Add a directed edge to the graph.\"\"\"\n",
    "        \n",
    "        src_label = source.name\n",
    "        dst_label = destination.name\n",
    "        G.add_edge(src_label, dst_label)\n",
    "        \n",
    "    # 1st pass -- find all vertices\n",
    "    all_vertices = []\n",
    "    \n",
    "    while len(q) > 0:\n",
    "        \n",
    "        # Take a vertex off the queue\n",
    "        vertex = q.popleft()\n",
    "        all_vertices.append(vertex)\n",
    "        \n",
    "        # Record that the vertex has been explored\n",
    "        explored.add(vertex)\n",
    "        \n",
    "        for p in vertex.parents:\n",
    "            if not p in explored:\n",
    "                explored.add(p)\n",
    "                q.append(p)\n",
    "        \n",
    "        for c in vertex.children:\n",
    "            if not c in explored:\n",
    "                explored.add(c)\n",
    "                q.append(c)          \n",
    "    \n",
    "    # 2nd pass -- add parent to child edges\n",
    "    for v in all_vertices:\n",
    "        \n",
    "        for c in v.children:\n",
    "            add_directed_edge(v, c)\n",
    "    \n",
    "    # Draw the graph\n",
    "    nx.draw(G, with_labels=True, font_weight='bold')"
   ]
  },
  {
   "cell_type": "code",
   "execution_count": 20,
   "metadata": {},
   "outputs": [
    {
     "data": {
      "image/png": "[encoded data removed]",
      "text/plain": [
       "<Figure size 432x288 with 1 Axes>"
      ]
     },
     "metadata": {},
     "output_type": "display_data"
    }
   ],
   "source": [
    "a = Vertex(\"A\")\n",
    "b = Vertex(\"B\")\n",
    "c = Vertex(\"C\")\n",
    "d = Vertex(\"D\")\n",
    "\n",
    "connect_parent_to_child(a,b)\n",
    "connect_parent_to_child(a,c)\n",
    "connect_parent_to_child(b,d)\n",
    "connect_parent_to_child(c,d)\n",
    "\n",
    "draw_data_graph_from_vertex(a)"
   ]
  },
  {
   "cell_type": "code",
   "execution_count": 21,
   "metadata": {},
   "outputs": [
    {
     "data": {
      "image/png": "[encoded data removed]",
      "text/plain": [
       "<Figure size 432x288 with 1 Axes>"
      ]
     },
     "metadata": {},
     "output_type": "display_data"
    }
   ],
   "source": [
    "# A ---> B\n",
    "a = Vertex(\"A\")\n",
    "b = Vertex(\"B\")\n",
    "connect_parent_to_child(a,b)\n",
    "draw_data_graph_from_vertex(a)"
   ]
  },
  {
   "cell_type": "code",
   "execution_count": null,
   "metadata": {},
   "outputs": [],
   "source": []
  }
 ],
 "metadata": {
  "kernelspec": {
   "display_name": "Python 3",
   "language": "python",
   "name": "python3"
  },
  "language_info": {
   "codemirror_mode": {
    "name": "ipython",
    "version": 3
   },
   "file_extension": ".py",
   "mimetype": "text/x-python",
   "name": "python",
   "nbconvert_exporter": "python",
   "pygments_lexer": "ipython3",
   "version": "3.8.7"
  }
 },
 "nbformat": 4,
 "nbformat_minor": 4
}
