{
 "cells": [
  {
   "cell_type": "markdown",
   "metadata": {},
   "source": [
    "# Changepoint inference for Poisson distributed samples using Gibbs Sampling"
   ]
  },
  {
   "cell_type": "markdown",
   "metadata": {},
   "source": [
    "Notes were taken from \"Bayesian Inference: Gibbs Sampling\" by Ilker Yildirim (http://www.mit.edu/~ilkery/papers/GibbsSampling.pdf)"
   ]
  },
  {
   "cell_type": "markdown",
   "metadata": {},
   "source": [
    "The definition of the conditional probability of event $B$ given event $A$ is given by:\n",
    "\n",
    "$$\n",
    "p(B|A) = \\frac{p(A,B)}{p(A)}, p(A) > 0\n",
    "$$\n",
    "\n",
    "The joint probability $p(A,B)$ is given by:\n",
    "\n",
    "$$\n",
    "\\begin{align}\n",
    "p(A,B) &= p(B|A)p(A) \\\\\n",
    "       &= p(A|B)p(B) \\\\\n",
    "\\end{align}\n",
    "$$\n",
    "\n",
    "therefore\n",
    "\n",
    "$$\n",
    "p(B|A) = \\frac{p(A|B)p(B)}{p(A)}.\n",
    "$$\n",
    "\n",
    "Using the sum rule\n",
    "\n",
    "$$\n",
    "p(A) = \\sum_{B_i} p(A,B_i)\n",
    "$$\n",
    "\n",
    "Bayes' theorem can be written as\n",
    "\n",
    "$$\n",
    "p(B|A) = \\frac{p(A|B)p(B)}{ \\sum_{B_i} p(A,B_i) }.\n",
    "$$\n",
    "\n",
    "The goal of Bayesian inference is to maintain a full posterior probability distribution over a set of random variables. However, using this distribution often involves computing integrals which are intractable in general. Sampling algorithms based on Markov Chain Monte Carlo (MCMC) techniques provide a means of finding solutions to such inference problems without having to solve those integrals."
   ]
  },
  {
   "cell_type": "markdown",
   "metadata": {},
   "source": [
    "## Generative changepoint model"
   ]
  },
  {
   "cell_type": "markdown",
   "metadata": {},
   "source": [
    "Consider a dataset of discrete values $x_i$ where $0 \\leq i \\leq N-1$ where the mean of the values for timesteps $0$ to $n-1$ are different to those for timesteps $n$ to $N-1$. The samples in the dataset are drawn from a Poisson distribution, but the mean of the Poisson distribution $\\lambda$ changes once at an unknown timestep $n$. The mean of the Poisson distribution up to time $n$ is denoted $\\lambda_1$ and it becomes $\\lambda_2$ afterwards.\n",
    "\n",
    "The generative model is as follows:\n",
    "\n",
    "$$\n",
    "n \\sim \\text{Uniform}(0, 1, \\dots, N-1)\n",
    "$$\n",
    "\n",
    "$$\n",
    "\\lambda_i \\sim \\text{Gamma}(\\lambda_i; a, b)\n",
    "$$\n",
    "\n",
    "$$\n",
    "x_i \\sim \n",
    "\\begin{cases}\n",
    " \\text{Poisson}(x_i; \\lambda_1) & 0 \\leq i < n \\\\\n",
    " \\text{Poisson}(x_i; \\lambda_2) & n \\leq i \\leq N-1 \\\\\n",
    "\\end{cases}\n",
    "$$"
   ]
  },
  {
   "cell_type": "markdown",
   "metadata": {},
   "source": [
    "## Poisson distributed samples"
   ]
  },
  {
   "cell_type": "markdown",
   "metadata": {},
   "source": [
    "The samples are drawn from Poisson distributions, depending on the timestep. The probability mass function for a Poisson distribution is given by\n",
    "\n",
    "$$\n",
    "\\text{Poisson}(x;\\lambda) = e^{-\\lambda} \\frac{\\lambda}{x!}\n",
    "$$\n",
    "\n",
    "The natural log of the PDF for the Poisson distribution is given by\n",
    "\n",
    "$$\n",
    "\\begin{align}\n",
    "\\ln \\text{Poisson}(x;\\lambda) &= \\ln \\big( e^{-\\lambda} \\frac{\\lambda}{x!} \\big) \\\\\n",
    "&= \\ln \\big( e^{-\\lambda} \\big) + \\ln \\Big( \\frac{\\lambda^x}{x!} \\Big) \\\\\n",
    "&= -\\lambda + \\ln \\lambda^x - \\ln x! \\\\\n",
    "&= -\\lambda + x \\ln \\lambda - \\ln x! \\\\\n",
    "&= x \\ln \\lambda -\\lambda - \\ln x! \\\\\n",
    "\\end{align}\n",
    "$$\n",
    "\n",
    "Therefore the PMF of the Poisson distribution can be written as\n",
    "\n",
    "$$\n",
    "\\begin{align}\n",
    "\\text{Poisson}(x;\\lambda) &= e^{-\\lambda} \\frac{\\lambda}{x!} \\\\\n",
    "&= \\exp \\Big( x \\ln \\lambda -\\lambda - \\ln x! \\Big)\n",
    "\\end{align}\n",
    "$$"
   ]
  },
  {
   "cell_type": "markdown",
   "metadata": {},
   "source": [
    "## Gamma distributed means of the Poisson distributions"
   ]
  },
  {
   "cell_type": "markdown",
   "metadata": {},
   "source": [
    "The mean of the Poisson distribution $\\lambda$ is modelled as being drawn from a Gamma distribution. The PDF of a Gamma distribution is given by\n",
    "\n",
    "$$\n",
    "\\text{Gamma}(\\lambda; a, b) = \\frac{1}{\\Gamma(a)} b^a \\lambda^{a-1} \\exp(-b \\lambda)\n",
    "$$\n",
    "\n",
    "The natural log of the Gamma PDF is given by\n",
    "\n",
    "$$\n",
    "\\begin{align}\n",
    "\\ln \\text{Gamma}(\\lambda; a, b) &= \\ln \\Big( \\frac{1}{\\Gamma(a)} b^a \\lambda^{a-1} \\exp(-b \\lambda) \\Big) \\\\\n",
    "&= \\ln \\Big( \\frac{1}{\\Gamma(a)} \\Big) + \\ln b^a + \\ln \\lambda^{a-1} - b \\lambda \\\\\n",
    "&= \\ln 1 - \\ln \\Gamma(a) + a \\ln b + (a-1) \\ln \\lambda - b \\lambda \\\\\n",
    "&= (a-1) \\ln \\lambda - b \\lambda - \\ln \\Gamma(a) + a \\ln b  \\\\\n",
    "\\end{align}\n",
    "$$\n",
    "\n",
    "This is because $\\ln 1 = 0$. Therefore, the Gamma PDF can be written as:\n",
    "\n",
    "$$\n",
    "\\begin{align}\n",
    "\\text{Gamma}(\\lambda; a, b) &= \\frac{1}{\\Gamma(a)} b^a \\lambda^{a-1} \\exp(-b \\lambda) \\\\\n",
    "&= \\exp \\Big( (a-1) \\ln \\lambda - b \\lambda - \\ln \\Gamma(a) + a \\ln b \\Big)\n",
    "\\end{align}\n",
    "$$"
   ]
  },
  {
   "cell_type": "markdown",
   "metadata": {},
   "source": [
    "## Uniform distribution for timestep of the changepoint"
   ]
  },
  {
   "cell_type": "markdown",
   "metadata": {},
   "source": [
    "The discrete uniform distribution has a piecewise probability mass function (PMF) given by\n",
    "\n",
    "$$\n",
    "\\text{Uniform}(n; 0, 1, \\dots, N-1) = \n",
    "\\begin{cases}\n",
    " \\frac{1}{N} & 0 \\leq n \\leq N-1 \\\\\n",
    " 0           & \\text{otherwise} \\\\\n",
    "\\end{cases}\n",
    "$$\n",
    "\n",
    "The natural log of the uniform distribution for $0 \\leq n \\leq N-1$ is given by\n",
    "\n",
    "$$\n",
    "\\begin{align}\n",
    "\\ln \\text{Uniform}(n; 0, 1, \\dots, N-1) &= \\ln \\frac{1}{N} \\\\\n",
    "                                        &= \\ln 1 - \\ln N \\\\\n",
    "                                        &= - \\ln N\n",
    "\\end{align}\n",
    "$$"
   ]
  },
  {
   "cell_type": "markdown",
   "metadata": {},
   "source": [
    "## Derivation of the joint distribution\n",
    "\n",
    "From Bayes' theorem, the posterior distribution is given by\n",
    "\n",
    "$$\n",
    "p(\\lambda_1, \\lambda_2, n | x) = \\frac{p(x|\\lambda_1, \\lambda_2, n) p(\\lambda_1, \\lambda_2, n)}{p(x)}\n",
    "$$\n",
    "\n",
    "The numerator is the **joint distribution**. The joint distribution is given by\n",
    "\n",
    "$$\n",
    "\\begin{align}\n",
    "p(\\lambda_1, \\lambda_2, n, x) &= p(x|\\lambda_1, \\lambda_2, n) p(\\lambda_1, \\lambda_2, n) \\\\\n",
    "                              &= p(x|\\lambda_1, \\lambda_2, n) p(\\lambda_1) p(\\lambda_2) p(n) \\\\\n",
    "                              &= p(x_{0:n-1} | \\lambda_1) p(x_{n:N-1} | \\lambda_2) p(\\lambda_1) p(\\lambda_2) p(n) \\\\\n",
    "\\end{align}\n",
    "$$\n",
    "\n",
    "The samples are assumed to be IID within a given section of the data, i.e. pre- or post-changepoint, therefore\n",
    "\n",
    "$$\n",
    "p(x_{0:n-1}) = \\prod_{i=0}^{n-1} p(x_i | \\lambda_1)\n",
    "$$\n",
    "\n",
    "$$\n",
    "p(x_{n:N-1}) = \\prod_{i=n}^{N-1} p(x_i | \\lambda_2)\n",
    "$$\n",
    "\n",
    "Therefore, the joint distribution can be written as\n",
    "\n",
    "$$\n",
    "p(\\lambda_1, \\lambda_2, n, x) = \\Big( \\prod_{i=0}^{n-1} p(x_i | \\lambda_1) \\Big) \\Big( \\prod_{i=n}^{N-1} p(x_i | \\lambda_2) \\Big) p(\\lambda_1) p(\\lambda_2) p(n)\n",
    "$$\n",
    "\n",
    "The natural logarithm of the joint distribution is given by\n",
    "\n",
    "$$\n",
    "\\begin{align}\n",
    "\\ln p(\\lambda_1, \\lambda_2, n, x) &= \\ln \\Big( \\prod_{i=0}^{n-1} p(x_i | \\lambda_1) \\Big) + \\ln \\Big( \\prod_{i=n}^{N-1} p(x_i | \\lambda_2) \\Big) + \\ln p(\\lambda_1) + \\ln p(\\lambda_2) +\\ln p(n) \\\\\n",
    "  &= \\sum_{i=0}^{n-1} \\ln p(x_i | \\lambda_1) + \\sum_{i=n}^{N-1} \\ln p(x_i | \\lambda_2) + \\ln p(\\lambda_1) + \\ln p(\\lambda_2) +\\ln p(n)\n",
    "\\end{align}\n",
    "$$\n",
    "\n",
    "The samples prior to the changepoint are Poisson distributed, as are those after the changepoint (but with a different $\\lambda$), therefore\n",
    "\n",
    "$$\n",
    "\\begin{align}\n",
    "\\sum_{i=0}^{n-1} \\ln p(x_i | \\lambda_1) \n",
    "  &= \\sum_{i=0}^{n} \\Big( x_i \\ln \\lambda_1 -\\lambda_1 - \\ln x_i! \\Big) \\\\\n",
    "  &= \\ln \\lambda_1 \\sum_{i=0}^{n} x_i - n \\lambda_1 - \\sum_{i=0}^{n} \\ln x_i!\n",
    "\\end{align} \n",
    "$$\n",
    "\n",
    "$$\n",
    "\\begin{align}\n",
    "\\sum_{i=n}^{N-1} \\ln p(x_i | \\lambda_2) \n",
    "  &= \\sum_{i=n}^{N-1} \\Big( x_i \\ln \\lambda_2 -\\lambda_2 - \\ln x_i! \\Big) \\\\\n",
    "  &= \\ln \\lambda_2 \\sum_{i=n}^{N-1} x_i - (N-n) \\lambda_2 - \\sum_{i=n}^{N-1} \\ln x_i!\n",
    "\\end{align} \n",
    "$$\n",
    "\n",
    "The means of the Poisson distributions are Gamma distributed, therefore the log of the probability densities are given by\n",
    "\n",
    "$$\n",
    "\\ln p(\\lambda_1) = (a-1) \\ln \\lambda_1 - b \\lambda_1 - \\ln \\Gamma(a) + a \\ln b\n",
    "$$\n",
    "\n",
    "$$\n",
    "\\ln p(\\lambda_2) = (a-1) \\ln \\lambda_2 - b \\lambda_2 - \\ln \\Gamma(a) + a \\ln b\n",
    "$$\n",
    "\n",
    "The location of the changepoint is uniformly distributed, therefore the log of the probability mass function is given by\n",
    "\n",
    "$$\n",
    "\\ln p(n) = -\\ln N\n",
    "$$\n",
    "\n",
    "Recall that the natural log of the joint distribution is given by\n",
    "\n",
    "$$\n",
    "\\begin{align}\n",
    "\\ln p(\\lambda_1, \\lambda_2, n, x) \n",
    "  &= \\sum_{i=0}^{n-1} \\ln p(x_i | \\lambda_1) + \\sum_{i=n}^{N-1} \\ln p(x_i | \\lambda_2) + \\ln p(\\lambda_1) + \\ln p(\\lambda_2) +\\ln p(n) \\\\\n",
    "\\end{align} \n",
    "$$\n",
    "\n",
    "Substituting gives\n",
    "\n",
    "$$\n",
    "\\begin{eqnarray}\n",
    "\\ln p(\\lambda_1, \\lambda_2, n, x) & = & \\ln \\lambda_1 \\sum_{i=0}^{n} x_i - n \\lambda_1 - \\sum_{i=0}^{n} \\ln x_i! + \\\\ \n",
    "                                  &   & \\ln \\lambda_2 \\sum_{i=n}^{N-1} x_i - (N-n) \\lambda_2 - \\sum_{i=n}^{N-1} \\ln x_i! + \\\\\n",
    "                                  &   & (a-1) \\ln \\lambda_1 - b \\lambda_1 - \\ln \\Gamma(a) + a \\ln b + \\\\\n",
    "                                  &   & (a-1) \\ln \\lambda_2 - b \\lambda_2 - \\ln \\Gamma(a) + a \\ln b - \\\\\n",
    "                                  &   & \\ln N\n",
    "\\end{eqnarray} \n",
    "$$"
   ]
  },
  {
   "cell_type": "markdown",
   "metadata": {},
   "source": [
    "Collecting up the terms in the log of the joint posterior gives\n",
    "\n",
    "$$\n",
    "\\begin{eqnarray}\n",
    "\\ln p(\\lambda_1, \\lambda_2, n, x) & = & \\ln \\lambda_1 \\sum_{i=0}^{n-1} x_i - \\sum_{i=0}^{n-1} \\ln x_i! + \\\\\n",
    "                                  &   & \\ln \\lambda_2 \\sum_{i=n}^{N-1} x_i - \\sum_{i=n}^{N-1} \\ln x_i! + \\\\\n",
    "                                  &   & (a-1) \\ln \\lambda_1 - \\lambda_1 (n+b) + \\\\\n",
    "                                  &   & (a-1) \\ln \\lambda_2 - \\lambda_2 (b + N - n) + \\\\\n",
    "                                  &   & 2(\\ln \\Gamma(a) + a \\ln b) - N\n",
    "\\end{eqnarray} \n",
    "$$"
   ]
  },
  {
   "cell_type": "markdown",
   "metadata": {},
   "source": [
    "## Conditional posterior distributions\n",
    "\n",
    "The posterior conditional distributions for each variable are obtained by collecting the terms from the full joint distribution that include the variable of interest.\n",
    "\n",
    "### Conditional posterior distributions for $\\lambda_1$\n",
    "\n",
    "The joint conditional probability distribution for $\\lambda_1$ is given by\n",
    "\n",
    "$$\n",
    "\\begin{align}\n",
    "\\ln p(\\lambda_1 | \\lambda_2, n, x) &\\propto \\ln p(\\lambda_1, \\lambda_2, n, x) \\\\\n",
    "  &= \\ln \\lambda_1 \\sum_{i=0}^{n-1} x_i + (a-1) \\ln \\lambda_1 - \\lambda_1 (n+b) \\\\\n",
    "  &= \\ln \\lambda_1 \\Big( \\sum_{i=0}^{n-1} x_i + a - 1 \\Big) - (n + b)\\lambda_1\n",
    "\\end{align}\n",
    "$$\n",
    "\n",
    "The log Gamma distribution is given by\n",
    "\n",
    "$$\n",
    "\\ln \\text{Gamma}(\\lambda; \\hat{a}, \\hat{b}) = (\\hat{a}-1) \\ln \\lambda - \\hat{b} \\lambda - \\ln \\Gamma(\\hat{a}) + \\hat{a} \\ln \\hat{b}\n",
    "$$\n",
    "\n",
    "therefore\n",
    "\n",
    "$$\n",
    "\\hat{a} - 1 = \\Big( \\sum_{i=0}^{n-1} x_i \\Big) + a - 1 \\implies \\hat{a} = \\Big( \\sum_{i=0}^{n-1} x_i \\Big) + a\n",
    "$$\n",
    "\n",
    "$$\n",
    "\\hat{b} = n + b\n",
    "$$\n",
    "\n",
    "thus the joint conditional probability for $\\lambda_1$ is given by\n",
    "\n",
    "$$\n",
    "\\boxed{\n",
    "p(\\lambda_1 | \\lambda_2, n, x) \\sim Gamma \\Big( \\lambda_1; a + \\sum_{i=0}^{n-1} x_i , n + b \\Big)\n",
    "}\n",
    "$$"
   ]
  },
  {
   "cell_type": "markdown",
   "metadata": {},
   "source": [
    "### Conditional posterior distributions for $\\lambda_2$\n",
    "\n",
    "The conditional posterior probability distribution for $\\lambda_2$ is given by\n",
    "\n",
    "$$\n",
    "\\begin{align}\n",
    "\\ln p(\\lambda_2 | \\lambda_1, n, x) &\\propto \\ln p(\\lambda_1, \\lambda_2, n, x) \\\\\n",
    "  &= \\ln \\lambda_2 \\sum_{i=n}^{N-1} x_i + (a-1) \\ln \\lambda_2 - \\lambda_2 (b + N - n) \\\\\n",
    "  &= \\ln \\lambda_2 \\Big( \\sum_{i=n}^{N-1} x_i + a - 1 \\Big) - (b + N - n)\\lambda_2\n",
    "\\end{align}\n",
    "$$\n",
    "\n",
    "The log Gamma distribution is given by\n",
    "\n",
    "$$\n",
    "\\ln \\text{Gamma}(\\lambda; \\hat{a}, \\hat{b}) = (\\hat{a}-1) \\ln \\lambda - \\hat{b} \\lambda - \\ln \\Gamma(\\hat{a}) + \\hat{a} \\ln \\hat{b}\n",
    "$$\n",
    "\n",
    "therefore\n",
    "\n",
    "$$\n",
    "\\hat{a} - 1 = \\Big( \\sum_{i=n}^{N-1} x_i \\Big) + a - 1 \\implies \\hat{a} = \\Big( \\sum_{i=n}^{N-1} x_i \\Big) + a\n",
    "$$\n",
    "\n",
    "$$\n",
    "\\hat{b} = b + N - n\n",
    "$$\n",
    "\n",
    "thus the conditional posterior probability for $\\lambda_2$ is given by\n",
    "\n",
    "$$\n",
    "\\boxed{\n",
    "p(\\lambda_2 | \\lambda_1, n, x) \\sim Gamma \\Big( \\lambda_2; a + \\sum_{i=n}^{N-1} x_i , b + N - n \\Big)\n",
    "}\n",
    "$$"
   ]
  },
  {
   "cell_type": "markdown",
   "metadata": {},
   "source": [
    "### Conditional posterior distributions for $n$\n",
    "\n",
    "The log of the conditional posterior probability for $n$ is given by\n",
    "\n",
    "$$\n",
    "\\begin{align}\n",
    "\\ln p(n| \\lambda_1, \\lambda_2, x) &\\propto \\ln p(\\lambda_1, \\lambda_2, n, x) \\\\\n",
    "  &= \\ln \\lambda_1 \\sum_{i=0}^{n} x_i + \\ln \\lambda_2 \\sum_{i=n}^{N-1} x_i - \\lambda_1 (n + b) + \\lambda_2 (b + N - n)\n",
    "\\end{align}\n",
    "$$\n",
    "\n",
    "therefore the conditional posterior probability distribution for $n$ is\n",
    "\n",
    "$$\n",
    "\\boxed{\n",
    "p(n| \\lambda_1, \\lambda_2, x) \\propto \\exp \\left\\{  \\ln \\lambda_1 \\sum_{i=0}^{n} x_i + \\ln \\lambda_2 \\sum_{i=n}^{N-1} x_i - \\lambda_1 n + \\lambda_2 (N - n) \\right\\}\n",
    "}\n",
    "$$\n",
    "\n",
    "The conditional posterior for $n$ is not of a known closed form, however, samples can be drawn from it using a multinominal distribution by computing $p(n| \\lambda_1, \\lambda_2, x)$ for $n = 0, 1, \\dots, N-1$."
   ]
  },
  {
   "cell_type": "markdown",
   "metadata": {},
   "source": [
    "## Gibbs sampling\n",
    "\n",
    "Gibbs sampling generates posterior samples by walking through each variable (or block of variables) to sample from its posterior conditional distribution, where the remaining variables are held constant.\n",
    "\n",
    "Typically, the random variables are initialised by sampling from their prior distributions.\n",
    "\n",
    "The iterative process of walking through the variables continues until convergence has been reached. \n",
    "\n",
    "The Gibbs sampler pseudo-code is as follows:\n",
    "\n",
    "> Initialise $\\lambda_1^{(0)}$, $\\lambda_2^{(0)}$, $n^{(0)}$\n",
    ">\n",
    "> For iteration $i = 1, 2, \\dots, M$ do  \n",
    "$\\quad \\lambda_1^{(i)} \\sim p(\\lambda_1 | \\lambda_2^{(i-1)}, n^{(i-1)}, x)$  \n",
    "$\\quad \\lambda_2^{(i)} \\sim p(\\lambda_2 | \\lambda_1^{(i)}, n^{(i-1)}, x)$  \n",
    "$\\quad n^{(i)} \\sim p(n | \\lambda_1^{(i)}, \\lambda_1^{(i)}, x)$  \n",
    "\n",
    "The samples in early iterations may not be representative of the actual posterior distribution, so they are typically discarded and are denoted 'burn-in' samples."
   ]
  },
  {
   "cell_type": "markdown",
   "metadata": {},
   "source": [
    "## Summary of solving inference problems using Gibbs sampling\n",
    "\n",
    "To solve an inference problem using Gibbs sampling:\n",
    "\n",
    "1. Derive the full joint distribution for the model\n",
    "2. Derive the posterior conditional distributions for each of the random variables within the model from the joint distribution\n",
    "3. Simulate samples from the posterior joint distribution using the Gibbs sampling algorithm"
   ]
  },
  {
   "cell_type": "markdown",
   "metadata": {},
   "source": [
    "## Experiment"
   ]
  },
  {
   "cell_type": "code",
   "execution_count": 1,
   "metadata": {},
   "outputs": [],
   "source": [
    "import matplotlib.pyplot as plt\n",
    "import numpy as np\n",
    "import random\n",
    "\n",
    "from scipy import stats"
   ]
  },
  {
   "cell_type": "markdown",
   "metadata": {},
   "source": [
    "### Generate dataset"
   ]
  },
  {
   "cell_type": "code",
   "execution_count": 2,
   "metadata": {},
   "outputs": [
    {
     "name": "stdout",
     "output_type": "stream",
     "text": [
      "Actual changepoint: 16\n",
      "Lambda 1: 2\n",
      "Lambda 2: 5\n"
     ]
    }
   ],
   "source": [
    "# Number of samples of data\n",
    "N = 50\n",
    "\n",
    "# Parameters of the Gamma distribution\n",
    "a = 2\n",
    "b = 1\n",
    "\n",
    "# Changepoint location\n",
    "n_actual = random.randint(0, N-1)\n",
    "\n",
    "# Means of the Poisson distributions\n",
    "lambda1_actual = 2 #stats.gamma.rvs(a, scale=1/b)\n",
    "lambda2_actual = 5 # stats.gamma.rvs(a, scale=1/b)\n",
    "\n",
    "print(f\"Actual changepoint: {n_actual}\")\n",
    "print(f\"Lambda 1: {lambda1_actual}\")\n",
    "print(f\"Lambda 2: {lambda2_actual}\")"
   ]
  },
  {
   "cell_type": "code",
   "execution_count": 3,
   "metadata": {},
   "outputs": [
    {
     "data": {
      "image/png": "[encoded data removed]",
      "text/plain": [
       "<Figure size 432x288 with 1 Axes>"
      ]
     },
     "metadata": {
      "needs_background": "light"
     },
     "output_type": "display_data"
    }
   ],
   "source": [
    "# Plot the prior distribution\n",
    "x = np.arange(0.01, 10, 0.05)\n",
    "y = [stats.gamma.pdf(xi, a, scale=1/b) for xi in x] \n",
    "plt.plot(x, y)\n",
    "plt.xlabel('x')\n",
    "plt.ylabel('pdf(x)')\n",
    "plt.show()"
   ]
  },
  {
   "cell_type": "code",
   "execution_count": 4,
   "metadata": {},
   "outputs": [],
   "source": [
    "# Generate timeseries samples\n",
    "t = range(0, N)\n",
    "x = np.zeros(N)\n",
    "\n",
    "# Mean of the Poisson distribution at each timestep\n",
    "lambdas = [lambda1_actual]*N\n",
    "lambdas[n_actual:] = [lambda2_actual]*(N-n_actual)\n",
    "\n",
    "x = stats.poisson.rvs(lambdas)"
   ]
  },
  {
   "cell_type": "code",
   "execution_count": 5,
   "metadata": {},
   "outputs": [
    {
     "data": {
      "image/png": "[encoded data removed]",
      "text/plain": [
       "<Figure size 432x288 with 1 Axes>"
      ]
     },
     "metadata": {
      "needs_background": "light"
     },
     "output_type": "display_data"
    }
   ],
   "source": [
    "plt.stem(range(N),x,linefmt='b-', markerfmt='bo', label='Observation')\n",
    "plt.plot(range(N), lambdas, '--r', label='Actual $\\lambda$')\n",
    "plt.xlabel('t')\n",
    "plt.ylabel('x')\n",
    "plt.legend()\n",
    "plt.show()"
   ]
  },
  {
   "cell_type": "markdown",
   "metadata": {},
   "source": [
    "### Perform inference using Gibbs sampling"
   ]
  },
  {
   "cell_type": "code",
   "execution_count": 6,
   "metadata": {},
   "outputs": [],
   "source": [
    "def sample_conditional_posterior_lambda1(a, b, x, n):\n",
    "    \"\"\"Draw a sample from the conditional posterior for lambda1.\"\"\"\n",
    "    \n",
    "    assert len(x) > 0\n",
    "    \n",
    "    param_a = a + np.sum(x[:n])\n",
    "    param_b = n + b\n",
    "    \n",
    "    return stats.gamma.rvs(a=param_a, scale=1.0/param_b)"
   ]
  },
  {
   "cell_type": "code",
   "execution_count": 7,
   "metadata": {},
   "outputs": [],
   "source": [
    "def sample_conditional_posterior_lambda2(a, b, x, N, n):\n",
    "    \"\"\"Draw a sample from the conditional posterior for lambda2.\"\"\"\n",
    "    \n",
    "    assert len(x) > 0\n",
    "    assert n <= N\n",
    "    \n",
    "    param_a = a + np.sum(x[n:])\n",
    "    param_b = N - n + b\n",
    "    \n",
    "    return stats.gamma.rvs(a=param_a, scale=1.0/param_b)    "
   ]
  },
  {
   "cell_type": "code",
   "execution_count": 8,
   "metadata": {},
   "outputs": [],
   "source": [
    "import numpy\n",
    "from numpy import log, exp\n",
    "from numpy.random import multinomial"
   ]
  },
  {
   "cell_type": "code",
   "execution_count": 9,
   "metadata": {},
   "outputs": [],
   "source": [
    "def sample_conditional_posterior_n(lambda1, lambda2, x, N):\n",
    "    \"\"\"Draw a sample from the conditional posterior for n.\"\"\"\n",
    "    \n",
    "    assert len(x) > 0\n",
    "    assert N == len(x)\n",
    "    \n",
    "    lambda1 = max(np.finfo(float).eps, lambda1)\n",
    "    lambda2 = max(np.finfo(float).eps, lambda2)\n",
    "\n",
    "    # Calculate the probability for each timestep\n",
    "    p = np.array([0]*N)\n",
    "    for n in range(N):\n",
    "        p[n] = np.log(lambda1)*np.sum(x[:n]) - lambda1*n + \\\n",
    "                np.log(lambda2)*np.sum(x[n:]) - (N-n)*lambda2\n",
    "    p = np.exp(p - np.max(p))\n",
    "    \n",
    "    # Normalise the probabilities\n",
    "    p = p / np.sum(p)\n",
    "\n",
    "    # Sampled value of n (changepoint)\n",
    "    samples = np.random.multinomial(1, p)\n",
    "    n = np.where(samples == 1)[0][0]\n",
    "    assert samples[n] == 1\n",
    "\n",
    "    return n"
   ]
  },
  {
   "cell_type": "code",
   "execution_count": 10,
   "metadata": {},
   "outputs": [],
   "source": [
    "# Initialise the chain\n",
    "lambda1 = [stats.gamma.rvs(a, scale=1/b)]\n",
    "lambda2 = [stats.gamma.rvs(a, scale=1/b)]\n",
    "n = [random.randint(0, N-1)]"
   ]
  },
  {
   "cell_type": "code",
   "execution_count": 11,
   "metadata": {},
   "outputs": [],
   "source": [
    "for i in range(1, 5200):\n",
    "    lambda1.append(sample_conditional_posterior_lambda1(a, b, x, n[i-1]))\n",
    "    lambda2.append(sample_conditional_posterior_lambda2(a, b, x, N, n[i-1]))\n",
    "    n.append(sample_conditional_posterior_n(lambda1[i], lambda2[i], x, N))"
   ]
  },
  {
   "cell_type": "code",
   "execution_count": 16,
   "metadata": {},
   "outputs": [],
   "source": [
    "# Number of samples for the burn-in period\n",
    "burnin = 200"
   ]
  },
  {
   "cell_type": "code",
   "execution_count": 19,
   "metadata": {},
   "outputs": [
    {
     "data": {
      "image/png": "[encoded data removed]",
      "text/plain": [
       "<Figure size 432x288 with 1 Axes>"
      ]
     },
     "metadata": {
      "needs_background": "light"
     },
     "output_type": "display_data"
    }
   ],
   "source": [
    "plt.plot(lambda1[burnin:])\n",
    "plt.title('Chain for $\\lambda_1$')\n",
    "plt.show()"
   ]
  },
  {
   "cell_type": "code",
   "execution_count": 20,
   "metadata": {},
   "outputs": [
    {
     "data": {
      "image/png": "[encoded data removed]",
      "text/plain": [
       "<Figure size 432x288 with 1 Axes>"
      ]
     },
     "metadata": {
      "needs_background": "light"
     },
     "output_type": "display_data"
    }
   ],
   "source": [
    "plt.plot(lambda2[burnin:])\n",
    "plt.title('Chain for $\\lambda_2$')\n",
    "plt.show()"
   ]
  },
  {
   "cell_type": "code",
   "execution_count": 21,
   "metadata": {},
   "outputs": [
    {
     "data": {
      "image/png": "[encoded data removed]",
      "text/plain": [
       "<Figure size 432x288 with 1 Axes>"
      ]
     },
     "metadata": {
      "needs_background": "light"
     },
     "output_type": "display_data"
    }
   ],
   "source": [
    "plt.plot(n[burnin:])\n",
    "plt.title('Chain for $n$')\n",
    "plt.show()"
   ]
  },
  {
   "cell_type": "code",
   "execution_count": 13,
   "metadata": {},
   "outputs": [
    {
     "data": {
      "image/png": "[encoded data removed]",
      "text/plain": [
       "<Figure size 432x288 with 1 Axes>"
      ]
     },
     "metadata": {
      "needs_background": "light"
     },
     "output_type": "display_data"
    }
   ],
   "source": [
    "plt.hist(lambda1[burnin:], bins=50, label='Samples')\n",
    "plt.axvline(x=lambda1_actual, color='k', label='Actual $\\lambda_1$')\n",
    "plt.axvline(x=np.mean(x[:n_actual]), color='r', label='Empirical $\\lambda_1$')\n",
    "plt.title('Probability distribution for $\\lambda_1$')\n",
    "plt.legend()\n",
    "plt.show()"
   ]
  },
  {
   "cell_type": "code",
   "execution_count": 14,
   "metadata": {},
   "outputs": [
    {
     "data": {
      "image/png": "[encoded data removed]",
      "text/plain": [
       "<Figure size 432x288 with 1 Axes>"
      ]
     },
     "metadata": {
      "needs_background": "light"
     },
     "output_type": "display_data"
    }
   ],
   "source": [
    "plt.hist(lambda2[burnin:], bins=50, label='Samples')\n",
    "plt.axvline(x=lambda2_actual, color='k', label='Actual $\\lambda_2$')\n",
    "plt.axvline(x=np.mean(x[n_actual:]), color='r', label='Empirical $\\lambda_2$')\n",
    "plt.title('Probability distribution for $\\lambda_2$')\n",
    "plt.legend()\n",
    "plt.show()"
   ]
  },
  {
   "cell_type": "code",
   "execution_count": 15,
   "metadata": {},
   "outputs": [
    {
     "data": {
      "image/png": "[encoded data removed]",
      "text/plain": [
       "<Figure size 432x288 with 1 Axes>"
      ]
     },
     "metadata": {
      "needs_background": "light"
     },
     "output_type": "display_data"
    }
   ],
   "source": [
    "plt.hist(n[burnin:], bins=N, label='Changepoint PMF')\n",
    "plt.axvline(x=n_actual, color='k', label='Actual changepoint')\n",
    "plt.title('Probability distribution for $n$')\n",
    "plt.legend()\n",
    "plt.show()"
   ]
  },
  {
   "cell_type": "code",
   "execution_count": null,
   "metadata": {},
   "outputs": [],
   "source": []
  }
 ],
 "metadata": {
  "kernelspec": {
   "display_name": "Python 3",
   "language": "python",
   "name": "python3"
  },
  "language_info": {
   "codemirror_mode": {
    "name": "ipython",
    "version": 3
   },
   "file_extension": ".py",
   "mimetype": "text/x-python",
   "name": "python",
   "nbconvert_exporter": "python",
   "pygments_lexer": "ipython3",
   "version": "3.11.1"
  }
 },
 "nbformat": 4,
 "nbformat_minor": 4
}
