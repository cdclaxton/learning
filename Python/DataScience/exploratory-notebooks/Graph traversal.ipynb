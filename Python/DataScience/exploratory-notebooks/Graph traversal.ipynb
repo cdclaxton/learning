{
 "cells": [
  {
   "cell_type": "markdown",
   "metadata": {},
   "source": [
    "# Parallel graph traversal"
   ]
  },
  {
   "cell_type": "code",
   "execution_count": 1,
   "metadata": {},
   "outputs": [],
   "source": [
    "import networkx as nx\n",
    "import matplotlib.pyplot as plt\n",
    "\n",
    "from collections import deque"
   ]
  },
  {
   "cell_type": "markdown",
   "metadata": {},
   "source": [
    "## Snapping chains"
   ]
  },
  {
   "cell_type": "markdown",
   "metadata": {},
   "source": [
    "Suppose there is a template chain and a data chain. The data chain contains all of the vertices in the template chain. The problem is to marry up the data chain vertex with the right template chain vertex."
   ]
  },
  {
   "cell_type": "code",
   "execution_count": 2,
   "metadata": {},
   "outputs": [],
   "source": [
    "class TemplateChainVertex:\n",
    "    \"\"\"Vertex in the template chain.\"\"\"\n",
    "    def __init__(self, name):\n",
    "        self.name = name\n",
    "        self.child = None\n",
    "        self.parent = None\n",
    "    def __repr__(self):\n",
    "        return f\"TemplateChainVertex({self.name})\""
   ]
  },
  {
   "cell_type": "code",
   "execution_count": 3,
   "metadata": {},
   "outputs": [],
   "source": [
    "class DataChainVertex:\n",
    "    \"\"\"Vertex in the data.\"\"\"\n",
    "    def __init__(self, name, identifier):\n",
    "        self.name = name\n",
    "        self.identifier = identifier\n",
    "        self.child = None\n",
    "        self.parent = None\n",
    "    def __repr__(self):\n",
    "        return f\"DataChainVertex({self.name}, {self.identifier})\"    "
   ]
  },
  {
   "cell_type": "code",
   "execution_count": 4,
   "metadata": {},
   "outputs": [],
   "source": [
    "def build_template_chain(spec):\n",
    "    \"\"\"Build a list of template vertices from its string representation.\"\"\"\n",
    "    assert isinstance(spec, str)\n",
    "    \n",
    "    names = spec.split(\" -> \")\n",
    "    vertices = [TemplateChainVertex(n) for n in names]    \n",
    "    \n",
    "    for i in range(0, len(names)-1):\n",
    "        vertices[i].child = vertices[i+1]\n",
    "        vertices[i+1].parent = vertices[i]\n",
    "    \n",
    "    return vertices"
   ]
  },
  {
   "cell_type": "code",
   "execution_count": 5,
   "metadata": {},
   "outputs": [],
   "source": [
    "def draw_template_chain(vertices):\n",
    "    \"\"\"Plot the template chain.\"\"\"\n",
    "    G = nx.DiGraph()\n",
    "       \n",
    "    for v in vertices:\n",
    "        if v.child is not None:\n",
    "            G.add_edge(v.name, v.child.name)\n",
    "\n",
    "    nx.draw(G, node_color='blue', with_labels=True, font_weight='bold')"
   ]
  },
  {
   "cell_type": "code",
   "execution_count": 6,
   "metadata": {},
   "outputs": [],
   "source": [
    "def build_data_chain(spec):\n",
    "    \"\"\"Build a list of data vertices from its string representation.\"\"\"    \n",
    "    assert isinstance(spec, str)\n",
    "    \n",
    "    names = spec.split(\" -> \")\n",
    "    vertices = []\n",
    "    for n in names:\n",
    "        name, identifier = n.split(\":\")\n",
    "        vertices.append(DataChainVertex(name, identifier))\n",
    "    \n",
    "    for i in range(0, len(names)-1):\n",
    "        vertices[i].child = vertices[i+1]\n",
    "        vertices[i+1].parent = vertices[i]\n",
    "    \n",
    "    return vertices"
   ]
  },
  {
   "cell_type": "code",
   "execution_count": 7,
   "metadata": {},
   "outputs": [],
   "source": [
    "def draw_data_chain(vertices):\n",
    "    \"\"\"Plot the data chain.\"\"\"\n",
    "    G = nx.DiGraph()\n",
    "       \n",
    "    for v in vertices:\n",
    "        if v.child is not None:\n",
    "            src = f\"{v.name}:{v.identifier}\"\n",
    "            dst = f\"{v.child.name}:{v.child.identifier}\"\n",
    "            G.add_edge(src, dst)\n",
    "\n",
    "    nx.draw(G, node_color='red', with_labels=True, font_weight='bold')"
   ]
  },
  {
   "cell_type": "code",
   "execution_count": 8,
   "metadata": {},
   "outputs": [],
   "source": [
    "template_chain = \"a -> b -> c -> d -> e\"\n",
    "data_chain = \"a:1 -> b:2 -> c:3 -> d:4 -> e:5\""
   ]
  },
  {
   "cell_type": "code",
   "execution_count": 9,
   "metadata": {},
   "outputs": [
    {
     "data": {
      "image/png": "[encoded data removed]",
      "text/plain": [
       "<Figure size 432x288 with 1 Axes>"
      ]
     },
     "metadata": {},
     "output_type": "display_data"
    }
   ],
   "source": [
    "template_vertices = build_template_chain(template_chain)\n",
    "draw_template_chain(template_vertices)"
   ]
  },
  {
   "cell_type": "code",
   "execution_count": 10,
   "metadata": {},
   "outputs": [
    {
     "data": {
      "image/png": "[encoded data removed]",
      "text/plain": [
       "<Figure size 432x288 with 1 Axes>"
      ]
     },
     "metadata": {},
     "output_type": "display_data"
    }
   ],
   "source": [
    "data_vertices = build_data_chain(data_chain)\n",
    "draw_data_chain(data_vertices)"
   ]
  },
  {
   "cell_type": "code",
   "execution_count": 11,
   "metadata": {},
   "outputs": [],
   "source": [
    "def find_root(vertices):\n",
    "    \"\"\"Find the root vertex, i.e. the vertex with no parents.\"\"\"\n",
    "    roots = []\n",
    "    for v in vertices:\n",
    "        if v.parent is None:\n",
    "            roots.append(v)\n",
    "    \n",
    "    assert len(roots) == 1\n",
    "    return roots[0]"
   ]
  },
  {
   "cell_type": "code",
   "execution_count": 12,
   "metadata": {},
   "outputs": [],
   "source": [
    "def snap_vertices_in_chain(template_vertices, data_vertices):\n",
    "    \n",
    "    root_template_vertex = find_root(template_vertices)\n",
    "    root_data_vertex = find_root(data_vertices)\n",
    "    \n",
    "    pairs = []\n",
    "    \n",
    "    if root_template_vertex.name != root_data_vertex.name:\n",
    "        return [], \"Different roots\"\n",
    "\n",
    "    pairs.append((root_template_vertex, root_data_vertex))\n",
    "    current_template = pairs[-1][0]\n",
    "    current_data = pairs[-1][1]\n",
    "    \n",
    "    while current_template.child is not None:\n",
    "        \n",
    "        if current_template.child.name == current_data.child.name:\n",
    "            pairs.append((current_template.child, current_data.child))\n",
    "        else:\n",
    "            return [], \"Child doesn't match template\"\n",
    "        \n",
    "        current_template = pairs[-1][0]\n",
    "        current_data = pairs[-1][1]\n",
    "    \n",
    "    return pairs, \"\""
   ]
  },
  {
   "cell_type": "code",
   "execution_count": 13,
   "metadata": {},
   "outputs": [],
   "source": [
    "def plot_snapped(vertex_pairs, template_colour='red', data_colour='green'):\n",
    "    \n",
    "    G = nx.DiGraph()\n",
    "    \n",
    "    if len(vertex_pairs) == 0:\n",
    "        return\n",
    "    \n",
    "    def template_string(vertex):\n",
    "        return f\"{vertex.name}\"\n",
    "    \n",
    "    def data_string(vertex):\n",
    "        return f\"{vertex.name}:{vertex.identifier}\"\n",
    "    \n",
    "    template_vertex = vertex_pairs[0][0]\n",
    "    data_vertex = vertex_pairs[0][1]\n",
    "    \n",
    "    G.add_node(template_string(template_vertex), color=template_colour)\n",
    "    G.add_node(data_string(data_vertex), color=data_colour)\n",
    "    G.add_edge(template_string(template_vertex), data_string(data_vertex), color=\"grey\")\n",
    "    \n",
    "    while template_vertex.child is not None:\n",
    "        \n",
    "        template_vertex = template_vertex.child\n",
    "        data_vertex = data_vertex.child\n",
    "        \n",
    "        G.add_node(template_string(template_vertex), color=template_colour)\n",
    "        G.add_node(data_string(data_vertex), color=data_colour)\n",
    "        G.add_edge(template_string(template_vertex), data_string(data_vertex), color=\"grey\")\n",
    "        \n",
    "        # Connect to parents\n",
    "        G.add_edge(template_string(template_vertex.parent), template_string(template_vertex), color=\"purple\")\n",
    "        G.add_edge(data_string(data_vertex.parent), data_string(data_vertex), color=\"purple\")\n",
    "    \n",
    "    # Get the node colours\n",
    "    node_colors = [node[1]['color'] for node in G.nodes(data=True)]\n",
    "\n",
    "    edge_colors = nx.get_edge_attributes(G,'color').values()\n",
    "\n",
    "    pos = nx.spring_layout(G)\n",
    "    nx.draw(G, pos, with_labels=True, font_weight='bold', node_color=node_colors, edge_color=edge_colors)    "
   ]
  },
  {
   "cell_type": "code",
   "execution_count": 14,
   "metadata": {},
   "outputs": [
    {
     "data": {
      "image/png": "[encoded data removed]",
      "text/plain": [
       "<Figure size 432x288 with 1 Axes>"
      ]
     },
     "metadata": {},
     "output_type": "display_data"
    }
   ],
   "source": [
    "snapped, msg = snap_vertices_in_chain(template_vertices, data_vertices)\n",
    "plot_snapped(snapped)"
   ]
  },
  {
   "cell_type": "markdown",
   "metadata": {},
   "source": [
    "## Snapping a partial chain to a full chain"
   ]
  },
  {
   "cell_type": "markdown",
   "metadata": {},
   "source": [
    "In the algorithm above, the data chain had to contain all of the vertices in the template. In this section that requirement is softened such that the data chain can partially contain the vertices in the template."
   ]
  },
  {
   "cell_type": "code",
   "execution_count": 15,
   "metadata": {},
   "outputs": [],
   "source": [
    "template_chain = \"a -> b -> c -> d -> e\"\n",
    "data_chain = \"b:2 -> c:3\""
   ]
  },
  {
   "cell_type": "code",
   "execution_count": 16,
   "metadata": {},
   "outputs": [
    {
     "data": {
      "image/png": "[encoded data removed]",
      "text/plain": [
       "<Figure size 432x288 with 1 Axes>"
      ]
     },
     "metadata": {},
     "output_type": "display_data"
    }
   ],
   "source": [
    "template_vertices = build_template_chain(template_chain)\n",
    "draw_template_chain(template_vertices)"
   ]
  },
  {
   "cell_type": "code",
   "execution_count": 17,
   "metadata": {},
   "outputs": [
    {
     "data": {
      "image/png": "[encoded data removed]",
      "text/plain": [
       "<Figure size 432x288 with 1 Axes>"
      ]
     },
     "metadata": {},
     "output_type": "display_data"
    }
   ],
   "source": [
    "data_vertices = build_data_chain(data_chain)\n",
    "draw_data_chain(data_vertices)"
   ]
  },
  {
   "cell_type": "code",
   "execution_count": 18,
   "metadata": {},
   "outputs": [],
   "source": [
    "def snap_vertices_in_partial_chain(template_vertices, data_vertices):\n",
    "    \n",
    "    root_template_vertex = find_root(template_vertices)\n",
    "    root_data_vertex = find_root(data_vertices)\n",
    "    \n",
    "    pairs = []\n",
    "    \n",
    "    current_template = root_template_vertex\n",
    "    current_data = root_data_vertex\n",
    "    data_state = \"not started\"\n",
    "    \n",
    "    template_finished = False\n",
    "    \n",
    "    while not template_finished:\n",
    "        \n",
    "        #print(f\"Processing {current_template} and {current_data} / {data_state}\")\n",
    "        \n",
    "        matched_data = None\n",
    "        \n",
    "        if data_state == \"not started\" and current_template.name == current_data.name:\n",
    "            data_state = \"in progress\"\n",
    "            matched_data = current_data\n",
    "            \n",
    "        elif data_state == \"in progress\":\n",
    "            if current_template.name == current_data.name:\n",
    "                matched_data = current_data\n",
    "            else:\n",
    "                return [], f\"Unexpected data vertex {current_data} for template {current_template}\"\n",
    "        \n",
    "        pairs.append((current_template, matched_data))\n",
    "        \n",
    "        if data_state == \"in progress\":\n",
    "            if current_data.child is None:\n",
    "                data_state = \"finished\"\n",
    "            else:\n",
    "                current_data = current_data.child\n",
    "        \n",
    "        if current_template.child is None:\n",
    "            template_finished = True\n",
    "        else:\n",
    "            current_template = current_template.child\n",
    "            \n",
    "    return pairs, \"\""
   ]
  },
  {
   "cell_type": "code",
   "execution_count": 19,
   "metadata": {},
   "outputs": [
    {
     "data": {
      "text/plain": [
       "[(TemplateChainVertex(a), None),\n",
       " (TemplateChainVertex(b), DataChainVertex(b, 2)),\n",
       " (TemplateChainVertex(c), DataChainVertex(c, 3)),\n",
       " (TemplateChainVertex(d), None),\n",
       " (TemplateChainVertex(e), None)]"
      ]
     },
     "execution_count": 19,
     "metadata": {},
     "output_type": "execute_result"
    }
   ],
   "source": [
    "vertex_pairs, msg = snap_vertices_in_partial_chain(template_vertices, data_vertices)\n",
    "vertex_pairs"
   ]
  },
  {
   "cell_type": "code",
   "execution_count": 20,
   "metadata": {},
   "outputs": [],
   "source": [
    "def plot_snapped_partial(vertex_pairs, template_colour='red', data_colour='green'):\n",
    "    \n",
    "    G = nx.DiGraph()\n",
    "    \n",
    "    if len(vertex_pairs) == 0:\n",
    "        return\n",
    "    \n",
    "    def template_string(vertex):\n",
    "        return f\"{vertex.name}\"\n",
    "    \n",
    "    def data_string(vertex):\n",
    "        return f\"{vertex.name}:{vertex.identifier}\"\n",
    "        \n",
    "    for p in vertex_pairs:\n",
    "        \n",
    "        template_vertex = p[0]\n",
    "        data_vertex = p[1]\n",
    "        \n",
    "        G.add_node(template_string(template_vertex), color=template_colour)\n",
    "        \n",
    "        if data_vertex is not None:\n",
    "            G.add_node(data_string(data_vertex), color=data_colour)\n",
    "            G.add_edge(template_string(template_vertex), data_string(data_vertex), color=\"grey\")\n",
    "            \n",
    "            if data_vertex.parent is not None:\n",
    "                G.add_edge(data_string(data_vertex.parent), data_string(data_vertex), color=\"purple\")\n",
    "        \n",
    "        if template_vertex.parent is not None:\n",
    "            G.add_edge(template_string(template_vertex.parent), template_string(template_vertex), color=\"purple\")\n",
    "    \n",
    "    # Get the node colours\n",
    "    node_colors = [node[1]['color'] for node in G.nodes(data=True)]\n",
    "\n",
    "    edge_colors = nx.get_edge_attributes(G,'color').values()\n",
    "\n",
    "    pos = nx.spring_layout(G)\n",
    "    nx.draw(G, pos, with_labels=True, font_weight='bold', node_color=node_colors, edge_color=edge_colors)    "
   ]
  },
  {
   "cell_type": "code",
   "execution_count": 21,
   "metadata": {},
   "outputs": [
    {
     "data": {
      "image/png": "[encoded data removed]",
      "text/plain": [
       "<Figure size 432x288 with 1 Axes>"
      ]
     },
     "metadata": {},
     "output_type": "display_data"
    }
   ],
   "source": [
    "plot_snapped_partial(vertex_pairs, template_colour='red', data_colour='green')"
   ]
  },
  {
   "cell_type": "markdown",
   "metadata": {},
   "source": [
    "## Full chain, extra data vertex insertions"
   ]
  },
  {
   "cell_type": "markdown",
   "metadata": {},
   "source": [
    "In this case the data chain will be complete, but an extra vertex must be inserted when a particular data vertex is found."
   ]
  },
  {
   "cell_type": "code",
   "execution_count": 22,
   "metadata": {},
   "outputs": [],
   "source": [
    "template_chain = \"a -> b -> c -> d -> e\"\n",
    "data_chain = \"a:1 -> b:2 -> c:3 -> d:4 -> e:5\""
   ]
  },
  {
   "cell_type": "code",
   "execution_count": 23,
   "metadata": {},
   "outputs": [
    {
     "data": {
      "image/png": "[encoded data removed]",
      "text/plain": [
       "<Figure size 432x288 with 1 Axes>"
      ]
     },
     "metadata": {},
     "output_type": "display_data"
    }
   ],
   "source": [
    "template_vertices = build_template_chain(template_chain)\n",
    "draw_template_chain(template_vertices)"
   ]
  },
  {
   "cell_type": "code",
   "execution_count": 24,
   "metadata": {},
   "outputs": [
    {
     "data": {
      "image/png": "[encoded data removed]",
      "text/plain": [
       "<Figure size 432x288 with 1 Axes>"
      ]
     },
     "metadata": {},
     "output_type": "display_data"
    }
   ],
   "source": [
    "data_vertices = build_data_chain(data_chain)\n",
    "draw_data_chain(data_vertices)"
   ]
  },
  {
   "cell_type": "code",
   "execution_count": 25,
   "metadata": {},
   "outputs": [],
   "source": [
    "def snap_vertices_in_chain_extended(template_vertices, data_vertices, insertion_ids):\n",
    "    \n",
    "    current_template = find_root(template_vertices)\n",
    "    current_data = find_root(data_vertices)\n",
    "    \n",
    "    pairs = []\n",
    "    template_finished = False\n",
    "    \n",
    "    while not template_finished:\n",
    "        \n",
    "        print(f\"Processing {current_template} and {current_data}\")        \n",
    "        \n",
    "        if current_template.name == current_data.name:\n",
    "            pairs.append((current_template, current_data))\n",
    "        else:\n",
    "            return [], \"Child doesn't match template\"\n",
    "        \n",
    "        if current_data.identifier in insertion_ids:\n",
    "            new_child = DataChainVertex(current_data.name, \"EXTRA\")\n",
    "            pairs.append((None, new_child))\n",
    "        \n",
    "        if current_template.child is not None:\n",
    "            current_template = current_template.child\n",
    "            current_data = current_data.child\n",
    "        else:\n",
    "            template_finished = True\n",
    "    \n",
    "    return pairs, \"\""
   ]
  },
  {
   "cell_type": "code",
   "execution_count": 26,
   "metadata": {},
   "outputs": [
    {
     "name": "stdout",
     "output_type": "stream",
     "text": [
      "Processing TemplateChainVertex(a) and DataChainVertex(a, 1)\n",
      "Processing TemplateChainVertex(b) and DataChainVertex(b, 2)\n",
      "Processing TemplateChainVertex(c) and DataChainVertex(c, 3)\n",
      "Processing TemplateChainVertex(d) and DataChainVertex(d, 4)\n",
      "Processing TemplateChainVertex(e) and DataChainVertex(e, 5)\n"
     ]
    },
    {
     "data": {
      "text/plain": [
       "[(TemplateChainVertex(a), DataChainVertex(a, 1)),\n",
       " (None, DataChainVertex(a, EXTRA)),\n",
       " (TemplateChainVertex(b), DataChainVertex(b, 2)),\n",
       " (None, DataChainVertex(b, EXTRA)),\n",
       " (TemplateChainVertex(c), DataChainVertex(c, 3)),\n",
       " (TemplateChainVertex(d), DataChainVertex(d, 4)),\n",
       " (TemplateChainVertex(e), DataChainVertex(e, 5)),\n",
       " (None, DataChainVertex(e, EXTRA))]"
      ]
     },
     "execution_count": 26,
     "metadata": {},
     "output_type": "execute_result"
    }
   ],
   "source": [
    "pairs, msg = snap_vertices_in_chain_extended(template_vertices, data_vertices, {\"1\", \"2\", \"5\"})\n",
    "pairs"
   ]
  },
  {
   "cell_type": "markdown",
   "metadata": {},
   "source": [
    "## Partial chain, extra data vertex insertions"
   ]
  },
  {
   "cell_type": "markdown",
   "metadata": {},
   "source": []
  },
  {
   "cell_type": "code",
   "execution_count": 27,
   "metadata": {},
   "outputs": [],
   "source": [
    "template_chain = \"a -> b -> c -> d -> e\"\n",
    "data_chain = \"b:2 -> c:3 -> d:4\""
   ]
  },
  {
   "cell_type": "code",
   "execution_count": 28,
   "metadata": {},
   "outputs": [
    {
     "data": {
      "image/png": "[encoded data removed]",
      "text/plain": [
       "<Figure size 432x288 with 1 Axes>"
      ]
     },
     "metadata": {},
     "output_type": "display_data"
    }
   ],
   "source": [
    "template_vertices = build_template_chain(template_chain)\n",
    "draw_template_chain(template_vertices)"
   ]
  },
  {
   "cell_type": "code",
   "execution_count": 29,
   "metadata": {},
   "outputs": [
    {
     "data": {
      "image/png": "[encoded data removed]",
      "text/plain": [
       "<Figure size 432x288 with 1 Axes>"
      ]
     },
     "metadata": {},
     "output_type": "display_data"
    }
   ],
   "source": [
    "data_vertices = build_data_chain(data_chain)\n",
    "draw_data_chain(data_vertices)"
   ]
  },
  {
   "cell_type": "code",
   "execution_count": 30,
   "metadata": {},
   "outputs": [],
   "source": [
    "def snap_vertices_in_partial_chain_extended(template_vertices, data_vertices, insertion_ids):\n",
    "    \n",
    "    current_template = find_root(template_vertices)\n",
    "    current_data = find_root(data_vertices)\n",
    "    \n",
    "    pairs = []\n",
    "    data_state = \"not started\"\n",
    "    \n",
    "    template_finished = False\n",
    "    \n",
    "    while not template_finished:\n",
    "        \n",
    "        #print(f\"Processing {current_template} and {current_data} / {data_state}\")\n",
    "        \n",
    "        # Process the current vertex\n",
    "        matched_data = None\n",
    "        \n",
    "        if data_state == \"not started\" and current_template.name == current_data.name:\n",
    "            data_state = \"in progress\"\n",
    "            matched_data = current_data\n",
    "            \n",
    "        elif data_state == \"in progress\":\n",
    "            if current_template.name == current_data.name:\n",
    "                matched_data = current_data\n",
    "            else:\n",
    "                return [], f\"Unexpected data vertex {current_data} for template {current_template}\"\n",
    "        \n",
    "        pairs.append((current_template, matched_data))\n",
    "        \n",
    "        # Does there need to be an insertion?\n",
    "        if data_state == \"in progress\" and current_data.identifier in insertion_ids:\n",
    "            new_child = DataChainVertex(current_data.name, \"EXTRA\")\n",
    "            pairs.append((None, new_child))            \n",
    "        \n",
    "        # Move onto the next vertex\n",
    "        if data_state == \"in progress\":\n",
    "            if current_data.child is None:\n",
    "                data_state = \"finished\"\n",
    "            else:\n",
    "                current_data = current_data.child\n",
    "        \n",
    "        if current_template.child is None:\n",
    "            template_finished = True\n",
    "        else:\n",
    "            current_template = current_template.child\n",
    "            \n",
    "    return pairs, \"\""
   ]
  },
  {
   "cell_type": "code",
   "execution_count": 31,
   "metadata": {},
   "outputs": [
    {
     "data": {
      "text/plain": [
       "([(TemplateChainVertex(a), None),\n",
       "  (TemplateChainVertex(b), DataChainVertex(b, 2)),\n",
       "  (None, DataChainVertex(b, EXTRA)),\n",
       "  (TemplateChainVertex(c), DataChainVertex(c, 3)),\n",
       "  (TemplateChainVertex(d), DataChainVertex(d, 4)),\n",
       "  (TemplateChainVertex(e), None)],\n",
       " '')"
      ]
     },
     "execution_count": 31,
     "metadata": {},
     "output_type": "execute_result"
    }
   ],
   "source": [
    "snap_vertices_in_partial_chain_extended(template_vertices, data_vertices, {\"2\"})"
   ]
  },
  {
   "cell_type": "markdown",
   "metadata": {},
   "source": [
    "## Graph mutation"
   ]
  },
  {
   "cell_type": "code",
   "execution_count": 32,
   "metadata": {},
   "outputs": [],
   "source": [
    "class Vertex:\n",
    "    def __init__(self, name, identifier=0):\n",
    "        self.name = name\n",
    "        self.identifier = identifier\n",
    "        self.children = []\n",
    "        self.parents = []\n",
    "        self.explored = False\n",
    "    def __repr__(self):\n",
    "        return f\"Vertex({self.name}, {self.identifier})\""
   ]
  },
  {
   "cell_type": "code",
   "execution_count": 33,
   "metadata": {},
   "outputs": [],
   "source": [
    "def find_vertex(vertices, name):\n",
    "    for v in vertices:\n",
    "        if v.name == name:\n",
    "            return v\n",
    "    return None"
   ]
  },
  {
   "cell_type": "code",
   "execution_count": 34,
   "metadata": {},
   "outputs": [],
   "source": [
    "def build_graph(spec):\n",
    "    \"\"\"Build the graph from a list of edges.\"\"\"\n",
    "    assert isinstance(spec, str)\n",
    "    \n",
    "    vertices = []\n",
    "    \n",
    "    for link in spec.strip().split(\"\\n\"):\n",
    "        \n",
    "        src, dst = link.split(\" -> \")\n",
    "        \n",
    "        src_vertex = find_vertex(vertices, src)\n",
    "        if src_vertex is None:\n",
    "            src_vertex = Vertex(src)\n",
    "            vertices.append(src_vertex)\n",
    "        \n",
    "        dst_vertex = find_vertex(vertices, dst)\n",
    "        if dst_vertex is None:\n",
    "            dst_vertex = Vertex(dst)\n",
    "            vertices.append(dst_vertex)\n",
    "        \n",
    "        src_vertex.children.append(dst_vertex)\n",
    "        dst_vertex.parents.append(src_vertex)\n",
    "    \n",
    "    return vertices"
   ]
  },
  {
   "cell_type": "code",
   "execution_count": 35,
   "metadata": {},
   "outputs": [],
   "source": [
    "edges = \"\"\"\n",
    "a -> c\n",
    "b -> c\n",
    "\"\"\""
   ]
  },
  {
   "cell_type": "code",
   "execution_count": 36,
   "metadata": {},
   "outputs": [
    {
     "data": {
      "text/plain": [
       "[Vertex(a, 0), Vertex(c, 0), Vertex(b, 0)]"
      ]
     },
     "execution_count": 36,
     "metadata": {},
     "output_type": "execute_result"
    }
   ],
   "source": [
    "vertices = build_graph(edges)\n",
    "vertices"
   ]
  },
  {
   "cell_type": "code",
   "execution_count": 37,
   "metadata": {},
   "outputs": [],
   "source": [
    "def draw_network(vertices):\n",
    "    G = nx.DiGraph()\n",
    "       \n",
    "    for v in vertices:\n",
    "        if len(v.children) > 0:\n",
    "            for c in v.children:\n",
    "                src = f\"{v.name}:{v.identifier}\"\n",
    "                dst = f\"{c.name}:{c.identifier}\"\n",
    "                G.add_edge(src, dst)\n",
    "        else:\n",
    "            G.add_node(f\"{v.name}:{v.identifier}\")\n",
    "\n",
    "    nx.draw(G, with_labels=True, font_weight='bold')"
   ]
  },
  {
   "cell_type": "code",
   "execution_count": 38,
   "metadata": {},
   "outputs": [
    {
     "data": {
      "image/png": "[encoded data removed]",
      "text/plain": [
       "<Figure size 432x288 with 1 Axes>"
      ]
     },
     "metadata": {},
     "output_type": "display_data"
    }
   ],
   "source": [
    "draw_network(vertices)"
   ]
  },
  {
   "cell_type": "markdown",
   "metadata": {},
   "source": [
    "### Copy the entire graph"
   ]
  },
  {
   "cell_type": "code",
   "execution_count": 39,
   "metadata": {},
   "outputs": [],
   "source": [
    "def copy_graph(initial_vertex, new_identifier=1):\n",
    "    \"\"\"Make an exact copy of the entire of a graph.\"\"\"\n",
    "    \n",
    "    # Set of explored vertices\n",
    "    explored = set()\n",
    "\n",
    "    q = deque()\n",
    "    q.append(initial_vertex)\n",
    "    \n",
    "    # Dict of a new vertex's name to the vertex object\n",
    "    new_vertex_name_to_vertex = {}\n",
    "    \n",
    "    # Make all of the new (unconnected) vertices\n",
    "    while len(q) > 0:\n",
    "        \n",
    "        # Take a vertex from the queue\n",
    "        vertex = q.popleft()\n",
    "    \n",
    "        explored.add(vertex.name)\n",
    "        print(f\"Processing {vertex}\")\n",
    "        \n",
    "        new_vertex = Vertex(vertex.name, new_identifier)\n",
    "        print(f\"Created {new_vertex}\")\n",
    "        new_vertex_name_to_vertex[vertex.name] = new_vertex\n",
    "\n",
    "        for parent in vertex.parents:\n",
    "            if not parent.name in explored:\n",
    "                parent.explored = True\n",
    "                q.append(parent)\n",
    "        \n",
    "        for child in vertex.children:\n",
    "            if not child.name in explored:\n",
    "                child.explored = True\n",
    "                q.append(child)\n",
    "    \n",
    "    # Now connect up the vertices\n",
    "    explored = set()\n",
    "    \n",
    "    q = deque()\n",
    "    q.append(initial_vertex)\n",
    "    \n",
    "    while len(q) > 0:\n",
    "        \n",
    "        # Take a vertex from the queue\n",
    "        vertex = q.popleft()\n",
    "    \n",
    "        explored.add(vertex.name)\n",
    "        print(f\"Processing {vertex} to connect it up\")\n",
    "        \n",
    "        for parent in vertex.parents:\n",
    "            if not parent.name in explored:\n",
    "                parent.explored = True\n",
    "                \n",
    "                p = new_vertex_name_to_vertex[parent.name]\n",
    "                v = new_vertex_name_to_vertex[vertex.name]\n",
    "                v.parents.append(p)\n",
    "                p.children.append(v)\n",
    "                \n",
    "                q.append(parent)\n",
    "        \n",
    "        for child in vertex.children:\n",
    "            if not child.name in explored:\n",
    "                child.explored = True\n",
    "                \n",
    "                c = new_vertex_name_to_vertex[child.name]\n",
    "                v = new_vertex_name_to_vertex[vertex.name]\n",
    "                v.children.append(c)\n",
    "                c.parents.append(v)\n",
    "                \n",
    "                q.append(child)        \n",
    "    \n",
    "    return new_vertex_name_to_vertex"
   ]
  },
  {
   "cell_type": "code",
   "execution_count": 40,
   "metadata": {},
   "outputs": [
    {
     "name": "stdout",
     "output_type": "stream",
     "text": [
      "Processing Vertex(a, 0)\n",
      "Created Vertex(a, 1)\n",
      "Processing Vertex(c, 0)\n",
      "Created Vertex(c, 1)\n",
      "Processing Vertex(b, 0)\n",
      "Created Vertex(b, 1)\n",
      "Processing Vertex(d, 0)\n",
      "Created Vertex(d, 1)\n",
      "Processing Vertex(a, 0) to connect it up\n",
      "Processing Vertex(c, 0) to connect it up\n",
      "Processing Vertex(b, 0) to connect it up\n",
      "Processing Vertex(d, 0) to connect it up\n"
     ]
    }
   ],
   "source": [
    "edges = \"\"\"\n",
    "a -> c\n",
    "b -> c\n",
    "c -> d\n",
    "\"\"\"\n",
    "\n",
    "vertices = build_graph(edges)\n",
    "copy = copy_graph(vertices[0])"
   ]
  },
  {
   "cell_type": "code",
   "execution_count": 41,
   "metadata": {},
   "outputs": [
    {
     "name": "stdout",
     "output_type": "stream",
     "text": [
      "a - [Vertex(c, 1)] - []\n",
      "c - [Vertex(d, 1)] - [Vertex(a, 1), Vertex(b, 1)]\n",
      "b - [Vertex(c, 1)] - []\n",
      "d - [] - [Vertex(c, 1)]\n"
     ]
    }
   ],
   "source": [
    "for _, v in copy.items():\n",
    "    print(f\"{v.name} - {v.children} - {v.parents}\")"
   ]
  },
  {
   "cell_type": "code",
   "execution_count": 42,
   "metadata": {},
   "outputs": [
    {
     "data": {
      "image/png": "[encoded data removed]",
      "text/plain": [
       "<Figure size 432x288 with 1 Axes>"
      ]
     },
     "metadata": {},
     "output_type": "display_data"
    }
   ],
   "source": [
    "draw_network(list(copy.values()))"
   ]
  },
  {
   "cell_type": "markdown",
   "metadata": {},
   "source": [
    "### Disconnect and reconnect a vertex"
   ]
  },
  {
   "cell_type": "code",
   "execution_count": 43,
   "metadata": {},
   "outputs": [],
   "source": [
    "def find_vertex_by_name(vertex, name):\n",
    "    \"\"\"Find a vertex by name given a single vertex in a graph.\"\"\"\n",
    "    \n",
    "    assert isinstance(vertex, Vertex), f\"Expected a Vertex, got {type(vertex)}\"\n",
    "    \n",
    "    q = deque()\n",
    "    q.append(vertex)\n",
    "    \n",
    "    # Set of the names of explored vertices\n",
    "    explored = set()\n",
    "    \n",
    "    while len(q) > 0:\n",
    "        \n",
    "        # Take a vertex from the queue\n",
    "        vertex = q.popleft()\n",
    "        \n",
    "        # If the vertex has the required name, return it\n",
    "        if vertex.name == name:\n",
    "            return vertex\n",
    "    \n",
    "        explored.add(vertex.name)\n",
    "        \n",
    "        for p in vertex.parents:\n",
    "            if not p.name in explored:\n",
    "                p.explored = True\n",
    "                q.append(p)\n",
    "        \n",
    "        for c in vertex.children:\n",
    "            if not c.name in explored:\n",
    "                c.explored = True\n",
    "                q.append(c)\n",
    "    \n",
    "    # The vertex couldn't be found\n",
    "    return None"
   ]
  },
  {
   "cell_type": "code",
   "execution_count": 44,
   "metadata": {},
   "outputs": [
    {
     "data": {
      "text/plain": [
       "Vertex(d, 0)"
      ]
     },
     "execution_count": 44,
     "metadata": {},
     "output_type": "execute_result"
    }
   ],
   "source": [
    "find_vertex_by_name(vertices[0], 'd')"
   ]
  },
  {
   "cell_type": "code",
   "execution_count": 45,
   "metadata": {},
   "outputs": [],
   "source": [
    "def disconnect(vertex, name_of_vertex_to_disconnect):\n",
    "    \"\"\"Disconnect a vertex from the graph given any vertex in the graph.\"\"\"\n",
    "    \n",
    "    # Find the vertex to disconnect\n",
    "    vertex = find_vertex_by_name(vertex, name_of_vertex_to_disconnect)\n",
    "    assert vertex is not None\n",
    "    \n",
    "    # Make a copy of the vertex's parents\n",
    "    parents = vertex.parents[:]\n",
    "    \n",
    "    # Make a copy of the vertex's children\n",
    "    children = vertex.children[:]\n",
    "    \n",
    "    # Disconnect the vertex <- parent connections\n",
    "    vertex.parents = []\n",
    "    \n",
    "    for p in parents:\n",
    "        p.children.remove(vertex)\n",
    "    \n",
    "    # Disconnect the vertex -> children connections\n",
    "    vertex.children = []\n",
    "    \n",
    "    for c in children:\n",
    "        c.parents.remove(vertex)\n",
    "    \n",
    "    # Return the parent and child vertices that were disconnected\n",
    "    return vertex, parents, children"
   ]
  },
  {
   "cell_type": "code",
   "execution_count": 46,
   "metadata": {},
   "outputs": [
    {
     "data": {
      "image/png": "[encoded data removed]",
      "text/plain": [
       "<Figure size 432x288 with 1 Axes>"
      ]
     },
     "metadata": {},
     "output_type": "display_data"
    }
   ],
   "source": [
    "edges = \"\"\"\n",
    "a -> c\n",
    "b -> c\n",
    "c -> d\n",
    "\"\"\"\n",
    "\n",
    "vertices = build_graph(edges)\n",
    "draw_network(vertices)"
   ]
  },
  {
   "cell_type": "code",
   "execution_count": 47,
   "metadata": {},
   "outputs": [
    {
     "data": {
      "image/png": "[encoded data removed]",
      "text/plain": [
       "<Figure size 432x288 with 1 Axes>"
      ]
     },
     "metadata": {},
     "output_type": "display_data"
    }
   ],
   "source": [
    "disconnected_vertex, parents, children = disconnect(vertices[0], 'd')\n",
    "draw_network(vertices)"
   ]
  },
  {
   "cell_type": "code",
   "execution_count": 48,
   "metadata": {},
   "outputs": [],
   "source": [
    "def reconnect(disconnected_vertex, parents, children):\n",
    "    \"\"\"Reconnect a vertex in the graph.\"\"\"\n",
    "    \n",
    "    assert isinstance(disconnected_vertex, Vertex)\n",
    "    assert isinstance(parents, list)\n",
    "    assert isinstance(children, list)\n",
    "    \n",
    "    assert disconnected_vertex.parents == []\n",
    "    assert disconnected_vertex.children == []\n",
    "    \n",
    "    # Reconnect the parents\n",
    "    disconnected_vertex.parents = parents\n",
    "    \n",
    "    for p in parents:\n",
    "        p.children.append(disconnected_vertex)\n",
    "    \n",
    "    # Reconnect the children\n",
    "    disconnected_vertex.children = children\n",
    "    \n",
    "    for c in children:\n",
    "        c.parents.append(disconnected_vertex)"
   ]
  },
  {
   "cell_type": "code",
   "execution_count": 49,
   "metadata": {},
   "outputs": [
    {
     "data": {
      "image/png": "[encoded data removed]",
      "text/plain": [
       "<Figure size 432x288 with 1 Axes>"
      ]
     },
     "metadata": {},
     "output_type": "display_data"
    }
   ],
   "source": [
    "reconnect(disconnected_vertex, parents, children)\n",
    "draw_network(vertices)"
   ]
  },
  {
   "cell_type": "markdown",
   "metadata": {},
   "source": [
    "### Draw graph from a single vertex"
   ]
  },
  {
   "cell_type": "code",
   "execution_count": 50,
   "metadata": {},
   "outputs": [],
   "source": [
    "def draw_network(vertices):\n",
    "    G = nx.DiGraph()\n",
    "       \n",
    "    for v in vertices:\n",
    "        if len(v.children) > 0:\n",
    "            for c in v.children:\n",
    "                src = f\"{v.name}:{v.identifier}\"\n",
    "                dst = f\"{c.name}:{c.identifier}\"\n",
    "                G.add_edge(src, dst)\n",
    "        else:\n",
    "            G.add_node(f\"{v.name}:{v.identifier}\")\n",
    "\n",
    "    nx.draw(G, with_labels=True, font_weight='bold')"
   ]
  },
  {
   "cell_type": "code",
   "execution_count": 51,
   "metadata": {},
   "outputs": [],
   "source": [
    "def draw_from_vertex(vertex):\n",
    "    assert isinstance(vertex, Vertex), f\"Expected a Vertex, got {type(vertex)}\"\n",
    "    \n",
    "    G = nx.DiGraph()\n",
    "    explored = set()\n",
    "    \n",
    "    q = deque()\n",
    "    q.append(vertex)\n",
    "    \n",
    "    while len(q) > 0:\n",
    "        \n",
    "        # Take a vertex off the queue\n",
    "        vertex = q.popleft()\n",
    "        \n",
    "        # Record that the vertex has been explored\n",
    "        explored.add(vertex)\n",
    "        \n",
    "        if len(vertex.parents) == 0 and len(vertex.children) == 0:\n",
    "            G.add_node(f\"{vertex.name}:{vertex.identifier}\")\n",
    "    \n",
    "        for p in vertex.parents:\n",
    "            if not p in explored:\n",
    "                explored.add(p)\n",
    "                q.append(p)\n",
    "                \n",
    "                src = f\"{p.name}:{p.identifier}\"\n",
    "                dst = f\"{vertex.name}:{vertex.identifier}\"\n",
    "                G.add_edge(src, dst)\n",
    "                \n",
    "        \n",
    "        for c in vertex.children:\n",
    "            if not c in explored:\n",
    "                explored.add(c)\n",
    "                q.append(c)\n",
    "                \n",
    "                src = f\"{vertex.name}:{vertex.identifier}\"\n",
    "                dst = f\"{c.name}:{c.identifier}\"  \n",
    "                G.add_edge(src, dst)\n",
    "    \n",
    "    # Draw the graph\n",
    "    nx.draw(G, with_labels=True, font_weight='bold')"
   ]
  },
  {
   "cell_type": "markdown",
   "metadata": {},
   "source": [
    "### Disconnect a vertex and its parents"
   ]
  },
  {
   "cell_type": "code",
   "execution_count": 52,
   "metadata": {},
   "outputs": [],
   "source": [
    "def disconnect_subgraph(vertex, name_of_vertex_to_disconnect):\n",
    "    \"\"\"Disconnect a vertex from the graph given any vertex in the graph.\"\"\"\n",
    "    \n",
    "    # Find the vertex to disconnect\n",
    "    vertex = find_vertex_by_name(vertex, name_of_vertex_to_disconnect)\n",
    "    assert vertex is not None\n",
    "    \n",
    "    # Make a copy of the vertex's children\n",
    "    children = vertex.children[:]\n",
    "\n",
    "    # Disconnect the vertex's children\n",
    "    for c in vertex.children:\n",
    "        c.parents.remove(vertex)\n",
    "        \n",
    "    # Disconnect the vertex -> children connections\n",
    "    vertex.children = []    \n",
    "    \n",
    "    # Return the child vertices that were disconnected\n",
    "    return vertex, children"
   ]
  },
  {
   "cell_type": "code",
   "execution_count": 53,
   "metadata": {},
   "outputs": [
    {
     "data": {
      "image/png": "[encoded data removed]",
      "text/plain": [
       "<Figure size 432x288 with 1 Axes>"
      ]
     },
     "metadata": {},
     "output_type": "display_data"
    }
   ],
   "source": [
    "edges = \"\"\"\n",
    "a -> c\n",
    "b -> c\n",
    "c -> e\n",
    "d -> e\n",
    "\"\"\"\n",
    "\n",
    "vertices = build_graph(edges)\n",
    "draw_from_vertex(vertices[0])"
   ]
  },
  {
   "cell_type": "code",
   "execution_count": 54,
   "metadata": {},
   "outputs": [
    {
     "data": {
      "image/png": "[encoded data removed]",
      "text/plain": [
       "<Figure size 432x288 with 1 Axes>"
      ]
     },
     "metadata": {},
     "output_type": "display_data"
    }
   ],
   "source": [
    "disconnected_vertex, children = disconnect_subgraph(vertices[0], 'c')\n",
    "draw_from_vertex(disconnected_vertex)"
   ]
  },
  {
   "cell_type": "code",
   "execution_count": 55,
   "metadata": {},
   "outputs": [
    {
     "data": {
      "image/png": "[encoded data removed]",
      "text/plain": [
       "<Figure size 432x288 with 1 Axes>"
      ]
     },
     "metadata": {},
     "output_type": "display_data"
    }
   ],
   "source": [
    "draw_from_vertex(vertices[-1])"
   ]
  },
  {
   "cell_type": "code",
   "execution_count": 56,
   "metadata": {},
   "outputs": [],
   "source": [
    "def reconnect(disconnected_vertex, children):\n",
    "    \"\"\"Reconnect a vertex in the graph.\"\"\"\n",
    "    \n",
    "    assert isinstance(disconnected_vertex, Vertex)\n",
    "    assert isinstance(children, list)\n",
    "    assert disconnected_vertex.children == []\n",
    "    \n",
    "    # Reconnect the children\n",
    "    disconnected_vertex.children = children\n",
    "    \n",
    "    for c in children:\n",
    "        c.parents.append(disconnected_vertex)"
   ]
  },
  {
   "cell_type": "code",
   "execution_count": 57,
   "metadata": {},
   "outputs": [],
   "source": [
    "reconnect(disconnected_vertex, children)"
   ]
  },
  {
   "cell_type": "code",
   "execution_count": 58,
   "metadata": {},
   "outputs": [
    {
     "data": {
      "image/png": "[encoded data removed]",
      "text/plain": [
       "<Figure size 432x288 with 1 Axes>"
      ]
     },
     "metadata": {},
     "output_type": "display_data"
    }
   ],
   "source": [
    "draw_from_vertex(vertices[-1])"
   ]
  },
  {
   "cell_type": "markdown",
   "metadata": {},
   "source": [
    "### Copy part of the graph"
   ]
  },
  {
   "cell_type": "code",
   "execution_count": 59,
   "metadata": {},
   "outputs": [],
   "source": [
    "def find_leaf_vertices(vertex):\n",
    "    \"\"\"Find the leaf vertices from a given vertex in the graph.\"\"\"\n",
    "    \n",
    "    #assert isinstance(vertex, Vertex)\n",
    "    \n",
    "    q = deque()\n",
    "    q.append(vertex)\n",
    "    explored = set()\n",
    "    leaf_vertices = []\n",
    "    \n",
    "    while len(q) > 0:\n",
    "\n",
    "        vertex = q.popleft()\n",
    "        explored.add(vertex)\n",
    "        \n",
    "        if len(vertex.children) == 0:\n",
    "            leaf_vertices.append(vertex)\n",
    "        \n",
    "        for p in vertex.parents:\n",
    "            if not p in explored:\n",
    "                explored.add(p)\n",
    "                q.append(p)\n",
    "        \n",
    "        for c in vertex.children:\n",
    "            if not c in explored:\n",
    "                explored.add(c)\n",
    "                q.append(c)\n",
    "        \n",
    "    return leaf_vertices"
   ]
  },
  {
   "cell_type": "code",
   "execution_count": 60,
   "metadata": {},
   "outputs": [],
   "source": [
    "def copy_part_of_graph(vertex, vertex_to_copy_from, n_copies=1):\n",
    "    \n",
    "    assert isinstance(vertex, Vertex)            # Any vertex in the graph\n",
    "    assert isinstance(vertex_to_copy_from, str)  # Name of the vertex to copy from\n",
    "    assert isinstance(n_copies, int) and n_copies > 0\n",
    "    \n",
    "    # Disconnect the vertex \n",
    "    disconnected_vertex, children = disconnect_subgraph(vertex, vertex_to_copy_from)\n",
    "    assert len(children) == 1\n",
    "    assert disconnected_vertex.children == []\n",
    "    \n",
    "    # Copy the vertices connected to the disconnected vertex\n",
    "    copies = []\n",
    "    for i in range(n_copies):\n",
    "        copy = copy_graph(disconnected_vertex, i+1)\n",
    "        copy = list(copy.values())[0]\n",
    "\n",
    "        # Find the leaf vertex of the copied subgraph\n",
    "        copy_leaves = find_leaf_vertices(copy)\n",
    "        assert len(copy_leaves) == 1\n",
    "        copies.append(copy_leaves[0])\n",
    "    \n",
    "    # Insert a new vertex\n",
    "    new_vertex = Vertex(\"NEW\", 0)\n",
    "    new_vertex.parents = [disconnected_vertex]\n",
    "    \n",
    "    for copy in copies:\n",
    "        new_vertex.parents.append(copy)\n",
    "    \n",
    "    new_vertex.children = [children[0]]\n",
    "    children[0].parents.append(new_vertex)\n",
    "    \n",
    "    return new_vertex"
   ]
  },
  {
   "cell_type": "code",
   "execution_count": 61,
   "metadata": {},
   "outputs": [
    {
     "data": {
      "image/png": "[encoded data removed]",
      "text/plain": [
       "<Figure size 432x288 with 1 Axes>"
      ]
     },
     "metadata": {},
     "output_type": "display_data"
    }
   ],
   "source": [
    "edges = \"\"\"\n",
    "a -> c\n",
    "b -> c\n",
    "c -> e\n",
    "d -> e\n",
    "\"\"\"\n",
    "\n",
    "vertices = build_graph(edges)\n",
    "draw_network(vertices)"
   ]
  },
  {
   "cell_type": "code",
   "execution_count": 62,
   "metadata": {},
   "outputs": [
    {
     "name": "stdout",
     "output_type": "stream",
     "text": [
      "Processing Vertex(c, 0)\n",
      "Created Vertex(c, 1)\n",
      "Processing Vertex(a, 0)\n",
      "Created Vertex(a, 1)\n",
      "Processing Vertex(b, 0)\n",
      "Created Vertex(b, 1)\n",
      "Processing Vertex(c, 0) to connect it up\n",
      "Processing Vertex(a, 0) to connect it up\n",
      "Processing Vertex(b, 0) to connect it up\n",
      "Processing Vertex(c, 0)\n",
      "Created Vertex(c, 2)\n",
      "Processing Vertex(a, 0)\n",
      "Created Vertex(a, 2)\n",
      "Processing Vertex(b, 0)\n",
      "Created Vertex(b, 2)\n",
      "Processing Vertex(c, 0) to connect it up\n",
      "Processing Vertex(a, 0) to connect it up\n",
      "Processing Vertex(b, 0) to connect it up\n"
     ]
    },
    {
     "data": {
      "image/png": "[encoded data removed]",
      "text/plain": [
       "<Figure size 432x288 with 1 Axes>"
      ]
     },
     "metadata": {},
     "output_type": "display_data"
    }
   ],
   "source": [
    "cpy = copy_part_of_graph(vertices[0], 'c', 2)\n",
    "draw_from_vertex(cpy)"
   ]
  },
  {
   "cell_type": "code",
   "execution_count": 63,
   "metadata": {},
   "outputs": [
    {
     "data": {
      "image/png": "[encoded data removed]",
      "text/plain": [
       "<Figure size 432x288 with 1 Axes>"
      ]
     },
     "metadata": {},
     "output_type": "display_data"
    }
   ],
   "source": [
    "draw_from_vertex(cpy)"
   ]
  },
  {
   "cell_type": "markdown",
   "metadata": {},
   "source": [
    "## Populate template from data"
   ]
  },
  {
   "cell_type": "markdown",
   "metadata": {},
   "source": [
    "There is a template graph and a data graph. Both graphs have the same vertices and the same structure. The task is to take a field from the data graph and copy it to the template graph."
   ]
  },
  {
   "cell_type": "code",
   "execution_count": 64,
   "metadata": {},
   "outputs": [],
   "source": [
    "class TemplateVertex:\n",
    "    def __init__(self, name):\n",
    "        self.name = name\n",
    "        self.identifier = None\n",
    "        self.children = []\n",
    "        self.parents = []\n",
    "    def __repr__(self):\n",
    "        return f\"TemplateVertex({self.name}, {self.identifier})\"    "
   ]
  },
  {
   "cell_type": "code",
   "execution_count": 65,
   "metadata": {},
   "outputs": [],
   "source": [
    "class DataVertex:\n",
    "    def __init__(self, name, identifier):\n",
    "        self.name = name\n",
    "        self.identifier = identifier\n",
    "        self.children = []\n",
    "        self.parents = []\n",
    "    def __repr__(self):\n",
    "        return f\"DataVertex({self.name}, {self.identifier})\"    "
   ]
  },
  {
   "cell_type": "code",
   "execution_count": 66,
   "metadata": {},
   "outputs": [],
   "source": [
    "def find_template_vertex(vertices, name):\n",
    "    for v in vertices:\n",
    "        if v.name == name:\n",
    "            return v\n",
    "    return None"
   ]
  },
  {
   "cell_type": "code",
   "execution_count": 67,
   "metadata": {},
   "outputs": [],
   "source": [
    "def find_data_vertex(vertices, name, identifier):\n",
    "    for v in vertices:\n",
    "        if v.name == name and v.identifier == identifier:\n",
    "            return v\n",
    "    return None"
   ]
  },
  {
   "cell_type": "code",
   "execution_count": 68,
   "metadata": {},
   "outputs": [],
   "source": [
    "def build_template_graph(spec):\n",
    "    \"\"\"Build the template graph from a list of edges.\"\"\"\n",
    "    assert isinstance(spec, str)\n",
    "    \n",
    "    vertices = []\n",
    "    \n",
    "    for link in spec.strip().split(\"\\n\"):\n",
    "        \n",
    "        src, dst = link.split(\" -> \")\n",
    "        \n",
    "        src_vertex = find_template_vertex(vertices, src)\n",
    "        if src_vertex is None:\n",
    "            src_vertex = TemplateVertex(src)\n",
    "            vertices.append(src_vertex)\n",
    "        \n",
    "        dst_vertex = find_template_vertex(vertices, dst)\n",
    "        if dst_vertex is None:\n",
    "            dst_vertex = TemplateVertex(dst)\n",
    "            vertices.append(dst_vertex)\n",
    "        \n",
    "        src_vertex.children.append(dst_vertex)\n",
    "        dst_vertex.parents.append(src_vertex)\n",
    "    \n",
    "    return vertices"
   ]
  },
  {
   "cell_type": "code",
   "execution_count": 69,
   "metadata": {},
   "outputs": [],
   "source": [
    "def build_data_graph(spec):\n",
    "    \"\"\"Build the template graph from a list of edges.\"\"\"\n",
    "    assert isinstance(spec, str)\n",
    "    \n",
    "    vertices = []\n",
    "    \n",
    "    for link in spec.strip().split(\"\\n\"):\n",
    "        \n",
    "        src, dst = link.split(\" -> \")\n",
    "        \n",
    "        src_name, src_id = src.split(\":\")\n",
    "        dst_name, dst_id = dst.split(\":\")\n",
    "        \n",
    "        src_vertex = find_data_vertex(vertices, src_name, src_id)\n",
    "        if src_vertex is None:\n",
    "            src_vertex = DataVertex(src_name, src_id)\n",
    "            vertices.append(src_vertex)\n",
    "        \n",
    "        dst_vertex = find_data_vertex(vertices, dst_name, dst_id)\n",
    "        if dst_vertex is None:\n",
    "            dst_vertex = DataVertex(dst_name, dst_id)\n",
    "            vertices.append(dst_vertex)\n",
    "        \n",
    "        src_vertex.children.append(dst_vertex)\n",
    "        dst_vertex.parents.append(src_vertex)\n",
    "    \n",
    "    return vertices    "
   ]
  },
  {
   "cell_type": "code",
   "execution_count": 70,
   "metadata": {},
   "outputs": [],
   "source": [
    "def draw_from_vertex(vertex):\n",
    "    \"\"\"Draw the graph given a single vertex within the graph.\"\"\"\n",
    "    \n",
    "    assert isinstance(vertex, TemplateVertex) or isinstance(vertex, DataVertex) \n",
    "    \n",
    "    G = nx.DiGraph()\n",
    "    explored = set()\n",
    "    \n",
    "    q = deque()\n",
    "    q.append(vertex)\n",
    "    \n",
    "    while len(q) > 0:\n",
    "        \n",
    "        # Take a vertex off the queue\n",
    "        vertex = q.popleft()\n",
    "        \n",
    "        # Record that the vertex has been explored\n",
    "        explored.add(vertex)\n",
    "        \n",
    "        if len(vertex.parents) == 0 and len(vertex.children) == 0:\n",
    "            G.add_node(f\"{vertex.name}:{vertex.identifier}\")\n",
    "    \n",
    "        for p in vertex.parents:\n",
    "            if not p in explored:\n",
    "                explored.add(p)\n",
    "                q.append(p)\n",
    "                \n",
    "                src = f\"{p.name}:{p.identifier}\"\n",
    "                dst = f\"{vertex.name}:{vertex.identifier}\"\n",
    "                G.add_edge(src, dst)\n",
    "                \n",
    "        \n",
    "        for c in vertex.children:\n",
    "            if not c in explored:\n",
    "                explored.add(c)\n",
    "                q.append(c)\n",
    "                \n",
    "                src = f\"{vertex.name}:{vertex.identifier}\"\n",
    "                dst = f\"{c.name}:{c.identifier}\"  \n",
    "                G.add_edge(src, dst)\n",
    "    \n",
    "    # Draw the graph\n",
    "    nx.draw(G, with_labels=True, font_weight='bold')"
   ]
  },
  {
   "cell_type": "code",
   "execution_count": 71,
   "metadata": {},
   "outputs": [],
   "source": [
    "template_edges = \"\"\"\n",
    "a -> b\n",
    "b -> c\n",
    "d -> c\n",
    "\"\"\""
   ]
  },
  {
   "cell_type": "code",
   "execution_count": 72,
   "metadata": {},
   "outputs": [],
   "source": [
    "data_edges = \"\"\"\n",
    "a:1 -> b:2\n",
    "b:2 -> c:3\n",
    "d:4 -> c:3\n",
    "\"\"\""
   ]
  },
  {
   "cell_type": "code",
   "execution_count": 73,
   "metadata": {},
   "outputs": [],
   "source": [
    "template_vertices = build_template_graph(template_edges)\n",
    "data_vertices = build_data_graph(data_edges)"
   ]
  },
  {
   "cell_type": "code",
   "execution_count": 74,
   "metadata": {},
   "outputs": [
    {
     "data": {
      "image/png": "[encoded data removed]",
      "text/plain": [
       "<Figure size 432x288 with 1 Axes>"
      ]
     },
     "metadata": {},
     "output_type": "display_data"
    }
   ],
   "source": [
    "draw_from_vertex(template_vertices[0])"
   ]
  },
  {
   "cell_type": "code",
   "execution_count": 75,
   "metadata": {},
   "outputs": [
    {
     "data": {
      "image/png": "[encoded data removed]",
      "text/plain": [
       "<Figure size 432x288 with 1 Axes>"
      ]
     },
     "metadata": {},
     "output_type": "display_data"
    }
   ],
   "source": [
    "draw_from_vertex(data_vertices[0])"
   ]
  },
  {
   "cell_type": "code",
   "execution_count": 76,
   "metadata": {},
   "outputs": [],
   "source": [
    "def find_data_vertices_by_name(data_vertex, name):\n",
    "    \n",
    "    assert isinstance(data_vertex, DataVertex)\n",
    "    assert isinstance(name, str)\n",
    "    \n",
    "    vertices_with_name = []\n",
    "    explored = set()\n",
    "    \n",
    "    q = deque()\n",
    "    q.append(data_vertex)\n",
    "    \n",
    "    while len(q) > 0:\n",
    "        \n",
    "        vertex = q.popleft()\n",
    "        explored.add(vertex)\n",
    "        \n",
    "        if vertex.name == name:\n",
    "            vertices_with_name.append(vertex)\n",
    "        \n",
    "        for p in vertex.parents:\n",
    "            if not p in explored:\n",
    "                q.append(p)\n",
    "                explored.add(p)\n",
    "                \n",
    "        for c in vertex.children:\n",
    "            if not c in explored:\n",
    "                q.append(c)\n",
    "                explored.add(c)        \n",
    "    \n",
    "    return vertices_with_name"
   ]
  },
  {
   "cell_type": "code",
   "execution_count": 77,
   "metadata": {},
   "outputs": [],
   "source": [
    "def vertex_with_name_in_list(vertices, name):\n",
    "    for v in vertices:\n",
    "        if v.name == name:\n",
    "            return True\n",
    "        \n",
    "    return Fasle"
   ]
  },
  {
   "cell_type": "code",
   "execution_count": 78,
   "metadata": {},
   "outputs": [],
   "source": [
    "def data_vertex_have_right_connections(template_vertex, data_vertex):\n",
    "    \"\"\"Does the data vertex contain the correct child and parent vertices?\"\"\"\n",
    "    \n",
    "    assert isinstance(template_vertex, TemplateVertex)\n",
    "    assert isinstance(data_vertex, DataVertex)\n",
    "    \n",
    "    for c in data_vertex.children:\n",
    "        if not vertex_with_name_in_list(template_vertex.children, c.name):\n",
    "            return False\n",
    "    \n",
    "    for p in data_vertex.parents:\n",
    "        if not vertex_with_name_in_list(template_vertex.parents, p.name):\n",
    "            return False\n",
    "        \n",
    "    return True"
   ]
  },
  {
   "cell_type": "code",
   "execution_count": 79,
   "metadata": {},
   "outputs": [],
   "source": [
    "def populate_template(template_vertex, data_vertex):\n",
    "    \n",
    "    assert isinstance(template_vertex, TemplateVertex)\n",
    "    assert isinstance(data_vertex, DataVertex)\n",
    "    \n",
    "    # Find the leaf vertices\n",
    "    template_leaves = find_leaf_vertices(template_vertex)\n",
    "    assert len(template_leaves) == 1\n",
    "    template_leaf = template_leaves[0]\n",
    "    \n",
    "    data_leaves = find_leaf_vertices(data_vertex)\n",
    "    assert len(data_leaves) == 1\n",
    "    data_leaf = data_leaves[0]\n",
    "    \n",
    "    print(f\"Starting from {template_leaf} and {data_leaf}\")\n",
    "    \n",
    "    q = deque()\n",
    "    q.append(template_leaf)\n",
    "    \n",
    "    while len(q) > 0:\n",
    "        \n",
    "        template_vertex = q.popleft()\n",
    "        print(f\"Processing {template_vertex}\")\n",
    "        \n",
    "        # Find the data vertices that match the template\n",
    "        matching_data_vertices = find_data_vertices_by_name(data_vertex, template_vertex.name)\n",
    "        assert len(matching_data_vertices) == 1\n",
    "        \n",
    "        # Check that the matching vertex has the right parents and children\n",
    "        if not data_vertex_have_right_connections(template_vertex, matching_data_vertices[0]):\n",
    "            print(\"Data vertex has incorrect relationships\")\n",
    "            return\n",
    "        \n",
    "        template_vertex.identifier = matching_data_vertices[0].identifier\n",
    "        \n",
    "        for p in template_vertex.parents:\n",
    "            q.append(p)"
   ]
  },
  {
   "cell_type": "code",
   "execution_count": 80,
   "metadata": {},
   "outputs": [
    {
     "name": "stdout",
     "output_type": "stream",
     "text": [
      "Starting from TemplateVertex(c, None) and DataVertex(c, 3)\n",
      "Processing TemplateVertex(c, None)\n",
      "Processing TemplateVertex(b, None)\n",
      "Processing TemplateVertex(d, None)\n",
      "Processing TemplateVertex(a, None)\n"
     ]
    }
   ],
   "source": [
    "populate_template(template_vertices[0], data_vertices[0])"
   ]
  },
  {
   "cell_type": "code",
   "execution_count": 81,
   "metadata": {},
   "outputs": [
    {
     "data": {
      "image/png": "[encoded data removed]",
      "text/plain": [
       "<Figure size 432x288 with 1 Axes>"
      ]
     },
     "metadata": {},
     "output_type": "display_data"
    }
   ],
   "source": [
    "draw_from_vertex(template_vertices[0])"
   ]
  },
  {
   "cell_type": "markdown",
   "metadata": {},
   "source": [
    "## Extend template with data"
   ]
  },
  {
   "cell_type": "code",
   "execution_count": 82,
   "metadata": {},
   "outputs": [],
   "source": [
    "class TemplateVertex:\n",
    "    def __init__(self, name):\n",
    "        self.name = name\n",
    "        self.children = []\n",
    "        self.parents = []\n",
    "        self.data_vertex = None\n",
    "    def __repr__(self):\n",
    "        return f\"TemplateVertex({self.name}, {self.data_vertex})\"    "
   ]
  },
  {
   "cell_type": "code",
   "execution_count": 83,
   "metadata": {},
   "outputs": [],
   "source": [
    "class DataVertex:\n",
    "    def __init__(self, name, identifier):\n",
    "        self.name = name\n",
    "        self.identifier = identifier\n",
    "        self.children = []\n",
    "        self.parents = []\n",
    "    def __repr__(self):\n",
    "        return f\"DataVertex({self.name}, {self.identifier})\"    "
   ]
  },
  {
   "cell_type": "code",
   "execution_count": 84,
   "metadata": {},
   "outputs": [],
   "source": [
    "def build_vertex_name_to_vertex_lookup(data_vertex):\n",
    "    \"\"\"Build a lookup of vertex name to data vertex object.\"\"\"\n",
    "    \n",
    "    # Precondition\n",
    "    assert isinstance(data_vertex, DataVertex)\n",
    "    \n",
    "    vertex_name_to_vertex = {}\n",
    "    explored = set()\n",
    "    \n",
    "    q = deque()\n",
    "    q.append(data_vertex)\n",
    "    \n",
    "    while len(q) > 0:\n",
    "        \n",
    "        vertex = q.popleft()\n",
    "        explored.add(vertex)\n",
    "        print(f\"Processing {vertex}\")\n",
    "        \n",
    "        if not vertex.name in vertex_name_to_vertex:\n",
    "            vertex_name_to_vertex[vertex.name] = [vertex]\n",
    "        else:\n",
    "            vertex_name_to_vertex[vertex.name].append(vertex)\n",
    "        \n",
    "        for p in vertex.parents:\n",
    "            if not p in explored:\n",
    "                q.append(p)\n",
    "                explored.add(p)\n",
    "                \n",
    "        for c in vertex.children:\n",
    "            if not c in explored:\n",
    "                q.append(c)\n",
    "                explored.add(c)      \n",
    "                \n",
    "    # Postcondition\n",
    "    assert isinstance(vertex_name_to_vertex, dict)\n",
    "    assert len(vertex_name_to_vertex) > 0\n",
    "    assert data_vertex.name in vertex_name_to_vertex\n",
    "    \n",
    "    return vertex_name_to_vertex"
   ]
  },
  {
   "cell_type": "code",
   "execution_count": 85,
   "metadata": {},
   "outputs": [
    {
     "name": "stdout",
     "output_type": "stream",
     "text": [
      "[DataVertex(d, 2), DataVertex(a, 100), DataVertex(d, 11), DataVertex(e, 1), DataVertex(f, 3), DataVertex(e, 10), DataVertex(f, 12)]\n",
      "Processing DataVertex(d, 2)\n",
      "Processing DataVertex(e, 1)\n",
      "Processing DataVertex(f, 3)\n",
      "Processing DataVertex(a, 100)\n",
      "Processing DataVertex(d, 11)\n",
      "Processing DataVertex(e, 10)\n",
      "Processing DataVertex(f, 12)\n"
     ]
    },
    {
     "data": {
      "text/plain": [
       "{'d': [DataVertex(d, 2), DataVertex(d, 11)],\n",
       " 'e': [DataVertex(e, 1), DataVertex(e, 10)],\n",
       " 'f': [DataVertex(f, 3), DataVertex(f, 12)],\n",
       " 'a': [DataVertex(a, 100)]}"
      ]
     },
     "execution_count": 85,
     "metadata": {},
     "output_type": "execute_result"
    }
   ],
   "source": [
    "# Tests\n",
    "data_edges = \"\"\"\n",
    "d:2 -> a:100\n",
    "d:11 -> a:100\n",
    "e:1 -> d:2\n",
    "f:3 -> d:2\n",
    "e:10 -> d:11\n",
    "f:12 -> d:11\n",
    "\"\"\"\n",
    "\n",
    "data_vertices = build_data_graph(data_edges)\n",
    "print(data_vertices)\n",
    "build_vertex_name_to_vertex_lookup(data_vertices[0])"
   ]
  },
  {
   "cell_type": "code",
   "execution_count": 86,
   "metadata": {},
   "outputs": [],
   "source": [
    "def data_vertices_associated_with_children(template_vertex):\n",
    "    \"\"\"Returns the data vertices associated with the children of a template vertex\"\"\"\n",
    "    \n",
    "    # Precondition\n",
    "    assert isinstance(template_vertex, TemplateVertex)\n",
    "    \n",
    "    data_vertices = []\n",
    "    \n",
    "    for child in template_vertex.children:\n",
    "        if child.data_vertex is not None:\n",
    "            assert isinstance(child.data_vertex, DataVertex)\n",
    "            data_vertices.append(child.data_vertex)\n",
    "    \n",
    "    # Postcondition\n",
    "    assert isinstance(data_vertices, list)\n",
    "    \n",
    "    return data_vertices"
   ]
  },
  {
   "cell_type": "code",
   "execution_count": 87,
   "metadata": {},
   "outputs": [],
   "source": [
    "def template_has_child_with_name(template_vertex, name):\n",
    "    \"\"\"Does the template vertex have a child with the specified name?\"\"\"\n",
    "    \n",
    "    # Preconditions\n",
    "    assert isinstance(template_vertex, TemplateVertex)\n",
    "    assert isinstance(name, str)\n",
    "    \n",
    "    if len(template_vertex.children) == 0:\n",
    "        return False\n",
    "    \n",
    "    for c in template_vertex.children:\n",
    "        if c.name == name:\n",
    "            return True\n",
    "    \n",
    "    return False"
   ]
  },
  {
   "cell_type": "code",
   "execution_count": 88,
   "metadata": {},
   "outputs": [],
   "source": [
    "def consistent_children(template_vertex, data_vertex):\n",
    "    \"\"\"Does the template vertex and data vertex have consistent children?\"\"\"\n",
    "    \n",
    "    # Preconditions\n",
    "    assert isinstance(template_vertex, TemplateVertex)\n",
    "    assert isinstance(data_vertex, DataVertex)\n",
    "    \n",
    "    for child in data_vertex.children:\n",
    "        if not template_has_child_with_name(template_vertex, child.name):\n",
    "            return False\n",
    "        \n",
    "    return True"
   ]
  },
  {
   "cell_type": "code",
   "execution_count": 89,
   "metadata": {},
   "outputs": [],
   "source": [
    "def data_vertex_consistent_with_children(template_vertex, child_data_vertices):\n",
    "    \"\"\"Returns data vertices that are consistent with the template vertex.\"\"\"\n",
    "    \n",
    "    # Preconditions\n",
    "    assert isinstance(template_vertex, TemplateVertex)\n",
    "    assert isinstance(child_data_vertices, list)\n",
    "    assert len(child_data_vertices) > 0\n",
    "    \n",
    "    # Set of potential data vertices that match the template vertex\n",
    "    potential = set()\n",
    "    \n",
    "    for child in child_data_vertices:\n",
    "        assert isinstance(child, DataVertex), f\"Expected a DataVertex, got {type(child)}\"\n",
    "        \n",
    "        print(child.parents)\n",
    "        \n",
    "        for parent in child.parents:\n",
    "            assert isinstance(parent, DataVertex), f\"Expected a DataVertex, got {type(parent)}\"\n",
    "            \n",
    "            print(f\"      Child: {child}, Parent: {parent}\")\n",
    "            \n",
    "            if parent.name == template_vertex.name:\n",
    "                potential.add(parent)\n",
    "                print(f\"      Added to potential\")\n",
    "    \n",
    "    if len(potential) == 0:\n",
    "        return [], \"\"\n",
    "    \n",
    "    print(f\"  POTENTIAL: {potential}\")\n",
    "    \n",
    "    # Make sure that the potential data vertices only have children that the template\n",
    "    # vertex has\n",
    "    for p in potential:\n",
    "        assert isinstance(p, DataVertex), f\"Expected a DataVertex, got {type(p)}\"\n",
    "        \n",
    "        if not consistent_children(template_vertex, p):\n",
    "            return [], f\"{p} has inconsistent child vertex\"\n",
    "        \n",
    "    consistent_vertices = list(potential)\n",
    "        \n",
    "    # Postcondition\n",
    "    assert isinstance(consistent_vertices, list)\n",
    "    for m in consistent_vertices:\n",
    "        assert isinstance(m, DataVertex), f\"Expected a DataVertex, got {type(m)}\"\n",
    "        assert m.name == template_vertex.name, f\"Got matched name {m.name}, expected {template_vertex.name}\"    \n",
    "    \n",
    "    return consistent_vertices, \"\""
   ]
  },
  {
   "cell_type": "code",
   "execution_count": 90,
   "metadata": {},
   "outputs": [],
   "source": [
    "def data_vertex_matches(template_vertex, data_vertex_lookup):\n",
    "    \"\"\"Find the data vertex or vertices that match the template.\"\"\"\n",
    "    \n",
    "    # Preconditions\n",
    "    assert isinstance(template_vertex, TemplateVertex)\n",
    "    assert isinstance(data_vertex_lookup, dict)\n",
    "    \n",
    "    if len(template_vertex.children) == 0:\n",
    "        # If the template vertex is a leaf vertex, just look for a data vertex with\n",
    "        # the same name as the template vertex\n",
    "        matched = data_vertex_lookup.get(template_vertex.name, [])\n",
    "    \n",
    "    else:\n",
    "        # Get a list of the data vertices associated with the children of the template vertex\n",
    "        ds = data_vertices_associated_with_children(template_vertex)\n",
    "        print(f\"-- Child data vertices of template: {ds}\")\n",
    "        assert isinstance(ds, list)\n",
    "        \n",
    "        if len(ds) == 0:\n",
    "            print(\"-- No matches\")\n",
    "            # If there are no data vertices amongst the template's child vertices\n",
    "            # then look for a data vertex with the required name\n",
    "            matched = data_vertex_lookup.get(template_vertex.name, [])\n",
    "        \n",
    "        else:\n",
    "            print(f\"-- {len(ds)} child/ren matches\")\n",
    "            matched, msg = data_vertex_consistent_with_children(template_vertex, ds)\n",
    "            print(f\"-- Data vertices consistent: {matched}\")\n",
    "            \n",
    "            # If a data vertex has an inconsistent child vertex, return an error\n",
    "            if msg != \"\":\n",
    "                return [], msg\n",
    "        \n",
    "            if len(matched) == 0:\n",
    "                matched = data_vertex_lookup.get(template_vertex.name, [])\n",
    "        \n",
    "    # Postcondition\n",
    "    assert isinstance(matched, list)\n",
    "    \n",
    "    for m in matched:\n",
    "        assert isinstance(m, DataVertex), f\"Expected a DataVertex, got {type(v)}\"\n",
    "        assert m.name == template_vertex.name, f\"Got matched name {m.name}, expected {template_vertex.name}\"\n",
    "    \n",
    "    return matched, \"\""
   ]
  },
  {
   "cell_type": "code",
   "execution_count": 91,
   "metadata": {},
   "outputs": [],
   "source": [
    "def match_data_to_template(template_vertex, data_vertex):\n",
    "    \n",
    "    # Preconditions\n",
    "    assert isinstance(template_vertex, TemplateVertex)\n",
    "    assert isinstance(data_vertex, DataVertex)\n",
    "    \n",
    "    # Find the leaf vertices of the template graph\n",
    "    template_leaf_vertices = find_leaf_vertices(template_vertex)\n",
    "    assert len(template_leaf_vertices) > 0\n",
    "    \n",
    "    # Add each of the template's leaves to the queue to process\n",
    "    q = deque()\n",
    "    for t in template_leaf_vertices:\n",
    "        q.append(t)\n",
    "        \n",
    "    # Build the lookup of data vertex name to data vertex object\n",
    "    data_vertex_lookup = build_vertex_name_to_vertex_lookup(data_vertex)\n",
    "    print(data_vertex_lookup)\n",
    "    assert len(data_vertex_lookup) > 0\n",
    "    \n",
    "    while len(q) > 0:\n",
    "        \n",
    "        # Take a template vertex off the queue\n",
    "        template_vertex = q.popleft()\n",
    "        print(f\"Processing {template_vertex}\")\n",
    "        \n",
    "        # Process the template vertex\n",
    "        matched, msg = data_vertex_matches(template_vertex, data_vertex_lookup)\n",
    "        assert msg == \"\"\n",
    "        \n",
    "        if len(matched) == 0:\n",
    "            pass\n",
    "        elif len(matched) == 1:\n",
    "            print(f\"  Assigning {matched[0]} to {template_vertex}\")\n",
    "            template_vertex.data_vertex = matched[0]\n",
    "        else:\n",
    "            assert False\n",
    "        \n",
    "        # Add all of the template vertex's parents to the queue to process\n",
    "        for p in template_vertex.parents:\n",
    "            q.append(p)"
   ]
  },
  {
   "cell_type": "code",
   "execution_count": 92,
   "metadata": {},
   "outputs": [],
   "source": [
    "template_edges = \"\"\"\n",
    "a -> b\n",
    "b -> c\n",
    "d -> c\n",
    "\"\"\"\n",
    "\n",
    "data_edges = \"\"\"\n",
    "b:2 -> c:3\n",
    "d:4 -> c:3\n",
    "\"\"\"\n",
    "\n",
    "template_vertices = build_template_graph(template_edges)\n",
    "data_vertices = build_data_graph(data_edges)"
   ]
  },
  {
   "cell_type": "code",
   "execution_count": 93,
   "metadata": {},
   "outputs": [
    {
     "name": "stdout",
     "output_type": "stream",
     "text": [
      "Processing DataVertex(b, 2)\n",
      "Processing DataVertex(c, 3)\n",
      "Processing DataVertex(d, 4)\n",
      "{'b': [DataVertex(b, 2)], 'c': [DataVertex(c, 3)], 'd': [DataVertex(d, 4)]}\n",
      "Processing TemplateVertex(c, None)\n",
      "  Assigning DataVertex(c, 3) to TemplateVertex(c, None)\n",
      "Processing TemplateVertex(b, None)\n",
      "-- Child data vertices of template: [DataVertex(c, 3)]\n",
      "-- 1 child/ren matches\n",
      "[DataVertex(b, 2), DataVertex(d, 4)]\n",
      "      Child: DataVertex(c, 3), Parent: DataVertex(b, 2)\n",
      "      Added to potential\n",
      "      Child: DataVertex(c, 3), Parent: DataVertex(d, 4)\n",
      "  POTENTIAL: {DataVertex(b, 2)}\n",
      "-- Data vertices consistent: [DataVertex(b, 2)]\n",
      "  Assigning DataVertex(b, 2) to TemplateVertex(b, None)\n",
      "Processing TemplateVertex(d, None)\n",
      "-- Child data vertices of template: [DataVertex(c, 3)]\n",
      "-- 1 child/ren matches\n",
      "[DataVertex(b, 2), DataVertex(d, 4)]\n",
      "      Child: DataVertex(c, 3), Parent: DataVertex(b, 2)\n",
      "      Child: DataVertex(c, 3), Parent: DataVertex(d, 4)\n",
      "      Added to potential\n",
      "  POTENTIAL: {DataVertex(d, 4)}\n",
      "-- Data vertices consistent: [DataVertex(d, 4)]\n",
      "  Assigning DataVertex(d, 4) to TemplateVertex(d, None)\n",
      "Processing TemplateVertex(a, None)\n",
      "-- Child data vertices of template: [DataVertex(b, 2)]\n",
      "-- 1 child/ren matches\n",
      "[]\n",
      "-- Data vertices consistent: []\n"
     ]
    }
   ],
   "source": [
    "template_vertex = template_vertices[0]\n",
    "data_vertex = data_vertices[0]\n",
    "\n",
    "match_data_to_template(template_vertex, data_vertex)"
   ]
  },
  {
   "cell_type": "code",
   "execution_count": 94,
   "metadata": {},
   "outputs": [
    {
     "data": {
      "text/plain": [
       "[TemplateVertex(a, None),\n",
       " TemplateVertex(b, DataVertex(b, 2)),\n",
       " TemplateVertex(c, DataVertex(c, 3)),\n",
       " TemplateVertex(d, DataVertex(d, 4))]"
      ]
     },
     "execution_count": 94,
     "metadata": {},
     "output_type": "execute_result"
    }
   ],
   "source": [
    "template_vertices"
   ]
  },
  {
   "cell_type": "markdown",
   "metadata": {},
   "source": [
    "### Functionality to handle replicas"
   ]
  },
  {
   "cell_type": "code",
   "execution_count": 95,
   "metadata": {},
   "outputs": [],
   "source": [
    "def copy_graph(initial_vertex):\n",
    "    \"\"\"Make an exact copy of the entire of a graph.\"\"\"\n",
    "    \n",
    "    # Preconditions\n",
    "    assert isinstance(initial_vertex, TemplateVertex)\n",
    "    \n",
    "    initial_vertex_name = initial_vertex.name\n",
    "    \n",
    "    # Set of explored vertices\n",
    "    explored = set()\n",
    "\n",
    "    q = deque()\n",
    "    q.append(initial_vertex)\n",
    "    \n",
    "    # Dict of a new vertex's name to the vertex object\n",
    "    new_vertex_name_to_vertex = {}\n",
    "    \n",
    "    # Make all of the new (unconnected) vertices\n",
    "    while len(q) > 0:\n",
    "        \n",
    "        # Take a vertex from the queue\n",
    "        vertex = q.popleft()\n",
    "    \n",
    "        explored.add(vertex.name)\n",
    "        print(f\"Processing {vertex}\")\n",
    "        \n",
    "        new_vertex = TemplateVertex(vertex.name)\n",
    "        print(f\"Created {new_vertex}\")\n",
    "        new_vertex_name_to_vertex[vertex.name] = new_vertex\n",
    "\n",
    "        for parent in vertex.parents:\n",
    "            if not parent.name in explored:\n",
    "                parent.explored = True\n",
    "                q.append(parent)\n",
    "        \n",
    "        for child in vertex.children:\n",
    "            if not child.name in explored:\n",
    "                child.explored = True\n",
    "                q.append(child)\n",
    "    \n",
    "    # Now connect up the vertices\n",
    "    explored = set()\n",
    "    \n",
    "    q = deque()\n",
    "    q.append(initial_vertex)\n",
    "    \n",
    "    while len(q) > 0:\n",
    "        \n",
    "        # Take a vertex from the queue\n",
    "        vertex = q.popleft()\n",
    "    \n",
    "        explored.add(vertex.name)\n",
    "        print(f\"Processing {vertex} to connect it up\")\n",
    "        \n",
    "        for parent in vertex.parents:\n",
    "            if not parent.name in explored:\n",
    "                parent.explored = True\n",
    "                \n",
    "                p = new_vertex_name_to_vertex[parent.name]\n",
    "                v = new_vertex_name_to_vertex[vertex.name]\n",
    "                v.parents.append(p)\n",
    "                p.children.append(v)\n",
    "                \n",
    "                q.append(parent)\n",
    "        \n",
    "        for child in vertex.children:\n",
    "            if not child.name in explored:\n",
    "                child.explored = True\n",
    "                \n",
    "                c = new_vertex_name_to_vertex[child.name]\n",
    "                v = new_vertex_name_to_vertex[vertex.name]\n",
    "                v.children.append(c)\n",
    "                c.parents.append(v)\n",
    "                \n",
    "                q.append(child)        \n",
    "    \n",
    "    return new_vertex_name_to_vertex[initial_vertex_name]"
   ]
  },
  {
   "cell_type": "code",
   "execution_count": 96,
   "metadata": {},
   "outputs": [],
   "source": [
    "def replicate_subgraph(vertex, n_replicas):\n",
    "        \n",
    "    # Preconditions\n",
    "    assert isinstance(vertex, TemplateVertex)\n",
    "    assert n_replicas > 1\n",
    "    \n",
    "    copies = []\n",
    "    for i in range(n_replicas):\n",
    "        \n",
    "        # Copy the subgraph\n",
    "        copy = copy_graph(vertex)\n",
    "\n",
    "        # Find the leaf vertex of the copied subgraph\n",
    "        copy_leaves = find_leaf_vertices(copy)\n",
    "        assert len(copy_leaves) == 1\n",
    "        copies.append(copy_leaves[0])\n",
    "    \n",
    "    # Postconditions\n",
    "    assert len(copies) == n_replicas\n",
    "    for c in copies:\n",
    "        assert isinstance(c, TemplateVertex), f\"Expected a TemplateVertex, got {type(c)}\"\n",
    "        \n",
    "    return copies"
   ]
  },
  {
   "cell_type": "code",
   "execution_count": 97,
   "metadata": {},
   "outputs": [],
   "source": [
    "def disconnect_subgraph(template_vertex):\n",
    "\n",
    "    # Preconditions\n",
    "    assert isinstance(template_vertex, TemplateVertex)\n",
    "    assert len(template_vertex.children) > 0\n",
    "    \n",
    "    # Make a copy of the children of the vertex to disconnect\n",
    "    disconnected_vertex_children = template_vertex.children[:]\n",
    "    \n",
    "    # Disconnect the children of the template vertex\n",
    "    template_vertex.children = []\n",
    "    \n",
    "    # Remove the template vertex as a parent of the vertex's children\n",
    "    for c in disconnected_vertex_children:\n",
    "        assert template_vertex in c.parents\n",
    "        c.parents.remove(template_vertex)\n",
    "    \n",
    "    return template_vertex, disconnected_vertex_children"
   ]
  },
  {
   "cell_type": "code",
   "execution_count": 98,
   "metadata": {},
   "outputs": [],
   "source": [
    "def perform_replication_of_subgraph(template_vertex, data_vertices, aggregation_vertex_builder):\n",
    "    \"\"\"Replicate the subgraph below the template vertex.\"\"\"\n",
    "    \n",
    "    # Preconditions\n",
    "    assert isinstance(template_vertex, TemplateVertex)\n",
    "    assert isinstance(data_vertices, list)\n",
    "    assert len(data_vertices) > 1\n",
    "    for d in data_vertices:\n",
    "        assert isinstance(d, DataVertex)\n",
    "    \n",
    "    # 1. Disconnect the vertex (and its subgraph) that needs replicating from the graph\n",
    "    disconnected_vertex, disconnected_vertex_children = disconnect_subgraph(template_vertex)\n",
    "    assert len(disconnected_vertex_children) > 0\n",
    "    assert disconnected_vertex.children == []\n",
    "    for c in disconnected_vertex_children:\n",
    "        assert template_vertex not in c.parents\n",
    "    \n",
    "    # 2. Replicate the disconnected subgraph the required number of times\n",
    "    number_of_replicas = len(data_vertices)\n",
    "    assert number_of_replicas > 1\n",
    "    \n",
    "    replicas = replicate_subgraph(template_vertex, number_of_replicas)\n",
    "    assert isinstance(replicas, list)\n",
    "    assert len(replicas) == number_of_replicas\n",
    "    for r in replicas:\n",
    "        assert isinstance(r, TemplateVertex)\n",
    "    \n",
    "    # 3. Assign the data vertices to the replicas\n",
    "    for idx in range(number_of_replicas):\n",
    "        replicas[idx].data_vertex = data_vertices[idx]\n",
    "        \n",
    "    # 4. Use the aggregation vertex builder function to make a new vertex\n",
    "    aggregation_vertex = aggregation_vertex_builder(number_of_replicas) \n",
    "    assert isinstance(aggregation_vertex, TemplateVertex)\n",
    "    assert len(aggregation_vertex.children) == 0\n",
    "    assert len(aggregation_vertex.parents) == 0\n",
    "    \n",
    "    # 5. Connect the replicas to the aggregation vertex\n",
    "    for r in replicas:\n",
    "        r.children.append(aggregation_vertex)\n",
    "        aggregation_vertex.parents.append(r)\n",
    "    \n",
    "    # 6. Connect the aggregation vertex to the children of the disconnected vertex\n",
    "    for child in disconnected_vertex_children:\n",
    "        assert isinstance(child, TemplateVertex)\n",
    "        assert template_vertex not in child.parents\n",
    "        aggregation_vertex.children.append(child)\n",
    "        child.parents.append(aggregation_vertex)\n",
    "    \n",
    "    return aggregation_vertex"
   ]
  },
  {
   "cell_type": "code",
   "execution_count": 99,
   "metadata": {},
   "outputs": [
    {
     "name": "stdout",
     "output_type": "stream",
     "text": [
      "[TemplateVertex(b, None), TemplateVertex(a, None), TemplateVertex(c, None), TemplateVertex(d, None), TemplateVertex(e, None), TemplateVertex(f, None)]\n",
      "[DataVertex(e, 1), DataVertex(d, 2), DataVertex(f, 3), DataVertex(e, 10), DataVertex(d, 11), DataVertex(f, 12)]\n",
      "Processing TemplateVertex(d, None)\n",
      "Created TemplateVertex(d, None)\n",
      "Processing TemplateVertex(e, None)\n",
      "Created TemplateVertex(e, None)\n",
      "Processing TemplateVertex(f, None)\n",
      "Created TemplateVertex(f, None)\n",
      "Processing TemplateVertex(d, None) to connect it up\n",
      "Processing TemplateVertex(e, None) to connect it up\n",
      "Processing TemplateVertex(f, None) to connect it up\n",
      "Processing TemplateVertex(d, None)\n",
      "Created TemplateVertex(d, None)\n",
      "Processing TemplateVertex(e, None)\n",
      "Created TemplateVertex(e, None)\n",
      "Processing TemplateVertex(f, None)\n",
      "Created TemplateVertex(f, None)\n",
      "Processing TemplateVertex(d, None) to connect it up\n",
      "Processing TemplateVertex(e, None) to connect it up\n",
      "Processing TemplateVertex(f, None) to connect it up\n"
     ]
    },
    {
     "data": {
      "text/plain": [
       "TemplateVertex(AGG-2, None)"
      ]
     },
     "execution_count": 99,
     "metadata": {},
     "output_type": "execute_result"
    }
   ],
   "source": [
    "# Tests\n",
    "template_edges = \"\"\"\n",
    "b -> a\n",
    "c -> a\n",
    "d -> a\n",
    "e -> d\n",
    "f -> d\n",
    "\"\"\"\n",
    "\n",
    "data_edges = \"\"\"\n",
    "e:1 -> d:2\n",
    "f:3 -> d:2\n",
    "e:10 -> d:11\n",
    "f:12 -> d:11\n",
    "\"\"\"\n",
    "\n",
    "template_vertices = build_template_graph(template_edges)\n",
    "print(template_vertices)\n",
    "\n",
    "data_vertices = build_data_graph(data_edges)\n",
    "print(data_vertices)\n",
    "\n",
    "template_vertex = template_vertices[3]\n",
    "assert template_vertex.name == \"d\"\n",
    "\n",
    "data_vertices_for_d = [data_vertices[1], data_vertices[4]]\n",
    "assert data_vertices_for_d[0].name == \"d\"\n",
    "assert data_vertices_for_d[1].name == \"d\"\n",
    "\n",
    "aggregation_vertex_builder = lambda x: TemplateVertex(f\"AGG-{x}\")\n",
    "\n",
    "perform_replication_of_subgraph(template_vertex, data_vertices_for_d, aggregation_vertex_builder)"
   ]
  },
  {
   "cell_type": "code",
   "execution_count": 109,
   "metadata": {},
   "outputs": [],
   "source": [
    "def match_data_to_template(template_vertex, data_vertex):\n",
    "    \n",
    "    # Preconditions\n",
    "    assert isinstance(template_vertex, TemplateVertex)\n",
    "    assert isinstance(data_vertex, DataVertex)\n",
    "    \n",
    "    # Find the leaf vertices of the template graph\n",
    "    template_leaf_vertices = find_leaf_vertices(template_vertex)\n",
    "    assert len(template_leaf_vertices) > 0\n",
    "    \n",
    "    # Add each of the template's leaves to the queue to process\n",
    "    q = deque()\n",
    "    for t in template_leaf_vertices:\n",
    "        q.append(t)\n",
    "        \n",
    "    # Build the lookup of data vertex name to data vertex object\n",
    "    data_vertex_lookup = build_vertex_name_to_vertex_lookup(data_vertex)\n",
    "    print(data_vertex_lookup)\n",
    "    assert len(data_vertex_lookup) > 0\n",
    "    \n",
    "    while len(q) > 0:\n",
    "        \n",
    "        # Take a template vertex off the queue\n",
    "        template_vertex = q.popleft()\n",
    "        print(\"------\")\n",
    "        print(f\"Processing {template_vertex}\")\n",
    "        \n",
    "        # Process the template vertex\n",
    "        matched, msg = data_vertex_matches(template_vertex, data_vertex_lookup)\n",
    "        assert msg == \"\"\n",
    "        assert isinstance(matched, list)\n",
    "        for m in matched:\n",
    "            assert isinstance(m, DataVertex), f\"Expected a DataVertex, got {type(v)}\"\n",
    "            assert m.name == template_vertex.name, f\"Got matched name {m.name}, expected {template_vertex.name}\"        \n",
    "        \n",
    "        if len(matched) == 0:\n",
    "            print(f\"  No match for {template_vertex}\")\n",
    "            \n",
    "            # Add all of the template vertex's parents to the queue to process\n",
    "            for p in template_vertex.parents:\n",
    "                q.append(p)            \n",
    "            \n",
    "        elif len(matched) == 1:\n",
    "            print(f\"  Assigning {matched[0]} to {template_vertex}\")\n",
    "            template_vertex.data_vertex = matched[0]\n",
    "            \n",
    "            # Add all of the template vertex's parents to the queue to process\n",
    "            for p in template_vertex.parents:\n",
    "                q.append(p)\n",
    "            \n",
    "        else:\n",
    "            print(f\"  Replication of {template_vertex} {len(matched)} times\")\n",
    "            aggregation_vertex_builder = lambda x: TemplateVertex(f\"AGG-{x}\")\n",
    "            aggregation_vertex = perform_replication_of_subgraph(template_vertex, matched, aggregation_vertex_builder)\n",
    "            print(\"****\", aggregation_vertex)\n",
    "        \n",
    "            for p in aggregation_vertex.parents:\n",
    "                for p2 in p.parents:\n",
    "                    q.append(p2)"
   ]
  },
  {
   "cell_type": "code",
   "execution_count": 117,
   "metadata": {
    "scrolled": false
   },
   "outputs": [
    {
     "name": "stdout",
     "output_type": "stream",
     "text": [
      "[TemplateVertex(b, None), TemplateVertex(a, None), TemplateVertex(c, None), TemplateVertex(d, None), TemplateVertex(e, None), TemplateVertex(f, None)]\n",
      "[DataVertex(d, 2), DataVertex(a, 100), DataVertex(d, 11), DataVertex(e, 1), DataVertex(f, 3), DataVertex(e, 10), DataVertex(f, 12)]\n",
      "Processing DataVertex(d, 2)\n",
      "Processing DataVertex(e, 1)\n",
      "Processing DataVertex(f, 3)\n",
      "Processing DataVertex(a, 100)\n",
      "Processing DataVertex(d, 11)\n",
      "Processing DataVertex(e, 10)\n",
      "Processing DataVertex(f, 12)\n",
      "{'d': [DataVertex(d, 2), DataVertex(d, 11)], 'e': [DataVertex(e, 1), DataVertex(e, 10)], 'f': [DataVertex(f, 3), DataVertex(f, 12)], 'a': [DataVertex(a, 100)]}\n",
      "------\n",
      "Processing TemplateVertex(a, None)\n",
      "  Assigning DataVertex(a, 100) to TemplateVertex(a, None)\n",
      "------\n",
      "Processing TemplateVertex(b, None)\n",
      "-- Child data vertices of template: [DataVertex(a, 100)]\n",
      "-- 1 child/ren matches\n",
      "[DataVertex(d, 2), DataVertex(d, 11)]\n",
      "      Child: DataVertex(a, 100), Parent: DataVertex(d, 2)\n",
      "      Child: DataVertex(a, 100), Parent: DataVertex(d, 11)\n",
      "-- Data vertices consistent: []\n",
      "  No match for TemplateVertex(b, None)\n",
      "------\n",
      "Processing TemplateVertex(c, None)\n",
      "-- Child data vertices of template: [DataVertex(a, 100)]\n",
      "-- 1 child/ren matches\n",
      "[DataVertex(d, 2), DataVertex(d, 11)]\n",
      "      Child: DataVertex(a, 100), Parent: DataVertex(d, 2)\n",
      "      Child: DataVertex(a, 100), Parent: DataVertex(d, 11)\n",
      "-- Data vertices consistent: []\n",
      "  No match for TemplateVertex(c, None)\n",
      "------\n",
      "Processing TemplateVertex(d, None)\n",
      "-- Child data vertices of template: [DataVertex(a, 100)]\n",
      "-- 1 child/ren matches\n",
      "[DataVertex(d, 2), DataVertex(d, 11)]\n",
      "      Child: DataVertex(a, 100), Parent: DataVertex(d, 2)\n",
      "      Added to potential\n",
      "      Child: DataVertex(a, 100), Parent: DataVertex(d, 11)\n",
      "      Added to potential\n",
      "  POTENTIAL: {DataVertex(d, 11), DataVertex(d, 2)}\n",
      "-- Data vertices consistent: [DataVertex(d, 11), DataVertex(d, 2)]\n",
      "  Replication of TemplateVertex(d, None) 2 times\n",
      "Processing TemplateVertex(d, None)\n",
      "Created TemplateVertex(d, None)\n",
      "Processing TemplateVertex(e, None)\n",
      "Created TemplateVertex(e, None)\n",
      "Processing TemplateVertex(f, None)\n",
      "Created TemplateVertex(f, None)\n",
      "Processing TemplateVertex(d, None) to connect it up\n",
      "Processing TemplateVertex(e, None) to connect it up\n",
      "Processing TemplateVertex(f, None) to connect it up\n",
      "Processing TemplateVertex(d, None)\n",
      "Created TemplateVertex(d, None)\n",
      "Processing TemplateVertex(e, None)\n",
      "Created TemplateVertex(e, None)\n",
      "Processing TemplateVertex(f, None)\n",
      "Created TemplateVertex(f, None)\n",
      "Processing TemplateVertex(d, None) to connect it up\n",
      "Processing TemplateVertex(e, None) to connect it up\n",
      "Processing TemplateVertex(f, None) to connect it up\n",
      "**** TemplateVertex(AGG-2, None)\n",
      "------\n",
      "Processing TemplateVertex(e, None)\n",
      "-- Child data vertices of template: [DataVertex(d, 11)]\n",
      "-- 1 child/ren matches\n",
      "[DataVertex(e, 10), DataVertex(f, 12)]\n",
      "      Child: DataVertex(d, 11), Parent: DataVertex(e, 10)\n",
      "      Added to potential\n",
      "      Child: DataVertex(d, 11), Parent: DataVertex(f, 12)\n",
      "  POTENTIAL: {DataVertex(e, 10)}\n",
      "-- Data vertices consistent: [DataVertex(e, 10)]\n",
      "  Assigning DataVertex(e, 10) to TemplateVertex(e, None)\n",
      "------\n",
      "Processing TemplateVertex(f, None)\n",
      "-- Child data vertices of template: [DataVertex(d, 11)]\n",
      "-- 1 child/ren matches\n",
      "[DataVertex(e, 10), DataVertex(f, 12)]\n",
      "      Child: DataVertex(d, 11), Parent: DataVertex(e, 10)\n",
      "      Child: DataVertex(d, 11), Parent: DataVertex(f, 12)\n",
      "      Added to potential\n",
      "  POTENTIAL: {DataVertex(f, 12)}\n",
      "-- Data vertices consistent: [DataVertex(f, 12)]\n",
      "  Assigning DataVertex(f, 12) to TemplateVertex(f, None)\n",
      "------\n",
      "Processing TemplateVertex(e, None)\n",
      "-- Child data vertices of template: [DataVertex(d, 2)]\n",
      "-- 1 child/ren matches\n",
      "[DataVertex(e, 1), DataVertex(f, 3)]\n",
      "      Child: DataVertex(d, 2), Parent: DataVertex(e, 1)\n",
      "      Added to potential\n",
      "      Child: DataVertex(d, 2), Parent: DataVertex(f, 3)\n",
      "  POTENTIAL: {DataVertex(e, 1)}\n",
      "-- Data vertices consistent: [DataVertex(e, 1)]\n",
      "  Assigning DataVertex(e, 1) to TemplateVertex(e, None)\n",
      "------\n",
      "Processing TemplateVertex(f, None)\n",
      "-- Child data vertices of template: [DataVertex(d, 2)]\n",
      "-- 1 child/ren matches\n",
      "[DataVertex(e, 1), DataVertex(f, 3)]\n",
      "      Child: DataVertex(d, 2), Parent: DataVertex(e, 1)\n",
      "      Child: DataVertex(d, 2), Parent: DataVertex(f, 3)\n",
      "      Added to potential\n",
      "  POTENTIAL: {DataVertex(f, 3)}\n",
      "-- Data vertices consistent: [DataVertex(f, 3)]\n",
      "  Assigning DataVertex(f, 3) to TemplateVertex(f, None)\n"
     ]
    }
   ],
   "source": [
    "# Tests\n",
    "template_edges = \"\"\"\n",
    "b -> a\n",
    "c -> a\n",
    "d -> a\n",
    "e -> d\n",
    "f -> d\n",
    "\"\"\"\n",
    "\n",
    "data_edges = \"\"\"\n",
    "d:2 -> a:100\n",
    "d:11 -> a:100\n",
    "e:1 -> d:2\n",
    "f:3 -> d:2\n",
    "e:10 -> d:11\n",
    "f:12 -> d:11\n",
    "\"\"\"\n",
    "\n",
    "template_vertices = build_template_graph(template_edges)\n",
    "print(template_vertices)\n",
    "\n",
    "data_vertices = build_data_graph(data_edges)\n",
    "print(data_vertices)\n",
    "\n",
    "match_data_to_template(template_vertices[0], data_vertices[0])"
   ]
  },
  {
   "cell_type": "code",
   "execution_count": 118,
   "metadata": {},
   "outputs": [],
   "source": [
    "def draw_graph(vertex):\n",
    "    \"\"\"Draw the graph from any template vertex.\"\"\"\n",
    "    \n",
    "    # Preconditions\n",
    "    assert isinstance(vertex, TemplateVertex) or isinstance(vertex, DataVertex)\n",
    "    \n",
    "    G = nx.DiGraph()\n",
    "    explored = set()\n",
    "    \n",
    "    q = deque()\n",
    "    q.append(vertex)\n",
    "    \n",
    "    def make_label(vertex):\n",
    "        if isinstance(vertex, TemplateVertex):\n",
    "        \n",
    "            label = f\"{vertex.name}\"\n",
    "\n",
    "            if vertex.data_vertex is not None:\n",
    "                label += f\"/{vertex.data_vertex.name}:{vertex.data_vertex.identifier}\"\n",
    "\n",
    "            assert type(label) == str\n",
    "            return label\n",
    "        \n",
    "        elif isinstance(vertex, DataVertex):\n",
    "            return f\"{vertex.name}:{vertex.identifier}\"\n",
    "        else:\n",
    "            assert False\n",
    "    \n",
    "    while len(q) > 0:\n",
    "        \n",
    "        # Take a vertex off the queue\n",
    "        vertex = q.popleft()\n",
    "        \n",
    "        # Record that the vertex has been explored\n",
    "        explored.add(vertex)\n",
    "        \n",
    "        if len(vertex.parents) == 0 and len(vertex.children) == 0:\n",
    "            G.add_node(make_label(vertex))\n",
    "    \n",
    "        for p in vertex.parents:\n",
    "            if not p in explored:\n",
    "                explored.add(p)\n",
    "                q.append(p)\n",
    "                \n",
    "                src = make_label(p)\n",
    "                dst = make_label(vertex)\n",
    "                G.add_edge(src, dst)\n",
    "                \n",
    "        \n",
    "        for c in vertex.children:\n",
    "            if not c in explored:\n",
    "                explored.add(c)\n",
    "                q.append(c)\n",
    "                \n",
    "                src = make_label(vertex)\n",
    "                dst = make_label(c)                \n",
    "                G.add_edge(src, dst)\n",
    "    \n",
    "    # Draw the graph\n",
    "    nx.draw(G, with_labels=True, font_weight='bold')  "
   ]
  },
  {
   "cell_type": "code",
   "execution_count": 120,
   "metadata": {},
   "outputs": [
    {
     "data": {
      "image/png": "[encoded data removed]",
      "text/plain": [
       "<Figure size 432x288 with 1 Axes>"
      ]
     },
     "metadata": {},
     "output_type": "display_data"
    }
   ],
   "source": [
    "draw_graph(template_vertices[0])"
   ]
  },
  {
   "cell_type": "code",
   "execution_count": 121,
   "metadata": {},
   "outputs": [
    {
     "data": {
      "image/png": "[encoded data removed]",
      "text/plain": [
       "<Figure size 432x288 with 1 Axes>"
      ]
     },
     "metadata": {},
     "output_type": "display_data"
    }
   ],
   "source": [
    "draw_graph(data_vertices[0])"
   ]
  },
  {
   "cell_type": "code",
   "execution_count": 116,
   "metadata": {},
   "outputs": [
    {
     "data": {
      "text/plain": [
       "[DataVertex(e, 1),\n",
       " DataVertex(d, 2),\n",
       " DataVertex(f, 3),\n",
       " DataVertex(e, 10),\n",
       " DataVertex(d, 11),\n",
       " DataVertex(f, 12)]"
      ]
     },
     "execution_count": 116,
     "metadata": {},
     "output_type": "execute_result"
    }
   ],
   "source": [
    "data_vertices"
   ]
  },
  {
   "cell_type": "code",
   "execution_count": null,
   "metadata": {},
   "outputs": [],
   "source": []
  }
 ],
 "metadata": {
  "kernelspec": {
   "display_name": "Python 3",
   "language": "python",
   "name": "python3"
  },
  "language_info": {
   "codemirror_mode": {
    "name": "ipython",
    "version": 3
   },
   "file_extension": ".py",
   "mimetype": "text/x-python",
   "name": "python",
   "nbconvert_exporter": "python",
   "pygments_lexer": "ipython3",
   "version": "3.8.7"
  }
 },
 "nbformat": 4,
 "nbformat_minor": 4
}
