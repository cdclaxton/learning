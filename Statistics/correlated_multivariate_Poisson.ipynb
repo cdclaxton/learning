{
 "cells": [
  {
   "cell_type": "markdown",
   "metadata": {},
   "source": [
    "# Correlated multi-variate Poisson distributed variables"
   ]
  },
  {
   "cell_type": "markdown",
   "metadata": {},
   "source": [
    "## Introduction\n",
    "\n",
    "In this notebook, a simplistic approach to generating correlated Poisson-distributed random variables is explored along with a method for inferring the parameters using JAGS."
   ]
  },
  {
   "cell_type": "code",
   "execution_count": 12,
   "metadata": {},
   "outputs": [],
   "source": [
    "# Import the required libraries\n",
    "library(dplyr)\n",
    "library(ggplot2)\n",
    "library(MCMCvis)\n",
    "library(rjags)\n",
    "\n",
    "# Ensure the figures are easy to view in the notebook\n",
    "options(repr.plot.width=8, repr.plot.height=4)"
   ]
  },
  {
   "cell_type": "markdown",
   "metadata": {},
   "source": [
    "## Data generation"
   ]
  },
  {
   "cell_type": "code",
   "execution_count": 94,
   "metadata": {},
   "outputs": [],
   "source": [
    "# Mean of the Poisson distribution in common\n",
    "lambda0 = 6\n",
    "\n",
    "# Means of the Poisson distributions\n",
    "lambda1 = 3\n",
    "lambda2 = 4\n",
    "\n",
    "# Number of samples\n",
    "N = 100\n",
    "\n",
    "Y0 = rpois(N, lambda0)\n",
    "Y1 = rpois(N, lambda1)\n",
    "Y2 = rpois(N, lambda2)\n",
    "\n",
    "X1 = Y0 + Y1\n",
    "X2 = Y0 + Y2"
   ]
  },
  {
   "cell_type": "code",
   "execution_count": 95,
   "metadata": {},
   "outputs": [
    {
     "data": {
      "text/html": [
       "0.626319637609188"
      ],
      "text/latex": [
       "0.626319637609188"
      ],
      "text/markdown": [
       "0.626319637609188"
      ],
      "text/plain": [
       "[1] 0.6263196"
      ]
     },
     "metadata": {},
     "output_type": "display_data"
    }
   ],
   "source": [
    "# Measure the correlation between the samples\n",
    "cor(X1, X2)"
   ]
  },
  {
   "cell_type": "code",
   "execution_count": 1,
   "metadata": {},
   "outputs": [
    {
     "ename": "ERROR",
     "evalue": "Error in data.frame(i = 1:N, X1, X2): object 'N' not found\n",
     "output_type": "error",
     "traceback": [
      "Error in data.frame(i = 1:N, X1, X2): object 'N' not found\nTraceback:\n",
      "1. data.frame(i = 1:N, X1, X2)"
     ]
    }
   ],
   "source": [
    "# Plot the samples as a timeseries\n",
    "df = data.frame(i=1:N, X1, X2)\n",
    "\n",
    "ggplot(df) + \n",
    "    geom_point(aes(x=i, y=X1), size=1, color=\"blue\", alpha=0.4) +\n",
    "    geom_line(aes(x=i, y=X1), size=0.2, color=\"blue\", alpha=0.4, linetype=2) +\n",
    "    geom_point(aes(x=i, y=X2), size=1, color=\"red\", alpha=0.4) +\n",
    "    geom_line(aes(x=i, y=X2), size=0.2, color=\"red\", alpha=0.4, linetype=2) +\n",
    "    xlab(\"Index\") +\n",
    "    ylab(\"Sample value\") +\n",
    "    ggtitle(paste0(\"Poisson distributed samples (correlation coefficient = \", round(cor(X1, X2), 3), \")\"))"
   ]
  },
  {
   "cell_type": "code",
   "execution_count": 97,
   "metadata": {},
   "outputs": [
    {
     "data": {},
     "metadata": {},
     "output_type": "display_data"
    },
    {
     "data": {
      "image/png": "[encoded data removed]",
      "text/plain": [
       "plot without title"
      ]
     },
     "metadata": {},
     "output_type": "display_data"
    }
   ],
   "source": [
    "# Plot histograms of the samples\n",
    "ggplot(df) +\n",
    "    geom_histogram(aes(x=X1), binwidth=1, fill=\"blue\", alpha=0.5) +\n",
    "    geom_histogram(aes(x=X2), binwidth=1, fill=\"red\", alpha=0.5) +\n",
    "    xlab(\"Value\") + \n",
    "    ylab(\"Count\")"
   ]
  },
  {
   "cell_type": "markdown",
   "metadata": {},
   "source": [
    "## Parameter inference"
   ]
  },
  {
   "cell_type": "code",
   "execution_count": 98,
   "metadata": {},
   "outputs": [
    {
     "name": "stdout",
     "output_type": "stream",
     "text": [
      "Mean of X1 = 9.03 \n",
      "Mean of X2 = 10.14"
     ]
    }
   ],
   "source": [
    "# Find the means of the Poisson variables\n",
    "cat(\"Mean of X1 =\", mean(X1), \"\\n\")\n",
    "cat(\"Mean of X2 =\", mean(X2))"
   ]
  },
  {
   "cell_type": "code",
   "execution_count": 99,
   "metadata": {},
   "outputs": [
    {
     "name": "stdout",
     "output_type": "stream",
     "text": [
      "Compiling model graph\n",
      "   Resolving undeclared variables\n",
      "   Allocating nodes\n",
      "Graph information:\n",
      "   Observed stochastic nodes: 200\n",
      "   Unobserved stochastic nodes: 2\n",
      "   Total graph size: 204\n",
      "\n",
      "Initializing model\n",
      "\n"
     ]
    },
    {
     "data": {
      "image/png": "[encoded data removed]",
      "text/plain": [
       "Plot with title \"Density - lambda2\""
      ]
     },
     "metadata": {},
     "output_type": "display_data"
    }
   ],
   "source": [
    "# Infer the parameters of the Poisson variables (ignoring the correlation part)\n",
    "model_string = \"\n",
    "model {\n",
    "\n",
    "    # Priors\n",
    "    lambda1 ~ dexp(0.1)\n",
    "    lambda2 ~ dexp(0.1)\n",
    "\n",
    "    # Likelihood\n",
    "    for (i in 1:N) {\n",
    "        y1[i] ~ dpois(lambda1)\n",
    "        y2[i] ~ dpois(lambda2)\n",
    "    }\n",
    "}\n",
    "\"\n",
    "\n",
    "model = jags.model(textConnection(model_string),\n",
    "                   data = list(N=length(X1), y1=X1, y2=X2))\n",
    "\n",
    "update(model, \n",
    "       10000, \n",
    "       progress.bar=\"none\")\n",
    "\n",
    "samp <- coda.samples(model, \n",
    "                     variable.names=c(\"lambda1\", \"lambda2\"), \n",
    "                     n.iter=20000, progress.bar=\"none\")\n",
    "\n",
    "gv = c(lambda0 + lambda1, lambda0 + lambda2)\n",
    "MCMCtrace(samp, \n",
    "          params=c(\"lambda1\", \"lambda2\"),\n",
    "          gv=gv,\n",
    "          pdf=FALSE)"
   ]
  },
  {
   "cell_type": "code",
   "execution_count": 100,
   "metadata": {},
   "outputs": [
    {
     "name": "stdout",
     "output_type": "stream",
     "text": [
      "Compiling model graph\n",
      "   Resolving undeclared variables\n",
      "   Allocating nodes\n",
      "Graph information:\n",
      "   Observed stochastic nodes: 200\n",
      "   Unobserved stochastic nodes: 3\n",
      "   Total graph size: 207\n",
      "\n",
      "Initializing model\n",
      "\n"
     ]
    },
    {
     "data": {
      "image/png": "[encoded data removed]",
      "text/plain": [
       "Plot with title \"Density - lambda2\""
      ]
     },
     "metadata": {},
     "output_type": "display_data"
    }
   ],
   "source": [
    "# Infer the parameters of correlated Poisson variables.\n",
    "model_string = \"\n",
    "model {\n",
    "\n",
    "    # Priors\n",
    "    lambda0 ~ dexp(0.1)  # common to both variables\n",
    "    lambda1 ~ dexp(0.1)\n",
    "    lambda2 ~ dexp(0.1)\n",
    "\n",
    "    # Likelihood\n",
    "    for (i in 1:N) {\n",
    "        y1[i] ~ dpois(lambda0 + lambda1)\n",
    "        y2[i] ~ dpois(lambda0 + lambda2)\n",
    "    }\n",
    "}\n",
    "\"\n",
    "\n",
    "model = jags.model(textConnection(model_string),\n",
    "                   data = list(N=length(X1), y1=X1, y2=X2))\n",
    "\n",
    "update(model, \n",
    "       10000, \n",
    "       progress.bar=\"none\")\n",
    "\n",
    "samp <- coda.samples(model, \n",
    "                     variable.names=c(\"lambda0\", \"lambda1\", \"lambda2\"), \n",
    "                     n.iter=20000, \n",
    "                     progress.bar=\"none\")\n",
    "\n",
    "gv = c(lambda0, lambda1, lambda2)\n",
    "MCMCtrace(samp, \n",
    "          params=c(\"lambda0\", \"lambda1\", \"lambda2\"),\n",
    "          gv=gv,\n",
    "          pdf=FALSE)"
   ]
  },
  {
   "cell_type": "markdown",
   "metadata": {},
   "source": [
    "There may be too many unconstrained degrees of freedom for the model above to converge correctly to produce narrower posterior distributions."
   ]
  },
  {
   "cell_type": "code",
   "execution_count": null,
   "metadata": {},
   "outputs": [],
   "source": []
  }
 ],
 "metadata": {
  "kernelspec": {
   "display_name": "R",
   "language": "R",
   "name": "ir"
  },
  "language_info": {
   "codemirror_mode": "r",
   "file_extension": ".r",
   "mimetype": "text/x-r-source",
   "name": "R",
   "pygments_lexer": "r",
   "version": "3.5.1"
  }
 },
 "nbformat": 4,
 "nbformat_minor": 2
}
