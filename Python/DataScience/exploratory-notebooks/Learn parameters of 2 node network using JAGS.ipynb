{
 "cells": [
  {
   "cell_type": "markdown",
   "metadata": {},
   "source": [
    "# Learn parameters of 2 node network using JAGS"
   ]
  },
  {
   "cell_type": "code",
   "execution_count": 13,
   "metadata": {},
   "outputs": [
    {
     "data": {
      "image/png": "[encoded data removed]",
      "text/plain": [
       "plot without title"
      ]
     },
     "metadata": {
      "image/png": {
       "height": 420,
       "width": 420
      }
     },
     "output_type": "display_data"
    }
   ],
   "source": [
    "# Beta distribution\n",
    "x = seq(-0.1, 1.1, 0.01)\n",
    "plot(x, dbeta(x, 1, 1))"
   ]
  },
  {
   "cell_type": "code",
   "execution_count": 35,
   "metadata": {},
   "outputs": [
    {
     "name": "stderr",
     "output_type": "stream",
     "text": [
      "Loading required package: coda\n",
      "\n",
      "Linked to JAGS 4.3.0\n",
      "\n",
      "Loaded modules: basemod,bugs\n",
      "\n"
     ]
    }
   ],
   "source": [
    "# Import the required libraries\n",
    "library(ggplot2)\n",
    "library(MCMCvis)\n",
    "library(rjags)\n",
    "\n",
    "# Ensure the figures are easy to view in the notebook\n",
    "options(repr.plot.width=10, repr.plot.height=6)"
   ]
  },
  {
   "cell_type": "markdown",
   "metadata": {},
   "source": [
    "## Single node network"
   ]
  },
  {
   "cell_type": "code",
   "execution_count": 39,
   "metadata": {},
   "outputs": [
    {
     "name": "stdout",
     "output_type": "stream",
     "text": [
      "0.7281509"
     ]
    },
    {
     "data": {
      "text/html": [
       "<style>\n",
       ".list-inline {list-style: none; margin:0; padding: 0}\n",
       ".list-inline>li {display: inline-block}\n",
       ".list-inline>li:not(:last-child)::after {content: \"\\00b7\"; padding: 0 .5ex}\n",
       "</style>\n",
       "<ol class=list-inline><li>0</li><li>1</li><li>0</li><li>0</li><li>0</li><li>1</li><li>1</li><li>1</li><li>1</li><li>1</li></ol>\n"
      ],
      "text/latex": [
       "\\begin{enumerate*}\n",
       "\\item 0\n",
       "\\item 1\n",
       "\\item 0\n",
       "\\item 0\n",
       "\\item 0\n",
       "\\item 1\n",
       "\\item 1\n",
       "\\item 1\n",
       "\\item 1\n",
       "\\item 1\n",
       "\\end{enumerate*}\n"
      ],
      "text/markdown": [
       "1. 0\n",
       "2. 1\n",
       "3. 0\n",
       "4. 0\n",
       "5. 0\n",
       "6. 1\n",
       "7. 1\n",
       "8. 1\n",
       "9. 1\n",
       "10. 1\n",
       "\n",
       "\n"
      ],
      "text/plain": [
       " [1] 0 1 0 0 0 1 1 1 1 1"
      ]
     },
     "metadata": {},
     "output_type": "display_data"
    }
   ],
   "source": [
    "# Generate the samples\n",
    "theta = rbeta(1, 1, 1)\n",
    "cat(theta)\n",
    "\n",
    "n_samples = 10\n",
    "samples = rbinom(n_samples, 1, theta)\n",
    "samples"
   ]
  },
  {
   "cell_type": "code",
   "execution_count": 40,
   "metadata": {},
   "outputs": [
    {
     "data": {
      "text/html": [
       "0.6"
      ],
      "text/latex": [
       "0.6"
      ],
      "text/markdown": [
       "0.6"
      ],
      "text/plain": [
       "[1] 0.6"
      ]
     },
     "metadata": {},
     "output_type": "display_data"
    }
   ],
   "source": [
    "# Maximum likelihood theta\n",
    "sum(samples) / length(samples)"
   ]
  },
  {
   "cell_type": "code",
   "execution_count": 41,
   "metadata": {},
   "outputs": [
    {
     "name": "stdout",
     "output_type": "stream",
     "text": [
      "Compiling model graph\n",
      "   Resolving undeclared variables\n",
      "   Allocating nodes\n",
      "Graph information:\n",
      "   Observed stochastic nodes: 10\n",
      "   Unobserved stochastic nodes: 1\n",
      "   Total graph size: 14\n",
      "\n",
      "Initializing model\n",
      "\n"
     ]
    },
    {
     "name": "stderr",
     "output_type": "stream",
     "text": [
      "Warning message in MCMCsummary(samp, round = 2):\n",
      "\"Rhat statistic cannot be calculated with one chain. NAs inserted.\"\n"
     ]
    },
    {
     "data": {
      "text/html": [
       "<table class=\"dataframe\">\n",
       "<caption>A data.frame: 1 × 7</caption>\n",
       "<thead>\n",
       "\t<tr><th></th><th scope=col>mean</th><th scope=col>sd</th><th scope=col>2.5%</th><th scope=col>50%</th><th scope=col>97.5%</th><th scope=col>Rhat</th><th scope=col>n.eff</th></tr>\n",
       "\t<tr><th></th><th scope=col>&lt;dbl&gt;</th><th scope=col>&lt;dbl&gt;</th><th scope=col>&lt;dbl&gt;</th><th scope=col>&lt;dbl&gt;</th><th scope=col>&lt;dbl&gt;</th><th scope=col>&lt;lgl&gt;</th><th scope=col>&lt;dbl&gt;</th></tr>\n",
       "</thead>\n",
       "<tbody>\n",
       "\t<tr><th scope=row>theta</th><td>0.58</td><td>0.14</td><td>0.31</td><td>0.59</td><td>0.83</td><td>NA</td><td>20000</td></tr>\n",
       "</tbody>\n",
       "</table>\n"
      ],
      "text/latex": [
       "A data.frame: 1 × 7\n",
       "\\begin{tabular}{r|lllllll}\n",
       "  & mean & sd & 2.5\\% & 50\\% & 97.5\\% & Rhat & n.eff\\\\\n",
       "  & <dbl> & <dbl> & <dbl> & <dbl> & <dbl> & <lgl> & <dbl>\\\\\n",
       "\\hline\n",
       "\ttheta & 0.58 & 0.14 & 0.31 & 0.59 & 0.83 & NA & 20000\\\\\n",
       "\\end{tabular}\n"
      ],
      "text/markdown": [
       "\n",
       "A data.frame: 1 × 7\n",
       "\n",
       "| <!--/--> | mean &lt;dbl&gt; | sd &lt;dbl&gt; | 2.5% &lt;dbl&gt; | 50% &lt;dbl&gt; | 97.5% &lt;dbl&gt; | Rhat &lt;lgl&gt; | n.eff &lt;dbl&gt; |\n",
       "|---|---|---|---|---|---|---|---|\n",
       "| theta | 0.58 | 0.14 | 0.31 | 0.59 | 0.83 | NA | 20000 |\n",
       "\n"
      ],
      "text/plain": [
       "      mean sd   2.5% 50%  97.5% Rhat n.eff\n",
       "theta 0.58 0.14 0.31 0.59 0.83  NA   20000"
      ]
     },
     "metadata": {},
     "output_type": "display_data"
    },
    {
     "data": {
      "image/png": "[encoded data removed]",
      "text/plain": [
       "Plot with title \"Density - theta\""
      ]
     },
     "metadata": {
      "image/png": {
       "height": 360,
       "width": 600
      }
     },
     "output_type": "display_data"
    }
   ],
   "source": [
    "model_string = \"\n",
    "model {\n",
    "    # Prior\n",
    "    theta ~ dbeta(a, b)  # probability of a 1 appearing\n",
    "\n",
    "    # Likelihood\n",
    "    for (i in 1:N) {\n",
    "        y[i] ~ dbern(theta)\n",
    "    }\n",
    "}\n",
    "\"\n",
    "\n",
    "model = jags.model(textConnection(model_string),\n",
    "                   data = list(y=samples, N=length(samples), a=1, b=1))\n",
    "\n",
    "update(model, 10000, progress.bar=\"none\")\n",
    "\n",
    "samp <- coda.samples(model, \n",
    "                     variable.names=c(\"theta\"), \n",
    "                     n.iter=20000, progress.bar=\"none\")\n",
    "\n",
    "# Show a summary of the variables\n",
    "MCMCsummary(samp, round = 2)\n",
    "\n",
    "MCMCtrace(samp, \n",
    "          gv=theta,\n",
    "          pdf=FALSE)"
   ]
  },
  {
   "cell_type": "markdown",
   "metadata": {},
   "source": [
    "## Two node network"
   ]
  },
  {
   "cell_type": "markdown",
   "metadata": {},
   "source": [
    "Learn the prior and CPT from a set of 'cases'."
   ]
  },
  {
   "cell_type": "code",
   "execution_count": 106,
   "metadata": {},
   "outputs": [],
   "source": [
    "# Generate the samples\n",
    "n_samples = 100\n",
    "\n",
    "theta = rbeta(3, 1, 1)\n",
    "\n",
    "# Parent node\n",
    "v = rbinom(n_samples, 1, theta[1])  # p(v=1) = 1-theta[1]\n",
    "\n",
    "# Child node\n",
    "c = rep(NA, n_samples)\n",
    "for (i in 1:n_samples) {\n",
    "    if (v[i] == 0) {\n",
    "        c[i] = rbinom(1, 1, theta[2])\n",
    "    } else {\n",
    "        c[i] = rbinom(1, 1, theta[3])\n",
    "    }\n",
    "}"
   ]
  },
  {
   "cell_type": "code",
   "execution_count": 107,
   "metadata": {
    "scrolled": false
   },
   "outputs": [
    {
     "name": "stdout",
     "output_type": "stream",
     "text": [
      "Compiling model graph\n",
      "   Resolving undeclared variables\n",
      "   Allocating nodes\n",
      "Graph information:\n",
      "   Observed stochastic nodes: 200\n",
      "   Unobserved stochastic nodes: 3\n",
      "   Total graph size: 207\n",
      "\n",
      "Initializing model\n",
      "\n"
     ]
    },
    {
     "name": "stderr",
     "output_type": "stream",
     "text": [
      "Warning message in MCMCsummary(samp, round = 2):\n",
      "\"Rhat statistic cannot be calculated with one chain. NAs inserted.\"\n"
     ]
    },
    {
     "data": {
      "text/html": [
       "<table class=\"dataframe\">\n",
       "<caption>A data.frame: 3 × 7</caption>\n",
       "<thead>\n",
       "\t<tr><th></th><th scope=col>mean</th><th scope=col>sd</th><th scope=col>2.5%</th><th scope=col>50%</th><th scope=col>97.5%</th><th scope=col>Rhat</th><th scope=col>n.eff</th></tr>\n",
       "\t<tr><th></th><th scope=col>&lt;dbl&gt;</th><th scope=col>&lt;dbl&gt;</th><th scope=col>&lt;dbl&gt;</th><th scope=col>&lt;dbl&gt;</th><th scope=col>&lt;dbl&gt;</th><th scope=col>&lt;lgl&gt;</th><th scope=col>&lt;dbl&gt;</th></tr>\n",
       "</thead>\n",
       "<tbody>\n",
       "\t<tr><th scope=row>theta1</th><td>0.04</td><td>0.02</td><td>0.01</td><td>0.04</td><td>0.08</td><td>NA</td><td>19742</td></tr>\n",
       "\t<tr><th scope=row>theta2</th><td>0.78</td><td>0.04</td><td>0.69</td><td>0.78</td><td>0.85</td><td>NA</td><td>11500</td></tr>\n",
       "\t<tr><th scope=row>theta3</th><td>0.60</td><td>0.20</td><td>0.19</td><td>0.62</td><td>0.93</td><td>NA</td><td>12738</td></tr>\n",
       "</tbody>\n",
       "</table>\n"
      ],
      "text/latex": [
       "A data.frame: 3 × 7\n",
       "\\begin{tabular}{r|lllllll}\n",
       "  & mean & sd & 2.5\\% & 50\\% & 97.5\\% & Rhat & n.eff\\\\\n",
       "  & <dbl> & <dbl> & <dbl> & <dbl> & <dbl> & <lgl> & <dbl>\\\\\n",
       "\\hline\n",
       "\ttheta1 & 0.04 & 0.02 & 0.01 & 0.04 & 0.08 & NA & 19742\\\\\n",
       "\ttheta2 & 0.78 & 0.04 & 0.69 & 0.78 & 0.85 & NA & 11500\\\\\n",
       "\ttheta3 & 0.60 & 0.20 & 0.19 & 0.62 & 0.93 & NA & 12738\\\\\n",
       "\\end{tabular}\n"
      ],
      "text/markdown": [
       "\n",
       "A data.frame: 3 × 7\n",
       "\n",
       "| <!--/--> | mean &lt;dbl&gt; | sd &lt;dbl&gt; | 2.5% &lt;dbl&gt; | 50% &lt;dbl&gt; | 97.5% &lt;dbl&gt; | Rhat &lt;lgl&gt; | n.eff &lt;dbl&gt; |\n",
       "|---|---|---|---|---|---|---|---|\n",
       "| theta1 | 0.04 | 0.02 | 0.01 | 0.04 | 0.08 | NA | 19742 |\n",
       "| theta2 | 0.78 | 0.04 | 0.69 | 0.78 | 0.85 | NA | 11500 |\n",
       "| theta3 | 0.60 | 0.20 | 0.19 | 0.62 | 0.93 | NA | 12738 |\n",
       "\n"
      ],
      "text/plain": [
       "       mean sd   2.5% 50%  97.5% Rhat n.eff\n",
       "theta1 0.04 0.02 0.01 0.04 0.08  NA   19742\n",
       "theta2 0.78 0.04 0.69 0.78 0.85  NA   11500\n",
       "theta3 0.60 0.20 0.19 0.62 0.93  NA   12738"
      ]
     },
     "metadata": {},
     "output_type": "display_data"
    },
    {
     "data": {
      "image/png": "[encoded data removed]",
      "text/plain": [
       "Plot with title \"Density - theta3\""
      ]
     },
     "metadata": {
      "image/png": {
       "height": 360,
       "width": 600
      }
     },
     "output_type": "display_data"
    }
   ],
   "source": [
    "# Trained using data for v and c\n",
    "\n",
    "model_string = \"\n",
    "model {\n",
    "    # Node v\n",
    "    theta1 ~ dbeta(a, b)  # probability of a 1 appearing in the 'v' node\n",
    "\n",
    "    # CPT\n",
    "    theta2 ~ dbeta(a, b)  # v == 0\n",
    "    theta3 ~ dbeta(a, b)  # v == 1\n",
    "    cpt[1] = theta2\n",
    "    cpt[2] = theta3\n",
    "\n",
    "    # Likelihood\n",
    "    for (i in 1:N) {\n",
    "        v[i] ~ dbern(theta1)\n",
    "        c[i] ~ dbinom(cpt[v[i] + 1], 1)\n",
    "    }\n",
    "}\n",
    "\"\n",
    "\n",
    "data = list(v=v, c=c, N=n_samples, a=1, b=1)\n",
    "\n",
    "model = jags.model(textConnection(model_string),\n",
    "                   data = data)\n",
    "\n",
    "update(model, 10000, progress.bar=\"none\")\n",
    "\n",
    "samp <- coda.samples(model, \n",
    "                     variable.names=c(\"theta1\", \"theta2\", \"theta3\"), \n",
    "                     n.iter=20000, \n",
    "                     progress.bar=\"none\")\n",
    "\n",
    "# Show a summary of the variables\n",
    "MCMCsummary(samp, round = 2)\n",
    "\n",
    "MCMCtrace(samp, \n",
    "          gv=theta,\n",
    "          pdf=FALSE)"
   ]
  },
  {
   "cell_type": "code",
   "execution_count": 108,
   "metadata": {},
   "outputs": [
    {
     "data": {
      "text/html": [
       "<style>\n",
       ".list-inline {list-style: none; margin:0; padding: 0}\n",
       ".list-inline>li {display: inline-block}\n",
       ".list-inline>li:not(:last-child)::after {content: \"\\00b7\"; padding: 0 .5ex}\n",
       "</style>\n",
       "<ol class=list-inline><li>0.0234479738865048</li><li>0.767202507006004</li><li>0.911505356431007</li></ol>\n"
      ],
      "text/latex": [
       "\\begin{enumerate*}\n",
       "\\item 0.0234479738865048\n",
       "\\item 0.767202507006004\n",
       "\\item 0.911505356431007\n",
       "\\end{enumerate*}\n"
      ],
      "text/markdown": [
       "1. 0.0234479738865048\n",
       "2. 0.767202507006004\n",
       "3. 0.911505356431007\n",
       "\n",
       "\n"
      ],
      "text/plain": [
       "[1] 0.02344797 0.76720251 0.91150536"
      ]
     },
     "metadata": {},
     "output_type": "display_data"
    }
   ],
   "source": [
    "theta"
   ]
  },
  {
   "cell_type": "code",
   "execution_count": 109,
   "metadata": {},
   "outputs": [
    {
     "name": "stdout",
     "output_type": "stream",
     "text": [
      "Compiling model graph\n",
      "   Resolving undeclared variables\n",
      "   Allocating nodes\n",
      "Graph information:\n",
      "   Observed stochastic nodes: 100\n",
      "   Unobserved stochastic nodes: 103\n",
      "   Total graph size: 407\n",
      "\n",
      "Initializing model\n",
      "\n"
     ]
    },
    {
     "name": "stderr",
     "output_type": "stream",
     "text": [
      "Warning message in MCMCsummary(samp, round = 2):\n",
      "\"Rhat statistic cannot be calculated with one chain. NAs inserted.\"\n"
     ]
    },
    {
     "data": {
      "text/html": [
       "<table class=\"dataframe\">\n",
       "<caption>A data.frame: 3 × 7</caption>\n",
       "<thead>\n",
       "\t<tr><th></th><th scope=col>mean</th><th scope=col>sd</th><th scope=col>2.5%</th><th scope=col>50%</th><th scope=col>97.5%</th><th scope=col>Rhat</th><th scope=col>n.eff</th></tr>\n",
       "\t<tr><th></th><th scope=col>&lt;dbl&gt;</th><th scope=col>&lt;dbl&gt;</th><th scope=col>&lt;dbl&gt;</th><th scope=col>&lt;dbl&gt;</th><th scope=col>&lt;dbl&gt;</th><th scope=col>&lt;lgl&gt;</th><th scope=col>&lt;dbl&gt;</th></tr>\n",
       "</thead>\n",
       "<tbody>\n",
       "\t<tr><th scope=row>theta1</th><td>0.48</td><td>0.29</td><td>0.02</td><td>0.45</td><td>0.96</td><td>NA</td><td>155</td></tr>\n",
       "\t<tr><th scope=row>theta2</th><td>0.73</td><td>0.21</td><td>0.15</td><td>0.79</td><td>0.98</td><td>NA</td><td>342</td></tr>\n",
       "\t<tr><th scope=row>theta3</th><td>0.67</td><td>0.23</td><td>0.09</td><td>0.75</td><td>0.98</td><td>NA</td><td>474</td></tr>\n",
       "</tbody>\n",
       "</table>\n"
      ],
      "text/latex": [
       "A data.frame: 3 × 7\n",
       "\\begin{tabular}{r|lllllll}\n",
       "  & mean & sd & 2.5\\% & 50\\% & 97.5\\% & Rhat & n.eff\\\\\n",
       "  & <dbl> & <dbl> & <dbl> & <dbl> & <dbl> & <lgl> & <dbl>\\\\\n",
       "\\hline\n",
       "\ttheta1 & 0.48 & 0.29 & 0.02 & 0.45 & 0.96 & NA & 155\\\\\n",
       "\ttheta2 & 0.73 & 0.21 & 0.15 & 0.79 & 0.98 & NA & 342\\\\\n",
       "\ttheta3 & 0.67 & 0.23 & 0.09 & 0.75 & 0.98 & NA & 474\\\\\n",
       "\\end{tabular}\n"
      ],
      "text/markdown": [
       "\n",
       "A data.frame: 3 × 7\n",
       "\n",
       "| <!--/--> | mean &lt;dbl&gt; | sd &lt;dbl&gt; | 2.5% &lt;dbl&gt; | 50% &lt;dbl&gt; | 97.5% &lt;dbl&gt; | Rhat &lt;lgl&gt; | n.eff &lt;dbl&gt; |\n",
       "|---|---|---|---|---|---|---|---|\n",
       "| theta1 | 0.48 | 0.29 | 0.02 | 0.45 | 0.96 | NA | 155 |\n",
       "| theta2 | 0.73 | 0.21 | 0.15 | 0.79 | 0.98 | NA | 342 |\n",
       "| theta3 | 0.67 | 0.23 | 0.09 | 0.75 | 0.98 | NA | 474 |\n",
       "\n"
      ],
      "text/plain": [
       "       mean sd   2.5% 50%  97.5% Rhat n.eff\n",
       "theta1 0.48 0.29 0.02 0.45 0.96  NA   155  \n",
       "theta2 0.73 0.21 0.15 0.79 0.98  NA   342  \n",
       "theta3 0.67 0.23 0.09 0.75 0.98  NA   474  "
      ]
     },
     "metadata": {},
     "output_type": "display_data"
    },
    {
     "data": {
      "image/png": "[encoded data removed]",
      "text/plain": [
       "Plot with title \"Density - theta3\""
      ]
     },
     "metadata": {
      "image/png": {
       "height": 360,
       "width": 600
      }
     },
     "output_type": "display_data"
    }
   ],
   "source": [
    "# Trained using data for c only (v has to be inferred)\n",
    "\n",
    "model_string = \"\n",
    "model {\n",
    "    # Node v\n",
    "    theta1 ~ dbeta(a, b)  # probability of a 1 appearing in the 'v' node\n",
    "\n",
    "    # CPT\n",
    "    theta2 ~ dbeta(a, b)  # v == 0\n",
    "    theta3 ~ dbeta(a, b)  # v == 1\n",
    "    cpt[1] = theta2\n",
    "    cpt[2] = theta3\n",
    "\n",
    "    # Likelihood\n",
    "    for (i in 1:N) {\n",
    "        v[i] ~ dbern(theta1)\n",
    "        c[i] ~ dbinom(cpt[v[i] + 1], 1)\n",
    "    }\n",
    "}\n",
    "\"\n",
    "\n",
    "data = list(c=c, N=n_samples, a=1, b=1)\n",
    "\n",
    "model = jags.model(textConnection(model_string),\n",
    "                   data = data)\n",
    "\n",
    "update(model, 10000, progress.bar=\"none\")\n",
    "\n",
    "samp <- coda.samples(model, \n",
    "                     variable.names=c(\"theta1\", \"theta2\", \"theta3\"), \n",
    "                     n.iter=20000, \n",
    "                     progress.bar=\"none\")\n",
    "\n",
    "# Show a summary of the variables\n",
    "MCMCsummary(samp, round = 2)\n",
    "\n",
    "MCMCtrace(samp, \n",
    "          gv=theta,\n",
    "          pdf=FALSE)"
   ]
  },
  {
   "cell_type": "markdown",
   "metadata": {},
   "source": [
    "More difficult to infer parameters (larger variance) when only $c$ is provided."
   ]
  },
  {
   "cell_type": "markdown",
   "metadata": {},
   "source": [
    "## Learn parameters of 1 node network by ordering result"
   ]
  },
  {
   "cell_type": "markdown",
   "metadata": {},
   "source": [
    "* Strict ordering"
   ]
  },
  {
   "cell_type": "code",
   "execution_count": null,
   "metadata": {},
   "outputs": [],
   "source": [
    "model_string = \"\n",
    "model {\n",
    "    # Prior\n",
    "    theta ~ dbeta(a, b)  # probability of a 1 appearing\n",
    "\n",
    "    # Likelihood\n",
    "    for (i in 1:N) {\n",
    "        y[i] ~ dbern(theta)\n",
    "    }\n",
    "}\n",
    "\"\n",
    "\n",
    "model = jags.model(textConnection(model_string),\n",
    "                   data = list(y=samples, N=length(samples), a=1, b=1))\n",
    "\n",
    "update(model, 10000, progress.bar=\"none\")\n",
    "\n",
    "samp <- coda.samples(model, \n",
    "                     variable.names=c(\"theta\"), \n",
    "                     n.iter=20000, progress.bar=\"none\")\n",
    "\n",
    "# Show a summary of the variables\n",
    "MCMCsummary(samp, round = 2)\n",
    "\n",
    "MCMCtrace(samp, \n",
    "          gv=theta,\n",
    "          pdf=FALSE)"
   ]
  }
 ],
 "metadata": {
  "kernelspec": {
   "display_name": "R",
   "language": "R",
   "name": "ir"
  },
  "language_info": {
   "codemirror_mode": "r",
   "file_extension": ".r",
   "mimetype": "text/x-r-source",
   "name": "R",
   "pygments_lexer": "r",
   "version": "4.0.4"
  }
 },
 "nbformat": 4,
 "nbformat_minor": 4
}
