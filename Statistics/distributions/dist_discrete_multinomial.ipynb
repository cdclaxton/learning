{
 "cells": [
  {
   "cell_type": "markdown",
   "metadata": {},
   "source": [
    "# Multinomial distribution"
   ]
  },
  {
   "cell_type": "code",
   "execution_count": 1,
   "metadata": {},
   "outputs": [
    {
     "name": "stderr",
     "output_type": "stream",
     "text": [
      "Warning message:\n",
      "\"package 'MCMCvis' was built under R version 3.5.3\"Warning message:\n",
      "\"package 'rjags' was built under R version 3.5.3\"Loading required package: coda\n",
      "Warning message:\n",
      "\"package 'coda' was built under R version 3.5.3\"Linked to JAGS 4.3.0\n",
      "Loaded modules: basemod,bugs\n"
     ]
    }
   ],
   "source": [
    "library(MCMCvis)\n",
    "library(rjags)"
   ]
  },
  {
   "cell_type": "markdown",
   "metadata": {},
   "source": [
    "## Generate samples from the multinomial distribution"
   ]
  },
  {
   "cell_type": "code",
   "execution_count": 3,
   "metadata": {},
   "outputs": [
    {
     "name": "stdout",
     "output_type": "stream",
     "text": [
      "Compiling model graph\n",
      "   Resolving undeclared variables\n",
      "   Allocating nodes\n",
      "Graph information:\n",
      "   Observed stochastic nodes: 0\n",
      "   Unobserved stochastic nodes: 1\n",
      "   Total graph size: 5\n",
      "\n",
      "Initializing model\n",
      "\n"
     ]
    },
    {
     "data": {
      "text/html": [
       "<table>\n",
       "<thead><tr><th></th><th scope=col>mean</th><th scope=col>sd</th><th scope=col>2.5%</th><th scope=col>50%</th><th scope=col>97.5%</th><th scope=col>Rhat</th></tr></thead>\n",
       "<tbody>\n",
       "\t<tr><th scope=row>p[1]</th><td>1.77</td><td>0.88</td><td>0   </td><td>2   </td><td>3   </td><td>1   </td></tr>\n",
       "\t<tr><th scope=row>p[2]</th><td>1.23</td><td>0.88</td><td>0   </td><td>1   </td><td>3   </td><td>1   </td></tr>\n",
       "</tbody>\n",
       "</table>\n"
      ],
      "text/latex": [
       "\\begin{tabular}{r|llllll}\n",
       "  & mean & sd & 2.5\\% & 50\\% & 97.5\\% & Rhat\\\\\n",
       "\\hline\n",
       "\tp{[}1{]} & 1.77 & 0.88 & 0    & 2    & 3    & 1   \\\\\n",
       "\tp{[}2{]} & 1.23 & 0.88 & 0    & 1    & 3    & 1   \\\\\n",
       "\\end{tabular}\n"
      ],
      "text/markdown": [
       "\n",
       "| <!--/--> | mean | sd | 2.5% | 50% | 97.5% | Rhat | \n",
       "|---|---|\n",
       "| p[1] | 1.77 | 0.88 | 0    | 2    | 3    | 1    | \n",
       "| p[2] | 1.23 | 0.88 | 0    | 1    | 3    | 1    | \n",
       "\n",
       "\n"
      ],
      "text/plain": [
       "     mean sd   2.5% 50% 97.5% Rhat\n",
       "p[1] 1.77 0.88 0    2   3     1   \n",
       "p[2] 1.23 0.88 0    1   3     1   "
      ]
     },
     "metadata": {},
     "output_type": "display_data"
    },
    {
     "data": {
      "image/png": "[encoded data removed]",
      "text/plain": [
       "Plot with title \"Density - p[2]\""
      ]
     },
     "metadata": {},
     "output_type": "display_data"
    }
   ],
   "source": [
    "# Example of sampling from the Categorical distribution\n",
    "model_string = \"\n",
    "model {\n",
    "    p ~ dmulti(alpha, N)\n",
    "}\n",
    "\"\n",
    "\n",
    "model = jags.model(textConnection(model_string),\n",
    "                   n.chains = 2,\n",
    "                   data = list(alpha=c(0.6, 0.4), N=3))\n",
    "\n",
    "samp = coda.samples(model, \n",
    "                    variable.names=c(\"p\"), \n",
    "                    n.iter=100, progress.bar=\"none\")\n",
    "\n",
    "# Show a summary of the variables\n",
    "MCMCsummary(samp, round = 2)\n",
    "\n",
    "# Show plots\n",
    "MCMCtrace(samp, pdf=FALSE)"
   ]
  },
  {
   "cell_type": "code",
   "execution_count": 4,
   "metadata": {
    "scrolled": true
   },
   "outputs": [
    {
     "data": {
      "text/plain": [
       "[[1]]\n",
       "Markov Chain Monte Carlo (MCMC) output:\n",
       "Start = 1 \n",
       "End = 100 \n",
       "Thinning interval = 1 \n",
       "       p[1] p[2]\n",
       "  [1,]    3    0\n",
       "  [2,]    2    1\n",
       "  [3,]    1    2\n",
       "  [4,]    0    3\n",
       "  [5,]    2    1\n",
       "  [6,]    2    1\n",
       "  [7,]    1    2\n",
       "  [8,]    2    1\n",
       "  [9,]    2    1\n",
       " [10,]    1    2\n",
       " [11,]    3    0\n",
       " [12,]    2    1\n",
       " [13,]    0    3\n",
       " [14,]    1    2\n",
       " [15,]    1    2\n",
       " [16,]    3    0\n",
       " [17,]    2    1\n",
       " [18,]    2    1\n",
       " [19,]    1    2\n",
       " [20,]    1    2\n",
       " [21,]    3    0\n",
       " [22,]    2    1\n",
       " [23,]    3    0\n",
       " [24,]    3    0\n",
       " [25,]    1    2\n",
       " [26,]    1    2\n",
       " [27,]    0    3\n",
       " [28,]    3    0\n",
       " [29,]    2    1\n",
       " [30,]    1    2\n",
       " [31,]    3    0\n",
       " [32,]    2    1\n",
       " [33,]    1    2\n",
       " [34,]    3    0\n",
       " [35,]    1    2\n",
       " [36,]    2    1\n",
       " [37,]    1    2\n",
       " [38,]    2    1\n",
       " [39,]    3    0\n",
       " [40,]    1    2\n",
       " [41,]    1    2\n",
       " [42,]    1    2\n",
       " [43,]    0    3\n",
       " [44,]    1    2\n",
       " [45,]    1    2\n",
       " [46,]    0    3\n",
       " [47,]    2    1\n",
       " [48,]    2    1\n",
       " [49,]    1    2\n",
       " [50,]    2    1\n",
       " [51,]    1    2\n",
       " [52,]    1    2\n",
       " [53,]    0    3\n",
       " [54,]    1    2\n",
       " [55,]    2    1\n",
       " [56,]    2    1\n",
       " [57,]    3    0\n",
       " [58,]    3    0\n",
       " [59,]    1    2\n",
       " [60,]    2    1\n",
       " [61,]    1    2\n",
       " [62,]    2    1\n",
       " [63,]    2    1\n",
       " [64,]    3    0\n",
       " [65,]    3    0\n",
       " [66,]    1    2\n",
       " [67,]    3    0\n",
       " [68,]    3    0\n",
       " [69,]    1    2\n",
       " [70,]    1    2\n",
       " [71,]    1    2\n",
       " [72,]    2    1\n",
       " [73,]    1    2\n",
       " [74,]    3    0\n",
       " [75,]    0    3\n",
       " [76,]    3    0\n",
       " [77,]    1    2\n",
       " [78,]    3    0\n",
       " [79,]    1    2\n",
       " [80,]    1    2\n",
       " [81,]    0    3\n",
       " [82,]    2    1\n",
       " [83,]    0    3\n",
       " [84,]    3    0\n",
       " [85,]    3    0\n",
       " [86,]    1    2\n",
       " [87,]    2    1\n",
       " [88,]    2    1\n",
       " [89,]    2    1\n",
       " [90,]    2    1\n",
       " [91,]    2    1\n",
       " [92,]    2    1\n",
       " [93,]    2    1\n",
       " [94,]    2    1\n",
       " [95,]    2    1\n",
       " [96,]    3    0\n",
       " [97,]    3    0\n",
       " [98,]    2    1\n",
       " [99,]    2    1\n",
       "[100,]    3    0\n",
       "\n",
       "[[2]]\n",
       "Markov Chain Monte Carlo (MCMC) output:\n",
       "Start = 1 \n",
       "End = 100 \n",
       "Thinning interval = 1 \n",
       "       p[1] p[2]\n",
       "  [1,]    2    1\n",
       "  [2,]    1    2\n",
       "  [3,]    2    1\n",
       "  [4,]    2    1\n",
       "  [5,]    1    2\n",
       "  [6,]    2    1\n",
       "  [7,]    2    1\n",
       "  [8,]    1    2\n",
       "  [9,]    2    1\n",
       " [10,]    3    0\n",
       " [11,]    2    1\n",
       " [12,]    3    0\n",
       " [13,]    3    0\n",
       " [14,]    0    3\n",
       " [15,]    3    0\n",
       " [16,]    2    1\n",
       " [17,]    2    1\n",
       " [18,]    2    1\n",
       " [19,]    1    2\n",
       " [20,]    1    2\n",
       " [21,]    1    2\n",
       " [22,]    2    1\n",
       " [23,]    2    1\n",
       " [24,]    1    2\n",
       " [25,]    1    2\n",
       " [26,]    3    0\n",
       " [27,]    2    1\n",
       " [28,]    2    1\n",
       " [29,]    2    1\n",
       " [30,]    2    1\n",
       " [31,]    2    1\n",
       " [32,]    0    3\n",
       " [33,]    3    0\n",
       " [34,]    1    2\n",
       " [35,]    3    0\n",
       " [36,]    1    2\n",
       " [37,]    3    0\n",
       " [38,]    2    1\n",
       " [39,]    1    2\n",
       " [40,]    3    0\n",
       " [41,]    2    1\n",
       " [42,]    0    3\n",
       " [43,]    2    1\n",
       " [44,]    2    1\n",
       " [45,]    3    0\n",
       " [46,]    1    2\n",
       " [47,]    1    2\n",
       " [48,]    0    3\n",
       " [49,]    2    1\n",
       " [50,]    2    1\n",
       " [51,]    1    2\n",
       " [52,]    1    2\n",
       " [53,]    3    0\n",
       " [54,]    2    1\n",
       " [55,]    3    0\n",
       " [56,]    3    0\n",
       " [57,]    1    2\n",
       " [58,]    2    1\n",
       " [59,]    3    0\n",
       " [60,]    0    3\n",
       " [61,]    2    1\n",
       " [62,]    3    0\n",
       " [63,]    3    0\n",
       " [64,]    1    2\n",
       " [65,]    3    0\n",
       " [66,]    2    1\n",
       " [67,]    1    2\n",
       " [68,]    1    2\n",
       " [69,]    2    1\n",
       " [70,]    1    2\n",
       " [71,]    2    1\n",
       " [72,]    1    2\n",
       " [73,]    1    2\n",
       " [74,]    2    1\n",
       " [75,]    2    1\n",
       " [76,]    1    2\n",
       " [77,]    2    1\n",
       " [78,]    1    2\n",
       " [79,]    2    1\n",
       " [80,]    2    1\n",
       " [81,]    2    1\n",
       " [82,]    3    0\n",
       " [83,]    1    2\n",
       " [84,]    2    1\n",
       " [85,]    2    1\n",
       " [86,]    1    2\n",
       " [87,]    1    2\n",
       " [88,]    2    1\n",
       " [89,]    2    1\n",
       " [90,]    1    2\n",
       " [91,]    3    0\n",
       " [92,]    1    2\n",
       " [93,]    2    1\n",
       " [94,]    3    0\n",
       " [95,]    1    2\n",
       " [96,]    2    1\n",
       " [97,]    2    1\n",
       " [98,]    3    0\n",
       " [99,]    2    1\n",
       "[100,]    2    1\n",
       "\n",
       "attr(,\"class\")\n",
       "[1] \"mcmc.list\""
      ]
     },
     "metadata": {},
     "output_type": "display_data"
    }
   ],
   "source": [
    "samp"
   ]
  },
  {
   "cell_type": "markdown",
   "metadata": {},
   "source": [
    "## Infer parameters of a multinomial distribution"
   ]
  },
  {
   "cell_type": "code",
   "execution_count": 9,
   "metadata": {},
   "outputs": [
    {
     "data": {
      "text/html": [
       "<table>\n",
       "<tbody>\n",
       "\t<tr><td>17</td></tr>\n",
       "\t<tr><td>57</td></tr>\n",
       "\t<tr><td>26</td></tr>\n",
       "</tbody>\n",
       "</table>\n"
      ],
      "text/latex": [
       "\\begin{tabular}{l}\n",
       "\t 17\\\\\n",
       "\t 57\\\\\n",
       "\t 26\\\\\n",
       "\\end{tabular}\n"
      ],
      "text/markdown": [
       "\n",
       "| 17 | \n",
       "| 57 | \n",
       "| 26 | \n",
       "\n",
       "\n"
      ],
      "text/plain": [
       "     [,1]\n",
       "[1,] 17  \n",
       "[2,] 57  \n",
       "[3,] 26  "
      ]
     },
     "metadata": {},
     "output_type": "display_data"
    }
   ],
   "source": [
    "# Generate some values (three possible values)\n",
    "p_initial = c(0.2, 0.6, 0.2)\n",
    "p = rmultinom(1, 100, p_initial)\n",
    "p"
   ]
  },
  {
   "cell_type": "code",
   "execution_count": 16,
   "metadata": {
    "scrolled": false
   },
   "outputs": [
    {
     "name": "stdout",
     "output_type": "stream",
     "text": [
      "Compiling model graph\n",
      "   Resolving undeclared variables\n",
      "   Allocating nodes\n",
      "Graph information:\n",
      "   Observed stochastic nodes: 1\n",
      "   Unobserved stochastic nodes: 1\n",
      "   Total graph size: 7\n",
      "\n",
      "Initializing model\n",
      "\n"
     ]
    },
    {
     "data": {
      "text/html": [
       "<table>\n",
       "<thead><tr><th></th><th scope=col>mean</th><th scope=col>sd</th><th scope=col>2.5%</th><th scope=col>50%</th><th scope=col>97.5%</th><th scope=col>Rhat</th></tr></thead>\n",
       "<tbody>\n",
       "\t<tr><th scope=row>alpha[1]</th><td> 0.18</td><td>0.04 </td><td> 0.11</td><td> 0.18</td><td> 0.26</td><td>1.03 </td></tr>\n",
       "\t<tr><th scope=row>alpha[2]</th><td> 0.56</td><td>0.05 </td><td> 0.47</td><td> 0.56</td><td> 0.66</td><td>1.00 </td></tr>\n",
       "\t<tr><th scope=row>alpha[3]</th><td> 0.26</td><td>0.05 </td><td> 0.17</td><td> 0.26</td><td> 0.36</td><td>1.07 </td></tr>\n",
       "\t<tr><th scope=row>p[1,1]</th><td>17.00</td><td>0.00 </td><td>17.00</td><td>17.00</td><td>17.00</td><td> NaN </td></tr>\n",
       "\t<tr><th scope=row>p[2,1]</th><td>57.00</td><td>0.00 </td><td>57.00</td><td>57.00</td><td>57.00</td><td> NaN </td></tr>\n",
       "\t<tr><th scope=row>p[3,1]</th><td>26.00</td><td>0.00 </td><td>26.00</td><td>26.00</td><td>26.00</td><td> NaN </td></tr>\n",
       "</tbody>\n",
       "</table>\n"
      ],
      "text/latex": [
       "\\begin{tabular}{r|llllll}\n",
       "  & mean & sd & 2.5\\% & 50\\% & 97.5\\% & Rhat\\\\\n",
       "\\hline\n",
       "\talpha{[}1{]} &  0.18 & 0.04  &  0.11 &  0.18 &  0.26 & 1.03 \\\\\n",
       "\talpha{[}2{]} &  0.56 & 0.05  &  0.47 &  0.56 &  0.66 & 1.00 \\\\\n",
       "\talpha{[}3{]} &  0.26 & 0.05  &  0.17 &  0.26 &  0.36 & 1.07 \\\\\n",
       "\tp{[}1,1{]} & 17.00 & 0.00  & 17.00 & 17.00 & 17.00 &  NaN \\\\\n",
       "\tp{[}2,1{]} & 57.00 & 0.00  & 57.00 & 57.00 & 57.00 &  NaN \\\\\n",
       "\tp{[}3,1{]} & 26.00 & 0.00  & 26.00 & 26.00 & 26.00 &  NaN \\\\\n",
       "\\end{tabular}\n"
      ],
      "text/markdown": [
       "\n",
       "| <!--/--> | mean | sd | 2.5% | 50% | 97.5% | Rhat | \n",
       "|---|---|---|---|---|---|\n",
       "| alpha[1] |  0.18 | 0.04  |  0.11 |  0.18 |  0.26 | 1.03  | \n",
       "| alpha[2] |  0.56 | 0.05  |  0.47 |  0.56 |  0.66 | 1.00  | \n",
       "| alpha[3] |  0.26 | 0.05  |  0.17 |  0.26 |  0.36 | 1.07  | \n",
       "| p[1,1] | 17.00 | 0.00  | 17.00 | 17.00 | 17.00 |  NaN  | \n",
       "| p[2,1] | 57.00 | 0.00  | 57.00 | 57.00 | 57.00 |  NaN  | \n",
       "| p[3,1] | 26.00 | 0.00  | 26.00 | 26.00 | 26.00 |  NaN  | \n",
       "\n",
       "\n"
      ],
      "text/plain": [
       "         mean  sd   2.5%  50%   97.5% Rhat\n",
       "alpha[1]  0.18 0.04  0.11  0.18  0.26 1.03\n",
       "alpha[2]  0.56 0.05  0.47  0.56  0.66 1.00\n",
       "alpha[3]  0.26 0.05  0.17  0.26  0.36 1.07\n",
       "p[1,1]   17.00 0.00 17.00 17.00 17.00  NaN\n",
       "p[2,1]   57.00 0.00 57.00 57.00 57.00  NaN\n",
       "p[3,1]   26.00 0.00 26.00 26.00 26.00  NaN"
      ]
     },
     "metadata": {},
     "output_type": "display_data"
    },
    {
     "data": {
      "image/png": "[encoded data removed]",
      "text/plain": [
       "Plot with title \"Density - alpha[3]\""
      ]
     },
     "metadata": {},
     "output_type": "display_data"
    },
    {
     "data": {
      "image/png": "[encoded data removed]",
      "text/plain": [
       "Plot with title \"Density - p[3,1]\""
      ]
     },
     "metadata": {},
     "output_type": "display_data"
    }
   ],
   "source": [
    "# Infer the parameters of the multinomial distribution\n",
    "model_string = \"\n",
    "model {\n",
    "    alpha ~ ddirch(theta)\n",
    "    p ~ dmulti(alpha, N)\n",
    "}\n",
    "\"\n",
    "\n",
    "model = jags.model(textConnection(model_string),\n",
    "                   n.chains = 2,\n",
    "                   data = list(theta=c(1, 1, 1), N=100, p=p))\n",
    "\n",
    "samp = coda.samples(model, \n",
    "                    variable.names=c(\"p\", \"alpha\"), \n",
    "                    n.iter=100, progress.bar=\"none\")\n",
    "\n",
    "# Show a summary of the variables\n",
    "MCMCsummary(samp, round = 2)\n",
    "\n",
    "# Show plots\n",
    "gv = c(0.2, 0.6, 0.2, p)\n",
    "MCMCtrace(samp, \n",
    "          gv=gv,\n",
    "          pdf=FALSE)"
   ]
  },
  {
   "cell_type": "code",
   "execution_count": null,
   "metadata": {},
   "outputs": [],
   "source": []
  }
 ],
 "metadata": {
  "kernelspec": {
   "display_name": "R",
   "language": "R",
   "name": "ir"
  },
  "language_info": {
   "codemirror_mode": "r",
   "file_extension": ".r",
   "mimetype": "text/x-r-source",
   "name": "R",
   "pygments_lexer": "r",
   "version": "4.0.4"
  }
 },
 "nbformat": 4,
 "nbformat_minor": 2
}
