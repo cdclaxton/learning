{
 "cells": [
  {
   "cell_type": "markdown",
   "metadata": {},
   "source": [
    "# Domain Specific Language"
   ]
  },
  {
   "cell_type": "markdown",
   "metadata": {},
   "source": [
    "* Domain Specific Language (DSL)\n",
    "    - language specialised for a particular domain\n",
    "    - more specific than a general purpose language\n",
    "* Examples of DSLs:\n",
    "    - Regular expressions\n",
    "    - SQL"
   ]
  },
  {
   "cell_type": "code",
   "execution_count": 155,
   "metadata": {},
   "outputs": [],
   "source": [
    "class dsl:\n",
    "    \"\"\"Class defines the DSL.\"\"\"\n",
    "    \n",
    "    def __init__(self):\n",
    "        # User-defined parameters\n",
    "        self.params = {}\n",
    "        \n",
    "    def define_set(self, name, values):\n",
    "        \"\"\"Define a parameter.\"\"\"\n",
    "        \n",
    "        assert len(name) > 0\n",
    "        self.params[name] = set(values)\n",
    "    \n",
    "    def show_set(self, name):\n",
    "        if name in self.params:\n",
    "            print(f\"Showing that {name} ≜ {self.params[name]}\")\n",
    "        else:\n",
    "            print(f\"Set {name} not defined\")\n",
    "    \n",
    "    def operator_union(self, result_name, name1, name2):\n",
    "        self.params[result_name] = self.params[name1].union(self.params[name2])\n",
    "    \n",
    "    def operator_intersection(self, result_name, name1, name2):\n",
    "        self.params[result_name] = self.params[name1].intersection(self.params[name2])\n",
    "    \n",
    "    def in_set(self, name, value):\n",
    "        if value in self.params[name]:\n",
    "            print(f\"{value} ∈ {name}\")\n",
    "        else:\n",
    "            print(f\"{value} ∉ {name}\")\n",
    "    \n",
    "    @staticmethod\n",
    "    def add(x,y):\n",
    "        return x+y"
   ]
  },
  {
   "cell_type": "code",
   "execution_count": 168,
   "metadata": {},
   "outputs": [],
   "source": [
    "example1 = \"\"\"\n",
    "x ≜ {1,2,3}\n",
    "show x\n",
    "y ≜ {2,3,5}\n",
    "show y\n",
    "a ≜ x ∪ y\n",
    "show a\n",
    "b ≜ x ∩ y\n",
    "show b\n",
    "\n",
    "# Check elements in a set\n",
    "? 1 ∈ x\n",
    "? 4 ∈ x\n",
    "\"\"\""
   ]
  },
  {
   "cell_type": "code",
   "execution_count": 169,
   "metadata": {},
   "outputs": [],
   "source": [
    "def extract_set_elements(line):\n",
    "    \"\"\"Extract a set of elements from a line.\"\"\"\n",
    "    \n",
    "    return line.split(\"{\")[1].split(\"}\")[0].split(\",\")"
   ]
  },
  {
   "cell_type": "code",
   "execution_count": 170,
   "metadata": {},
   "outputs": [],
   "source": [
    "lang = dsl()\n",
    "\n",
    "def run_code(code):\n",
    "    \"\"\"Run code written using the DSL.\"\"\"\n",
    "    \n",
    "    # Preconditions\n",
    "    assert isinstance(code, str)\n",
    "    \n",
    "    for line in code.split(\"\\n\"):\n",
    "        line = line.strip()\n",
    "        \n",
    "        if len(line) == 0 or line.startswith('#'):\n",
    "            continue\n",
    "        \n",
    "        print(f\"> Parsing line {line}\")\n",
    "            \n",
    "        if \"≜\" in line and \"{\" in line and \"}\" in line:\n",
    "            name = line.split(\"≜\")[0].strip()\n",
    "            elements = extract_set_elements(line)\n",
    "            lang.define_set(name, elements)\n",
    "        elif \"show\" in line:\n",
    "            name = line.split(\"show\")[1].strip()\n",
    "            lang.show_set(name)\n",
    "        elif \"∪\" in line:\n",
    "            result_name = line.split(\"≜\")[0].strip()\n",
    "            names = [x.strip() for x in line.split(\"≜\")[1].split(\"∪\")]\n",
    "            lang.operator_union(result_name, names[0], names[1])\n",
    "        elif \"∩\" in line:\n",
    "            result_name = line.split(\"≜\")[0].strip()\n",
    "            names = [x.strip() for x in line.split(\"≜\")[1].split(\"∩\")]\n",
    "            lang.operator_intersection(result_name, names[0], names[1])\n",
    "        elif line.startswith(\"?\"):\n",
    "            question = line.split(\"?\")[1].strip()\n",
    "            value = question.split(\"∈\")[0].strip()\n",
    "            name = question.split(\"∈\")[1].strip()\n",
    "            lang.in_set(name, value)"
   ]
  },
  {
   "cell_type": "code",
   "execution_count": 171,
   "metadata": {},
   "outputs": [
    {
     "name": "stdout",
     "output_type": "stream",
     "text": [
      "> Parsing line x ≜ {1,2,3}\n",
      "> Parsing line show x\n",
      "Showing that x ≜ {'1', '3', '2'}\n",
      "> Parsing line y ≜ {2,3,5}\n",
      "> Parsing line show y\n",
      "Showing that y ≜ {'5', '3', '2'}\n",
      "> Parsing line a ≜ x ∪ y\n",
      "> Parsing line show a\n",
      "Showing that a ≜ {'5', '1', '3', '2'}\n",
      "> Parsing line b ≜ x ∩ y\n",
      "> Parsing line show b\n",
      "Showing that b ≜ {'3', '2'}\n",
      "> Parsing line ? 1 ∈ x\n",
      "1 ∈ x\n",
      "> Parsing line ? 4 ∈ x\n",
      "4 ∉ x\n"
     ]
    }
   ],
   "source": [
    "run_code(example1)"
   ]
  },
  {
   "cell_type": "code",
   "execution_count": null,
   "metadata": {},
   "outputs": [],
   "source": []
  }
 ],
 "metadata": {
  "kernelspec": {
   "display_name": "Python 3",
   "language": "python",
   "name": "python3"
  },
  "language_info": {
   "codemirror_mode": {
    "name": "ipython",
    "version": 3
   },
   "file_extension": ".py",
   "mimetype": "text/x-python",
   "name": "python",
   "nbconvert_exporter": "python",
   "pygments_lexer": "ipython3",
   "version": "3.8.7"
  }
 },
 "nbformat": 4,
 "nbformat_minor": 4
}
