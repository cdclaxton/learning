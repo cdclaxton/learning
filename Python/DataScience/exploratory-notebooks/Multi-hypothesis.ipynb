{
 "cells": [
  {
   "cell_type": "markdown",
   "metadata": {},
   "source": [
    "# Multi-hypothesis approach"
   ]
  },
  {
   "cell_type": "code",
   "execution_count": 1,
   "metadata": {},
   "outputs": [],
   "source": [
    "import numpy as np\n",
    "import random\n",
    "\n",
    "from scipy import stats"
   ]
  },
  {
   "cell_type": "code",
   "execution_count": 2,
   "metadata": {},
   "outputs": [],
   "source": [
    "# Probability of each hypothesis\n",
    "# 0th entry is for the null hypothesis\n",
    "p_hypothesis = [0.25, 0.25, 0.25, 0.25]\n",
    "assert sum(p_hypothesis) == 1.0"
   ]
  },
  {
   "cell_type": "code",
   "execution_count": 3,
   "metadata": {},
   "outputs": [],
   "source": [
    "# Parameters of the null hypothesis\n",
    "lower_bound = 0\n",
    "upper_bound = 100\n",
    "\n",
    "# Mean of the Poisson distribution of each hypothesis\n",
    "mu = [0.1, 2.0, 5.0]"
   ]
  },
  {
   "cell_type": "code",
   "execution_count": 4,
   "metadata": {},
   "outputs": [],
   "source": [
    "# Number of experiments to perform\n",
    "n_experiments = 10000\n",
    "\n",
    "# Define the confusion matrix\n",
    "n_hypotheses = len(p_hypothesis)\n",
    "confusion_matrix = np.zeros((n_hypotheses, n_hypotheses))"
   ]
  },
  {
   "cell_type": "code",
   "execution_count": 5,
   "metadata": {},
   "outputs": [],
   "source": [
    "def p_D_given_null(D):\n",
    "    \"\"\"Probability of the D given the null hypothesis.\"\"\"\n",
    "    \n",
    "    if lower_bound <= sample <= upper_bound:\n",
    "        n_samples = upper_bound - lower_bound + 1\n",
    "        return 1.0 / n_samples\n",
    "    else:\n",
    "        return 0.0"
   ]
  },
  {
   "cell_type": "code",
   "execution_count": 6,
   "metadata": {},
   "outputs": [],
   "source": [
    "def p_D_given_Poisson(D, mu):\n",
    "    \"\"\"p(D|mu).\"\"\"\n",
    "        \n",
    "    return stats.poisson.pmf(D, mu) "
   ]
  },
  {
   "cell_type": "code",
   "execution_count": 7,
   "metadata": {},
   "outputs": [],
   "source": [
    "def p_hypothesis_given_data(D):\n",
    "    \n",
    "    p = np.zeros(len(p_hypothesis))\n",
    "    p[0] = p_D_given_null(D) * p_hypothesis[0]\n",
    "    \n",
    "    for i in range(1, len(p_hypothesis)):\n",
    "        p[i] = p_D_given_Poisson(D, mu[i-1]) * p_hypothesis[i]\n",
    "    \n",
    "    return p / sum(p)"
   ]
  },
  {
   "cell_type": "code",
   "execution_count": 8,
   "metadata": {},
   "outputs": [],
   "source": [
    "for i in range(n_experiments):\n",
    "    \n",
    "    # Index of the true hypothesis\n",
    "    true_hypothesis = np.where(np.random.multinomial(1, p_hypothesis) == 1)[0][0]\n",
    "    \n",
    "    # Generate a sample\n",
    "    if true_hypothesis == 0:\n",
    "        sample = random.randint(lower_bound, upper_bound)\n",
    "    else:\n",
    "        mu_true = mu[true_hypothesis-1]\n",
    "        sample = np.random.poisson(mu_true)\n",
    "    \n",
    "    # Probability of each hypothesis given the data\n",
    "    p_est = p_hypothesis_given_data(sample)\n",
    "    \n",
    "    # Index of the most likely hypothesis given the data\n",
    "    est_hypothesis = np.argmax(p_est)\n",
    "    \n",
    "    confusion_matrix[true_hypothesis, est_hypothesis] += 1"
   ]
  },
  {
   "cell_type": "code",
   "execution_count": 9,
   "metadata": {},
   "outputs": [
    {
     "data": {
      "text/plain": [
       "array([[2225.,   27.,   86.,  189.],\n",
       "       [   0., 2271.,  217.,    0.],\n",
       "       [   0.,  338., 1820.,  360.],\n",
       "       [  43.,   17.,  651., 1756.]])"
      ]
     },
     "execution_count": 9,
     "metadata": {},
     "output_type": "execute_result"
    }
   ],
   "source": [
    "confusion_matrix"
   ]
  },
  {
   "cell_type": "markdown",
   "metadata": {},
   "source": [
    "## Multiple lotteries"
   ]
  },
  {
   "cell_type": "markdown",
   "metadata": {},
   "source": [
    "* Person enters $N$ lotteries\n",
    "* Each lottery has the same probability of winning"
   ]
  },
  {
   "cell_type": "code",
   "execution_count": 31,
   "metadata": {},
   "outputs": [],
   "source": [
    "n_lotteries = 2\n",
    "p_win = 0.1\n",
    "\n",
    "buy_island_model_0 = {\n",
    "    True: 1.0,\n",
    "    False: 0.0\n",
    "}\n",
    "\n",
    "buy_island_model_1 = {\n",
    "    0: 0,\n",
    "    1: 1.0,\n",
    "    2: 1.0,\n",
    "    3: 1.0,\n",
    "}"
   ]
  },
  {
   "cell_type": "code",
   "execution_count": 32,
   "metadata": {},
   "outputs": [],
   "source": [
    "def bernoulli_sample(p):\n",
    "    assert 0.0 <= p <= 1.0\n",
    "    return np.random.binomial(1, p)"
   ]
  },
  {
   "cell_type": "code",
   "execution_count": 33,
   "metadata": {},
   "outputs": [],
   "source": [
    "def buy_island_0(win):\n",
    "    assert type(win) == bool\n",
    "    \n",
    "    p = buy_island_model_0[win]\n",
    "    return bernoulli_sample(p)"
   ]
  },
  {
   "cell_type": "code",
   "execution_count": 34,
   "metadata": {},
   "outputs": [],
   "source": [
    "def buy_island_1(n_wins):\n",
    "    assert type(n_wins) == int\n",
    "    assert n_wins >= 0\n",
    "    \n",
    "    p = buy_island_model_1[n_wins]\n",
    "    return bernoulli_sample(p)"
   ]
  },
  {
   "cell_type": "code",
   "execution_count": 35,
   "metadata": {},
   "outputs": [],
   "source": [
    "def run_experiment(n_lotteries, p_win):\n",
    "    assert n_lotteries > 0\n",
    "    assert 0.0 <= p_win <= 1.0\n",
    "    \n",
    "    # Determine the outcome of each lottery\n",
    "    outcomes = [bernoulli_sample(p_win) for i in range(n_lotteries)]\n",
    "    \n",
    "    number_of_wins = sum(outcomes)\n",
    "    assert 0 <= number_of_wins <= n_lotteries\n",
    "    \n",
    "    # Model 0\n",
    "    buy_0 = buy_island_0(number_of_wins > 0)\n",
    "    \n",
    "    # Model 1\n",
    "    buy_1 = buy_island_1(number_of_wins)\n",
    "    \n",
    "    return buy_0, buy_1"
   ]
  },
  {
   "cell_type": "code",
   "execution_count": 40,
   "metadata": {},
   "outputs": [
    {
     "data": {
      "text/plain": [
       "array([[80818.,     0.],\n",
       "       [    0., 19182.]])"
      ]
     },
     "execution_count": 40,
     "metadata": {},
     "output_type": "execute_result"
    }
   ],
   "source": [
    "confusion_matrix = np.zeros((2, 2))\n",
    "\n",
    "n_experiments = 100000\n",
    "for i in range(n_experiments):\n",
    "    buy_0, buy_1 = run_experiment(n_lotteries, p_win)\n",
    "    confusion_matrix[buy_0, buy_1] += 1\n",
    "\n",
    "confusion_matrix"
   ]
  },
  {
   "cell_type": "code",
   "execution_count": null,
   "metadata": {},
   "outputs": [],
   "source": []
  }
 ],
 "metadata": {
  "kernelspec": {
   "display_name": "Python 3",
   "language": "python",
   "name": "python3"
  },
  "language_info": {
   "codemirror_mode": {
    "name": "ipython",
    "version": 3
   },
   "file_extension": ".py",
   "mimetype": "text/x-python",
   "name": "python",
   "nbconvert_exporter": "python",
   "pygments_lexer": "ipython3",
   "version": "3.8.7"
  }
 },
 "nbformat": 4,
 "nbformat_minor": 4
}
