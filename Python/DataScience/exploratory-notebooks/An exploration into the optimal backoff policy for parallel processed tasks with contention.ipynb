{
 "cells": [
  {
   "cell_type": "markdown",
   "id": "ee4be884",
   "metadata": {},
   "source": [
    "# An exploration into the optimal backoff policy for parallel processed tasks with contention"
   ]
  },
  {
   "cell_type": "markdown",
   "id": "6d165cc1",
   "metadata": {},
   "source": [
    "The key details of the problem:\n",
    "\n",
    "* There are $N$ processors that operate in parallel that are capable of processing any task.\n",
    "* There is an unbounded queue from which each of the processors get tasks.\n",
    "* A processor can only take one task off the queue at a time.\n",
    "* A processor tries to start a task, but if that task interferes with the processing of another task, the processor returns the task to the queue. Once returned to the queue, the processor tries to get another task to perform.\n",
    "* A task can be delayed such that it cannot get to the head of the queue before a predefined elapsed period has passed from being placed on the queue.\n",
    "* Tasks have different execution times. Most tasks are very quick and a few are very slow.\n",
    "* Most tasks cause little to no contention, whereas others cause lots of contention."
   ]
  },
  {
   "cell_type": "markdown",
   "id": "161808ac",
   "metadata": {},
   "source": [
    "## Probabilistic modelling of tasks"
   ]
  },
  {
   "cell_type": "markdown",
   "id": "7fa413dd",
   "metadata": {},
   "source": [
    "### Simulation element"
   ]
  },
  {
   "cell_type": "code",
   "execution_count": 1,
   "id": "c2adbee7",
   "metadata": {},
   "outputs": [],
   "source": [
    "class SimulationElement:\n",
    "    def tick(self):\n",
    "        raise NotImplementedError()"
   ]
  },
  {
   "cell_type": "markdown",
   "id": "2a069222",
   "metadata": {},
   "source": [
    "### Task"
   ]
  },
  {
   "cell_type": "code",
   "execution_count": 2,
   "id": "12687029",
   "metadata": {},
   "outputs": [],
   "source": [
    "class Task:\n",
    "    def __init__(self, execution_cost, earliest_time_to_run, contention_fn):\n",
    "        assert type(execution_cost) == int and execution_cost > 0\n",
    "        assert type(earliest_time_to_run) == int and earliest_time_to_run >= 0\n",
    "        \n",
    "        self.failure_times = []\n",
    "        self.excution_cost = execution_cost\n",
    "        self.earliest_time_to_run = earliest_time_to_run\n",
    "        self.contention_fn = contention_fn\n",
    "        \n",
    "        self.completion_time = None"
   ]
  },
  {
   "cell_type": "markdown",
   "id": "b799a24e",
   "metadata": {},
   "source": [
    "### Queue"
   ]
  },
  {
   "cell_type": "code",
   "execution_count": 3,
   "id": "aad9a24a",
   "metadata": {},
   "outputs": [],
   "source": [
    "class Queue(SimulationElement):\n",
    "    def __init__(self):\n",
    "        self.elements = []\n",
    "        self.current_time = 0\n",
    "    \n",
    "    def tick(self):\n",
    "        self.current_time += 1\n",
    "    \n",
    "    def get(self):\n",
    "        \"\"\"Get a task from the queue (returns None if none are available).\"\"\"\n",
    "        \n",
    "        for idx,e in enumerate(self.elements):\n",
    "            if e.earliest_time_to_run <= self.current_time:\n",
    "                return self.elements.pop(idx)\n",
    "        \n",
    "        return None                \n",
    "        \n",
    "    def is_empty(self):\n",
    "        \"\"\"Is the queue empty?\"\"\"\n",
    "        return len(self.elements) == 0\n",
    "    \n",
    "    def put(self, task):\n",
    "        assert type(task) == Task\n",
    "        self.elements.append(task)"
   ]
  },
  {
   "cell_type": "code",
   "execution_count": 4,
   "id": "70e07501",
   "metadata": {},
   "outputs": [],
   "source": [
    "# Queue tests\n",
    "q = Queue()\n",
    "assert q.current_time == 0\n",
    "q.tick()\n",
    "assert q.current_time == 1\n",
    "assert q.is_empty()\n",
    "\n",
    "# Create a queue and put a single task onto the queue\n",
    "q = Queue()\n",
    "t1 = Task(1, 0, None)\n",
    "q.put(t1)\n",
    "assert len(q.elements) == 1\n",
    "assert q.get() == t1\n",
    "assert q.get() is None\n",
    "\n",
    "# Create a queue, but place a task that can't start immediately\n",
    "q = Queue()\n",
    "t1 = Task(1, 1, None)\n",
    "q.put(t1)\n",
    "assert q.get() is None\n",
    "q.tick()\n",
    "assert q.get() == t1\n",
    "\n",
    "# Create a queue and place tasks that have to be performed in reverse order\n",
    "q = Queue()\n",
    "t1 = Task(1, 1, None)\n",
    "q.put(t1)\n",
    "t2 = Task(1, 0, None)\n",
    "q.put(t2)\n",
    "assert q.get() == t2\n",
    "q.tick()\n",
    "assert q.get() == t1"
   ]
  },
  {
   "cell_type": "markdown",
   "id": "6dab87f2",
   "metadata": {},
   "source": [
    "### Contention functions"
   ]
  },
  {
   "cell_type": "code",
   "execution_count": 5,
   "id": "9df0da9d",
   "metadata": {},
   "outputs": [],
   "source": [
    "def no_contention_function(num_active_processors):\n",
    "    return False"
   ]
  },
  {
   "cell_type": "code",
   "execution_count": 13,
   "id": "0e2996ee",
   "metadata": {},
   "outputs": [],
   "source": [
    "def always_contention_function(num_active_processors):\n",
    "    return num_active_processors > 1"
   ]
  },
  {
   "cell_type": "markdown",
   "id": "fc127619",
   "metadata": {},
   "source": [
    "### Backoff policy functions"
   ]
  },
  {
   "cell_type": "code",
   "execution_count": 6,
   "id": "f16c6ddb",
   "metadata": {},
   "outputs": [],
   "source": [
    "def quickest_retry_policy(task, current_time):\n",
    "    assert type(task) == Task\n",
    "    assert type(current_time) == int\n",
    "    \n",
    "    task.earliest_time_to_run = 0"
   ]
  },
  {
   "cell_type": "code",
   "execution_count": 7,
   "id": "ec863a18",
   "metadata": {},
   "outputs": [],
   "source": [
    "t1 = Task(1, 100, None)\n",
    "quickest_retry_policy(t1, 0)\n",
    "assert t1.earliest_time_to_run == 0"
   ]
  },
  {
   "cell_type": "code",
   "execution_count": null,
   "id": "ce3bac50",
   "metadata": {},
   "outputs": [],
   "source": []
  },
  {
   "cell_type": "markdown",
   "id": "38377f9b",
   "metadata": {},
   "source": [
    "### Processor"
   ]
  },
  {
   "cell_type": "code",
   "execution_count": 8,
   "id": "39290e57",
   "metadata": {},
   "outputs": [],
   "source": [
    "class Processor(SimulationElement):\n",
    "    \n",
    "    # States used in the state machine\n",
    "    STATE_READY = \"Ready\"\n",
    "    STATE_PROCESSING = \"Processing\"\n",
    "    \n",
    "    def __init__(self, backoff_policy_fn, queue, completed_task_list, num_active_processors_fn):\n",
    "        assert type(completed) == list\n",
    "        \n",
    "        self.state = Processor.STATE_READY\n",
    "        self.backoff_policy = backoff_policy_fn\n",
    "        self.queue = queue\n",
    "        self.completed_task_list = completed_task_list\n",
    "        self.num_active_processors_fn = num_active_processors_fn\n",
    "        \n",
    "        self.computation_performed = 0\n",
    "        self.task = None\n",
    "        self.current_time = 0\n",
    "    \n",
    "    def tick(self):\n",
    "        self.current_time += 1\n",
    "        \n",
    "        # Run the state machine\n",
    "        if self.state == Processor.STATE_READY:\n",
    "            self.state_ready()\n",
    "        elif self.state == Processor.STATE_PROCESSING:\n",
    "            self.state_processing()\n",
    "        else:\n",
    "            raise ValueError(f\"Unknown state: {self.state}\")\n",
    "        \n",
    "    def state_ready(self):\n",
    "        \n",
    "        # Try to get a Task from the queue\n",
    "        self.task = self.queue.get()\n",
    "        \n",
    "        # Check to see if the Task can be performed without contention\n",
    "        if self.task is not None:\n",
    "            \n",
    "            # The current processor is active, so the contention function has to be given\n",
    "            # one less than the number of active processors\n",
    "            contention = self.task.contention_fn(self.num_active_processors_fn() - 1)\n",
    "            assert type(contention) == bool\n",
    "            \n",
    "            if contention:\n",
    "                # Mutate the task due to the failure\n",
    "                self.task_failure(self.task)\n",
    "                self.queue.put(self.task)\n",
    "                self.task = None\n",
    "            else:\n",
    "                self.state = Processor.STATE_PROCESSING\n",
    "                self.computation_performed = 0\n",
    "\n",
    "    def state_processing(self):\n",
    "        self.computation_performed += 1\n",
    "        \n",
    "        if self.task.excution_cost == self.computation_performed:\n",
    "            self.task.completion_time = self.current_time\n",
    "            self.completed_task_list.append(self.task)\n",
    "            self.task = None\n",
    "            self.state = Processor.STATE_READY\n",
    "            \n",
    "    def task_failure(self, task):\n",
    "        assert type(task) == Task\n",
    "        \n",
    "        task.failure_times.append(self.current_time)\n",
    "        task.earliest_time_to_run = backoff_policy_fn(task, self.current_time)"
   ]
  },
  {
   "cell_type": "code",
   "execution_count": 9,
   "id": "d684bd2a",
   "metadata": {},
   "outputs": [],
   "source": [
    "# Processor with an empty queue\n",
    "q = Queue()\n",
    "completed = []\n",
    "p = Processor(None, q, completed, None)\n",
    "assert p.state == Processor.STATE_READY\n",
    "p.tick()\n",
    "assert p.state == Processor.STATE_READY\n",
    "\n",
    "# Processor with a queue with one task and no contention\n",
    "num_active_processors_fn = lambda: 0\n",
    "q = Queue()\n",
    "completed = []\n",
    "t1 = Task(1, 0, no_contention_function)\n",
    "q.put(t1)\n",
    "p = Processor(quickest_retry_policy, q, completed, num_active_processors_fn)\n",
    "\n",
    "p.tick()\n",
    "assert p.current_time == 1\n",
    "assert p.state == Processor.STATE_PROCESSING\n",
    "assert p.task == t1\n",
    "assert completed == []\n",
    "\n",
    "p.tick()\n",
    "assert p.current_time == 2\n",
    "assert p.state == Processor.STATE_READY\n",
    "assert completed == [t1]\n",
    "\n",
    "p.tick()\n",
    "assert p.current_time == 3\n",
    "assert p.state == Processor.STATE_READY\n",
    "assert completed == [t1]"
   ]
  },
  {
   "cell_type": "markdown",
   "id": "4772bbc1",
   "metadata": {},
   "source": [
    "### Runner"
   ]
  },
  {
   "cell_type": "code",
   "execution_count": 10,
   "id": "d33d9d9c",
   "metadata": {},
   "outputs": [],
   "source": [
    "class Runner:\n",
    "    def __init__(self, number_processors, backoff_policy_fn, tasks, max_timesteps):\n",
    "        assert type(number_processors) == int and number_processors > 0\n",
    "        assert type(tasks) and all([type(t) == Task for t in tasks])\n",
    "        assert max_timesteps is None or (type(max_timesteps) == int and max_timesteps >= 0)\n",
    "        \n",
    "        self.number_processors = number_processors\n",
    "        self.backoff_policy_fn = backoff_policy_fn\n",
    "        self.max_timesteps = max_timesteps\n",
    "        \n",
    "        # Place the tasks on the queue\n",
    "        self.make_and_populate_queue(tasks)\n",
    "        \n",
    "        self.completed_task_list = []\n",
    "        self.current_time = 0\n",
    "        \n",
    "        # Make the processors\n",
    "        self.make_processors()        \n",
    "        \n",
    "    def make_and_populate_queue(self, tasks):\n",
    "        \"\"\"Make and populate the queue.\"\"\"\n",
    "        \n",
    "        self.queue = Queue()\n",
    "        for t in tasks:\n",
    "            self.queue.put(t)\n",
    "            \n",
    "    def make_processors(self):\n",
    "        self.processors = []\n",
    "        \n",
    "        for idx in range(self.number_processors):\n",
    "            \n",
    "            # Make the processor\n",
    "            proc = Processor(self.backoff_policy_fn, \n",
    "                             self.queue, \n",
    "                             self.completed_task_list, \n",
    "                             self.number_active_processors)\n",
    "            \n",
    "            self.processors.append(proc)\n",
    "    \n",
    "    def number_active_processors(self):\n",
    "        count = 0\n",
    "        for p in self.processors:\n",
    "            if p.state == Processor.STATE_PROCESSING:\n",
    "                count += 1\n",
    "                \n",
    "        return count\n",
    "    \n",
    "    def run(self):\n",
    "        \n",
    "        self.current_time += 1\n",
    "        \n",
    "        while not self.queue.is_empty() or self.number_active_processors() > 0:\n",
    "            \n",
    "            if self.max_timesteps is not None and self.current_time == self.max_timesteps:\n",
    "                return\n",
    "            \n",
    "            for p in self.processors:\n",
    "                p.tick()"
   ]
  },
  {
   "cell_type": "code",
   "execution_count": 11,
   "id": "a6df1fb4",
   "metadata": {},
   "outputs": [],
   "source": [
    "tasks = [Task(1, 0, no_contention_function)]\n",
    "r = Runner(1, quickest_retry_policy, tasks, None)\n",
    "assert r.queue.elements == tasks\n",
    "assert len(r.processors) == 1\n",
    "\n",
    "r.run()\n",
    "assert r.queue.elements == []\n",
    "assert len(r.completed_task_list) == 1"
   ]
  },
  {
   "cell_type": "code",
   "execution_count": 12,
   "id": "a6d0895a",
   "metadata": {},
   "outputs": [
    {
     "data": {
      "text/plain": [
       "2"
      ]
     },
     "execution_count": 12,
     "metadata": {},
     "output_type": "execute_result"
    }
   ],
   "source": [
    "r.completed_task_list[0].completion_time"
   ]
  },
  {
   "cell_type": "code",
   "execution_count": null,
   "id": "2de2ba36",
   "metadata": {},
   "outputs": [],
   "source": []
  }
 ],
 "metadata": {
  "kernelspec": {
   "display_name": "Python 3",
   "language": "python",
   "name": "python3"
  },
  "language_info": {
   "codemirror_mode": {
    "name": "ipython",
    "version": 3
   },
   "file_extension": ".py",
   "mimetype": "text/x-python",
   "name": "python",
   "nbconvert_exporter": "python",
   "pygments_lexer": "ipython3",
   "version": "3.8.7"
  }
 },
 "nbformat": 4,
 "nbformat_minor": 5
}
