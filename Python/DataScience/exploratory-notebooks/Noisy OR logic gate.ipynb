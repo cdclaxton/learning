{
 "cells": [
  {
   "cell_type": "markdown",
   "metadata": {},
   "source": [
    "# Noisy OR logic gate"
   ]
  },
  {
   "cell_type": "markdown",
   "metadata": {},
   "source": [
    "The Noisy OR gate is based on the assumption that each input can independently cause the output. The inputs could be termed 'causes' and the output, the 'effect'.\n",
    "\n",
    "A two-input Noisy OR gate with two inputs $a$ and $b$ is parameterised with $p_a$ and $p_b$. The definition of each probability is that it is the probability of the effect given that the cause occurs."
   ]
  },
  {
   "cell_type": "code",
   "execution_count": 1,
   "metadata": {},
   "outputs": [],
   "source": [
    "import numpy as np\n",
    "import pandas as pd"
   ]
  },
  {
   "cell_type": "code",
   "execution_count": 2,
   "metadata": {},
   "outputs": [],
   "source": [
    "p_a = 0.4\n",
    "p_b = 0.6\n",
    "\n",
    "n_experiments_per_configuration = 10000\n",
    "\n",
    "def sample(a, b, p_a, p_b):\n",
    "    a_prime = 0\n",
    "    if a == 1:\n",
    "        a_prime = np.random.binomial(1, p_a, size=None)\n",
    "    \n",
    "    b_prime = 0\n",
    "    if b == 1:\n",
    "        b_prime = np.random.binomial(1, p_b, size=None)\n",
    "    \n",
    "    return a_prime or b_prime\n",
    "\n",
    "def prob(a, b, p_a, p_b, n_experiments):\n",
    "    samples = [sample(a, b, p_a, p_b) for _ in range(n_experiments)]\n",
    "    return sum(samples) / n_experiments"
   ]
  },
  {
   "cell_type": "code",
   "execution_count": 3,
   "metadata": {},
   "outputs": [
    {
     "data": {
      "text/html": [
       "<div>\n",
       "<style scoped>\n",
       "    .dataframe tbody tr th:only-of-type {\n",
       "        vertical-align: middle;\n",
       "    }\n",
       "\n",
       "    .dataframe tbody tr th {\n",
       "        vertical-align: top;\n",
       "    }\n",
       "\n",
       "    .dataframe thead th {\n",
       "        text-align: right;\n",
       "    }\n",
       "</style>\n",
       "<table border=\"1\" class=\"dataframe\">\n",
       "  <thead>\n",
       "    <tr style=\"text-align: right;\">\n",
       "      <th></th>\n",
       "      <th>a</th>\n",
       "      <th>b</th>\n",
       "      <th>experimental</th>\n",
       "      <th>predicted</th>\n",
       "    </tr>\n",
       "  </thead>\n",
       "  <tbody>\n",
       "    <tr>\n",
       "      <th>0</th>\n",
       "      <td>0</td>\n",
       "      <td>0</td>\n",
       "      <td>0.0000</td>\n",
       "      <td>0.00</td>\n",
       "    </tr>\n",
       "    <tr>\n",
       "      <th>1</th>\n",
       "      <td>0</td>\n",
       "      <td>1</td>\n",
       "      <td>0.5971</td>\n",
       "      <td>0.60</td>\n",
       "    </tr>\n",
       "    <tr>\n",
       "      <th>2</th>\n",
       "      <td>1</td>\n",
       "      <td>0</td>\n",
       "      <td>0.3918</td>\n",
       "      <td>0.40</td>\n",
       "    </tr>\n",
       "    <tr>\n",
       "      <th>3</th>\n",
       "      <td>1</td>\n",
       "      <td>1</td>\n",
       "      <td>0.7620</td>\n",
       "      <td>0.76</td>\n",
       "    </tr>\n",
       "  </tbody>\n",
       "</table>\n",
       "</div>"
      ],
      "text/plain": [
       "   a  b experimental predicted\n",
       "0  0  0       0.0000      0.00\n",
       "1  0  1       0.5971      0.60\n",
       "2  1  0       0.3918      0.40\n",
       "3  1  1       0.7620      0.76"
      ]
     },
     "execution_count": 3,
     "metadata": {},
     "output_type": "execute_result"
    }
   ],
   "source": [
    "df = pd.DataFrame({\"a\":[0,0,1,1], \n",
    "                   \"b\": [0,1,0,1], \n",
    "                   \"experimental\": [None, None, None, None], \n",
    "                   \"predicted\": [None, None, None, None]})\n",
    "\n",
    "for row_idx in range(len(df)):\n",
    "    a = df[\"a\"][row_idx]\n",
    "    b = df[\"b\"][row_idx]\n",
    "    df.loc[row_idx, \"experimental\"] = prob(a, b, p_a, p_b, n_experiments_per_configuration)\n",
    "    df.loc[row_idx, \"predicted\"] = 1 - ((1-p_a)**a) * ((1-p_b)**b)\n",
    "    \n",
    "df"
   ]
  },
  {
   "cell_type": "markdown",
   "metadata": {},
   "source": [
    "## Inserting an extra node"
   ]
  },
  {
   "cell_type": "markdown",
   "metadata": {},
   "source": [
    "### Checking the mathematical expression"
   ]
  },
  {
   "cell_type": "code",
   "execution_count": 4,
   "metadata": {},
   "outputs": [],
   "source": [
    "y_given_a_b = {\n",
    "    (0, 0): 0.2,\n",
    "    (0, 1): 0.3,\n",
    "    (1, 0): 0.4,\n",
    "    (1, 1): 0.6\n",
    "}\n",
    "\n",
    "x_given_y_c = {\n",
    "    (0, 0): 0.25,\n",
    "    (0, 1): 0.35,\n",
    "    (1, 0): 0.45,\n",
    "    (1, 1): 0.55\n",
    "}"
   ]
  },
  {
   "cell_type": "code",
   "execution_count": 5,
   "metadata": {},
   "outputs": [],
   "source": [
    "x_given_a_b_c = {}\n",
    "\n",
    "for a in [0,1]:\n",
    "    for b in [0,1]:\n",
    "        for c in [0,1]:\n",
    "            x_given_a_b_c[(a,b,c)] = (1-y_given_a_b[(a,b)])*x_given_y_c[(0,c)] + y_given_a_b[(a,b)]*x_given_y_c[(1,c)]"
   ]
  },
  {
   "cell_type": "code",
   "execution_count": 6,
   "metadata": {},
   "outputs": [
    {
     "data": {
      "text/plain": [
       "{(0, 0, 0): 0.29000000000000004,\n",
       " (0, 0, 1): 0.39,\n",
       " (0, 1, 0): 0.31,\n",
       " (0, 1, 1): 0.41,\n",
       " (1, 0, 0): 0.33,\n",
       " (1, 0, 1): 0.43000000000000005,\n",
       " (1, 1, 0): 0.37,\n",
       " (1, 1, 1): 0.47}"
      ]
     },
     "execution_count": 6,
     "metadata": {},
     "output_type": "execute_result"
    }
   ],
   "source": [
    "x_given_a_b_c"
   ]
  },
  {
   "cell_type": "markdown",
   "metadata": {},
   "source": [
    "### Gate inbetween Noisy OR"
   ]
  },
  {
   "cell_type": "code",
   "execution_count": 7,
   "metadata": {},
   "outputs": [],
   "source": [
    "from scipy.optimize import minimize, shgo"
   ]
  },
  {
   "cell_type": "code",
   "execution_count": 8,
   "metadata": {},
   "outputs": [],
   "source": [
    "def l1_norm(x):\n",
    "    return np.sum(np.abs(x))"
   ]
  },
  {
   "cell_type": "code",
   "execution_count": 9,
   "metadata": {},
   "outputs": [],
   "source": [
    "def l2_norm(x):\n",
    "    return np.sqrt(np.sum(np.power(x, 2)))"
   ]
  },
  {
   "cell_type": "code",
   "execution_count": 10,
   "metadata": {},
   "outputs": [
    {
     "name": "stdout",
     "output_type": "stream",
     "text": [
      "6\n",
      "3.7416573867739413\n"
     ]
    }
   ],
   "source": [
    "print(l1_norm(np.array([1,2,3])))\n",
    "print(l2_norm(np.array([1,2,3])))"
   ]
  },
  {
   "cell_type": "code",
   "execution_count": 11,
   "metadata": {},
   "outputs": [],
   "source": [
    "def make_error_fn(pa, pb, pc, norm):\n",
    "    assert norm in [\"l1-norm\", \"l2-norm\"]\n",
    "\n",
    "    def total_error(probs):\n",
    "        assert len(probs) == 8\n",
    "        p = probs[:4]\n",
    "        lam = probs[4:]\n",
    "\n",
    "        e000 = (1-p[0])*lam[0] + p[0]*lam[2] - 0\n",
    "        e001 = (1-p[0])*lam[1] + p[0]*lam[3] - pc\n",
    "        e010 = (1-p[1])*lam[0] + p[1]*lam[2] - pb\n",
    "        e011 = (1-p[1])*lam[1] + p[1]*lam[3] - (1-(1-pb)*(1-pc))\n",
    "        e100 = (1-p[2])*lam[0] + p[2]*lam[2] - pa\n",
    "        e101 = (1-p[2])*lam[1] + p[2]*lam[3] - (1-(1-pa)*(1-pc))\n",
    "        e110 = (1-p[3])*lam[0] + p[3]*lam[2] - (1-(1-pa)*(1-pb))\n",
    "        e111 = (1-p[3])*lam[1] + p[3]*lam[3] - (1-(1-pa)*(1-pb)*(1-pc))\n",
    "\n",
    "        e = np.array([e000, e001, e010, e011, e100, e101, e110, e111])\n",
    "        \n",
    "        if norm == \"l1-norm\":\n",
    "            return l1_norm(e)\n",
    "        else:\n",
    "            return l2_norm(e)\n",
    "\n",
    "    return total_error"
   ]
  },
  {
   "cell_type": "code",
   "execution_count": 12,
   "metadata": {},
   "outputs": [],
   "source": [
    "pa = 0.2\n",
    "pb = 0.3\n",
    "pc = 0.5\n",
    "f = make_error_fn(pa, pb, pc, \"l2-norm\")"
   ]
  },
  {
   "cell_type": "code",
   "execution_count": 13,
   "metadata": {},
   "outputs": [],
   "source": [
    "def make_prob_bounds(n):\n",
    "    return tuple([(0,1) for _ in range(n)])"
   ]
  },
  {
   "cell_type": "markdown",
   "metadata": {},
   "source": [
    "Optimisation methods available in Scipy that are applicable:\n",
    "\n",
    "* Powell -- \n",
    "* L-BFGS-B --\n",
    "* TNC -- \n",
    "* SLSQP -- \n",
    "* trust-constr -- \n",
    "\n",
    "If there is a Jacobian:\n",
    "\n",
    "* Newton-CG -- requires Jacobian\n",
    "* trust-exact -- requires Jacobian\n",
    "* trust-krylov -- requires Jacobian\n",
    "\n",
    "Non-applicable methods:\n",
    "\n",
    "* Nelder-Mead -- doesn't handle bounds\n",
    "* CG -- doesn't handle bounds\n",
    "* BFGS -- doesn't handle bounds\n",
    "* COBYLA -- doesn't handle bounds\n",
    "* dogleg -- doesn't handle bounds\n",
    "* trust-ncg -- doesn't handle bounds"
   ]
  },
  {
   "cell_type": "code",
   "execution_count": 14,
   "metadata": {},
   "outputs": [
    {
     "name": "stdout",
     "output_type": "stream",
     "text": [
      "Optimization terminated successfully.\n",
      "         Current function value: 0.000069\n",
      "         Iterations: 14\n",
      "         Function evaluations: 1958\n",
      "   direc: array([[-5.52924306e-20,  0.00000000e+00, -8.26194852e-21,\n",
      "         0.00000000e+00, -1.20488171e-36, -1.08405883e-18,\n",
      "         7.07931593e-21,  1.14292052e-20],\n",
      "       [-4.96019009e-04, -8.13237211e-05, -9.93900586e-05,\n",
      "        -1.56043035e-04,  0.00000000e+00, -8.81860581e-05,\n",
      "         7.52855669e-05,  1.48908996e-04],\n",
      "       [ 0.00000000e+00,  0.00000000e+00,  1.00000000e+00,\n",
      "         0.00000000e+00,  0.00000000e+00,  0.00000000e+00,\n",
      "         0.00000000e+00,  0.00000000e+00],\n",
      "       [ 0.00000000e+00,  0.00000000e+00,  0.00000000e+00,\n",
      "         1.00000000e+00,  0.00000000e+00,  0.00000000e+00,\n",
      "         0.00000000e+00,  0.00000000e+00],\n",
      "       [ 0.00000000e+00,  0.00000000e+00,  0.00000000e+00,\n",
      "         0.00000000e+00,  1.00000000e+00,  0.00000000e+00,\n",
      "         0.00000000e+00,  0.00000000e+00],\n",
      "       [ 0.00000000e+00,  0.00000000e+00,  0.00000000e+00,\n",
      "         0.00000000e+00,  0.00000000e+00,  0.00000000e+00,\n",
      "         0.00000000e+00,  1.00000000e+00],\n",
      "       [ 0.00000000e+00,  0.00000000e+00,  0.00000000e+00,\n",
      "         0.00000000e+00,  0.00000000e+00,  0.00000000e+00,\n",
      "         1.00000000e+00,  0.00000000e+00],\n",
      "       [-2.33317361e-11,  4.94750104e-05,  2.52608025e-05,\n",
      "         5.78497693e-05,  0.00000000e+00, -1.72500940e-06,\n",
      "        -3.29571118e-05, -1.70952599e-05]])\n",
      "     fun: 6.887100656327051e-05\n",
      " message: 'Optimization terminated successfully.'\n",
      "    nfev: 1958\n",
      "     nit: 14\n",
      "  status: 0\n",
      " success: True\n",
      "       x: array([1.98551965e-08, 6.20264968e-01, 4.13470010e-01, 9.09793724e-01,\n",
      "       6.61069614e-05, 5.00007184e-01, 4.83619449e-01, 7.41810946e-01])\n"
     ]
    }
   ],
   "source": [
    "initial = np.repeat(0.5, 8)\n",
    "bounds = make_prob_bounds(8)\n",
    "\n",
    "# Minimize \n",
    "result = minimize(f, x0=initial, method='Powell', bounds=bounds, options={'ftol': 1e-9, 'disp': True})\n",
    "print(result)"
   ]
  },
  {
   "cell_type": "code",
   "execution_count": 15,
   "metadata": {},
   "outputs": [
    {
     "data": {
      "text/plain": [
       "array([1.98551965e-08, 6.20264968e-01, 4.13470010e-01, 9.09793724e-01,\n",
       "       6.61069614e-05, 5.00007184e-01, 4.83619449e-01, 7.41810946e-01])"
      ]
     },
     "execution_count": 15,
     "metadata": {},
     "output_type": "execute_result"
    }
   ],
   "source": [
    "result.x"
   ]
  },
  {
   "cell_type": "code",
   "execution_count": 16,
   "metadata": {},
   "outputs": [
    {
     "data": {
      "text/plain": [
       "6.887100656327051e-05"
      ]
     },
     "execution_count": 16,
     "metadata": {},
     "output_type": "execute_result"
    }
   ],
   "source": [
    "f(result.x)"
   ]
  },
  {
   "cell_type": "code",
   "execution_count": 17,
   "metadata": {},
   "outputs": [
    {
     "name": "stdout",
     "output_type": "stream",
     "text": [
      " y | c  | x\n",
      "---|----|-------\n",
      " 0 | 0  | 6.610696135189607e-05\n",
      " 0 | 1  | 0.5000071835066979\n",
      " 1 | 0  | 0.4836194487845294\n",
      " 1 | 1  | 0.7418109462653955\n",
      "\n",
      " a | b  | y\n",
      "---|----|-------\n",
      " 0 | 0  | 1.9855196508610543e-08\n",
      " 0 | 1  | 0.6202649681822469\n",
      " 1 | 0  | 0.41347000992687627\n",
      " 1 | 1  | 0.909793724319774\n"
     ]
    }
   ],
   "source": [
    "p = result.x[:4]\n",
    "lam = result.x[4:]\n",
    "\n",
    "print(\" y | c  | x\")\n",
    "print(f\"---|----|-------\")\n",
    "print(f\" 0 | 0  | {lam[0]}\")\n",
    "print(f\" 0 | 1  | {lam[1]}\")\n",
    "print(f\" 1 | 0  | {lam[2]}\")\n",
    "print(f\" 1 | 1  | {lam[3]}\")\n",
    "print(\"\")\n",
    "print(\" a | b  | y\")\n",
    "print(f\"---|----|-------\")\n",
    "print(f\" 0 | 0  | {p[0]}\")\n",
    "print(f\" 0 | 1  | {p[1]}\")\n",
    "print(f\" 1 | 0  | {p[2]}\")\n",
    "print(f\" 1 | 1  | {p[3]}\")"
   ]
  },
  {
   "cell_type": "code",
   "execution_count": 18,
   "metadata": {},
   "outputs": [],
   "source": [
    "def show_p_x(result, pa, pb, pc):\n",
    "    p = result.x[:4]\n",
    "    lam = result.x[4:]\n",
    "\n",
    "    e000 = (1-p[0])*lam[0] + p[0]*lam[2]\n",
    "    e001 = (1-p[0])*lam[1] + p[0]*lam[3]\n",
    "    e010 = (1-p[1])*lam[0] + p[1]*lam[2]\n",
    "    e011 = (1-p[1])*lam[1] + p[1]*lam[3]\n",
    "    e100 = (1-p[2])*lam[0] + p[2]*lam[2]\n",
    "    e101 = (1-p[2])*lam[1] + p[2]*lam[3]\n",
    "    e110 = (1-p[3])*lam[0] + p[3]*lam[2]\n",
    "    e111 = (1-p[3])*lam[1] + p[3]*lam[3]  \n",
    "    \n",
    "    print(\"| a | b | c | p(x|a,b,c)                | Noisy OR                  |\")\n",
    "    print(\"|---|---|---|---------------------------|---------------------------|\")\n",
    "    print(f\"| 0 | 0 | 0 | {e000:<25} | {0:<25} |\")\n",
    "    print(f\"| 0 | 0 | 1 | {e001:<25} | {pc:<25} |\")\n",
    "    print(f\"| 0 | 1 | 0 | {e010:<25} | {pb:<25} |\")\n",
    "    print(f\"| 0 | 1 | 1 | {e011:<25} | {(1-(1-pb)*(1-pc)):<25} |\")\n",
    "    print(f\"| 1 | 0 | 0 | {e100:<25} | {pa:<25} |\")\n",
    "    print(f\"| 1 | 0 | 1 | {e101:<25} | {(1-(1-pa)*(1-pc)):<25} |\")\n",
    "    print(f\"| 1 | 1 | 0 | {e110:<25} | {(1-(1-pa)*(1-pb)):<25} |\")\n",
    "    print(f\"| 1 | 1 | 1 | {e111:<25} | {(1-(1-pa)*(1-pb)*(1-pc)):<25} |\")"
   ]
  },
  {
   "cell_type": "code",
   "execution_count": 19,
   "metadata": {},
   "outputs": [
    {
     "name": "stdout",
     "output_type": "stream",
     "text": [
      "| a | b | c | p(x|a,b,c)                | Noisy OR                  |\n",
      "|---|---|---|---------------------------|---------------------------|\n",
      "| 0 | 0 | 0 | 6.611656239852037e-05     | 0                         |\n",
      "| 0 | 0 | 1 | 0.5000071883077591        | 0.5                       |\n",
      "| 0 | 1 | 0 | 0.29999730514172424       | 0.3                       |\n",
      "| 0 | 1 | 1 | 0.649989586720569         | 0.65                      |\n",
      "| 1 | 0 | 0 | 0.2000009120051553        | 0.2                       |\n",
      "| 1 | 0 | 1 | 0.5999857876948926        | 0.6                       |\n",
      "| 1 | 1 | 0 | 0.43999990272593326       | 0.44000000000000006       |\n",
      "| 1 | 1 | 1 | 0.7199987293814684        | 0.72                      |\n"
     ]
    }
   ],
   "source": [
    "show_p_x(result, pa, pb, pc)"
   ]
  },
  {
   "cell_type": "markdown",
   "metadata": {},
   "source": [
    "The Noisy OR can be approximated very closely with an extra node capturing dependencies between $a$ and $b$."
   ]
  },
  {
   "cell_type": "markdown",
   "metadata": {},
   "source": [
    "## Weighted function fitting"
   ]
  },
  {
   "cell_type": "code",
   "execution_count": 20,
   "metadata": {},
   "outputs": [
    {
     "data": {
      "text/plain": [
       "(array([0., 0., 0., 0., 0., 0., 1., 0.]),\n",
       " [False, False, False, False, False, False, True, False])"
      ]
     },
     "execution_count": 20,
     "metadata": {},
     "output_type": "execute_result"
    }
   ],
   "source": [
    "def knowns_to_vector(knowns):\n",
    "    \"\"\"Convert a dict of known probabilities (from users) to an array.\"\"\"\n",
    "    \n",
    "    # Preconditions\n",
    "    assert type(knowns) == dict\n",
    "    \n",
    "    lookup = {\n",
    "        \"p0\": 0,\n",
    "        \"pc\": 1,\n",
    "        \"pb\": 2,\n",
    "        \"pbc\": 3,\n",
    "        \"pa\": 4,\n",
    "        \"pac\": 5,\n",
    "        \"pab\": 6,\n",
    "        \"pabc\": 7\n",
    "    }    \n",
    "\n",
    "    defined = [False for _ in range(8)]\n",
    "    p = np.zeros(8)\n",
    "    \n",
    "    for name,prob in knowns.items():\n",
    "        idx = lookup[name]\n",
    "        p[idx] = prob\n",
    "        defined[idx] = True\n",
    "    \n",
    "    return p, defined\n",
    "\n",
    "# Tests\n",
    "knowns_to_vector({\"pab\": 1})"
   ]
  },
  {
   "cell_type": "code",
   "execution_count": 21,
   "metadata": {},
   "outputs": [],
   "source": [
    "def make_error_fn(knowns, weight):\n",
    "    \n",
    "    def total_error(probs):\n",
    "        \n",
    "        assert len(probs) == 8\n",
    "        p = probs[:4]\n",
    "        lam = probs[4:]\n",
    "\n",
    "        p_added_node = np.array([\n",
    "            (1-p[0])*lam[0] + p[0]*lam[2],  # 000\n",
    "            (1-p[0])*lam[1] + p[0]*lam[3],  # 001\n",
    "            (1-p[1])*lam[0] + p[1]*lam[2],  # 010\n",
    "            (1-p[1])*lam[1] + p[1]*lam[3],  # 011\n",
    "            (1-p[2])*lam[0] + p[2]*lam[2],  # 100\n",
    "            (1-p[2])*lam[1] + p[2]*lam[3],  # 101\n",
    "            (1-p[3])*lam[0] + p[3]*lam[2],  # 110\n",
    "            (1-p[3])*lam[1] + p[3]*lam[3]   # 111\n",
    "        ])\n",
    "        \n",
    "        pa = knowns[\"pa\"]\n",
    "        pb = knowns[\"pb\"]\n",
    "        pc = knowns[\"pc\"]\n",
    "        \n",
    "        p_noisy_or = np.array([\n",
    "            0,                       # 000\n",
    "            pc,                      # 001\n",
    "            pb,                      # 010\n",
    "            (1-(1-pb)*(1-pc)),       # 011\n",
    "            pa,                      # 100\n",
    "            (1-(1-pa)*(1-pc)),       # 101\n",
    "            (1-(1-pa)*(1-pb)),       # 110\n",
    "            (1-(1-pa)*(1-pb)*(1-pc)) # 111\n",
    "        ])\n",
    "\n",
    "        p_user, defined = knowns_to_vector(knowns)\n",
    "\n",
    "        # Error terms\n",
    "        e = [None for _ in range(8)]\n",
    "        weights = [None for _ in range(8)]\n",
    "        \n",
    "        for i in range(8):\n",
    "            if defined[i]:\n",
    "                # Use user-defined probability\n",
    "                e[i] = p_added_node[i] - p_user[i]\n",
    "                weights[i] = weight\n",
    "            else:\n",
    "                # Use Noisy OR\n",
    "                e[i] = p_added_node[i] - p_noisy_or[i]\n",
    "                weights[i] = 1\n",
    "    \n",
    "        e = np.array(e)\n",
    "        weights = np.array(weights)\n",
    "        \n",
    "        # Return the weighted squared error\n",
    "        return np.sum(weights * np.power(e, 2))\n",
    "\n",
    "\n",
    "    return total_error"
   ]
  },
  {
   "cell_type": "code",
   "execution_count": 22,
   "metadata": {},
   "outputs": [],
   "source": [
    "knowns = {\"p0\": 0, \"pa\": 0.2, \"pb\": 0.3, \"pc\": 0.4, \"pab\": 0.7, \"pbc\": 0.4, \"pabc\": 0.2}\n",
    "weight = 1\n",
    "f = make_error_fn(knowns, weight)"
   ]
  },
  {
   "cell_type": "code",
   "execution_count": 23,
   "metadata": {},
   "outputs": [
    {
     "data": {
      "text/plain": [
       "[True, True, True, False, True, False, True, False]"
      ]
     },
     "execution_count": 23,
     "metadata": {},
     "output_type": "execute_result"
    }
   ],
   "source": [
    "[True, True, True, False, True, False, True, False]"
   ]
  },
  {
   "cell_type": "code",
   "execution_count": 24,
   "metadata": {},
   "outputs": [
    {
     "name": "stdout",
     "output_type": "stream",
     "text": [
      "Optimization terminated successfully.\n",
      "         Current function value: 0.017847\n",
      "         Iterations: 12\n",
      "         Function evaluations: 925\n",
      "   direc: array([[1., 0., 0., 0., 0., 0., 0., 0.],\n",
      "       [0., 1., 0., 0., 0., 0., 0., 0.],\n",
      "       [0., 0., 1., 0., 0., 0., 0., 0.],\n",
      "       [0., 0., 0., 1., 0., 0., 0., 0.],\n",
      "       [0., 0., 0., 0., 1., 0., 0., 0.],\n",
      "       [0., 0., 0., 0., 0., 1., 0., 0.],\n",
      "       [0., 0., 0., 0., 0., 0., 1., 0.],\n",
      "       [0., 0., 0., 0., 0., 0., 0., 1.]])\n",
      "     fun: 0.017846905484085546\n",
      " message: 'Optimization terminated successfully.'\n",
      "    nfev: 925\n",
      "     nit: 12\n",
      "  status: 0\n",
      " success: True\n",
      "       x: array([0.02574094, 0.40237485, 0.21959348, 0.99994697, 0.01328336,\n",
      "       0.48893063, 0.70934283, 0.22448057])\n"
     ]
    }
   ],
   "source": [
    "initial = np.repeat(0.5, 8)\n",
    "bounds = make_prob_bounds(8)\n",
    "\n",
    "# Minimize \n",
    "result = minimize(f, x0=initial, method='Powell', bounds=bounds, options={'ftol': 1e-9, 'disp': True})\n",
    "print(result)"
   ]
  },
  {
   "cell_type": "code",
   "execution_count": 25,
   "metadata": {},
   "outputs": [],
   "source": [
    "def noisy_or_probabilities(pa, pb, pc):\n",
    "    return np.array([\n",
    "        0.0,\n",
    "        pc,\n",
    "        pb,\n",
    "        1-(1-pb)*(1-pc),\n",
    "        pa,\n",
    "        1-(1-pa)*(1-pc),\n",
    "        1-(1-pa)*(1-pb),\n",
    "        1-(1-pa)*(1-pb)*(1-pc)\n",
    "    ])"
   ]
  },
  {
   "cell_type": "code",
   "execution_count": 26,
   "metadata": {},
   "outputs": [],
   "source": [
    "def show_p_x(result, knowns):\n",
    "    p = result.x[:4]\n",
    "    lam = result.x[4:]\n",
    "    \n",
    "    pa = knowns[\"pa\"]\n",
    "    pb = knowns[\"pb\"]\n",
    "    pc = knowns[\"pc\"]\n",
    "\n",
    "    p_user, defined = knowns_to_vector(knowns)\n",
    "    p_user_str = [str(p_user[i]) if defined[i] else \"\" for i in range(8)]\n",
    "    \n",
    "    # Actual probabilities given the extra node\n",
    "    p_added_node = np.array([\n",
    "        (1-p[0])*lam[0] + p[0]*lam[2],  # 000\n",
    "        (1-p[0])*lam[1] + p[0]*lam[3],  # 001\n",
    "        (1-p[1])*lam[0] + p[1]*lam[2],  # 010\n",
    "        (1-p[1])*lam[1] + p[1]*lam[3],  # 011\n",
    "        (1-p[2])*lam[0] + p[2]*lam[2],  # 100\n",
    "        (1-p[2])*lam[1] + p[2]*lam[3],  # 101\n",
    "        (1-p[3])*lam[0] + p[3]*lam[2],  # 110\n",
    "        (1-p[3])*lam[1] + p[3]*lam[3]   # 111\n",
    "    ])\n",
    "    \n",
    "    noisy_or = noisy_or_probabilities(pa, pb, pc)\n",
    "    \n",
    "    print(\"| a | b | c | p(x|a,b,c)                | p(user)                   | Noisy OR                  |\")\n",
    "    print(\"|---|---|---|---------------------------|---------------------------|---------------------------|\")\n",
    "    print(f\"| 0 | 0 | 0 | {p_added_node[0]:<25} | {p_user_str[0]:<25} | {noisy_or[0]:<25} |\")\n",
    "    print(f\"| 0 | 0 | 1 | {p_added_node[1]:<25} | {p_user_str[1]:<25} | {noisy_or[1]:<25} |\")\n",
    "    print(f\"| 0 | 1 | 0 | {p_added_node[2]:<25} | {p_user_str[2]:<25} | {noisy_or[2]:<25} |\")\n",
    "    print(f\"| 0 | 1 | 1 | {p_added_node[3]:<25} | {p_user_str[3]:<25} | {noisy_or[3]:<25} |\")\n",
    "    print(f\"| 1 | 0 | 0 | {p_added_node[4]:<25} | {p_user_str[4]:<25} | {noisy_or[4]:<25} |\")\n",
    "    print(f\"| 1 | 0 | 1 | {p_added_node[5]:<25} | {p_user_str[5]:<25} | {noisy_or[5]:<25} |\")\n",
    "    print(f\"| 1 | 1 | 0 | {p_added_node[6]:<25} | {p_user_str[6]:<25} | {noisy_or[6]:<25} |\")\n",
    "    print(f\"| 1 | 1 | 1 | {p_added_node[7]:<25} | {p_user_str[7]:<25} | {noisy_or[7]:<25} |\")\n",
    "    \n",
    "    error_p_user = 0.0\n",
    "    error_noisy_or = 0.0\n",
    "    \n",
    "    for i in range(8):\n",
    "        if defined[i]:\n",
    "            error_p_user += np.power(p_added_node[i] - p_user[i], 2)\n",
    "        else:\n",
    "            error_noisy_or += np.power(noisy_or[i] - p_user[i], 2)\n",
    "            \n",
    "    print(f\"Total squared error for user: {error_p_user}\")\n",
    "    print(f\"Total squared error for Noisy OR: {error_noisy_or}\")"
   ]
  },
  {
   "cell_type": "code",
   "execution_count": 27,
   "metadata": {},
   "outputs": [
    {
     "name": "stdout",
     "output_type": "stream",
     "text": [
      "| a | b | c | p(x|a,b,c)                | p(user)                   | Noisy OR                  |\n",
      "|---|---|---|---------------------------|---------------------------|---------------------------|\n",
      "| 0 | 0 | 0 | 0.031200591362602642      | 0.0                       | 0.0                       |\n",
      "| 0 | 0 | 1 | 0.4821234352304321        | 0.4                       | 0.4                       |\n",
      "| 0 | 1 | 0 | 0.2933601889703703        | 0.3                       | 0.3                       |\n",
      "| 0 | 1 | 1 | 0.38252257651322896       | 0.4                       | 0.5800000000000001        |\n",
      "| 1 | 0 | 0 | 0.16613348148401527       | 0.2                       | 0.2                       |\n",
      "| 1 | 0 | 1 | 0.4308591220108405        |                           | 0.52                      |\n",
      "| 1 | 1 | 0 | 0.7093059203004298        | 0.7                       | 0.44000000000000006       |\n",
      "| 1 | 1 | 1 | 0.22449459509172615       | 0.2                       | 0.664                     |\n",
      "Total squared error for user: 0.009900809355407322\n",
      "Total squared error for Noisy OR: 0.27040000000000003\n"
     ]
    }
   ],
   "source": [
    "show_p_x(result, knowns)"
   ]
  },
  {
   "cell_type": "code",
   "execution_count": 28,
   "metadata": {},
   "outputs": [
    {
     "name": "stdout",
     "output_type": "stream",
     "text": [
      " y | c  | x\n",
      "---|----|-------\n",
      " 0 | 0  | 0.0132833634954359\n",
      " 0 | 1  | 0.4889306293888226\n",
      " 1 | 0  | 0.7093428315283126\n",
      " 1 | 1  | 0.22448057161127008\n",
      "\n",
      " a | b  | y\n",
      "---|----|-------\n",
      " 0 | 0  | 0.025740944114735417\n",
      " 0 | 1  | 0.4023748520603496\n",
      " 1 | 0  | 0.21959347585709424\n",
      " 1 | 1  | 0.9999469711575262\n"
     ]
    }
   ],
   "source": [
    "p = result.x[:4]\n",
    "lam = result.x[4:]\n",
    "\n",
    "print(\" y | c  | x\")\n",
    "print(f\"---|----|-------\")\n",
    "print(f\" 0 | 0  | {lam[0]}\")\n",
    "print(f\" 0 | 1  | {lam[1]}\")\n",
    "print(f\" 1 | 0  | {lam[2]}\")\n",
    "print(f\" 1 | 1  | {lam[3]}\")\n",
    "print(\"\")\n",
    "print(\" a | b  | y\")\n",
    "print(f\"---|----|-------\")\n",
    "print(f\" 0 | 0  | {p[0]}\")\n",
    "print(f\" 0 | 1  | {p[1]}\")\n",
    "print(f\" 1 | 0  | {p[2]}\")\n",
    "print(f\" 1 | 1  | {p[3]}\")"
   ]
  },
  {
   "cell_type": "markdown",
   "metadata": {},
   "source": [
    "## An approach assuming dependencies"
   ]
  },
  {
   "cell_type": "code",
   "execution_count": 29,
   "metadata": {},
   "outputs": [],
   "source": [
    "from ipywidgets import interact, interactive, fixed, interact_manual, widgets\n",
    "from IPython.display import clear_output\n",
    "\n",
    "import matplotlib.pyplot as plt"
   ]
  },
  {
   "cell_type": "code",
   "execution_count": 30,
   "metadata": {},
   "outputs": [],
   "source": [
    "pa_slider = widgets.FloatSlider(min=0.0, max=1.0, value=0.0, step=0.01, description=\"pa\")\n",
    "pb_slider = widgets.FloatSlider(min=0.0, max=1.0, value=0.0, step=0.01, description=\"pb\")\n",
    "pc_slider = widgets.FloatSlider(min=0.0, max=1.0, value=0.0, step=0.01, description=\"pc\")\n",
    "\n",
    "override_pab = widgets.ToggleButton(\n",
    "    value=False,\n",
    "    description='Override pab',\n",
    "    disabled=False,\n",
    "    button_style='info',\n",
    "    tooltip='Description',\n",
    "    icon='check'\n",
    ")\n",
    "pab_slider = widgets.FloatSlider(min=0.0, max=1.0, value=0.0, step=0.01, description=\"pab\")\n",
    "\n",
    "override_pac = widgets.ToggleButton(\n",
    "    value=False,\n",
    "    description='Override pac',\n",
    "    disabled=False,\n",
    "    button_style='info',\n",
    "    tooltip='Description',\n",
    "    icon='check'\n",
    ")\n",
    "pac_slider = widgets.FloatSlider(min=0.0, max=1.0, value=0.0, step=0.01, description=\"pac\")\n",
    "\n",
    "override_pbc = widgets.ToggleButton(\n",
    "    value=False,\n",
    "    description='Override pbc',\n",
    "    disabled=False,\n",
    "    button_style='info',\n",
    "    tooltip='Description',\n",
    "    icon='check'\n",
    ")\n",
    "pbc_slider = widgets.FloatSlider(min=0.0, max=1.0, value=0.0, step=0.01, description=\"pbc\")"
   ]
  },
  {
   "cell_type": "code",
   "execution_count": 31,
   "metadata": {},
   "outputs": [],
   "source": [
    "def plot(pa, pb, pc, override_pab, pab, override_pac, pac, override_pbc, pbc):  \n",
    "    \n",
    "    def add_point(ps):\n",
    "        t = 1.0\n",
    "        for p in ps:\n",
    "            t *= (1-p)\n",
    "        plt.plot(1-t, 3, 'g.')\n",
    "    \n",
    "    # ONE input ----\n",
    "    \n",
    "    #100\n",
    "    plt.plot(pa, 9, 'rx')   \n",
    "    \n",
    "    #010\n",
    "    plt.plot(pb, 8, 'rx')\n",
    "    \n",
    "    #001\n",
    "    plt.plot(pc, 7, 'rx')\n",
    "    \n",
    "    plt.plot([-0.1, 1.1], [6.5, 6.5], 'k--')\n",
    "    \n",
    "    # TWO inputs ----\n",
    "    \n",
    "    #110\n",
    "    plt.plot(1-(1-pa)*(1-pb), 6, 'rx')\n",
    "    if override_pab:\n",
    "        plt.plot(pab, 6, 'gs')     \n",
    "\n",
    "    #101\n",
    "    plt.plot(1-(1-pa)*(1-pc), 5, 'rx')\n",
    "    if override_pac:\n",
    "        plt.plot(pac, 5, 'gs')    \n",
    "    \n",
    "    #011\n",
    "    plt.plot(1-(1-pb)*(1-pc), 4, 'rx')\n",
    "    if override_pbc:\n",
    "        plt.plot(pbc, 4, 'gs')\n",
    "        \n",
    "    plt.plot([-0.1, 1.1], [3.5, 3.5], 'k--')    \n",
    "    \n",
    "    # THREE inputs ----\n",
    "\n",
    "    #111\n",
    "    plt.plot(1-(1-pa)*(1-pb)*(1-pc), 3, 'rx')    \n",
    "    \n",
    "    v = [override_pab, override_pac, override_pbc]\n",
    "    print(v)\n",
    "    if v == [False, False, True]:\n",
    "        add_point([pa, pbc])\n",
    "    elif v == [False, True, False]:\n",
    "        add_point([pac, pb])\n",
    "    elif v == [False, True, True]:\n",
    "        add_point([pab, pbc])\n",
    "        add_point([pb, pac])\n",
    "        add_point([pa, pbc])\n",
    "    elif v == [True, False, False]:\n",
    "        add_point([pab, pc])\n",
    "    elif v == [True, False, True]:\n",
    "        add_point([pab, pc])\n",
    "        add_point([pbc, pa])\n",
    "        add_point([pab, bc])\n",
    "    elif v == [True, True, False]:\n",
    "        add_point([pab, pc])\n",
    "        add_point([pac, pb])\n",
    "        add_point([pab, pac])\n",
    "    elif v == [True, True, True]:\n",
    "        #add_point([pa, pb, pc])\n",
    "        add_point([pa, pbc])\n",
    "        add_point([pb, pac])        \n",
    "        add_point([pc, pab])\n",
    "        #add_point([pac, pb])\n",
    "        #add_point([pbc, pa])\n",
    "        #add_point([pab, pac])\n",
    "        #add_point([pab, pbc])\n",
    "        #add_point([pac, pbc])\n",
    "        \n",
    "    plt.yticks([3, 4, 5, 6, 7, 8, 9], [\"abc\", \"bc\", \"ac\", \"ab\", \"c\", \"b\", \"a\"])\n",
    "    plt.xlim(-0.1, 1.1)\n",
    "    plt.ylim(0, 9.5)\n",
    "    plt.show()"
   ]
  },
  {
   "cell_type": "code",
   "execution_count": 33,
   "metadata": {
    "scrolled": false
   },
   "outputs": [
    {
     "data": {
      "application/vnd.jupyter.widget-view+json": {
       "model_id": "336a85cbf4e748cab72bed483713465c",
       "version_major": 2,
       "version_minor": 0
      },
      "text/plain": [
       "interactive(children=(FloatSlider(value=0.1, description='pa', max=1.0, step=0.01), FloatSlider(value=0.41, de…"
      ]
     },
     "metadata": {},
     "output_type": "display_data"
    }
   ],
   "source": [
    "interactive(plot, pa=pa_slider, pb=pb_slider, pc=pc_slider, \n",
    "            override_pab=override_pab, pab=pab_slider,\n",
    "            override_pac=override_pac, pac=pac_slider,\n",
    "            override_pbc=override_pbc, pbc=pbc_slider,\n",
    "            continuous_update=False)"
   ]
  },
  {
   "cell_type": "code",
   "execution_count": null,
   "metadata": {},
   "outputs": [],
   "source": []
  },
  {
   "cell_type": "code",
   "execution_count": null,
   "metadata": {},
   "outputs": [],
   "source": []
  }
 ],
 "metadata": {
  "kernelspec": {
   "display_name": "Python 3",
   "language": "python",
   "name": "python3"
  },
  "language_info": {
   "codemirror_mode": {
    "name": "ipython",
    "version": 3
   },
   "file_extension": ".py",
   "mimetype": "text/x-python",
   "name": "python",
   "nbconvert_exporter": "python",
   "pygments_lexer": "ipython3",
   "version": "3.8.7"
  }
 },
 "nbformat": 4,
 "nbformat_minor": 4
}
