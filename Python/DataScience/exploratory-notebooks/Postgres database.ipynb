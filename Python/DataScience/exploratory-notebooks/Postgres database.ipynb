{
 "cells": [
  {
   "cell_type": "markdown",
   "metadata": {},
   "source": [
    "# Postgres database"
   ]
  },
  {
   "cell_type": "markdown",
   "metadata": {},
   "source": [
    "A Postgres database and a front-end (using Adminer) was created using the following `docker-compose.yml` file:\n",
    "\n",
    "```yaml\n",
    "version: \"3\"\n",
    "\n",
    "services:\n",
    "  db:\n",
    "    image: postgres\n",
    "    container_name: db\n",
    "    restart: always\n",
    "    environment:\n",
    "      - POSTGRES_PASSWORD=password\n",
    "    ports:\n",
    "      - 5432:5432\n",
    "\n",
    "  adminer:\n",
    "    image: adminer\n",
    "    container_name: adminer\n",
    "    restart: always\n",
    "    depends_on:\n",
    "      - db    \n",
    "    ports: \n",
    "      - 8080:8080\n",
    "\n",
    "```"
   ]
  },
  {
   "cell_type": "code",
   "execution_count": 73,
   "metadata": {},
   "outputs": [],
   "source": [
    "import psycopg2"
   ]
  },
  {
   "cell_type": "code",
   "execution_count": 74,
   "metadata": {},
   "outputs": [],
   "source": [
    "def database_connection(host, port, username, password, database=None):\n",
    "    \"\"\"Returns a database connection.\"\"\"\n",
    "    \n",
    "    # Preconditions\n",
    "    assert isinstance(host, str), f\"Expected a str, got {type(host)}\"\n",
    "    assert len(host) > 0\n",
    "    assert isinstance(port, int), f\"Expected an int, got {type(port)}\"\n",
    "    assert port > 0\n",
    "    assert isinstance(username, str), f\"Expected a str, got {type(username)}\"\n",
    "    assert len(username) > 0\n",
    "    assert isinstance(password, str), f\"Expected a str, got {type(password)}\"\n",
    "\n",
    "    if database is None:\n",
    "        conn = psycopg2.connect(\n",
    "            database=\"postgres\", host=host, port=str(port), user=username, password=password\n",
    "        )\n",
    "    else:\n",
    "        conn = psycopg2.connect(\n",
    "            database=database, host=host, port=str(port), user=username, password=password\n",
    "        )        \n",
    "    \n",
    "    conn.autocommit = True\n",
    "    \n",
    "    return conn"
   ]
  },
  {
   "cell_type": "markdown",
   "metadata": {},
   "source": [
    "## Create the database"
   ]
  },
  {
   "cell_type": "code",
   "execution_count": 75,
   "metadata": {},
   "outputs": [],
   "source": [
    "conn = database_connection(\"192.168.99.100\", 5432, \"postgres\", \"password\")\n",
    "\n",
    "conn.autocommit = True\n",
    "cursor = conn.cursor()\n",
    "sql = \"\"\"CREATE database comet\"\"\"\n",
    "\n",
    "try:\n",
    "    cursor.execute(sql)\n",
    "except:\n",
    "    print(f\"Can't make the database as it already exists!\")\n",
    "\n",
    "conn.close()"
   ]
  },
  {
   "cell_type": "markdown",
   "metadata": {},
   "source": [
    "## Create a table"
   ]
  },
  {
   "cell_type": "code",
   "execution_count": 81,
   "metadata": {},
   "outputs": [],
   "source": [
    "# Mapping from a Python type to a database type\n",
    "type_mappings = {\n",
    "    int: \"BIGINT\",\n",
    "    float: \"DOUBLE PRECISION\",\n",
    "    str: \"TEXT\",\n",
    "    bool: \"BOOLEAN\"\n",
    "}"
   ]
  },
  {
   "cell_type": "code",
   "execution_count": 82,
   "metadata": {},
   "outputs": [],
   "source": [
    "schema = {\n",
    "    \"name\": str,\n",
    "    \"age\": int,\n",
    "    \"employed\": bool,\n",
    "    \"height\": float\n",
    "}"
   ]
  },
  {
   "cell_type": "code",
   "execution_count": 83,
   "metadata": {},
   "outputs": [
    {
     "data": {
      "text/plain": [
       "['name TEXT', 'age BIGINT', 'employed BOOLEAN', 'height DOUBLE PRECISION']"
      ]
     },
     "execution_count": 83,
     "metadata": {},
     "output_type": "execute_result"
    }
   ],
   "source": [
    "name_to_type = [f\"{name} {type_mappings[tpe]}\" for name, tpe in schema.items()]\n",
    "name_to_type"
   ]
  },
  {
   "cell_type": "code",
   "execution_count": 84,
   "metadata": {},
   "outputs": [
    {
     "data": {
      "text/plain": [
       "'CREATE TABLE person (name TEXT, age BIGINT, employed BOOLEAN, height DOUBLE PRECISION)'"
      ]
     },
     "execution_count": 84,
     "metadata": {},
     "output_type": "execute_result"
    }
   ],
   "source": [
    "table_name = \"person\"\n",
    "field_spec = \", \".join(name_to_type)\n",
    "stmt = f\"CREATE TABLE {table_name} ({field_spec})\"\n",
    "stmt"
   ]
  },
  {
   "cell_type": "code",
   "execution_count": 85,
   "metadata": {},
   "outputs": [
    {
     "name": "stdout",
     "output_type": "stream",
     "text": [
      "comet\n"
     ]
    }
   ],
   "source": [
    "conn = database_connection(\"192.168.99.100\", 5432, \"postgres\", \"password\", \"comet\")\n",
    "cursor = conn.cursor()\n",
    "cursor.execute(stmt)\n",
    "conn.close()"
   ]
  },
  {
   "cell_type": "markdown",
   "metadata": {},
   "source": [
    "## Check if a table exists"
   ]
  },
  {
   "cell_type": "code",
   "execution_count": 86,
   "metadata": {},
   "outputs": [],
   "source": [
    "query = \"\"\"\n",
    "SELECT tablename\n",
    "FROM pg_catalog.pg_tables\n",
    "WHERE schemaname != 'pg_catalog' AND \n",
    "    schemaname != 'information_schema' AND tablename like '%person%'; \n",
    "\"\"\""
   ]
  },
  {
   "cell_type": "code",
   "execution_count": 87,
   "metadata": {},
   "outputs": [
    {
     "name": "stdout",
     "output_type": "stream",
     "text": [
      "comet\n"
     ]
    }
   ],
   "source": [
    "conn = database_connection(\"192.168.99.100\", 5432, \"postgres\", \"password\", \"comet\")\n",
    "cursor = conn.cursor()\n",
    "cursor.execute(query)\n",
    "conn.close()"
   ]
  },
  {
   "cell_type": "code",
   "execution_count": 88,
   "metadata": {},
   "outputs": [],
   "source": [
    "result = cursor.fetchone()"
   ]
  },
  {
   "cell_type": "code",
   "execution_count": 89,
   "metadata": {},
   "outputs": [
    {
     "data": {
      "text/plain": [
       "('person',)"
      ]
     },
     "execution_count": 89,
     "metadata": {},
     "output_type": "execute_result"
    }
   ],
   "source": [
    "result"
   ]
  },
  {
   "cell_type": "markdown",
   "metadata": {},
   "source": [
    "## Insert data into a table"
   ]
  },
  {
   "cell_type": "code",
   "execution_count": null,
   "metadata": {},
   "outputs": [],
   "source": [
    "query = \"\"\"\n",
    "INSERT INTO person ('name', 'age', 'employed', 'height') VALUES ('Bob', 23, true, 1.68)\n",
    "\"\"\""
   ]
  },
  {
   "cell_type": "code",
   "execution_count": null,
   "metadata": {},
   "outputs": [],
   "source": [
    "conn = database_connection(\"192.168.99.100\", 5432, \"postgres\", \"password\", \"comet\")\n",
    "cursor = conn.cursor()\n",
    "cursor.execute(query)\n",
    "conn.close()"
   ]
  }
 ],
 "metadata": {
  "kernelspec": {
   "display_name": "Python 3",
   "language": "python",
   "name": "python3"
  },
  "language_info": {
   "codemirror_mode": {
    "name": "ipython",
    "version": 3
   },
   "file_extension": ".py",
   "mimetype": "text/x-python",
   "name": "python",
   "nbconvert_exporter": "python",
   "pygments_lexer": "ipython3",
   "version": "3.8.7"
  }
 },
 "nbformat": 4,
 "nbformat_minor": 4
}
