{
 "cells": [
  {
   "cell_type": "markdown",
   "metadata": {},
   "source": [
    "# Logic"
   ]
  },
  {
   "cell_type": "markdown",
   "metadata": {},
   "source": [
    "**Logic** is the art and science of effective reasoning. Logic is used to investigate how to draw general and reliable conclusions from a collection of facts.\n",
    "\n",
    "Examples of logics include:\n",
    "- propositional logic\n",
    "- first-order logic\n",
    "- higher-order logic\n",
    "- modal logics\n",
    "\n",
    "In propositional logic, the connectives ($\\land$, $\\lor$, $\\neg$, $\\to$) have a fixed interpretation. The constants (propositional variables) $p$, $q$, $r$ may be interpreted at will.\n",
    "\n",
    "The precedence order is:\n",
    "- $\\neg$\n",
    "- $\\land$\n",
    "- $\\lor$\n",
    "- $\\to$\n",
    "\n",
    "A formula is **satisfiable** it it has an interpretation that makes it true. The interpretation is the **model** of the formula. A formula is **unsatisfiable** if it does not have any model.\n",
    "\n",
    "A formula is **valid** if it is true in any interpretation. A propositional logic formula is valid iff its negation is unsatisfiable.\n",
    "\n",
    "- $p \\lor q \\to q \\lor p$ is valid (i.e. true for any interpretation)\n",
    "- $p \\lor q \\to q$ is satisfiable (i.e. true for certain interpretations, i.e. $p$ is false)\n",
    "- $p \\land \\neg q \\land (\\neg p \\lor q)$ is unsatisfiable (i.e. no interpretation makes it true)\n",
    "\n",
    "Two formulas $F$ and $G$ are **equivalent** iff they evaluate to the same value (true or false) in every interpretation)."
   ]
  },
  {
   "cell_type": "markdown",
   "metadata": {},
   "source": [
    "## Setup\n",
    "\n",
    "This Python Jupyter notebook uses Z3, which is a high performance theorem prover developed at Microsoft Research. Z3 has been used in many applications, such as hardware/software verification, constraint solving and security.\n",
    "\n",
    "Z3 is a Satisfiability Modulo Theories (SMT) solver that checks whether a given logical formula $F$ is satisfiable.\n",
    "\n",
    "To use this notebook, run:\n",
    "\n",
    "```\n",
    "pip install z3-solver\n",
    "```"
   ]
  },
  {
   "cell_type": "code",
   "execution_count": 1,
   "metadata": {},
   "outputs": [],
   "source": [
    "import z3"
   ]
  },
  {
   "cell_type": "markdown",
   "metadata": {},
   "source": [
    "## Z3 examples"
   ]
  },
  {
   "cell_type": "markdown",
   "metadata": {},
   "source": [
    "### Calculator"
   ]
  },
  {
   "cell_type": "markdown",
   "metadata": {},
   "source": [
    "What is $z = 3 + 2$?"
   ]
  },
  {
   "cell_type": "code",
   "execution_count": 2,
   "metadata": {},
   "outputs": [
    {
     "name": "stdout",
     "output_type": "stream",
     "text": [
      "[z = 5, y = 3, x = 2]\n"
     ]
    }
   ],
   "source": [
    "x, y, z = z3.Ints(\"x y z\")\n",
    "z3.solve(x==2, y==3, z==x+y)"
   ]
  },
  {
   "cell_type": "markdown",
   "metadata": {},
   "source": [
    "If $x + 3 = 17$, what is $x$?"
   ]
  },
  {
   "cell_type": "code",
   "execution_count": 3,
   "metadata": {},
   "outputs": [
    {
     "name": "stdout",
     "output_type": "stream",
     "text": [
      "[x = 14]\n"
     ]
    }
   ],
   "source": [
    "x = z3.Int(\"x\")\n",
    "z3.solve(x + 3 == 17)"
   ]
  },
  {
   "cell_type": "markdown",
   "metadata": {},
   "source": [
    "### Exporting the expression in SMT-LIB format"
   ]
  },
  {
   "cell_type": "code",
   "execution_count": 4,
   "metadata": {},
   "outputs": [
    {
     "name": "stdout",
     "output_type": "stream",
     "text": [
      "(declare-fun x () Int)\n",
      "(declare-fun y () Int)\n",
      "(declare-fun z () Int)\n",
      "(assert (= x 2))\n",
      "(assert (= y 3))\n",
      "(assert (= z (+ x y)))\n",
      "\n"
     ]
    }
   ],
   "source": [
    "x, y, z = z3.Ints(\"x y z\")\n",
    "s = z3.Solver()\n",
    "s.add(x==2, y==3, z==x+y)\n",
    "print(s.sexpr())"
   ]
  },
  {
   "cell_type": "markdown",
   "metadata": {},
   "source": [
    "### Constraint satisfaction using Z3\n",
    "\n",
    "To solve the problem $x + 2 y = 7$ subject to $x > 2$ and $y < 10$ where $x, y \\in \\mathbb{Z}$:"
   ]
  },
  {
   "cell_type": "code",
   "execution_count": 5,
   "metadata": {},
   "outputs": [
    {
     "name": "stdout",
     "output_type": "stream",
     "text": [
      "[y = 0, x = 7]\n"
     ]
    }
   ],
   "source": [
    "x = z3.Int(\"x\")  # integer variable named 'x'\n",
    "y = z3.Int(\"y\")\n",
    "z3.solve(x>2, y<10, x+2*y==7)  # solve a system of constraints"
   ]
  },
  {
   "cell_type": "markdown",
   "metadata": {},
   "source": [
    "**Dog, cat, mouse problem**: A dog costs \\\\$15, a cat \\\\$1 and a mouse \\\\$0.25. Spend \\\\$100 to buy 100 animals, where each animal must be bought at least once."
   ]
  },
  {
   "cell_type": "code",
   "execution_count": 6,
   "metadata": {},
   "outputs": [
    {
     "name": "stdout",
     "output_type": "stream",
     "text": [
      "[mouse = 56, cat = 41, dog = 3]\n"
     ]
    }
   ],
   "source": [
    "dog, cat, mouse = z3.Ints('dog cat mouse')\n",
    "z3.solve(\n",
    "    dog >= 1,                               # at least one dog\n",
    "    cat >= 1,                               # at least one cat\n",
    "    mouse >= 1,                             # at least one mouse\n",
    "    dog + cat + mouse == 100,               # 100 animals\n",
    "    1500*dog + 100*cat + 25*mouse == 10000  # $100 = 10,000c spent\n",
    ")"
   ]
  },
  {
   "cell_type": "markdown",
   "metadata": {},
   "source": [
    "**XKCD 287** problem: How many of each appetizer should be chosen to bring the total to \\$15.05?"
   ]
  },
  {
   "cell_type": "markdown",
   "metadata": {},
   "source": [
    "![XKCD 287](https://imgs.xkcd.com/comics/np_complete.png)"
   ]
  },
  {
   "cell_type": "code",
   "execution_count": 7,
   "metadata": {},
   "outputs": [
    {
     "name": "stdout",
     "output_type": "stream",
     "text": [
      "[d = 0, b = 0, a = 7, f = 0, c = 0, e = 0]\n",
      "[c = 0, d = 2, e = 0, f = 1, b = 0, a = 1]\n"
     ]
    }
   ],
   "source": [
    "a,b,c,d,e,f = z3.Ints(\"a b c d e f\")\n",
    "s = z3.Solver()\n",
    "s.add(a >= 0)\n",
    "s.add(b >= 0)\n",
    "s.add(c >= 0)\n",
    "s.add(d >= 0)\n",
    "s.add(e >= 0)\n",
    "s.add(f >= 0)\n",
    "s.add(a*215 + b*275 + c*335 + d*355 + e*420 + f*580 == 1505)\n",
    "\n",
    "while s.check() == z3.sat:\n",
    "    \n",
    "    # Display the solution\n",
    "    m = s.model()\n",
    "    print(m)\n",
    "    \n",
    "    # Block the current solution and start again\n",
    "    s.add(z3.Not(z3.And(a == m[a], \n",
    "                        b == m[b],\n",
    "                        c == m[c],\n",
    "                        d == m[d],\n",
    "                        e == m[e],\n",
    "                        f == m[f] )))"
   ]
  },
  {
   "cell_type": "markdown",
   "metadata": {},
   "source": [
    "**Kinematics problem**: Suppose a vehicle is traveling at 30m/s and applies the brakes, decelerating at 8m/s, how far does it travel to a stop?"
   ]
  },
  {
   "cell_type": "code",
   "execution_count": 8,
   "metadata": {},
   "outputs": [
    {
     "name": "stdout",
     "output_type": "stream",
     "text": [
      "[a = -8, v__f = 0, v__i = 30, t = 15/4, d = 225/4]\n"
     ]
    }
   ],
   "source": [
    "d, a, t, v_i, v_f = z3.Reals('d a t v__i v__f')\n",
    "\n",
    "equations = [\n",
    "   d == v_i * t + (a*t**2)/2,\n",
    "   v_f == v_i + a*t,\n",
    "]\n",
    "\n",
    "problem = [\n",
    "    v_i == 30,\n",
    "    v_f == 0,\n",
    "    a == -8\n",
    "]\n",
    "\n",
    "z3.solve(equations + problem)"
   ]
  },
  {
   "cell_type": "markdown",
   "metadata": {},
   "source": [
    "Constraints can be added to the solver using the `add` method (the constraints are said to be **asserted** in the solver). The method `check` solves the asserted constraints. The result is `sat` (satisfiable) if a solution was found, otherwise `unsat` (unsatisfiable) if no solution exists."
   ]
  },
  {
   "cell_type": "code",
   "execution_count": 9,
   "metadata": {},
   "outputs": [
    {
     "data": {
      "text/html": [
       "225/4"
      ],
      "text/plain": [
       "225/4"
      ]
     },
     "execution_count": 9,
     "metadata": {},
     "output_type": "execute_result"
    }
   ],
   "source": [
    "s = z3.Solver()\n",
    "s.add(equations)  # add constraints\n",
    "s.add(problem)\n",
    "s.check()         # find a solution\n",
    "s.model()[d]"
   ]
  },
  {
   "cell_type": "code",
   "execution_count": 10,
   "metadata": {},
   "outputs": [
    {
     "data": {
      "text/plain": [
       "(:eliminated-vars 5\n",
       " :max-memory      21.47\n",
       " :memory          18.96\n",
       " :num-allocs      42682459\n",
       " :rlimit-count    29452\n",
       " :time            0.01)"
      ]
     },
     "execution_count": 10,
     "metadata": {},
     "output_type": "execute_result"
    }
   ],
   "source": [
    "s.statistics()"
   ]
  },
  {
   "cell_type": "markdown",
   "metadata": {},
   "source": [
    "### Formula / expression simplification"
   ]
  },
  {
   "cell_type": "markdown",
   "metadata": {},
   "source": [
    "Simplify $x + y + 2x + 3$:"
   ]
  },
  {
   "cell_type": "code",
   "execution_count": 11,
   "metadata": {},
   "outputs": [
    {
     "data": {
      "text/html": [
       "3 + 3&middot;x + y"
      ],
      "text/plain": [
       "3 + 3*x + y"
      ]
     },
     "execution_count": 11,
     "metadata": {},
     "output_type": "execute_result"
    }
   ],
   "source": [
    "x = z3.Int(\"x\")\n",
    "y = z3.Int(\"y\")\n",
    "z3.simplify(x + y + 2*x + 3)"
   ]
  },
  {
   "cell_type": "markdown",
   "metadata": {},
   "source": [
    "Simplify $x < y + x + 2$:"
   ]
  },
  {
   "cell_type": "code",
   "execution_count": 12,
   "metadata": {},
   "outputs": [
    {
     "data": {
      "text/html": [
       "&not;(y &le; -2)"
      ],
      "text/plain": [
       "Not(y <= -2)"
      ]
     },
     "execution_count": 12,
     "metadata": {},
     "output_type": "execute_result"
    }
   ],
   "source": [
    "z3.simplify(x < y + x + 2)"
   ]
  },
  {
   "cell_type": "markdown",
   "metadata": {},
   "source": [
    "$$\n",
    "x < y + x + 2 \\\\\n",
    "\\implies 0 < y + 2 \\\\\n",
    "\\implies y > -2 \\\\\\implies \\neg (y \\leq 2)\n",
    "$$"
   ]
  },
  {
   "cell_type": "code",
   "execution_count": 13,
   "metadata": {},
   "outputs": [
    {
     "data": {
      "text/html": [
       "x &ge; 2 &and; 2&middot;x<sup>2</sup> + y<sup>2</sup> &ge; 3"
      ],
      "text/plain": [
       "And(x >= 2, 2*x**2 + y**2 >= 3)"
      ]
     },
     "execution_count": 13,
     "metadata": {},
     "output_type": "execute_result"
    }
   ],
   "source": [
    "z3.simplify(z3.And(x + 1 >= 3, x**2 + x**2 + y**2 + 2 >= 5))"
   ]
  },
  {
   "cell_type": "markdown",
   "metadata": {},
   "source": [
    "### Non-linear polynomial constraints"
   ]
  },
  {
   "cell_type": "markdown",
   "metadata": {},
   "source": [
    "Solve \n",
    "\n",
    "$$\n",
    "x^2 + y^2 > 3 \\\\\n",
    "x^3 + y < 5 \\\\\n",
    "\\text{subject to } x,y \\in \\mathbb{R}\n",
    "$$"
   ]
  },
  {
   "cell_type": "code",
   "execution_count": 14,
   "metadata": {},
   "outputs": [
    {
     "name": "stdout",
     "output_type": "stream",
     "text": [
      "[y = 2, x = 1/8]\n"
     ]
    }
   ],
   "source": [
    "x = z3.Real('x')  # create a real variable\n",
    "y = z3.Real('y')\n",
    "z3.solve(x**2 + y**2 > 3, x**3 + y < 5)"
   ]
  },
  {
   "cell_type": "markdown",
   "metadata": {},
   "source": [
    "### Rational numbers"
   ]
  },
  {
   "cell_type": "code",
   "execution_count": 15,
   "metadata": {},
   "outputs": [
    {
     "data": {
      "text/html": [
       "1/3"
      ],
      "text/plain": [
       "1/3"
      ]
     },
     "execution_count": 15,
     "metadata": {},
     "output_type": "execute_result"
    }
   ],
   "source": [
    "z3.Q(1,3)"
   ]
  },
  {
   "cell_type": "code",
   "execution_count": 16,
   "metadata": {},
   "outputs": [
    {
     "data": {
      "text/html": [
       "x + 1/3"
      ],
      "text/plain": [
       "x + 1/3"
      ]
     },
     "execution_count": 16,
     "metadata": {},
     "output_type": "execute_result"
    }
   ],
   "source": [
    "x + z3.Q(1,3)"
   ]
  },
  {
   "cell_type": "markdown",
   "metadata": {},
   "source": [
    "### Unsatisfiable system of constraints"
   ]
  },
  {
   "cell_type": "markdown",
   "metadata": {},
   "source": [
    "If the system of constraints if unsatisfiable, `no solution` is returned by the solver."
   ]
  },
  {
   "cell_type": "code",
   "execution_count": 17,
   "metadata": {},
   "outputs": [
    {
     "name": "stdout",
     "output_type": "stream",
     "text": [
      "no solution\n"
     ]
    }
   ],
   "source": [
    "x = z3.Real('x')\n",
    "z3.solve(x > 4, x < 0)"
   ]
  },
  {
   "cell_type": "markdown",
   "metadata": {},
   "source": [
    "### Boolean logic"
   ]
  },
  {
   "cell_type": "code",
   "execution_count": 18,
   "metadata": {},
   "outputs": [],
   "source": [
    "p = z3.Bool('p')\n",
    "q = z3.Bool('q')"
   ]
  },
  {
   "cell_type": "code",
   "execution_count": 19,
   "metadata": {},
   "outputs": [
    {
     "data": {
      "text/html": [
       "&not;p"
      ],
      "text/plain": [
       "Not(p)"
      ]
     },
     "execution_count": 19,
     "metadata": {},
     "output_type": "execute_result"
    }
   ],
   "source": [
    "z3.Not(p)"
   ]
  },
  {
   "cell_type": "code",
   "execution_count": 20,
   "metadata": {},
   "outputs": [
    {
     "data": {
      "text/html": [
       "p &and; q"
      ],
      "text/plain": [
       "And(p, q)"
      ]
     },
     "execution_count": 20,
     "metadata": {},
     "output_type": "execute_result"
    }
   ],
   "source": [
    "z3.And(p,q)"
   ]
  },
  {
   "cell_type": "code",
   "execution_count": 21,
   "metadata": {},
   "outputs": [
    {
     "name": "stdout",
     "output_type": "stream",
     "text": [
      "[p = True, q = True]\n"
     ]
    }
   ],
   "source": [
    "z3.solve(z3.And(p,q))"
   ]
  },
  {
   "cell_type": "code",
   "execution_count": 22,
   "metadata": {},
   "outputs": [
    {
     "data": {
      "text/html": [
       "p &or; q"
      ],
      "text/plain": [
       "Or(p, q)"
      ]
     },
     "execution_count": 22,
     "metadata": {},
     "output_type": "execute_result"
    }
   ],
   "source": [
    "z3.Or(p,q)"
   ]
  },
  {
   "cell_type": "code",
   "execution_count": 23,
   "metadata": {},
   "outputs": [
    {
     "name": "stdout",
     "output_type": "stream",
     "text": [
      "[p = True, q = False]\n"
     ]
    }
   ],
   "source": [
    "z3.solve(z3.Or(p,q))"
   ]
  },
  {
   "cell_type": "markdown",
   "metadata": {},
   "source": [
    "Note how Z3 only finds one solution."
   ]
  },
  {
   "cell_type": "code",
   "execution_count": 24,
   "metadata": {},
   "outputs": [
    {
     "name": "stdout",
     "output_type": "stream",
     "text": [
      "[p = False, q = True, r = False]\n"
     ]
    }
   ],
   "source": [
    "r = z3.Bool('r')\n",
    "z3.solve(z3.Implies(p, q), r == z3.Not(q), z3.Or(z3.Not(p), r))"
   ]
  },
  {
   "cell_type": "markdown",
   "metadata": {},
   "source": [
    "Simplify $p \\land q \\land \\text{True}$:"
   ]
  },
  {
   "cell_type": "code",
   "execution_count": 25,
   "metadata": {},
   "outputs": [
    {
     "data": {
      "text/html": [
       "p &and; q"
      ],
      "text/plain": [
       "And(p, q)"
      ]
     },
     "execution_count": 25,
     "metadata": {},
     "output_type": "execute_result"
    }
   ],
   "source": [
    "z3.simplify(z3.And(p, q, True))"
   ]
  },
  {
   "cell_type": "markdown",
   "metadata": {},
   "source": [
    "Simplify $p \\lor q \\lor \\text{True}$:"
   ]
  },
  {
   "cell_type": "code",
   "execution_count": 26,
   "metadata": {},
   "outputs": [
    {
     "data": {
      "text/html": [
       "True"
      ],
      "text/plain": [
       "True"
      ]
     },
     "execution_count": 26,
     "metadata": {},
     "output_type": "execute_result"
    }
   ],
   "source": [
    "z3.simplify(z3.Or(p, q, True))"
   ]
  },
  {
   "cell_type": "markdown",
   "metadata": {},
   "source": [
    "Solve $p \\lor q \\to q$"
   ]
  },
  {
   "cell_type": "code",
   "execution_count": 27,
   "metadata": {},
   "outputs": [
    {
     "name": "stdout",
     "output_type": "stream",
     "text": [
      "[p = False, q = False]\n"
     ]
    }
   ],
   "source": [
    "p, q = z3.Bools('p q')\n",
    "z3.solve(z3.Implies(z3.Or(p,q), q))"
   ]
  },
  {
   "cell_type": "markdown",
   "metadata": {},
   "source": [
    "Is $p \\lor q \\to q$ valid?"
   ]
  },
  {
   "cell_type": "code",
   "execution_count": 28,
   "metadata": {},
   "outputs": [
    {
     "name": "stdout",
     "output_type": "stream",
     "text": [
      "[p = True, q = False]\n"
     ]
    }
   ],
   "source": [
    "z3.solve(z3.Not(z3.Implies(z3.Or(p,q), q)))"
   ]
  },
  {
   "cell_type": "markdown",
   "metadata": {},
   "source": [
    "As its negation is satisfiable, it is not valid. A propositional logic formula is valid iff its negation is unsatisfiable."
   ]
  },
  {
   "cell_type": "markdown",
   "metadata": {},
   "source": [
    "Is $p \\land \\neg q \\land (\\neg p \\lor q)$ satisfiable?"
   ]
  },
  {
   "cell_type": "code",
   "execution_count": 29,
   "metadata": {},
   "outputs": [
    {
     "data": {
      "text/html": [
       "p &and; &not;q &and; (&not;p &or; q)"
      ],
      "text/plain": [
       "And(p, Not(q), Or(Not(p), q))"
      ]
     },
     "execution_count": 29,
     "metadata": {},
     "output_type": "execute_result"
    }
   ],
   "source": [
    "p, q = z3.Bools('p q')\n",
    "z3.And(p, z3.Not(q), z3.Or(z3.Not(p), q))"
   ]
  },
  {
   "cell_type": "code",
   "execution_count": 30,
   "metadata": {},
   "outputs": [
    {
     "name": "stdout",
     "output_type": "stream",
     "text": [
      "no solution\n"
     ]
    }
   ],
   "source": [
    "z3.solve(z3.And(p, z3.Not(q), z3.Or(z3.Not(p), q)))"
   ]
  },
  {
   "cell_type": "markdown",
   "metadata": {},
   "source": [
    "As there is no solution, then $p \\land \\neg q \\land (\\neg p \\lor q)$ is unsatisfiable."
   ]
  },
  {
   "cell_type": "markdown",
   "metadata": {},
   "source": [
    "### Polynomial and Boolean constraints"
   ]
  },
  {
   "cell_type": "markdown",
   "metadata": {},
   "source": [
    "Solve\n",
    "\n",
    "$$\n",
    "x < 5 \\lor x > 10 \\\\\n",
    "p \\lor x^2 == 2 \\\\\n",
    "\\neg p\n",
    "$$"
   ]
  },
  {
   "cell_type": "code",
   "execution_count": 31,
   "metadata": {},
   "outputs": [
    {
     "name": "stdout",
     "output_type": "stream",
     "text": [
      "[x = -1.4142135623?, p = False]\n"
     ]
    }
   ],
   "source": [
    "p = z3.Bool('p')\n",
    "x = z3.Real('x')\n",
    "z3.solve(z3.Or(x < 5, x > 10), z3.Or(p, x**2 == 2), z3.Not(p))"
   ]
  },
  {
   "cell_type": "markdown",
   "metadata": {},
   "source": [
    "### Functions"
   ]
  },
  {
   "cell_type": "markdown",
   "metadata": {},
   "source": [
    "Functions in Z3 have no side effects and are **total** (i.e. defined over all input values)."
   ]
  },
  {
   "cell_type": "code",
   "execution_count": 32,
   "metadata": {},
   "outputs": [],
   "source": [
    "x = z3.Int('x')\n",
    "y = z3.Int('y')\n",
    "f = z3.Function('f', z3.IntSort(), z3.IntSort())"
   ]
  },
  {
   "cell_type": "markdown",
   "metadata": {},
   "source": [
    "Function $f$ applied twice to $x$ results in $x$, but $f$ applied once is different to $x$: "
   ]
  },
  {
   "cell_type": "code",
   "execution_count": 33,
   "metadata": {},
   "outputs": [
    {
     "name": "stdout",
     "output_type": "stream",
     "text": [
      "[x = 0, y = 1, f = [1 -> 0, else -> 1]]\n"
     ]
    }
   ],
   "source": [
    "z3.solve(f(f(x)) == x, f(x) == y, x != y)"
   ]
  },
  {
   "cell_type": "markdown",
   "metadata": {},
   "source": [
    "The above means $f(0) = 1$ and $f(1) = 0$ and $f(a) = 1$ where $a \\neq 0 \\land a \\neq 1$."
   ]
  },
  {
   "cell_type": "markdown",
   "metadata": {},
   "source": [
    "### Satisfiability and validity"
   ]
  },
  {
   "cell_type": "markdown",
   "metadata": {},
   "source": [
    "* **Validity** \n",
    "    - finding a proof of a statement\n",
    "    - a formula $F$ is a valid if $F$ always evaluates to true for any assignment of uniterpreted symbols\n",
    "    - consider a formula $F$ containing $a$ and $b$. $F$ is deemed valid if it is always true for any combination of values of $a$ and $b$. \n",
    "    \n",
    "* **Satisfiable** \n",
    "    - finding a solution to a set of constraints\n",
    "    - a formula $F$ is satisfiable if there is some assignment of values of uninterpreted symbols under which $F$ evaluates to true"
   ]
  },
  {
   "cell_type": "code",
   "execution_count": 34,
   "metadata": {},
   "outputs": [
    {
     "data": {
      "text/html": [
       "(p &and; q) = &not;(&not;p &or; &not;q)"
      ],
      "text/plain": [
       "And(p, q) == Not(Or(Not(p), Not(q)))"
      ]
     },
     "execution_count": 34,
     "metadata": {},
     "output_type": "execute_result"
    }
   ],
   "source": [
    "p, q = z3.Bools('p q')  # define two Booleans in one step\n",
    "demorgan = z3.And(p, q) == z3.Not(z3.Or(z3.Not(p), z3.Not(q)))\n",
    "demorgan"
   ]
  },
  {
   "cell_type": "code",
   "execution_count": 35,
   "metadata": {},
   "outputs": [],
   "source": [
    "def prove(f):\n",
    "    s = z3.Solver()\n",
    "    s.add(z3.Not(f))  # note the NOT\n",
    "    if s.check() == z3.unsat:\n",
    "        print(\"proved\")\n",
    "    else:\n",
    "        print(\"failed to prove\")"
   ]
  },
  {
   "cell_type": "code",
   "execution_count": 36,
   "metadata": {},
   "outputs": [
    {
     "name": "stdout",
     "output_type": "stream",
     "text": [
      "proved\n"
     ]
    }
   ],
   "source": [
    "prove(demorgan)"
   ]
  },
  {
   "cell_type": "markdown",
   "metadata": {},
   "source": [
    "### Expressions, sorts and declarations"
   ]
  },
  {
   "cell_type": "markdown",
   "metadata": {},
   "source": [
    "Every expression has a **sort** (type)."
   ]
  },
  {
   "cell_type": "code",
   "execution_count": 37,
   "metadata": {},
   "outputs": [
    {
     "name": "stdout",
     "output_type": "stream",
     "text": [
      "Int\n",
      "Int\n",
      "Bool\n"
     ]
    }
   ],
   "source": [
    "x = z3.Int(\"x\")\n",
    "print(x.sort())\n",
    "print((x+1).sort())\n",
    "print((x >= 1).sort())"
   ]
  },
  {
   "cell_type": "markdown",
   "metadata": {},
   "source": [
    "### Arrays"
   ]
  },
  {
   "cell_type": "markdown",
   "metadata": {},
   "source": [
    "Arrays appear to have more similiarity to Python dicts than to lists."
   ]
  },
  {
   "cell_type": "code",
   "execution_count": 38,
   "metadata": {},
   "outputs": [
    {
     "data": {
      "text/html": [
       "A[x]"
      ],
      "text/plain": [
       "A[x]"
      ]
     },
     "execution_count": 38,
     "metadata": {},
     "output_type": "execute_result"
    }
   ],
   "source": [
    "# Array from integer to integer\n",
    "A = z3.Array('A', z3.IntSort(), z3.IntSort())\n",
    "x = z3.Int('x')\n",
    "A[x]"
   ]
  },
  {
   "cell_type": "code",
   "execution_count": 39,
   "metadata": {},
   "outputs": [
    {
     "data": {
      "text/html": [
       "A[x]"
      ],
      "text/plain": [
       "A[x]"
      ]
     },
     "execution_count": 39,
     "metadata": {},
     "output_type": "execute_result"
    }
   ],
   "source": [
    "z3.Select(A, x)  # same as A[x]"
   ]
  },
  {
   "cell_type": "code",
   "execution_count": 40,
   "metadata": {},
   "outputs": [
    {
     "data": {
      "text/html": [
       "Store(A, x, 10)"
      ],
      "text/plain": [
       "Store(A, x, 10)"
      ]
     },
     "execution_count": 40,
     "metadata": {},
     "output_type": "execute_result"
    }
   ],
   "source": [
    "z3.Store(A, x, 10)"
   ]
  },
  {
   "cell_type": "code",
   "execution_count": 41,
   "metadata": {},
   "outputs": [
    {
     "data": {
      "text/html": [
       "A[x]"
      ],
      "text/plain": [
       "A[x]"
      ]
     },
     "execution_count": 41,
     "metadata": {},
     "output_type": "execute_result"
    }
   ],
   "source": [
    "A[x]"
   ]
  },
  {
   "cell_type": "markdown",
   "metadata": {},
   "source": [
    "### Quantifiers"
   ]
  },
  {
   "cell_type": "markdown",
   "metadata": {},
   "source": [
    "Z3 can solve quantifier-free problems containing arithmetic, bit-vectors, Booleans, arrays, functions and datatypes."
   ]
  },
  {
   "cell_type": "code",
   "execution_count": 42,
   "metadata": {},
   "outputs": [
    {
     "data": {
      "text/html": [
       "&forall;x, y : f(x, y) = 0"
      ],
      "text/plain": [
       "ForAll([x, y], f(x, y) == 0)"
      ]
     },
     "execution_count": 42,
     "metadata": {},
     "output_type": "execute_result"
    }
   ],
   "source": [
    "f = z3.Function('f', z3.IntSort(), z3.IntSort(), z3.IntSort())\n",
    "x, y = z3.Ints('x y')\n",
    "z3.ForAll([x, y], f(x,y) == 0)"
   ]
  },
  {
   "cell_type": "code",
   "execution_count": 43,
   "metadata": {},
   "outputs": [
    {
     "data": {
      "text/html": [
       "&exist;x : f(x, x) &ge; 0"
      ],
      "text/plain": [
       "Exists(x, f(x, x) >= 0)"
      ]
     },
     "execution_count": 43,
     "metadata": {},
     "output_type": "execute_result"
    }
   ],
   "source": [
    "z3.Exists(x, f(x, x) >= 0)"
   ]
  },
  {
   "cell_type": "code",
   "execution_count": 44,
   "metadata": {},
   "outputs": [
    {
     "name": "stdout",
     "output_type": "stream",
     "text": [
      "[b = 2, a = 0, f = [(0, 2) -> 1, else -> 0]]\n"
     ]
    }
   ],
   "source": [
    "a, b = z3.Ints('a b')\n",
    "z3.solve(z3.ForAll(x, f(x,x) == 0), f(a,b) == 1)"
   ]
  },
  {
   "cell_type": "markdown",
   "metadata": {},
   "source": [
    "**Model an object-orientated system with single inheritance**:\n",
    "\n",
    "The predicate for sub-typing is defined as $\\text{subtype}(x,y)$, which means that $x$ is a sub-type of $y$.\n",
    "\n",
    "Type $x$ is a sub-type of itself:\n",
    "\n",
    "$$\n",
    "\\forall x: \\text{subtype}(x,x)\n",
    "$$\n",
    "\n",
    "If $x$ is a sub-type of $y$ and $y$ is a sub-type of $z$ then $x$ is a sub-type of $z$:\n",
    "\n",
    "$$\n",
    "\\forall x,y: \\text{subtype}(x,y) \\land \\text{subtype}(y,z) \\to \\text{subtype}(x,z)\n",
    "$$\n",
    "\n",
    "If $x$ is a sub-type of $y$ and $y$ is a sub-type of $x$ then $x = y$:\n",
    "\n",
    "$$\n",
    "\\forall x,y: \\text{subtype}(x,y) \\land \\text{subtype}(y,x) \\to x = y\n",
    "$$\n",
    "\n",
    "If $x$ is a sub-type of $y$ and $x$ is a sub-type of $z$ then either $y$ is a sub-type of $z$ or $z$ is a sub-type of $y$:\n",
    "\n",
    "$$\n",
    "\\forall x,y,z: \\text{subtype}(x,y) \\land \\text{subtype}(x,z) \\to \\text{subtype}(y,z) \\lor \\text{subtype}(z,y)\n",
    "$$\n",
    "\n",
    "All types $x$ are a sub-type of a root type:\n",
    "\n",
    "$$\n",
    "\\forall x: \\text{subtype}(x, \\text{root})\n",
    "$$"
   ]
  },
  {
   "cell_type": "code",
   "execution_count": 46,
   "metadata": {},
   "outputs": [],
   "source": [
    "Type = z3.DeclareSort('Type')\n",
    "subtype = z3.Function('subtype', Type, Type, z3.BoolSort())\n",
    "root = z3.Const('root', Type)\n",
    "x, y, z = z3.Consts('x y z', Type)"
   ]
  },
  {
   "cell_type": "code",
   "execution_count": 47,
   "metadata": {},
   "outputs": [
    {
     "data": {
      "text/html": [
       "Type"
      ],
      "text/plain": [
       "Type"
      ]
     },
     "execution_count": 47,
     "metadata": {},
     "output_type": "execute_result"
    }
   ],
   "source": [
    "x.sort()"
   ]
  },
  {
   "cell_type": "code",
   "execution_count": 54,
   "metadata": {},
   "outputs": [
    {
     "data": {
      "text/html": [
       "<b>sat</b>"
      ],
      "text/plain": [
       "sat"
      ]
     },
     "execution_count": 54,
     "metadata": {},
     "output_type": "execute_result"
    }
   ],
   "source": [
    "axioms = [\n",
    "    z3.ForAll(x, subtype(x, x)),\n",
    "    z3.ForAll([x,y,z], z3.Implies(\n",
    "        z3.And(subtype(x,y), subtype(y,z)),  # subtype(𝑥,𝑦) ∧ subtype(𝑦,𝑧)\n",
    "        subtype(x, z)\n",
    "    )),\n",
    "    z3.ForAll([x,y], z3.Implies(\n",
    "        z3.And(subtype(x,y), subtype(y,z)),  # subtype(𝑥,𝑦) ∧ subtype(𝑦,𝑥)\n",
    "        x == y\n",
    "    )),\n",
    "    z3.ForAll([x,y,z], z3.Implies(\n",
    "        z3.And(subtype(x,y), subtype(x,z)),  # subtype(𝑥,𝑦) ∧ subtype(𝑥,𝑧)\n",
    "        z3.Or(subtype(y,z), subtype(z,y))    # subtype(𝑦,𝑧) ∨ subtype(𝑧,𝑦)\n",
    "    )),\n",
    "    z3.ForAll(x, subtype(root, x))\n",
    "]\n",
    "\n",
    "s = z3.Solver()\n",
    "s.add(axioms)\n",
    "s.check()"
   ]
  },
  {
   "cell_type": "code",
   "execution_count": 55,
   "metadata": {},
   "outputs": [
    {
     "data": {
      "text/html": [
       "<b>sat</b>"
      ],
      "text/plain": [
       "sat"
      ]
     },
     "execution_count": 55,
     "metadata": {},
     "output_type": "execute_result"
    }
   ],
   "source": [
    "# Define a specific case\n",
    "animal, cat = z3.Consts('animal cat', Type)\n",
    "domain = [\n",
    "    subtype(cat, animal)\n",
    "]\n",
    "\n",
    "s = z3.Solver()\n",
    "s.add(axioms + domain)\n",
    "s.check()"
   ]
  },
  {
   "cell_type": "code",
   "execution_count": 57,
   "metadata": {},
   "outputs": [
    {
     "data": {
      "text/html": [
       "<b>sat</b>"
      ],
      "text/plain": [
       "sat"
      ]
     },
     "execution_count": 57,
     "metadata": {},
     "output_type": "execute_result"
    }
   ],
   "source": [
    "animal, cat, dog = z3.Consts('animal cat dog', Type)\n",
    "domain = [\n",
    "    subtype(cat, animal),\n",
    "    subtype(dog, animl)\n",
    "]\n",
    "\n",
    "s = z3.Solver()\n",
    "s.add(axioms + domain)\n",
    "s.check()"
   ]
  },
  {
   "cell_type": "markdown",
   "metadata": {},
   "source": [
    "## Propositional logic"
   ]
  },
  {
   "cell_type": "code",
   "execution_count": null,
   "metadata": {},
   "outputs": [],
   "source": []
  },
  {
   "cell_type": "markdown",
   "metadata": {},
   "source": [
    "**Truth tables** are useful for showing the effect of operators and for determining equivalences. All of the possible combinations of input variables are listed in the table. If there $n$ variables, there will be $2^n$ rows, thus the table grows exponentially in the number of variables."
   ]
  },
  {
   "cell_type": "markdown",
   "metadata": {},
   "source": [
    "### Logical NOT"
   ]
  },
  {
   "cell_type": "markdown",
   "metadata": {},
   "source": [
    "The logical NOT operation is represented as $\\neg$ and its truth table is shown below. The operation can only be performed on one variable.\n",
    "\n",
    "| $p$  | $\\neg p$   |\n",
    "|------|------------|\n",
    "| $0$  |     $1$    |\n",
    "| $1$  |     $0$    |\n",
    "\n"
   ]
  },
  {
   "cell_type": "markdown",
   "metadata": {},
   "source": [
    "### Logical AND"
   ]
  },
  {
   "cell_type": "markdown",
   "metadata": {},
   "source": [
    "The logical AND operator is represented as $\\land$. Two or more variables are required and the result will only be true if both variables are true.\n",
    "\n",
    "| $p$   | $q$   | $p \\land q$   |\n",
    "|-------|-------|---------------|\n",
    "|  $0$  |  $0$  |      $0$      |\n",
    "|  $0$  |  $1$  |      $0$      |\n",
    "|  $1$  |  $0$  |      $0$      |\n",
    "|  $1$  |  $1$  |      $1$      |"
   ]
  },
  {
   "cell_type": "markdown",
   "metadata": {},
   "source": [
    "### Logical OR"
   ]
  },
  {
   "cell_type": "markdown",
   "metadata": {},
   "source": [
    "The logical OR operator is represented as $\\lor$. Two or more variables are required and the operator returns true if one of more variables are true.\n",
    "\n",
    "| $p$   | $q$   | $p \\lor q$    |\n",
    "|-------|-------|---------------|\n",
    "|  $0$  |  $0$  |      $0$      |\n",
    "|  $0$  |  $1$  |      $1$      |\n",
    "|  $1$  |  $0$  |      $1$      |\n",
    "|  $1$  |  $1$  |      $1$      |"
   ]
  },
  {
   "cell_type": "markdown",
   "metadata": {},
   "source": [
    "### Logical implication"
   ]
  },
  {
   "cell_type": "markdown",
   "metadata": {},
   "source": [
    "Logical implication is represented as $\\to$.\n",
    "\n",
    "| $p$   | $q$   | $p \\to q$     |\n",
    "|-------|-------|---------------|\n",
    "|  $0$  |  $0$  |      $1$      |\n",
    "|  $0$  |  $1$  |      $1$      |\n",
    "|  $1$  |  $0$  |      $0$      |\n",
    "|  $1$  |  $1$  |      $1$      |\n",
    "\n",
    "Consider $p \\to q$. The operator returns true if the initial condition $p$ is false, regardless of the value of $q$.\n",
    "\n",
    "$p \\to q$ is equivalent to $\\neg p \\lor q$, as can be shown by the truth table:\n",
    "\n",
    "| $p$   | $q$   | $\\neg p$ | $\\neg p \\lor q$     | $p \\to q$     |\n",
    "|-------|-------|----------|---------------------|---------------|\n",
    "|  $0$  |  $0$  | $1$      |      $1$            |      $1$      |\n",
    "|  $0$  |  $1$  | $1$      |      $1$            |      $1$      |\n",
    "|  $1$  |  $0$  | $0$      |      $0$            |      $0$      |\n",
    "|  $1$  |  $1$  | $0$      |      $1$            |      $1$      |"
   ]
  },
  {
   "cell_type": "markdown",
   "metadata": {},
   "source": [
    "### Logical equivalence"
   ]
  },
  {
   "cell_type": "markdown",
   "metadata": {},
   "source": [
    "Logical equivalence is represented as $\\leftrightarrow$. The operator returns true if both variables have the same value.\n",
    "\n",
    "| $p$   | $q$   | $p \\leftrightarrow q$     |\n",
    "|-------|-------|---------------------------|\n",
    "|  $0$  |  $0$  |      $1$                  |\n",
    "|  $0$  |  $1$  |      $0$                  |\n",
    "|  $1$  |  $0$  |      $0$                  |\n",
    "|  $1$  |  $1$  |      $1$                  |"
   ]
  },
  {
   "cell_type": "markdown",
   "metadata": {},
   "source": [
    "### Tautology\n",
    "\n",
    "A tautology is when all values are true.\n",
    "\n",
    "$p \\leftrightarrow \\neg \\neg p$ is a tautology.\n",
    "\n",
    "| $p$   | $\\neg \\neg p$   | $p \\leftrightarrow \\neg \\neg p$     |\n",
    "|-------|-------|---------------------------|\n",
    "|  $0$  |  $0$  |      $1$                  |\n",
    "|  $0$  |  $0$  |      $1$                  |\n",
    "|  $1$  |  $1$  |      $1$                  |\n",
    "|  $1$  |  $1$  |      $1$                  |"
   ]
  },
  {
   "cell_type": "markdown",
   "metadata": {},
   "source": [
    "## First order logic"
   ]
  },
  {
   "cell_type": "markdown",
   "metadata": {},
   "source": [
    "### Male or female example"
   ]
  },
  {
   "cell_type": "code",
   "execution_count": 143,
   "metadata": {},
   "outputs": [
    {
     "data": {
      "text/html": [
       "<b>sat</b>"
      ],
      "text/plain": [
       "sat"
      ]
     },
     "execution_count": 143,
     "metadata": {},
     "output_type": "execute_result"
    }
   ],
   "source": [
    "NameSort = z3.DeclareSort('NameSort')\n",
    "male = z3.Function('male', NameSort, z3.BoolSort())\n",
    "female = z3.Function('female', NameSort, z3.BoolSort())\n",
    "chris = z3.Const('chris', NameSort)\n",
    "\n",
    "x, y, z = z3.Consts('x y z', NameSort)\n",
    "\n",
    "s = z3.Solver()\n",
    "s.add(z3.ForAll(x, z3.Xor(male(x), female(x))))\n",
    "s.add(male(chris))\n",
    "s.check()"
   ]
  },
  {
   "cell_type": "code",
   "execution_count": 144,
   "metadata": {},
   "outputs": [
    {
     "name": "stdout",
     "output_type": "stream",
     "text": [
      "unsat\n"
     ]
    }
   ],
   "source": [
    "s.add(female(chris))\n",
    "print(s.check())\n",
    "#s.model()"
   ]
  },
  {
   "cell_type": "code",
   "execution_count": null,
   "metadata": {},
   "outputs": [],
   "source": []
  },
  {
   "cell_type": "code",
   "execution_count": null,
   "metadata": {},
   "outputs": [],
   "source": []
  },
  {
   "cell_type": "markdown",
   "metadata": {},
   "source": [
    "### Backward chaining\n",
    "\n",
    "A backward chaining algorithm starts from the goal and uses the rules to find facts that support the goal."
   ]
  },
  {
   "cell_type": "code",
   "execution_count": null,
   "metadata": {},
   "outputs": [],
   "source": []
  },
  {
   "cell_type": "code",
   "execution_count": null,
   "metadata": {},
   "outputs": [],
   "source": []
  },
  {
   "cell_type": "code",
   "execution_count": null,
   "metadata": {},
   "outputs": [],
   "source": []
  },
  {
   "cell_type": "code",
   "execution_count": null,
   "metadata": {},
   "outputs": [],
   "source": []
  },
  {
   "cell_type": "code",
   "execution_count": null,
   "metadata": {},
   "outputs": [],
   "source": []
  },
  {
   "cell_type": "code",
   "execution_count": null,
   "metadata": {},
   "outputs": [],
   "source": []
  },
  {
   "cell_type": "code",
   "execution_count": null,
   "metadata": {},
   "outputs": [],
   "source": []
  },
  {
   "cell_type": "code",
   "execution_count": null,
   "metadata": {},
   "outputs": [],
   "source": []
  },
  {
   "cell_type": "markdown",
   "metadata": {},
   "source": [
    "## Bibliography\n",
    "\n",
    "z3:\n",
    "\n",
    "https://ericpony.github.io/z3py-tutorial/guide-examples.htm\n",
    "\n",
    "https://sat-smt.codes/SAT_SMT_by_example.pdf\n",
    "\n",
    "https://ericpony.github.io/z3py-tutorial/advanced-examples.htm"
   ]
  },
  {
   "cell_type": "code",
   "execution_count": null,
   "metadata": {},
   "outputs": [],
   "source": []
  }
 ],
 "metadata": {
  "kernelspec": {
   "display_name": "Python 3",
   "language": "python",
   "name": "python3"
  },
  "language_info": {
   "codemirror_mode": {
    "name": "ipython",
    "version": 3
   },
   "file_extension": ".py",
   "mimetype": "text/x-python",
   "name": "python",
   "nbconvert_exporter": "python",
   "pygments_lexer": "ipython3",
   "version": "3.8.7"
  }
 },
 "nbformat": 4,
 "nbformat_minor": 4
}
