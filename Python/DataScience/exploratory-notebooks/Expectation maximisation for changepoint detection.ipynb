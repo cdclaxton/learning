{
 "cells": [
  {
   "cell_type": "markdown",
   "metadata": {},
   "source": [
    "# Expectation maximisation for changepoint detection"
   ]
  },
  {
   "cell_type": "markdown",
   "metadata": {},
   "source": [
    "Consider time series data where each sample is drawn from one of two normal distributions based on its time index. A changepoint exists within the data and the mean and standard deviations of the two distributions are different.\n",
    "\n",
    "$N$ samples are drawn and the samples $x_i$ where $0 \\le i < N$ are assumed to be IID. \n",
    "\n",
    "The likelihood of the data is given by:\n",
    "\n",
    "$$\n",
    "L(\\theta; x) = \\prod_{i=1}^N p(x_i | \\theta)\n",
    "$$\n",
    "\n",
    "There is a changepoint at index $k$. The probability of a given sample $x_i$ is given by\n",
    "\n",
    "$$ p(x_i | \\theta) =   \\left\\{\n",
    "\\begin{array}{ll}\n",
    "      p(x_i | \\mu_0, \\sigma_0) & i < k \\\\\n",
    "      p(x_i | \\mu_1, \\sigma_1) & i \\ge k \\\\\n",
    "\\end{array} \n",
    "\\right.  \n",
    "$$\n",
    "\n",
    "The log-likelihood is given by\n",
    "\n",
    "$$\n",
    "\\log L(\\theta; x) = \\sum_{i=1}^N \\log p(x_i | \\theta)\n",
    "$$\n",
    "\n",
    "The algorithm for determining the parameters of the normal distributions $\\{\\mu_0, \\sigma_0, \\mu_1, \\sigma_1\\}$ and the changepoint $k$ involves two interwoven steps.\n",
    "\n",
    "1. Given $\\{\\mu_0, \\sigma_0, \\mu_1, \\sigma_1\\}$ calculate the value of $k$ that maximises the log-likelihood.\n",
    "\n",
    "2. Given the changepoint $k$, calculate the parameters of the two distributions.\n",
    "\n",
    "The parameters of the distributions are given by:\n",
    "\n",
    "$$\n",
    "\\mu_0 = \\frac{1}{k} \\sum_{i=0}^{k-1} x_i\n",
    "$$\n",
    "\n",
    "$$\n",
    "\\sigma_0 = \\sqrt{ \\frac{1}{k} \\sum_{i=0}^{k} (x_i - \\mu_0)^2 }\n",
    "$$\n",
    "\n",
    "$$\n",
    "\\mu_1 = \\frac{1}{N-k+1} \\sum_{i=k}^{N-1} x_i\n",
    "$$\n",
    "\n",
    "$$\n",
    "\\sigma_1 = \\sqrt{ \\frac{1}{N-k+1} \\sum_{i=k}^{N} (x_i - \\mu_0)^2 }\n",
    "$$"
   ]
  },
  {
   "cell_type": "markdown",
   "metadata": {},
   "source": [
    "## Generate data"
   ]
  },
  {
   "cell_type": "code",
   "execution_count": 1,
   "metadata": {},
   "outputs": [],
   "source": [
    "import matplotlib.pyplot as plt\n",
    "import numpy as np\n",
    "\n",
    "from scipy import stats"
   ]
  },
  {
   "cell_type": "code",
   "execution_count": 2,
   "metadata": {},
   "outputs": [],
   "source": [
    "# Number of samples\n",
    "N = 100\n",
    "\n",
    "# Parameters for the two phases\n",
    "mu = [2.0, 5.0]\n",
    "sigma = [0.5, 0.25]\n",
    "\n",
    "# Changepoint\n",
    "k = 34"
   ]
  },
  {
   "cell_type": "code",
   "execution_count": 3,
   "metadata": {},
   "outputs": [],
   "source": [
    "# Normal distributions for each phase\n",
    "d1 = stats.norm(mu[0], sigma[0])\n",
    "d2 = stats.norm(mu[1], sigma[1])\n",
    "\n",
    "x = np.zeros(N)\n",
    "\n",
    "for i in range(N):\n",
    "    if i < k:\n",
    "        x[i] = d1.rvs()\n",
    "    else:\n",
    "        x[i] = d2.rvs()"
   ]
  },
  {
   "cell_type": "code",
   "execution_count": 4,
   "metadata": {},
   "outputs": [
    {
     "data": {
      "image/png": "[encoded data removed]",
      "text/plain": [
       "<Figure size 432x288 with 1 Axes>"
      ]
     },
     "metadata": {
      "needs_background": "light"
     },
     "output_type": "display_data"
    }
   ],
   "source": [
    "plt.plot(x)\n",
    "plt.plot(np.arange(k), np.repeat(mu[0], k), '--r', label='Mean 0')\n",
    "plt.plot(np.arange(k, N), np.repeat(mu[1], N-k), '--g', label='Mean 1')\n",
    "plt.legend()\n",
    "plt.xlabel('Sample index')\n",
    "plt.show()"
   ]
  },
  {
   "cell_type": "markdown",
   "metadata": {},
   "source": [
    "## Expectation maximisation"
   ]
  },
  {
   "cell_type": "code",
   "execution_count": 5,
   "metadata": {},
   "outputs": [],
   "source": [
    "def calc_log_likelihood(x, mu, sigma, k):\n",
    "    \"\"\"Calculate the log-likelihood of the samples.\"\"\"\n",
    "    \n",
    "    # Preconditions\n",
    "    assert len(x) > 1\n",
    "    assert len(mu) == 2\n",
    "    assert len(sigma) == 2\n",
    "    assert 0 <= k < len(x)\n",
    "    \n",
    "    # Normal distributions for each phase\n",
    "    d1 = stats.norm(mu[0], sigma[0])\n",
    "    d2 = stats.norm(mu[1], sigma[1])\n",
    "\n",
    "    # Calculate the log-likelihood\n",
    "    log_likelihood = 0\n",
    "    for i in range(len(x)):\n",
    "        \n",
    "        if i < k:\n",
    "            p = d1.pdf(x[i])\n",
    "        else:\n",
    "            p = d2.pdf(x[i])\n",
    "        \n",
    "        p = max(p, np.finfo(float).eps)\n",
    "        \n",
    "        log_likelihood += np.log(p)\n",
    "    \n",
    "    return log_likelihood"
   ]
  },
  {
   "cell_type": "code",
   "execution_count": 6,
   "metadata": {},
   "outputs": [],
   "source": [
    "def k_maximises_log_likelihood(x, mu, sigma):\n",
    "    \"\"\"Find the value of k that maximises the log-likelihood.\"\"\"\n",
    "    \n",
    "    # Preconditions\n",
    "    assert len(x) > 1\n",
    "    assert len(mu) == 2\n",
    "    assert len(sigma) == 2\n",
    "\n",
    "    # Number of samples\n",
    "    N = len(x)\n",
    "    \n",
    "    # Potential sites of the changepoint\n",
    "    k = np.arange(1, N-1)\n",
    "    \n",
    "    # Calculate the log-likelihoods for each value of k\n",
    "    log_likelihoods = [calc_log_likelihood(x, mu, sigma, ki) for ki in k]\n",
    "    \n",
    "    # Find the index that maximises the log-likelihood\n",
    "    idx = np.argmax(log_likelihoods)\n",
    "    \n",
    "    # Return the value of k that maximises the log-likelihood\n",
    "    return k[idx]"
   ]
  },
  {
   "cell_type": "code",
   "execution_count": 7,
   "metadata": {},
   "outputs": [],
   "source": [
    "def estimate_mu_sigma(x, k):\n",
    "    \"\"\"Estimate mu, sigma based on the changepoint.\"\"\"\n",
    "    \n",
    "    # Preconditions\n",
    "    assert len(x) > 1\n",
    "    assert 0 <= k < len(x)\n",
    "    \n",
    "    mu = np.mean(x[:k]), np.mean(x[k:])\n",
    "    sigma = np.std(x[:k]), np.std(x[k:])\n",
    "    \n",
    "    return mu, sigma"
   ]
  },
  {
   "cell_type": "code",
   "execution_count": 8,
   "metadata": {},
   "outputs": [],
   "source": [
    "# Initial parameters\n",
    "mu_est = [2.5, 3.5]\n",
    "sigma_est = [0.5, 0.5]"
   ]
  },
  {
   "cell_type": "code",
   "execution_count": 9,
   "metadata": {},
   "outputs": [
    {
     "name": "stdout",
     "output_type": "stream",
     "text": [
      "Converged after 2 iterations\n"
     ]
    }
   ],
   "source": [
    "stop_condition_met = False\n",
    "n_iterations = 0\n",
    "max_iterations = 20\n",
    "\n",
    "log_likelihoods = []\n",
    "\n",
    "while not stop_condition_met:\n",
    "\n",
    "    n_iterations += 1\n",
    "    \n",
    "    # Choose value of k that maximises the log-likelihood\n",
    "    k_est = k_maximises_log_likelihood(x, mu_est, sigma_est)\n",
    "\n",
    "    # Update mu, sigma based on the changepoint\n",
    "    mu_est, sigma_est = estimate_mu_sigma(x, k_est)\n",
    "\n",
    "    # Calculate the log-likelihood\n",
    "    log_likelihoods.append(calc_log_likelihood(x, mu_est, sigma_est, k_est))\n",
    "\n",
    "    if n_iterations > 1:\n",
    "        diff = np.abs(log_likelihoods[-1] - log_likelihoods[-2])\n",
    "        stop_condition_met = diff < 1e-3\n",
    "        if stop_condition_met:\n",
    "            print(f\"Converged after {n_iterations} iterations\")\n",
    "    \n",
    "    if n_iterations == max_iterations:\n",
    "        stop_condition_met = True\n",
    "        print(f\"Failed to converge after {n_iterations} iterations\")"
   ]
  },
  {
   "cell_type": "code",
   "execution_count": 10,
   "metadata": {},
   "outputs": [
    {
     "data": {
      "text/plain": [
       "34"
      ]
     },
     "execution_count": 10,
     "metadata": {},
     "output_type": "execute_result"
    }
   ],
   "source": [
    "k_est"
   ]
  },
  {
   "cell_type": "code",
   "execution_count": 11,
   "metadata": {},
   "outputs": [
    {
     "data": {
      "image/png": "[encoded data removed]",
      "text/plain": [
       "<Figure size 432x288 with 1 Axes>"
      ]
     },
     "metadata": {
      "needs_background": "light"
     },
     "output_type": "display_data"
    }
   ],
   "source": [
    "# Plot the data points\n",
    "plt.plot(x)\n",
    "\n",
    "# Plot the actual means and changepoint\n",
    "plt.plot(np.arange(k), np.repeat(mu[0], k), '-g', label='Actual mean 0')\n",
    "plt.plot(np.arange(k, N), np.repeat(mu[1], N-k), '-g', label='Actual mean 1')\n",
    "plt.axvline(x=k, color='g', linestyle='-', label=\"Actual changepoint\")\n",
    "\n",
    "# Plot the estimated means and changepoint\n",
    "plt.plot(np.arange(k_est), np.repeat(mu_est[0], k_est), ':r', label='Est. mean 0')\n",
    "plt.plot(np.arange(k_est, N), np.repeat(mu_est[1], N-k_est), ':r', label='Est. mean 1')\n",
    "plt.axvline(x=k_est, color='r', linestyle=':', label=\"Est. changepoint\")\n",
    "\n",
    "plt.legend()\n",
    "plt.xlabel('Sample index')\n",
    "plt.show()"
   ]
  }
 ],
 "metadata": {
  "kernelspec": {
   "display_name": "Python 3",
   "language": "python",
   "name": "python3"
  },
  "language_info": {
   "codemirror_mode": {
    "name": "ipython",
    "version": 3
   },
   "file_extension": ".py",
   "mimetype": "text/x-python",
   "name": "python",
   "nbconvert_exporter": "python",
   "pygments_lexer": "ipython3",
   "version": "3.8.7"
  }
 },
 "nbformat": 4,
 "nbformat_minor": 4
}
