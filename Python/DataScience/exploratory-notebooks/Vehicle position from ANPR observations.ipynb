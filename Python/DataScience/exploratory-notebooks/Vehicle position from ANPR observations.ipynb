{
 "cells": [
  {
   "cell_type": "markdown",
   "id": "7ed97319",
   "metadata": {},
   "source": [
    "# Infer a vehicle's position from ANPR camera observations"
   ]
  },
  {
   "cell_type": "markdown",
   "id": "30e7e408",
   "metadata": {},
   "source": [
    "## Unconstrained map problem"
   ]
  },
  {
   "cell_type": "markdown",
   "id": "56997887",
   "metadata": {},
   "source": [
    "Suppose a vehicle is not constrained by the road network, but instead can travel anywhere in a given bounded region. At certain locations within the region, an ANPR camera can detect the vehicle and generate an observation. The problem is to calculate the probability that the vehicle is at a given location within the region given the observations."
   ]
  },
  {
   "cell_type": "markdown",
   "id": "872e056a",
   "metadata": {},
   "source": [
    "The region is a rectangle with $(x,y)$ coordinates where $x \\in [0, x_{max})$ and $y \\in [0, y_{max})$ with the units in metres."
   ]
  },
  {
   "cell_type": "markdown",
   "id": "3bb2ac70",
   "metadata": {},
   "source": [
    "There are $N_c$ cameras randomly distributed in the region. The positions of the cameras $C$ are held in a $N_c \\times 2$ matrix. Each camera has the same observation radius $r$ and the observation regions of the cameras don't overlap. Each camera can perfectly detect whether the vehicle is within its detection radius, but it doesn't detect the vehicle's position within that circle. The camera detections are stored in a vector $D$ where each element is the index of the camera that made the detection."
   ]
  },
  {
   "cell_type": "markdown",
   "id": "199aa967",
   "metadata": {},
   "source": [
    "In the simplest case, the vehicle is assumed to move at a constant speed $s$ (in m/s) over the region. It stays within the region, but it performs a random walk and thus can change direction at each time step. There are $N_t$ timesteps $t_i$ where $i \\in \\{0, 1, \\ldots, N_{t-1}\\}$. The state space of the vehicle $V$ is represented as a $N_t \\times 3$ matrix, where each row is composed of $(x, y, \\theta)$."
   ]
  },
  {
   "cell_type": "code",
   "execution_count": 1,
   "id": "197c931f",
   "metadata": {},
   "outputs": [],
   "source": [
    "import numpy as np\n",
    "import matplotlib.pyplot as plt"
   ]
  },
  {
   "cell_type": "code",
   "execution_count": 2,
   "id": "ee7cfedf",
   "metadata": {},
   "outputs": [],
   "source": [
    "def random_position(x_max, y_max):\n",
    "    \"\"\"Random position on the (x,y) plane.\"\"\"\n",
    "    return (np.random.uniform(0, x_max), np.random.uniform(0, y_max))"
   ]
  },
  {
   "cell_type": "code",
   "execution_count": 3,
   "id": "cc29f8b4",
   "metadata": {},
   "outputs": [],
   "source": [
    "def random_angle():\n",
    "    return np.random.uniform(0, 2*np.pi)"
   ]
  },
  {
   "cell_type": "code",
   "execution_count": 4,
   "id": "999806ad",
   "metadata": {},
   "outputs": [],
   "source": [
    "def distance(p1, p2):\n",
    "    \"\"\"Returns the distance between points p1 and p2.\"\"\"\n",
    "    delta_x = p1[0] - p2[0]\n",
    "    delta_y = p1[1] - p2[1]\n",
    "    return np.sqrt(np.pow(delta_x,2) + np.pow(delta_y,2))"
   ]
  },
  {
   "cell_type": "code",
   "execution_count": 5,
   "id": "d8cdbf14",
   "metadata": {},
   "outputs": [],
   "source": [
    "def generate_camera_positions(x_max, y_max, N_c, r):\n",
    "    C = np.zeros((N_c, 2))\n",
    "\n",
    "    # Set the first camera position\n",
    "    C[0,:] = random_position(x_max, y_max)\n",
    "    n_positions = 1\n",
    "\n",
    "    while n_positions < N_c:\n",
    "        # Randomly generate a position for the camera\n",
    "        candidate = random_position(x_max, y_max)\n",
    "\n",
    "        # Check if the observation circle of the candidate camera overlaps with\n",
    "        # any other cameras\n",
    "        overlap = False\n",
    "        for i in range(n_positions):\n",
    "            if distance(C[i,:], candidate) <= 2*r:\n",
    "                overlap = True\n",
    "                break\n",
    "\n",
    "        if not overlap:\n",
    "            C[n_positions,:] = candidate\n",
    "            n_positions += 1\n",
    "\n",
    "    return C"
   ]
  },
  {
   "cell_type": "code",
   "execution_count": 6,
   "id": "ed8bf112",
   "metadata": {},
   "outputs": [],
   "source": [
    "def in_bounding_box(position, x_max, y_max):\n",
    "    return 0 <= position[0] < x_max and 0 <= position[1] < y_max"
   ]
  },
  {
   "cell_type": "code",
   "execution_count": 7,
   "id": "fc9c78d2",
   "metadata": {},
   "outputs": [],
   "source": [
    "def position_along_line(state, s, delta_t):\n",
    "    position = state[:2] + s * delta_t * np.array([np.cos(state[2]), np.sin(state[2])])\n",
    "    return np.array([position[0], position[1], state[2]])"
   ]
  },
  {
   "cell_type": "code",
   "execution_count": 89,
   "id": "f9ce2143",
   "metadata": {},
   "outputs": [],
   "source": [
    "def move_vehicle(x_max, y_max, state, s, delta_t):\n",
    "    candidate = np.array([-1, -1, -1])\n",
    "    n_tries = 0\n",
    "    while not in_bounding_box(candidate[:2], x_max, y_max) and n_tries < 10:\n",
    "        # Check if moving the vehicle forward would cause it to leave the\n",
    "        # bounding region\n",
    "        forward_state = position_along_line(state, s, delta_t)\n",
    "        if not in_bounding_box(forward_state[:2], x_max, y_max):\n",
    "            candidate[:2] = state[:2]\n",
    "            candidate[2] = state[2] - np.pi\n",
    "        else:\n",
    "            revised_state = state[:]\n",
    "            if np.random.rand() > 0.7:\n",
    "                revised_state[2] = state[2] + 0.5 * np.random.standard_normal()\n",
    "        \n",
    "            candidate = position_along_line(revised_state, s, delta_t)\n",
    "    \n",
    "        n_tries += 1\n",
    "\n",
    "    assert n_tries < 11\n",
    "    \n",
    "\n",
    "    return candidate"
   ]
  },
  {
   "cell_type": "code",
   "execution_count": 90,
   "id": "2b43802f",
   "metadata": {},
   "outputs": [],
   "source": [
    "def generate_vehicle_positions(x_max, y_max, s, delta_t, N_t):\n",
    "    V = np.zeros((N_t, 3))\n",
    "\n",
    "    # Initial position and angle\n",
    "    V[0,0:2] = random_position(x_max, y_max)\n",
    "    V[0,2] = random_angle()\n",
    "\n",
    "    for i in range(1, N_t):\n",
    "        V[i,:] = move_vehicle(x_max, y_max, V[i-1,:], s, delta_t)\n",
    "\n",
    "    return V"
   ]
  },
  {
   "cell_type": "code",
   "execution_count": 91,
   "id": "d63fb58f",
   "metadata": {},
   "outputs": [],
   "source": [
    "def detect_vehicle(C, V, r):\n",
    "    N_c = C.shape[0]\n",
    "    N_t = V.shape[0]\n",
    "    D = np.zeros(N_t)\n",
    "\n",
    "    for i in range(N_t):\n",
    "        D[i] = np.nan\n",
    "        for c in range(N_c):\n",
    "            if distance(C[c,:], V[i,0:2]) <= r:\n",
    "                D[i] = c\n",
    "                break\n",
    "\n",
    "    return D"
   ]
  },
  {
   "cell_type": "code",
   "execution_count": 92,
   "id": "b9870934",
   "metadata": {},
   "outputs": [],
   "source": [
    "# Bounds of the region\n",
    "x_max = 100\n",
    "y_max = 100\n",
    "\n",
    "# Sample the camera positions\n",
    "n_c = 10\n",
    "r = 10\n",
    "C = generate_camera_positions(x_max, y_max, n_c, r)\n",
    "\n",
    "# Generate the vehicle positions\n",
    "delta_t = 1\n",
    "s = 1\n",
    "N_t = 500\n",
    "V = generate_vehicle_positions(x_max, y_max, s, delta_t, N_t)\n",
    "\n",
    "# Generate the camera detections\n",
    "D = detect_vehicle(C, V, r)"
   ]
  },
  {
   "cell_type": "code",
   "execution_count": 93,
   "id": "5bac2d66",
   "metadata": {},
   "outputs": [
    {
     "data": {
      "image/png": "[encoded data removed]",
      "text/plain": [
       "<Figure size 640x480 with 1 Axes>"
      ]
     },
     "metadata": {},
     "output_type": "display_data"
    }
   ],
   "source": [
    "fig, ax = plt.subplots()\n",
    "\n",
    "# Plot the camera positions and their observation circles\n",
    "ax.plot(C[:,0], C[:,1], 'rx')\n",
    "for i in range(n_c):\n",
    "    circle = plt.Circle(( C[i,0] , C[i,1] ), r, color='r', alpha=0.1)\n",
    "    ax.add_patch(circle)\n",
    "\n",
    "# Plot the vehicle track\n",
    "ax.plot(V[:,0], V[:,1], 'b')\n",
    "\n",
    "# Set up the plot axes\n",
    "ax.set_aspect('equal')\n",
    "ax.set_xlim(0, x_max)\n",
    "ax.set_ylim(0, y_max)\n",
    "ax.set_xlabel('x')\n",
    "ax.set_ylabel('y')\n",
    "plt.show()"
   ]
  },
  {
   "cell_type": "markdown",
   "id": "2ea7438b",
   "metadata": {},
   "source": [
    "A simple particle filtering-based approach is used to calculate the probability that the vehicle is at a given location. There are $N_p$ particles and at each timestep the particle has an $(x,y)$ position and an angle. The state of a particle at a single timestep is held in an $N_p \\times 3$ matrix. The state of all particles over all time is stored in an $N_t \\times N_p \\times 3$ array denoted $P$."
   ]
  },
  {
   "cell_type": "code",
   "execution_count": 94,
   "id": "f7ac0281",
   "metadata": {},
   "outputs": [],
   "source": [
    "def random_point_in_circle(centre, r):\n",
    "    theta = np.random.uniform(0, 2*np.pi)\n",
    "    d = np.random.uniform(0, r)\n",
    "    point = centre + d * np.array([np.cos(theta), np.sin(theta)])\n",
    "    return point"
   ]
  },
  {
   "cell_type": "code",
   "execution_count": 95,
   "id": "7f6fe058",
   "metadata": {},
   "outputs": [],
   "source": [
    "def random_particles_in_circle(N_p, centre, r):\n",
    "    P = np.zeros((N_p, 3))\n",
    "    for p in range(N_p):\n",
    "        P[p,0:2] = random_point_in_circle(centre, r)\n",
    "        P[p,2] = random_angle()\n",
    "    return P"
   ]
  },
  {
   "cell_type": "code",
   "execution_count": 96,
   "id": "d1fdcfce",
   "metadata": {},
   "outputs": [],
   "source": [
    "from tqdm import tqdm"
   ]
  },
  {
   "cell_type": "code",
   "execution_count": 97,
   "id": "6d71cf1e",
   "metadata": {},
   "outputs": [],
   "source": [
    "def run_particle_filter(N_p, N_t, x_max, y_max, D, C, r):\n",
    "    P = np.zeros((N_t, N_p, 3))\n",
    "\n",
    "    # Initialise the particles' positions\n",
    "    for i in range(N_p):\n",
    "        P[0,i,0:2] = random_position(x_max, y_max)\n",
    "        P[0,i,2] = random_angle()\n",
    "\n",
    "    # Walk through each time step\n",
    "    for t in tqdm(range(N_t)):\n",
    "        # If there is a camera detection at the time step, then the vehicle must\n",
    "        # be in the detection circle of the camera that reported the detection\n",
    "        if not np.isnan(D[t]):\n",
    "            camera_index = int(D[t])\n",
    "            P[t,0:N_p,0:3] = random_particles_in_circle(N_p, C[camera_index,:], r)\n",
    "        else:\n",
    "            for p in range(N_p):\n",
    "                P[t,p,:] = move_vehicle(x_max, y_max, P[t-1,p,:], s, delta_t)\n",
    "\n",
    "    return P"
   ]
  },
  {
   "cell_type": "code",
   "execution_count": 98,
   "id": "7692050a",
   "metadata": {},
   "outputs": [
    {
     "name": "stderr",
     "output_type": "stream",
     "text": [
      "100%|██████████| 500/500 [00:00<00:00, 5345.25it/s]\n"
     ]
    }
   ],
   "source": [
    "# Run the particle filter\n",
    "N_p = 2\n",
    "P = run_particle_filter(N_p, N_t, x_max, y_max, D, C, r)"
   ]
  },
  {
   "cell_type": "code",
   "execution_count": 99,
   "id": "f9f694a2",
   "metadata": {},
   "outputs": [
    {
     "name": "stdout",
     "output_type": "stream",
     "text": [
      "8.0\n"
     ]
    },
    {
     "data": {
      "image/png": "[encoded data removed]",
      "text/plain": [
       "<Figure size 640x480 with 1 Axes>"
      ]
     },
     "metadata": {},
     "output_type": "display_data"
    }
   ],
   "source": [
    "t = 8\n",
    "print(D[t])\n",
    "plt.plot(P[t,:,0], P[t,:,1], 'x')\n",
    "plt.show()"
   ]
  },
  {
   "cell_type": "code",
   "execution_count": null,
   "id": "97fb73ba",
   "metadata": {},
   "outputs": [],
   "source": []
  }
 ],
 "metadata": {
  "kernelspec": {
   "display_name": ".venv",
   "language": "python",
   "name": "python3"
  },
  "language_info": {
   "codemirror_mode": {
    "name": "ipython",
    "version": 3
   },
   "file_extension": ".py",
   "mimetype": "text/x-python",
   "name": "python",
   "nbconvert_exporter": "python",
   "pygments_lexer": "ipython3",
   "version": "3.11.2"
  }
 },
 "nbformat": 4,
 "nbformat_minor": 5
}
