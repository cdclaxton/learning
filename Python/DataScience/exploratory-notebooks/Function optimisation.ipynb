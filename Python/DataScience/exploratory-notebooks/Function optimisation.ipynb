{
 "cells": [
  {
   "cell_type": "markdown",
   "metadata": {},
   "source": [
    "# Function optimisation"
   ]
  },
  {
   "cell_type": "code",
   "execution_count": 13,
   "metadata": {},
   "outputs": [],
   "source": [
    "import numpy as np\n",
    "\n",
    "from scipy.optimize import minimize\n",
    "from sympy import *"
   ]
  },
  {
   "cell_type": "markdown",
   "metadata": {},
   "source": [
    "## Unconstrained minimisation of multivariate scalar functions"
   ]
  },
  {
   "cell_type": "markdown",
   "metadata": {},
   "source": [
    "### Nelder-Mead algorithm"
   ]
  },
  {
   "cell_type": "markdown",
   "metadata": {},
   "source": [
    "Rosenbrock function:\n",
    "\n",
    "$$\n",
    "f(x,y) = (a - x)^2 + b(y - x^2)^2\n",
    "$$"
   ]
  },
  {
   "cell_type": "code",
   "execution_count": 20,
   "metadata": {},
   "outputs": [],
   "source": [
    "def rosen_2d(x):\n",
    "    \"\"\"Rosenbrock function.\"\"\"\n",
    "    \n",
    "    a = 1\n",
    "    b = 100\n",
    "    \n",
    "    return (a - x[0])**2 + b*(x[1] -x[0]**2)**2"
   ]
  },
  {
   "cell_type": "code",
   "execution_count": 21,
   "metadata": {},
   "outputs": [
    {
     "name": "stdout",
     "output_type": "stream",
     "text": [
      "Optimization terminated successfully.\n",
      "         Current function value: 0.000000\n",
      "         Iterations: 79\n",
      "         Function evaluations: 150\n"
     ]
    }
   ],
   "source": [
    "x0 = np.array([1.3, 0.7])\n",
    "res = minimize(rosen_2d, x0, method='nelder-mead', \n",
    "               options={'xatol':1e-8, 'disp':True})"
   ]
  },
  {
   "cell_type": "code",
   "execution_count": 24,
   "metadata": {},
   "outputs": [
    {
     "data": {
      "text/plain": [
       "array([1., 1.])"
      ]
     },
     "execution_count": 24,
     "metadata": {},
     "output_type": "execute_result"
    }
   ],
   "source": [
    "# Solution for x\n",
    "res.x"
   ]
  },
  {
   "cell_type": "code",
   "execution_count": 23,
   "metadata": {},
   "outputs": [
    {
     "data": {
      "text/plain": [
       "3.3736077629532093e-18"
      ]
     },
     "execution_count": 23,
     "metadata": {},
     "output_type": "execute_result"
    }
   ],
   "source": [
    "rosen_2d(res.x)"
   ]
  },
  {
   "cell_type": "markdown",
   "metadata": {},
   "source": [
    "### Broyden-Fletcher-Goldfarb-Shanno (BFGS) algorithm"
   ]
  },
  {
   "cell_type": "markdown",
   "metadata": {},
   "source": [
    "Booth function:\n",
    "\n",
    "$$\n",
    "f(x,y) = (x + 2y - 7)^2 + (2x + y - 5)^2\n",
    "$$\n",
    "\n",
    "First partial derivatives:\n",
    "\n",
    "$$\n",
    "\\frac{\\partial f(x,y)}{\\partial x} = 10x + 8y - 34\n",
    "$$\n",
    "\n",
    "$$\n",
    "\\frac{\\partial f(x,y)}{\\partial y} = 8x + 10y - 38\n",
    "$$"
   ]
  },
  {
   "cell_type": "code",
   "execution_count": 17,
   "metadata": {},
   "outputs": [
    {
     "name": "stdout",
     "output_type": "stream",
     "text": [
      "10*x + 8*y - 34\n",
      "8*x + 10*y - 38\n"
     ]
    }
   ],
   "source": [
    "# Check the first partial derivative\n",
    "x, y = symbols('x y')\n",
    "\n",
    "print(diff( (x + 2*y -7)**2 + (2*x +y - 5)**2, x ))\n",
    "print(diff( (x + 2*y -7)**2 + (2*x +y - 5)**2, y ))"
   ]
  },
  {
   "cell_type": "code",
   "execution_count": 11,
   "metadata": {},
   "outputs": [],
   "source": [
    "def booth(x):\n",
    "    \"\"\"Booth function.\"\"\"\n",
    "    \n",
    "    return (x[0] + 2*x[1] - 7)**2 + (2*x[0] + x[1] - 5)**2"
   ]
  },
  {
   "cell_type": "code",
   "execution_count": 12,
   "metadata": {},
   "outputs": [],
   "source": [
    "def booth_derivative(x):\n",
    "    \"\"\"First partial derivative of the Booth function.\"\"\"\n",
    "    \n",
    "    return [10*x[0] + 8*x[1] - 34, 8*x[0] + 10*x[1] - 38]"
   ]
  },
  {
   "cell_type": "code",
   "execution_count": 15,
   "metadata": {},
   "outputs": [
    {
     "name": "stdout",
     "output_type": "stream",
     "text": [
      "Optimization terminated successfully.\n",
      "         Current function value: 0.000000\n",
      "         Iterations: 6\n",
      "         Function evaluations: 7\n",
      "         Gradient evaluations: 7\n"
     ]
    }
   ],
   "source": [
    "x0 = [1, 1]\n",
    "\n",
    "res = minimize(booth, x0, method='BFGS', jac=booth_derivative,\n",
    "               options={'disp': True})"
   ]
  },
  {
   "cell_type": "code",
   "execution_count": 16,
   "metadata": {},
   "outputs": [
    {
     "data": {
      "text/plain": [
       "array([0.99999881, 3.0000011 ])"
      ]
     },
     "execution_count": 16,
     "metadata": {},
     "output_type": "execute_result"
    }
   ],
   "source": [
    "res.x"
   ]
  },
  {
   "cell_type": "code",
   "execution_count": 18,
   "metadata": {},
   "outputs": [
    {
     "data": {
      "text/plain": [
       "2.654464649283898e-12"
      ]
     },
     "execution_count": 18,
     "metadata": {},
     "output_type": "execute_result"
    }
   ],
   "source": [
    "booth(res.x)"
   ]
  },
  {
   "cell_type": "markdown",
   "metadata": {},
   "source": [
    "### Newton-Conjugate-Gradient algorithm"
   ]
  },
  {
   "cell_type": "markdown",
   "metadata": {},
   "source": [
    "Rosenbrock function:\n",
    "\n",
    "$$\n",
    "f(x,y) = (a - x)^2 + b(y - x^2)^2\n",
    "$$"
   ]
  },
  {
   "cell_type": "code",
   "execution_count": 42,
   "metadata": {},
   "outputs": [],
   "source": [
    "# Check the first partial derivative\n",
    "a, b, f, x, y = symbols('a b f x y')"
   ]
  },
  {
   "cell_type": "code",
   "execution_count": 43,
   "metadata": {},
   "outputs": [],
   "source": [
    "f = (a-x)**2 + b*(y-x**2)**2"
   ]
  },
  {
   "cell_type": "code",
   "execution_count": 56,
   "metadata": {},
   "outputs": [
    {
     "name": "stdout",
     "output_type": "stream",
     "text": [
      "-2*a - 4*b*x*(-x**2 + y) + 2*x\n"
     ]
    }
   ],
   "source": [
    "print(diff(f, x))"
   ]
  },
  {
   "cell_type": "code",
   "execution_count": 57,
   "metadata": {},
   "outputs": [
    {
     "name": "stdout",
     "output_type": "stream",
     "text": [
      "b*(-2*x**2 + 2*y)\n"
     ]
    }
   ],
   "source": [
    "print(diff(f, y))"
   ]
  },
  {
   "cell_type": "code",
   "execution_count": 51,
   "metadata": {},
   "outputs": [
    {
     "data": {
      "text/latex": [
       "$\\displaystyle 2 \\left(4 b x^{2} + 2 b \\left(x^{2} - y\\right) + 1\\right)$"
      ],
      "text/plain": [
       "2*(4*b*x**2 + 2*b*(x**2 - y) + 1)"
      ]
     },
     "execution_count": 51,
     "metadata": {},
     "output_type": "execute_result"
    }
   ],
   "source": [
    "diff(f, x, x)"
   ]
  },
  {
   "cell_type": "code",
   "execution_count": 48,
   "metadata": {},
   "outputs": [
    {
     "data": {
      "text/latex": [
       "$\\displaystyle - 4 b x$"
      ],
      "text/plain": [
       "-4*b*x"
      ]
     },
     "execution_count": 48,
     "metadata": {},
     "output_type": "execute_result"
    }
   ],
   "source": [
    "diff(f, x, y)"
   ]
  },
  {
   "cell_type": "code",
   "execution_count": 49,
   "metadata": {},
   "outputs": [
    {
     "data": {
      "text/latex": [
       "$\\displaystyle 2 b$"
      ],
      "text/plain": [
       "2*b"
      ]
     },
     "execution_count": 49,
     "metadata": {},
     "output_type": "execute_result"
    }
   ],
   "source": [
    "diff(f, y, y)"
   ]
  },
  {
   "cell_type": "markdown",
   "metadata": {},
   "source": [
    "First Partial derivatives:\n",
    "\n",
    "$$\n",
    "\\frac{\\partial f(x,y)}{\\partial x} = 2(x - a) - 4bx(y - x^2)\n",
    "$$\n",
    "\n",
    "$$\n",
    "\\frac{\\partial f(x,y)}{\\partial y} = 2b(y-x^2)\n",
    "$$\n",
    "\n",
    "Second partial derivatives:\n",
    "\n",
    "$$\n",
    "\\frac{\\partial f^2(x,y)}{\\partial x^2} =2(4bx^2 + 2b(x^2 - y) + 1)\n",
    "$$\n",
    "\n",
    "$$\n",
    "\\frac{\\partial f^2(x,y)}{\\partial y \\partial x} = -4bx\n",
    "$$\n",
    "\n",
    "$$\n",
    "\\frac{\\partial f^2(x,y)}{\\partial y^2} = 2b\n",
    "$$"
   ]
  },
  {
   "cell_type": "code",
   "execution_count": 62,
   "metadata": {},
   "outputs": [],
   "source": [
    "def build_rosen_derivative(a, b):\n",
    "    \"\"\"Build a Rosenbrock derivative function.\"\"\"\n",
    "    \n",
    "    def rosen_derivative(x):\n",
    "        der = np.array([\n",
    "            -2*a - 4*b*x[0]*(-x[0]**2 + x[1]) + 2*x[0],  # df/dx\n",
    "            b*(-2*x[0]**2 + 2*x[1])  # df/dy\n",
    "        ])\n",
    "        \n",
    "        return der\n",
    "        \n",
    "    return rosen_derivative"
   ]
  },
  {
   "cell_type": "code",
   "execution_count": 65,
   "metadata": {},
   "outputs": [],
   "source": [
    "def build_rosen_hessian(a, b):\n",
    "\n",
    "    def rosen_hessian(x):\n",
    "        \"\"\"Calculate the Hessian matrix for the 2D Rosenbrock function.\"\"\"\n",
    "\n",
    "        H = np.zeros((2,2))\n",
    "        H[0, 0] = 2*(4*b*x[0]**2 + 2*b*(x[0]**2 - x[1]) + 1)\n",
    "        H[0, 1] = -4*b*x[0]\n",
    "        H[1, 0] = -4*b*x[0]\n",
    "        H[1, 1] = 2*b\n",
    "        \n",
    "        return H\n",
    "        \n",
    "    return rosen_hessian"
   ]
  },
  {
   "cell_type": "code",
   "execution_count": 93,
   "metadata": {},
   "outputs": [
    {
     "name": "stdout",
     "output_type": "stream",
     "text": [
      "Optimization terminated successfully.\n",
      "         Current function value: 0.000000\n",
      "         Iterations: 1\n",
      "         Function evaluations: 1\n",
      "         Gradient evaluations: 1\n",
      "         Hessian evaluations: 1\n"
     ]
    }
   ],
   "source": [
    "a = 1\n",
    "b = 100\n",
    "\n",
    "jac = build_rosen_derivative(a, b)\n",
    "hess = build_rosen_hessian(a, b)\n",
    "\n",
    "x0 = [1, 1]\n",
    "\n",
    "res = minimize(rosen_2d, x0, \n",
    "               method='Newton-CG', \n",
    "               jac=jac, hess=hess,\n",
    "               options={'disp': True})"
   ]
  },
  {
   "cell_type": "code",
   "execution_count": 94,
   "metadata": {},
   "outputs": [
    {
     "data": {
      "text/plain": [
       "array([1., 1.])"
      ]
     },
     "execution_count": 94,
     "metadata": {},
     "output_type": "execute_result"
    }
   ],
   "source": [
    "res.x"
   ]
  },
  {
   "cell_type": "code",
   "execution_count": 95,
   "metadata": {},
   "outputs": [
    {
     "data": {
      "text/plain": [
       "0.0"
      ]
     },
     "execution_count": 95,
     "metadata": {},
     "output_type": "execute_result"
    }
   ],
   "source": [
    "res.fun"
   ]
  },
  {
   "cell_type": "code",
   "execution_count": 98,
   "metadata": {},
   "outputs": [
    {
     "data": {
      "text/plain": [
       "0"
      ]
     },
     "execution_count": 98,
     "metadata": {},
     "output_type": "execute_result"
    }
   ],
   "source": [
    "rosen_2d([1, 1])"
   ]
  },
  {
   "cell_type": "code",
   "execution_count": 97,
   "metadata": {},
   "outputs": [
    {
     "data": {
      "text/plain": [
       "0.0"
      ]
     },
     "execution_count": 97,
     "metadata": {},
     "output_type": "execute_result"
    }
   ],
   "source": [
    "rosen_2d(res.x)"
   ]
  },
  {
   "cell_type": "markdown",
   "metadata": {},
   "source": [
    "## Constrained minimisation of multivariate scalar functions"
   ]
  },
  {
   "cell_type": "code",
   "execution_count": 69,
   "metadata": {},
   "outputs": [],
   "source": [
    "from scipy.optimize import Bounds"
   ]
  },
  {
   "cell_type": "code",
   "execution_count": 83,
   "metadata": {},
   "outputs": [],
   "source": [
    "bounds = Bounds([0, -0.5],   # lower\n",
    "                [1.0, 2.0])  # upper"
   ]
  },
  {
   "cell_type": "code",
   "execution_count": 84,
   "metadata": {},
   "outputs": [],
   "source": [
    "x0 = [-0.25, 1.5]\n",
    "\n",
    "res = minimize(booth, x0, method='L-BFGS-B', \n",
    "               bounds=bounds,\n",
    "               jac=booth_derivative,\n",
    "               options={'disp': True})"
   ]
  },
  {
   "cell_type": "code",
   "execution_count": 85,
   "metadata": {},
   "outputs": [
    {
     "data": {
      "text/plain": [
       "array([1., 2.])"
      ]
     },
     "execution_count": 85,
     "metadata": {},
     "output_type": "execute_result"
    }
   ],
   "source": [
    "res.x"
   ]
  },
  {
   "cell_type": "code",
   "execution_count": null,
   "metadata": {},
   "outputs": [],
   "source": []
  }
 ],
 "metadata": {
  "kernelspec": {
   "display_name": "Python 3",
   "language": "python",
   "name": "python3"
  },
  "language_info": {
   "codemirror_mode": {
    "name": "ipython",
    "version": 3
   },
   "file_extension": ".py",
   "mimetype": "text/x-python",
   "name": "python",
   "nbconvert_exporter": "python",
   "pygments_lexer": "ipython3",
   "version": "3.8.3"
  }
 },
 "nbformat": 4,
 "nbformat_minor": 4
}
