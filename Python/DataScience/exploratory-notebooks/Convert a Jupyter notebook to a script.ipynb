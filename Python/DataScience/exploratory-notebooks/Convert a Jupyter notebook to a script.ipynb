{
 "cells": [
  {
   "cell_type": "markdown",
   "metadata": {},
   "source": [
    "# Convert a Jupyter notebook to a script"
   ]
  },
  {
   "cell_type": "markdown",
   "metadata": {},
   "source": [
    "This Jupyter notebook converts a Jupyter notebook to a script by parsing the JSON."
   ]
  },
  {
   "cell_type": "code",
   "execution_count": 9,
   "metadata": {},
   "outputs": [],
   "source": [
    "import json"
   ]
  },
  {
   "cell_type": "code",
   "execution_count": 10,
   "metadata": {},
   "outputs": [],
   "source": [
    "# Input file\n",
    "jupyter_filepath = r\"C:\\Users\\cdcla\\OneDrive\\Technical\\Learning\\Python\\Machine learning\\ILAS\\Marginal probability with a large CPT - Copy.ipynb\"\n",
    "\n",
    "# Output file\n",
    "script_filepath = r\"C:\\Users\\cdcla\\Downloads\\script.py\""
   ]
  },
  {
   "cell_type": "code",
   "execution_count": 11,
   "metadata": {},
   "outputs": [],
   "source": [
    "# Read the Jupyter notebook\n",
    "with open(jupyter_filepath) as f:\n",
    "    data = json.load(f)"
   ]
  },
  {
   "cell_type": "code",
   "execution_count": 12,
   "metadata": {},
   "outputs": [],
   "source": [
    "# Build the lines of the script\n",
    "code = []\n",
    "\n",
    "for cell in data[\"cells\"]:\n",
    "    \n",
    "    if cell[\"cell_type\"] == \"code\":\n",
    "        code.extend(cell[\"source\"])\n",
    "        code.append(\"\\n\\n\")\n",
    "    elif cell[\"cell_type\"] == \"markdown\":\n",
    "        markdown = [\"# \" + content for content in cell[\"source\"]]\n",
    "        code.extend(markdown)\n",
    "        code.append(\"\\n\\n\")"
   ]
  },
  {
   "cell_type": "code",
   "execution_count": 13,
   "metadata": {},
   "outputs": [],
   "source": [
    "# Write the script to file\n",
    "with open(script_filepath, 'w') as fp:\n",
    "    for line in code:\n",
    "        fp.write(line)"
   ]
  },
  {
   "cell_type": "code",
   "execution_count": null,
   "metadata": {},
   "outputs": [],
   "source": []
  }
 ],
 "metadata": {
  "kernelspec": {
   "display_name": "Python 3",
   "language": "python",
   "name": "python3"
  },
  "language_info": {
   "codemirror_mode": {
    "name": "ipython",
    "version": 3
   },
   "file_extension": ".py",
   "mimetype": "text/x-python",
   "name": "python",
   "nbconvert_exporter": "python",
   "pygments_lexer": "ipython3",
   "version": "3.8.7"
  }
 },
 "nbformat": 4,
 "nbformat_minor": 4
}
