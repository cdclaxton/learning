{
 "cells": [
  {
   "cell_type": "markdown",
   "metadata": {},
   "source": [
    "# Metropolis–Hastings approach to inferring the prior of a Bernoulli distribution"
   ]
  },
  {
   "cell_type": "markdown",
   "metadata": {},
   "source": [
    "This Python Jupyter notebook explores a Metropolis–Hastings algorithm approach to inferring the parameter of a Bernoulli distribution from Independent and Identically Distributed (IID) samples."
   ]
  },
  {
   "cell_type": "code",
   "execution_count": 20,
   "metadata": {},
   "outputs": [],
   "source": [
    "import matplotlib.pyplot as plt\n",
    "import numpy as np"
   ]
  },
  {
   "cell_type": "code",
   "execution_count": 21,
   "metadata": {},
   "outputs": [],
   "source": [
    "# Generate the data\n",
    "theta_actual = 0.3\n",
    "n_samples = 100\n",
    "v = np.random.binomial(1, theta_actual, n_samples)"
   ]
  },
  {
   "cell_type": "code",
   "execution_count": 38,
   "metadata": {},
   "outputs": [
    {
     "data": {
      "text/plain": [
       "0.23"
      ]
     },
     "execution_count": 38,
     "metadata": {},
     "output_type": "execute_result"
    }
   ],
   "source": [
    "# Estimate of theta from the data\n",
    "np.mean(v)"
   ]
  },
  {
   "cell_type": "code",
   "execution_count": 23,
   "metadata": {},
   "outputs": [],
   "source": [
    "# Bounds of the uniform prior distribution\n",
    "a = 0\n",
    "b = 1"
   ]
  },
  {
   "cell_type": "code",
   "execution_count": 24,
   "metadata": {},
   "outputs": [],
   "source": [
    "def p_theta_given_v(theta, v, a, b):\n",
    "    \"\"\"p(theta | v, a, b)\"\"\"\n",
    "    \n",
    "    if a <= theta <= b:\n",
    "        return np.exp(np.log(theta) * np.sum(v) + np.log(1 - theta) * np.sum(1 - v))\n",
    "    else:\n",
    "        return 0"
   ]
  },
  {
   "cell_type": "code",
   "execution_count": 44,
   "metadata": {},
   "outputs": [],
   "source": [
    "# Initialise theta\n",
    "theta = [(a+b)/2]\n",
    "\n",
    "# Standard deviation of the proposal distribution\n",
    "sigma = 0.1\n",
    "\n",
    "for i in range(1, 10000):\n",
    "    \n",
    "    # Candidate value of theta\n",
    "    theta_candidate = np.random.normal(theta[i-1], sigma)\n",
    "    \n",
    "    p_candidate = p_theta_given_v(theta_candidate, v, a, b)\n",
    "    p_previous = p_theta_given_v(theta[i-1], v, a, b)\n",
    "    \n",
    "    # Acceptance probability\n",
    "    u = min(1, p_candidate / p_previous)\n",
    "    \n",
    "    if u >= np.random.uniform():\n",
    "        theta.append(theta_candidate)\n",
    "    else:\n",
    "        theta.append(theta[i-1])"
   ]
  },
  {
   "cell_type": "code",
   "execution_count": 45,
   "metadata": {},
   "outputs": [
    {
     "data": {
      "image/png": "[encoded data removed]",
      "text/plain": [
       "<Figure size 432x288 with 2 Axes>"
      ]
     },
     "metadata": {
      "needs_background": "light"
     },
     "output_type": "display_data"
    }
   ],
   "source": [
    "burnin = 1000\n",
    "\n",
    "f, ax = plt.subplots(1,2)\n",
    "ax[0].plot(theta[burnin:])\n",
    "ax[0].set_title(\"Samples\")\n",
    "ax[0].set_ylabel(r\"$\\theta$\")\n",
    "ax[1].hist(theta[burnin:], bins=50)\n",
    "ax[1].set_title(\"Histogram\")\n",
    "ax[1].set_xlabel(r\"$\\theta$\")\n",
    "plt.show()"
   ]
  }
 ],
 "metadata": {
  "kernelspec": {
   "display_name": "Python 3",
   "language": "python",
   "name": "python3"
  },
  "language_info": {
   "codemirror_mode": {
    "name": "ipython",
    "version": 3
   },
   "file_extension": ".py",
   "mimetype": "text/x-python",
   "name": "python",
   "nbconvert_exporter": "python",
   "pygments_lexer": "ipython3",
   "version": "3.8.7"
  }
 },
 "nbformat": 4,
 "nbformat_minor": 4
}
