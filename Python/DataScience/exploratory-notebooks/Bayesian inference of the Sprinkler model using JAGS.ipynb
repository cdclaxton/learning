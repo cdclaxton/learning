{
 "cells": [
  {
   "cell_type": "markdown",
   "metadata": {},
   "source": [
    "# Bayesian inference of the Sprinkler model using JAGS"
   ]
  },
  {
   "cell_type": "markdown",
   "metadata": {},
   "source": [
    "## Introduction"
   ]
  },
  {
   "cell_type": "markdown",
   "metadata": {},
   "source": [
    "This R notebook explores the Sprinkler Bayesian network, but instead of characterising the problem as a discrete Bayesian network, a more sophisticated approach is employed."
   ]
  },
  {
   "cell_type": "code",
   "execution_count": 1,
   "metadata": {},
   "outputs": [
    {
     "name": "stderr",
     "output_type": "stream",
     "text": [
      "Loading required package: coda\n",
      "\n",
      "Linked to JAGS 4.3.0\n",
      "\n",
      "Loaded modules: basemod,bugs\n",
      "\n"
     ]
    }
   ],
   "source": [
    "# Import the required libraries\n",
    "library(ggplot2)\n",
    "library(MCMCvis)\n",
    "library(rjags)\n",
    "\n",
    "# Ensure the figures are easy to view in the notebook\n",
    "options(repr.plot.width=10, repr.plot.height=6)"
   ]
  },
  {
   "cell_type": "markdown",
   "metadata": {},
   "source": [
    "## Bayesian inference as a discrete Bayes net"
   ]
  },
  {
   "cell_type": "markdown",
   "metadata": {},
   "source": [
    "In this section Bayesian inference is performed using JAGS where the model is the typical discrete Bayesian network."
   ]
  },
  {
   "cell_type": "code",
   "execution_count": 14,
   "metadata": {},
   "outputs": [
    {
     "data": {
      "text/html": [
       "1"
      ],
      "text/latex": [
       "1"
      ],
      "text/markdown": [
       "1"
      ],
      "text/plain": [
       "[1] 1"
      ]
     },
     "metadata": {},
     "output_type": "display_data"
    }
   ],
   "source": [
    "# R is one-based\n",
    "x = c(1,2,3)\n",
    "x[1]"
   ]
  },
  {
   "cell_type": "code",
   "execution_count": 31,
   "metadata": {},
   "outputs": [
    {
     "name": "stdout",
     "output_type": "stream",
     "text": [
      "Compiling model graph\n",
      "   Resolving undeclared variables\n",
      "   Allocating nodes\n",
      "Graph information:\n",
      "   Observed stochastic nodes: 2\n",
      "   Unobserved stochastic nodes: 2\n",
      "   Total graph size: 14\n",
      "\n",
      "Initializing model\n",
      "\n"
     ]
    },
    {
     "name": "stderr",
     "output_type": "stream",
     "text": [
      "Warning message in MCMCsummary(samp, round = 2):\n",
      "\"Rhat statistic cannot be calculated with one chain. NAs inserted.\"\n"
     ]
    },
    {
     "data": {
      "text/html": [
       "<table class=\"dataframe\">\n",
       "<caption>A data.frame: 4 × 7</caption>\n",
       "<thead>\n",
       "\t<tr><th></th><th scope=col>mean</th><th scope=col>sd</th><th scope=col>2.5%</th><th scope=col>50%</th><th scope=col>97.5%</th><th scope=col>Rhat</th><th scope=col>n.eff</th></tr>\n",
       "\t<tr><th></th><th scope=col>&lt;dbl&gt;</th><th scope=col>&lt;dbl&gt;</th><th scope=col>&lt;dbl&gt;</th><th scope=col>&lt;dbl&gt;</th><th scope=col>&lt;dbl&gt;</th><th scope=col>&lt;lgl&gt;</th><th scope=col>&lt;dbl&gt;</th></tr>\n",
       "</thead>\n",
       "<tbody>\n",
       "\t<tr><th scope=row>cloudy</th><td>0.98</td><td>0.13</td><td>1</td><td>1</td><td>1</td><td>NA</td><td>20000</td></tr>\n",
       "\t<tr><th scope=row>rain</th><td>1.00</td><td>0.00</td><td>1</td><td>1</td><td>1</td><td>NA</td><td>    0</td></tr>\n",
       "\t<tr><th scope=row>sprinkler</th><td>0.00</td><td>0.00</td><td>0</td><td>0</td><td>0</td><td>NA</td><td>    0</td></tr>\n",
       "\t<tr><th scope=row>wet_grass</th><td>0.90</td><td>0.30</td><td>0</td><td>1</td><td>1</td><td>NA</td><td>20000</td></tr>\n",
       "</tbody>\n",
       "</table>\n"
      ],
      "text/latex": [
       "A data.frame: 4 × 7\n",
       "\\begin{tabular}{r|lllllll}\n",
       "  & mean & sd & 2.5\\% & 50\\% & 97.5\\% & Rhat & n.eff\\\\\n",
       "  & <dbl> & <dbl> & <dbl> & <dbl> & <dbl> & <lgl> & <dbl>\\\\\n",
       "\\hline\n",
       "\tcloudy & 0.98 & 0.13 & 1 & 1 & 1 & NA & 20000\\\\\n",
       "\train & 1.00 & 0.00 & 1 & 1 & 1 & NA &     0\\\\\n",
       "\tsprinkler & 0.00 & 0.00 & 0 & 0 & 0 & NA &     0\\\\\n",
       "\twet\\_grass & 0.90 & 0.30 & 0 & 1 & 1 & NA & 20000\\\\\n",
       "\\end{tabular}\n"
      ],
      "text/markdown": [
       "\n",
       "A data.frame: 4 × 7\n",
       "\n",
       "| <!--/--> | mean &lt;dbl&gt; | sd &lt;dbl&gt; | 2.5% &lt;dbl&gt; | 50% &lt;dbl&gt; | 97.5% &lt;dbl&gt; | Rhat &lt;lgl&gt; | n.eff &lt;dbl&gt; |\n",
       "|---|---|---|---|---|---|---|---|\n",
       "| cloudy | 0.98 | 0.13 | 1 | 1 | 1 | NA | 20000 |\n",
       "| rain | 1.00 | 0.00 | 1 | 1 | 1 | NA |     0 |\n",
       "| sprinkler | 0.00 | 0.00 | 0 | 0 | 0 | NA |     0 |\n",
       "| wet_grass | 0.90 | 0.30 | 0 | 1 | 1 | NA | 20000 |\n",
       "\n"
      ],
      "text/plain": [
       "          mean sd   2.5% 50% 97.5% Rhat n.eff\n",
       "cloudy    0.98 0.13 1    1   1     NA   20000\n",
       "rain      1.00 0.00 1    1   1     NA       0\n",
       "sprinkler 0.00 0.00 0    0   0     NA       0\n",
       "wet_grass 0.90 0.30 0    1   1     NA   20000"
      ]
     },
     "metadata": {},
     "output_type": "display_data"
    },
    {
     "data": {
      "image/png": "[encoded data removed]",
      "text/plain": [
       "Plot with title \"Density - sprinkler\""
      ]
     },
     "metadata": {
      "image/png": {
       "height": 360,
       "width": 600
      }
     },
     "output_type": "display_data"
    },
    {
     "data": {
      "image/png": "[encoded data removed]",
      "text/plain": [
       "Plot with title \"Density - wet_grass\""
      ]
     },
     "metadata": {
      "image/png": {
       "height": 360,
       "width": 600
      }
     },
     "output_type": "display_data"
    }
   ],
   "source": [
    "model_string = \"\n",
    "model {\n",
    "    # Cloudy\n",
    "    cloudy ~ dbinom(0.8, 1)\n",
    "\n",
    "    # Sprinkler\n",
    "    cpt_sprinkler[1] = 0.5  # Cloudy = false\n",
    "    cpt_sprinkler[2] = 0.1  # Cloudy = true\n",
    "    sprinkler ~ dbinom(cpt_sprinkler[cloudy + 1], 1)\n",
    "    \n",
    "    # Rain\n",
    "    cpt_rain[1] = 0.1  # Cloudy = false\n",
    "    cpt_rain[2] = 0.8  # Cloudy = true\n",
    "    rain ~ dbinom(cpt_rain[cloudy + 1], 1)\n",
    "\n",
    "    # Wet grass\n",
    "    cpt_wet_grass[1,1] = 0.0   # Sprinkler = false, rain = false\n",
    "    cpt_wet_grass[1,2] = 0.9   # Sprinkler = false, rain = true\n",
    "    cpt_wet_grass[2,1] = 0.9   # Sprinkler = true, rain = false\n",
    "    cpt_wet_grass[2,2] = 0.99  # Sprinkler = true, rain = true\n",
    "    wet_grass ~ dbinom(cpt_wet_grass[sprinkler+1, rain+1], 1)\n",
    "}\n",
    "\"\n",
    "\n",
    "data = list()                     # No observations\n",
    "data = list(wet_grass=1)          # Wet grass = true\n",
    "data = list(sprinkler=0)          # Sprinkler = false\n",
    "data = list(sprinkler=0, rain=1)  # Sprinkler = false, rain = true\n",
    "\n",
    "model = jags.model(textConnection(model_string),\n",
    "                   data = data)\n",
    "\n",
    "update(model, 10000, progress.bar=\"none\")\n",
    "\n",
    "samp <- coda.samples(model, \n",
    "                     variable.names=c(\"cloudy\", \"sprinkler\", \"rain\", \"wet_grass\"), \n",
    "                     n.iter=20000, progress.bar=\"none\")\n",
    "\n",
    "# Show a summary of the variables\n",
    "MCMCsummary(samp, round = 2)\n",
    "\n",
    "MCMCtrace(samp, \n",
    "          pdf=FALSE)"
   ]
  },
  {
   "cell_type": "markdown",
   "metadata": {},
   "source": [
    "## Uniform distributions for parameters"
   ]
  },
  {
   "cell_type": "code",
   "execution_count": 53,
   "metadata": {},
   "outputs": [
    {
     "name": "stdout",
     "output_type": "stream",
     "text": [
      "Compiling model graph\n",
      "   Resolving undeclared variables\n",
      "   Allocating nodes\n",
      "Graph information:\n",
      "   Observed stochastic nodes: 0\n",
      "   Unobserved stochastic nodes: 5\n",
      "   Total graph size: 20\n",
      "\n",
      "Initializing model\n",
      "\n"
     ]
    },
    {
     "name": "stderr",
     "output_type": "stream",
     "text": [
      "Warning message in MCMCsummary(samp, round = 2):\n",
      "\"Rhat statistic cannot be calculated with one chain. NAs inserted.\"\n"
     ]
    },
    {
     "data": {
      "text/html": [
       "<table class=\"dataframe\">\n",
       "<caption>A data.frame: 4 × 7</caption>\n",
       "<thead>\n",
       "\t<tr><th></th><th scope=col>mean</th><th scope=col>sd</th><th scope=col>2.5%</th><th scope=col>50%</th><th scope=col>97.5%</th><th scope=col>Rhat</th><th scope=col>n.eff</th></tr>\n",
       "\t<tr><th></th><th scope=col>&lt;dbl&gt;</th><th scope=col>&lt;dbl&gt;</th><th scope=col>&lt;dbl&gt;</th><th scope=col>&lt;dbl&gt;</th><th scope=col>&lt;dbl&gt;</th><th scope=col>&lt;lgl&gt;</th><th scope=col>&lt;dbl&gt;</th></tr>\n",
       "</thead>\n",
       "<tbody>\n",
       "\t<tr><th scope=row>cloudy</th><td>0.80</td><td>0.40</td><td>0</td><td>1</td><td>1</td><td>NA</td><td>20748</td></tr>\n",
       "\t<tr><th scope=row>rain</th><td>0.66</td><td>0.47</td><td>0</td><td>1</td><td>1</td><td>NA</td><td>20702</td></tr>\n",
       "\t<tr><th scope=row>sprinkler</th><td>0.18</td><td>0.38</td><td>0</td><td>0</td><td>1</td><td>NA</td><td>20000</td></tr>\n",
       "\t<tr><th scope=row>wet_grass</th><td>0.70</td><td>0.46</td><td>0</td><td>1</td><td>1</td><td>NA</td><td>20473</td></tr>\n",
       "</tbody>\n",
       "</table>\n"
      ],
      "text/latex": [
       "A data.frame: 4 × 7\n",
       "\\begin{tabular}{r|lllllll}\n",
       "  & mean & sd & 2.5\\% & 50\\% & 97.5\\% & Rhat & n.eff\\\\\n",
       "  & <dbl> & <dbl> & <dbl> & <dbl> & <dbl> & <lgl> & <dbl>\\\\\n",
       "\\hline\n",
       "\tcloudy & 0.80 & 0.40 & 0 & 1 & 1 & NA & 20748\\\\\n",
       "\train & 0.66 & 0.47 & 0 & 1 & 1 & NA & 20702\\\\\n",
       "\tsprinkler & 0.18 & 0.38 & 0 & 0 & 1 & NA & 20000\\\\\n",
       "\twet\\_grass & 0.70 & 0.46 & 0 & 1 & 1 & NA & 20473\\\\\n",
       "\\end{tabular}\n"
      ],
      "text/markdown": [
       "\n",
       "A data.frame: 4 × 7\n",
       "\n",
       "| <!--/--> | mean &lt;dbl&gt; | sd &lt;dbl&gt; | 2.5% &lt;dbl&gt; | 50% &lt;dbl&gt; | 97.5% &lt;dbl&gt; | Rhat &lt;lgl&gt; | n.eff &lt;dbl&gt; |\n",
       "|---|---|---|---|---|---|---|---|\n",
       "| cloudy | 0.80 | 0.40 | 0 | 1 | 1 | NA | 20748 |\n",
       "| rain | 0.66 | 0.47 | 0 | 1 | 1 | NA | 20702 |\n",
       "| sprinkler | 0.18 | 0.38 | 0 | 0 | 1 | NA | 20000 |\n",
       "| wet_grass | 0.70 | 0.46 | 0 | 1 | 1 | NA | 20473 |\n",
       "\n"
      ],
      "text/plain": [
       "          mean sd   2.5% 50% 97.5% Rhat n.eff\n",
       "cloudy    0.80 0.40 0    1   1     NA   20748\n",
       "rain      0.66 0.47 0    1   1     NA   20702\n",
       "sprinkler 0.18 0.38 0    0   1     NA   20000\n",
       "wet_grass 0.70 0.46 0    1   1     NA   20473"
      ]
     },
     "metadata": {},
     "output_type": "display_data"
    },
    {
     "data": {
      "image/png": "[encoded data removed]",
      "text/plain": [
       "Plot with title \"Density - sprinkler\""
      ]
     },
     "metadata": {
      "image/png": {
       "height": 360,
       "width": 600
      }
     },
     "output_type": "display_data"
    },
    {
     "data": {
      "image/png": "[encoded data removed]",
      "text/plain": [
       "Plot with title \"Density - wet_grass\""
      ]
     },
     "metadata": {
      "image/png": {
       "height": 360,
       "width": 600
      }
     },
     "output_type": "display_data"
    }
   ],
   "source": [
    "model_string = \"\n",
    "model {\n",
    "    # Cloudy\n",
    "    p_cloudy ~ dunif(0.75, 0.85)\n",
    "    #p_cloudy = 0.4\n",
    "    cloudy ~ dbinom(p_cloudy, 1)\n",
    "\n",
    "    # Sprinkler\n",
    "    cpt_sprinkler[1] = 0.5  # Cloudy = false\n",
    "    cpt_sprinkler[2] = 0.1  # Cloudy = true\n",
    "    sprinkler ~ dbinom(cpt_sprinkler[cloudy + 1], 1)\n",
    "    \n",
    "    # Rain\n",
    "    cpt_rain[1] = 0.1  # Cloudy = false\n",
    "    cpt_rain[2] = 0.8  # Cloudy = true\n",
    "    rain ~ dbinom(cpt_rain[cloudy + 1], 1)\n",
    "\n",
    "    # Wet grass\n",
    "    cpt_wet_grass[1,1] = 0.0   # Sprinkler = false, rain = false\n",
    "    cpt_wet_grass[1,2] = 0.9   # Sprinkler = false, rain = true\n",
    "    cpt_wet_grass[2,1] = 0.9   # Sprinkler = true, rain = false\n",
    "    cpt_wet_grass[2,2] = 0.99  # Sprinkler = true, rain = true\n",
    "    wet_grass ~ dbinom(cpt_wet_grass[sprinkler+1, rain+1], 1)\n",
    "}\n",
    "\"\n",
    "\n",
    "data = list()                     # No observations\n",
    "# data = list(wet_grass=1)          # Wet grass = true\n",
    "# data = list(sprinkler=0)          # Sprinkler = false\n",
    "# data = list(sprinkler=0, rain=1)  # Sprinkler = false, rain = true\n",
    "\n",
    "model = jags.model(textConnection(model_string),\n",
    "                   data = data)\n",
    "\n",
    "update(model, 10000, progress.bar=\"none\")\n",
    "\n",
    "samp <- coda.samples(model, \n",
    "                     variable.names=c(\"cloudy\", \"sprinkler\", \"rain\", \"wet_grass\"), \n",
    "                     n.iter=20000, progress.bar=\"none\")\n",
    "\n",
    "# Show a summary of the variables\n",
    "MCMCsummary(samp, round = 2)\n",
    "\n",
    "MCMCtrace(samp, \n",
    "          pdf=FALSE)"
   ]
  },
  {
   "cell_type": "markdown",
   "metadata": {},
   "source": [
    "### Standard deviation of binary data"
   ]
  },
  {
   "cell_type": "code",
   "execution_count": 106,
   "metadata": {},
   "outputs": [
    {
     "data": {
      "image/png": "[encoded data removed]",
      "text/plain": [
       "plot without title"
      ]
     },
     "metadata": {
      "image/png": {
       "height": 360,
       "width": 600
      }
     },
     "output_type": "display_data"
    }
   ],
   "source": [
    "num_elements = 100\n",
    "xvals = 0:num_elements\n",
    "sds = c()\n",
    "\n",
    "for (i in xvals) {\n",
    "    x = rep(0, num_elements)\n",
    "    if (i > 0) {\n",
    "        x[1:i] = 1   \n",
    "    }\n",
    "    sds = c(sds, sd(x))\n",
    "}\n",
    "\n",
    "df = data.frame(x=xvals, y=sds)\n",
    "\n",
    "ggplot(df, aes(x=x)) + \n",
    "    geom_point(aes(y=y), color=\"blue\") +\n",
    "    geom_line(aes(y=y), color=\"blue\")  +\n",
    "    xlab('Number of 1s') +\n",
    "    ylab('Standard deviation')"
   ]
  },
  {
   "cell_type": "markdown",
   "metadata": {},
   "source": [
    "## Beta distribution"
   ]
  },
  {
   "cell_type": "markdown",
   "metadata": {},
   "source": [
    "The beta distribution is the conjugate prior of the bernoulli distribution."
   ]
  },
  {
   "cell_type": "code",
   "execution_count": 41,
   "metadata": {},
   "outputs": [],
   "source": [
    "estBetaParams <- function(mu, var) {\n",
    "    \n",
    "    # Preconditions\n",
    "    stopifnot(0 <= mu) & stopifnot(mu <= 1)\n",
    "    stopifnot(var < mu*(1-mu))\n",
    "    \n",
    "    alpha <- ((1 - mu) / var - 1 / mu) * mu ^ 2\n",
    "    beta <- alpha * (1 / mu - 1)\n",
    "    return(params = list(alpha = alpha, beta = beta))\n",
    "}"
   ]
  },
  {
   "cell_type": "code",
   "execution_count": 46,
   "metadata": {},
   "outputs": [
    {
     "data": {
      "image/png": "[encoded data removed]",
      "text/plain": [
       "plot without title"
      ]
     },
     "metadata": {
      "image/png": {
       "height": 360,
       "width": 600
      }
     },
     "output_type": "display_data"
    }
   ],
   "source": [
    "params = estBetaParams(0.9, 0.01)\n",
    "\n",
    "x = seq(0, 1, by=0.01)\n",
    "y = dbeta(x, params$alpha, params$beta)\n",
    "df = data.frame(x=x, y=y)\n",
    "\n",
    "ggplot(df, aes(x=x)) + \n",
    "    geom_point(aes(y=y), color=\"blue\") +\n",
    "    geom_line(aes(y=y), color=\"blue\")  +\n",
    "    xlab('x') +\n",
    "    ylab('Probability density')"
   ]
  },
  {
   "cell_type": "code",
   "execution_count": null,
   "metadata": {},
   "outputs": [],
   "source": []
  }
 ],
 "metadata": {
  "kernelspec": {
   "display_name": "R",
   "language": "R",
   "name": "ir"
  },
  "language_info": {
   "codemirror_mode": "r",
   "file_extension": ".r",
   "mimetype": "text/x-r-source",
   "name": "R",
   "pygments_lexer": "r",
   "version": "4.0.4"
  }
 },
 "nbformat": 4,
 "nbformat_minor": 4
}
