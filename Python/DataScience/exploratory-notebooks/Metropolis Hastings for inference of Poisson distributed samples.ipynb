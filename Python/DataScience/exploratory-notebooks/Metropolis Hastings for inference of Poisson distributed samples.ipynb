{
 "cells": [
  {
   "cell_type": "markdown",
   "metadata": {},
   "source": [
    "# Metropolis Hastings for Bayesian inference of the parameters of IID Poisson distributed samples"
   ]
  },
  {
   "cell_type": "markdown",
   "metadata": {},
   "source": [
    "Samples are assumed to be drawn from a Poisson distribution where the mean of the distribution is drawn from a (continuous) uniform distribution.\n",
    "\n",
    "The mean of the Poisson distribution is\n",
    "\n",
    "$$\n",
    "\\lambda \\sim \\text{Uniform}(a,b)\n",
    "$$\n",
    "\n",
    "where $a < b$. The probability density function $p(\\lambda)$ can be written\n",
    "\n",
    "$$\n",
    "p(\\lambda) = \n",
    "\\begin{cases}\n",
    " \\frac{1}{b-a} & a \\leq \\lambda \\leq b \\\\\n",
    " 0             & \\text{otherwise} \\\\\n",
    "\\end{cases}\n",
    "$$\n",
    "\n",
    "The log of the PDF of the Poisson distribution $p(\\lambda)$ is given by\n",
    "\n",
    "$$\n",
    "\\begin{align}\n",
    "\\ln p(\\lambda) &= \\ln \\frac{1}{b-a} \\\\\n",
    "               &= \\ln 1 - \\ln (b-a)  \\\\\n",
    "               &= - \\ln (b-a). \\\\\n",
    "\\end{align}\n",
    "$$\n",
    "\n",
    "for $a < b$. \n",
    "\n",
    "The samples that are assumed to be independent and identically distributed (IID) are drawn from a Poisson distribution. A single sample is distributed as\n",
    "\n",
    "$$\n",
    "x_i \\sim \\text{Poisson}(x_i; \\lambda)\n",
    "$$\n",
    "\n",
    "and the probability of the samples is given by\n",
    "\n",
    "$$\n",
    "p(x | \\lambda) = \\prod_{i=0}^{N-1} p(x_i | \\lambda).\n",
    "$$\n",
    "\n",
    "The $p(x_i | \\lambda)$ is given by\n",
    "\n",
    "$$\n",
    "p(x | \\lambda) = e^{-\\lambda} \\frac{\\lambda}{x!}\n",
    "$$\n",
    "\n",
    "The natural log of the PDF for the Poisson distribution is given by\n",
    "\n",
    "$$\n",
    "\\begin{align}\n",
    "\\ln p(x | \\lambda) &= \\ln \\big( e^{-\\lambda} \\frac{\\lambda}{x!} \\big) \\\\\n",
    "&= \\ln \\big( e^{-\\lambda} \\big) + \\ln \\Big( \\frac{\\lambda^x}{x!} \\Big) \\\\\n",
    "&= -\\lambda + \\ln \\lambda^x - \\ln x! \\\\\n",
    "&= -\\lambda + x \\ln \\lambda - \\ln x! \\\\\n",
    "&= x \\ln \\lambda -\\lambda - \\ln x! \\\\\n",
    "\\end{align}\n",
    "$$\n",
    "From Bayes' theorem\n",
    "\n",
    "$$\n",
    "\\begin{align}\n",
    "p(\\lambda | x) &= \\frac{p(x | \\lambda) p(\\lambda)}{p(x)} \\\\\n",
    "               &\\propto p(x | \\lambda) p(\\lambda) \\\\\n",
    "               &= \\Big( \\prod_{i=0}^{N-1} p(x_i | \\lambda) \\Big) p(\\lambda)\n",
    "\\end{align}\n",
    "$$\n",
    "\n",
    "The natural logarithm of the posterior distribution is given by\n",
    "\n",
    "$$\n",
    "\\begin{align}\n",
    "\\ln p(\\lambda | x) &\\propto \\ln \\prod_{i=0}^{N-1} p(x_i | \\lambda) - \\ln p(\\lambda) \\\\ \n",
    " &= \\sum_{i=0}^{N-1} \\ln p(x_i | \\lambda) - \\ln p(\\lambda)  \\\\\n",
    " &= \\sum_{i=0}^{N-1} \\Big( x_i \\ln \\lambda - \\lambda - \\ln x_i! \\Big) - \\ln (b-a) \\\\\n",
    " &= \\sum_{i=0}^{N-1} \\Big( x_i \\ln \\lambda - \\ln x_i! \\Big) - N \\lambda - \\ln (b-a) \\\\\n",
    " &\\propto \\sum_{i=0}^{N-1} \\Big( x_i \\ln \\lambda \\Big) - N \\lambda\n",
    "\\end{align}\n",
    "$$\n",
    "\n",
    "This is because $\\sum_{i=0}^{N-1} \\ln x_i!$ is a constant, irrespective of $\\lambda$, as is $\\ln (b-a)$. Therefore,\n",
    "\n",
    "$$\n",
    "p(\\lambda | x) \\propto \\exp \\left\\{ \\sum_{i=0}^{N-1} \\Big( x_i \\ln \\lambda \\Big) - N \\lambda \\right\\}\n",
    "$$\n",
    "\n",
    "This probability distribution is not of a known closed form, thus there isn't a straightforward way to generate samples."
   ]
  },
  {
   "cell_type": "markdown",
   "metadata": {},
   "source": [
    "## Metropolis-Hastings\n",
    "\n",
    "Stochastic simulation is a random experiment that mimics a complex system that is too difficult to deal with.\n",
    "\n",
    "The Metropolis-Hastings algorithm simulates samples from a probability distribution and uses the full joint density and independent proposal distributions.\n",
    "\n",
    "The algorithm for a full joint density $\\pi(\\cdot)$ and a symmetric proposal function $q(\\cdot)$ is as follows:\n",
    "\n",
    "> Initialise $x^{(0)} \\sim q(x)$  \n",
    "> for iteration $1, 2, \\dots, M$ do  \n",
    "$\\quad$ Propose $x^{\\text{cand}} \\sim q(x^{(i)} | x^{(i-1)}) $  \n",
    "$\\quad$ Acceptance probability $\\alpha(x^{\\text{cand}} | x^{(i-1)}) = \\min \\left\\{ 1, \\frac{\\pi(x^{\\text{cand}})}{\\pi(x^{(i-1)})} \\right\\} $  \n",
    "$\\quad u \\sim \\text{Uniform}(u; 0, 1)$  \n",
    "$\\quad$if $u < \\alpha$ then  \n",
    "$\\qquad$Accept the proposal: $x^{(i)} \\leftarrow x^{\\text{cand}}$  \n",
    "$\\quad$else  \n",
    "$\\qquad$Reject the proposal: $x^{(i)} \\leftarrow x^{(i-1)}$  \n",
    "$\\quad$end if  \n",
    ">end for  "
   ]
  },
  {
   "cell_type": "markdown",
   "metadata": {},
   "source": [
    "### Generate the samples"
   ]
  },
  {
   "cell_type": "code",
   "execution_count": 1,
   "metadata": {},
   "outputs": [],
   "source": [
    "import matplotlib.pyplot as plt\n",
    "import numpy as np"
   ]
  },
  {
   "cell_type": "code",
   "execution_count": 2,
   "metadata": {},
   "outputs": [
    {
     "name": "stdout",
     "output_type": "stream",
     "text": [
      "Actual lambda = 3.285418054723508\n"
     ]
    }
   ],
   "source": [
    "a = 0.1\n",
    "b = 5\n",
    "lambda_actual = np.random.uniform(a, b)\n",
    "print(f\"Actual lambda = {lambda_actual}\")"
   ]
  },
  {
   "cell_type": "code",
   "execution_count": 3,
   "metadata": {},
   "outputs": [],
   "source": [
    "# Number of samples\n",
    "N = 50\n",
    "\n",
    "# Generate the N samples from the Poisson distribution\n",
    "x = np.random.poisson(lambda_actual, N)"
   ]
  },
  {
   "cell_type": "code",
   "execution_count": 4,
   "metadata": {},
   "outputs": [
    {
     "data": {
      "image/png": "[encoded data removed]",
      "text/plain": [
       "<Figure size 432x288 with 1 Axes>"
      ]
     },
     "metadata": {
      "needs_background": "light"
     },
     "output_type": "display_data"
    }
   ],
   "source": [
    "plt.stem(x)\n",
    "plt.title('Samples drawn from a Poisson distribution')\n",
    "plt.xlabel('Time step')\n",
    "plt.show()"
   ]
  },
  {
   "cell_type": "code",
   "execution_count": 5,
   "metadata": {},
   "outputs": [],
   "source": [
    "def p_lambda_given_x(x, lam, a, b):\n",
    "    \n",
    "    N = len(x)\n",
    "    \n",
    "    if a <= lam <= b:\n",
    "        ln_p = np.sum(np.log(lam) * x) - N*lam\n",
    "        p = np.exp(ln_p)        \n",
    "    else:\n",
    "        p = 0.0\n",
    "\n",
    "    return p"
   ]
  },
  {
   "cell_type": "code",
   "execution_count": 6,
   "metadata": {},
   "outputs": [
    {
     "data": {
      "image/png": "[encoded data removed]",
      "text/plain": [
       "<Figure size 432x288 with 1 Axes>"
      ]
     },
     "metadata": {
      "needs_background": "light"
     },
     "output_type": "display_data"
    }
   ],
   "source": [
    "lam_candidates = np.arange(a, b, 0.01)\n",
    "p = [p_lambda_given_x(x, lam, a, b) for lam in lam_candidates]\n",
    "\n",
    "plt.plot(lam_candidates, p)\n",
    "plt.axvline(x=lambda_actual, color='r', label='Actual $\\lambda$')\n",
    "plt.xlabel('$\\lambda$')\n",
    "plt.ylabel('$p(\\lambda | x)$')\n",
    "plt.legend()\n",
    "plt.show()"
   ]
  },
  {
   "cell_type": "code",
   "execution_count": 7,
   "metadata": {},
   "outputs": [],
   "source": [
    "# Initialise\n",
    "lam = [(b-a)/2]\n",
    "\n",
    "number_accepted = 0\n",
    "\n",
    "sigma = 0.1\n",
    "\n",
    "M = 10000\n",
    "for i in range(1, M):\n",
    "    \n",
    "    lambda_candidate = np.random.normal(lam[i-1], sigma)\n",
    "    \n",
    "    q_prev = p_lambda_given_x(x, lam[i-1], a, b)\n",
    "    q_candidate = p_lambda_given_x(x, lambda_candidate, a, b)\n",
    "    \n",
    "    acceptance_prob = min(1, q_candidate/q_prev)\n",
    "    \n",
    "    u = np.random.uniform(0, 1)\n",
    "    \n",
    "    if q_candidate == 0:\n",
    "        lam.append(lam[i-1])\n",
    "    elif u < acceptance_prob:\n",
    "        lam.append(lambda_candidate)  # Accept the proposal\n",
    "        number_accepted += 1\n",
    "    else:\n",
    "        lam.append(lam[i-1])          # Reject the proposal"
   ]
  },
  {
   "cell_type": "code",
   "execution_count": 8,
   "metadata": {},
   "outputs": [
    {
     "name": "stdout",
     "output_type": "stream",
     "text": [
      "Proportion of samples accepted = 0.8835\n"
     ]
    }
   ],
   "source": [
    "print(f\"Proportion of samples accepted = {number_accepted/M}\")"
   ]
  },
  {
   "cell_type": "code",
   "execution_count": 9,
   "metadata": {},
   "outputs": [],
   "source": [
    "burnin = 200"
   ]
  },
  {
   "cell_type": "code",
   "execution_count": 10,
   "metadata": {},
   "outputs": [
    {
     "data": {
      "image/png": "[encoded data removed]",
      "text/plain": [
       "<Figure size 432x288 with 1 Axes>"
      ]
     },
     "metadata": {
      "needs_background": "light"
     },
     "output_type": "display_data"
    }
   ],
   "source": [
    "plt.plot(lam, 'b')\n",
    "plt.plot(lam[:burnin], 'r')\n",
    "plt.xlabel('Sample index')\n",
    "plt.show()"
   ]
  },
  {
   "cell_type": "code",
   "execution_count": 11,
   "metadata": {},
   "outputs": [
    {
     "data": {
      "image/png": "[encoded data removed]",
      "text/plain": [
       "<Figure size 432x288 with 1 Axes>"
      ]
     },
     "metadata": {
      "needs_background": "light"
     },
     "output_type": "display_data"
    }
   ],
   "source": [
    "plt.hist(lam[burnin:], bins=50)\n",
    "plt.axvline(x=np.mean(x), color='r', label='Mean of $x$')\n",
    "plt.axvline(x=lambda_actual, color='k', label='Actual $\\lambda_1$')\n",
    "plt.xlabel('$\\lambda$')\n",
    "plt.show()"
   ]
  }
 ],
 "metadata": {
  "kernelspec": {
   "display_name": "Python 3",
   "language": "python",
   "name": "python3"
  },
  "language_info": {
   "codemirror_mode": {
    "name": "ipython",
    "version": 3
   },
   "file_extension": ".py",
   "mimetype": "text/x-python",
   "name": "python",
   "nbconvert_exporter": "python",
   "pygments_lexer": "ipython3",
   "version": "3.11.1"
  }
 },
 "nbformat": 4,
 "nbformat_minor": 4
}
